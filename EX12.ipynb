{
 "cells": [
  {
   "cell_type": "markdown",
   "id": "current-breakdown",
   "metadata": {},
   "source": [
    "# EX12 다음에 볼 영화 예측하기\n",
    "***************\n",
    "> **평가항목**\n",
    "> - 1. Movielens 데이터셋을 session based recommendation 관점으로 전처리하는 과정이 체계적으로 진행되었다.\n",
    "> - 2. RNN 기반의 예측 모델이 정상적으로 구성되어 안정적으로 훈련이 진행되었다.\n",
    "> - 3. 세션정의, 모델구조, 하이퍼파라미터 등을 변경해서 실험하여 Recall, MRR 등의 변화추이를 관찰하였다."
   ]
  },
  {
   "cell_type": "markdown",
   "id": "leading-girlfriend",
   "metadata": {},
   "source": [
    "## 1. 데이터 전처리"
   ]
  },
  {
   "cell_type": "code",
   "execution_count": 1,
   "id": "sublime-opportunity",
   "metadata": {},
   "outputs": [],
   "source": [
    "import datetime as dt\n",
    "from pathlib import Path\n",
    "import os\n",
    "\n",
    "import numpy as np\n",
    "import pandas as pd\n",
    "import warnings\n",
    "warnings.filterwarnings('ignore')"
   ]
  },
  {
   "cell_type": "code",
   "execution_count": 2,
   "id": "excessive-musician",
   "metadata": {
    "scrolled": true
   },
   "outputs": [
    {
     "data": {
      "text/html": [
       "<div>\n",
       "<style scoped>\n",
       "    .dataframe tbody tr th:only-of-type {\n",
       "        vertical-align: middle;\n",
       "    }\n",
       "\n",
       "    .dataframe tbody tr th {\n",
       "        vertical-align: top;\n",
       "    }\n",
       "\n",
       "    .dataframe thead th {\n",
       "        text-align: right;\n",
       "    }\n",
       "</style>\n",
       "<table border=\"1\" class=\"dataframe\">\n",
       "  <thead>\n",
       "    <tr style=\"text-align: right;\">\n",
       "      <th></th>\n",
       "      <th>UserId</th>\n",
       "      <th>ItemId</th>\n",
       "      <th>Rating</th>\n",
       "      <th>Time</th>\n",
       "    </tr>\n",
       "  </thead>\n",
       "  <tbody>\n",
       "    <tr>\n",
       "      <th>31</th>\n",
       "      <td>1</td>\n",
       "      <td>3186</td>\n",
       "      <td>4</td>\n",
       "      <td>978300019</td>\n",
       "    </tr>\n",
       "    <tr>\n",
       "      <th>22</th>\n",
       "      <td>1</td>\n",
       "      <td>1270</td>\n",
       "      <td>5</td>\n",
       "      <td>978300055</td>\n",
       "    </tr>\n",
       "    <tr>\n",
       "      <th>27</th>\n",
       "      <td>1</td>\n",
       "      <td>1721</td>\n",
       "      <td>4</td>\n",
       "      <td>978300055</td>\n",
       "    </tr>\n",
       "    <tr>\n",
       "      <th>37</th>\n",
       "      <td>1</td>\n",
       "      <td>1022</td>\n",
       "      <td>5</td>\n",
       "      <td>978300055</td>\n",
       "    </tr>\n",
       "    <tr>\n",
       "      <th>24</th>\n",
       "      <td>1</td>\n",
       "      <td>2340</td>\n",
       "      <td>3</td>\n",
       "      <td>978300103</td>\n",
       "    </tr>\n",
       "    <tr>\n",
       "      <th>...</th>\n",
       "      <td>...</td>\n",
       "      <td>...</td>\n",
       "      <td>...</td>\n",
       "      <td>...</td>\n",
       "    </tr>\n",
       "    <tr>\n",
       "      <th>1000019</th>\n",
       "      <td>6040</td>\n",
       "      <td>2917</td>\n",
       "      <td>4</td>\n",
       "      <td>997454429</td>\n",
       "    </tr>\n",
       "    <tr>\n",
       "      <th>999988</th>\n",
       "      <td>6040</td>\n",
       "      <td>1921</td>\n",
       "      <td>4</td>\n",
       "      <td>997454464</td>\n",
       "    </tr>\n",
       "    <tr>\n",
       "      <th>1000172</th>\n",
       "      <td>6040</td>\n",
       "      <td>1784</td>\n",
       "      <td>3</td>\n",
       "      <td>997454464</td>\n",
       "    </tr>\n",
       "    <tr>\n",
       "      <th>1000167</th>\n",
       "      <td>6040</td>\n",
       "      <td>161</td>\n",
       "      <td>3</td>\n",
       "      <td>997454486</td>\n",
       "    </tr>\n",
       "    <tr>\n",
       "      <th>1000042</th>\n",
       "      <td>6040</td>\n",
       "      <td>1221</td>\n",
       "      <td>4</td>\n",
       "      <td>998315055</td>\n",
       "    </tr>\n",
       "  </tbody>\n",
       "</table>\n",
       "<p>1000209 rows × 4 columns</p>\n",
       "</div>"
      ],
      "text/plain": [
       "         UserId  ItemId  Rating       Time\n",
       "31            1    3186       4  978300019\n",
       "22            1    1270       5  978300055\n",
       "27            1    1721       4  978300055\n",
       "37            1    1022       5  978300055\n",
       "24            1    2340       3  978300103\n",
       "...         ...     ...     ...        ...\n",
       "1000019    6040    2917       4  997454429\n",
       "999988     6040    1921       4  997454464\n",
       "1000172    6040    1784       3  997454464\n",
       "1000167    6040     161       3  997454486\n",
       "1000042    6040    1221       4  998315055\n",
       "\n",
       "[1000209 rows x 4 columns]"
      ]
     },
     "execution_count": 2,
     "metadata": {},
     "output_type": "execute_result"
    }
   ],
   "source": [
    "data_path = Path(os.getenv('HOME')+'/aiffel/yoochoose/data/') \n",
    "train_path = data_path / 'ratings.dat'\n",
    "\n",
    "def load_data(data_path: Path, nrows=None):\n",
    "    data = pd.read_csv(data_path, sep='::', header=None, usecols=[0, 1, 2, 3], dtype={0: np.int32, 1: np.int32, 2: np.int32}, nrows=nrows)\n",
    "    data.columns = ['UserId', 'ItemId', 'Rating', 'Time']\n",
    "    return data\n",
    "\n",
    "data = load_data(train_path, None)\n",
    "data.sort_values(['UserId', 'Time'], inplace=True)  # data를 id와 시간 순서로 정렬해줍니다.\n",
    "data"
   ]
  },
  {
   "cell_type": "markdown",
   "id": "painful-indicator",
   "metadata": {},
   "source": [
    "- UserId와 Time을 이용하여 하나의 세션으로 정의"
   ]
  },
  {
   "cell_type": "code",
   "execution_count": 3,
   "id": "professional-cable",
   "metadata": {},
   "outputs": [
    {
     "data": {
      "text/plain": [
       "(6040, 3706, 458455)"
      ]
     },
     "execution_count": 3,
     "metadata": {},
     "output_type": "execute_result"
    }
   ],
   "source": [
    "data['UserId'].nunique(), data['ItemId'].nunique(), data['Time'].nunique()"
   ]
  },
  {
   "cell_type": "code",
   "execution_count": 4,
   "id": "mechanical-archives",
   "metadata": {},
   "outputs": [
    {
     "data": {
      "text/html": [
       "<div>\n",
       "<style scoped>\n",
       "    .dataframe tbody tr th:only-of-type {\n",
       "        vertical-align: middle;\n",
       "    }\n",
       "\n",
       "    .dataframe tbody tr th {\n",
       "        vertical-align: top;\n",
       "    }\n",
       "\n",
       "    .dataframe thead th {\n",
       "        text-align: right;\n",
       "    }\n",
       "</style>\n",
       "<table border=\"1\" class=\"dataframe\">\n",
       "  <thead>\n",
       "    <tr style=\"text-align: right;\">\n",
       "      <th></th>\n",
       "      <th>index</th>\n",
       "      <th>UserId</th>\n",
       "      <th>Time</th>\n",
       "      <th>ItemId</th>\n",
       "    </tr>\n",
       "  </thead>\n",
       "  <tbody>\n",
       "    <tr>\n",
       "      <th>0</th>\n",
       "      <td>0</td>\n",
       "      <td>1</td>\n",
       "      <td>978300019</td>\n",
       "      <td>1</td>\n",
       "    </tr>\n",
       "    <tr>\n",
       "      <th>1</th>\n",
       "      <td>1</td>\n",
       "      <td>1</td>\n",
       "      <td>978300055</td>\n",
       "      <td>3</td>\n",
       "    </tr>\n",
       "    <tr>\n",
       "      <th>2</th>\n",
       "      <td>2</td>\n",
       "      <td>1</td>\n",
       "      <td>978300103</td>\n",
       "      <td>1</td>\n",
       "    </tr>\n",
       "    <tr>\n",
       "      <th>3</th>\n",
       "      <td>3</td>\n",
       "      <td>1</td>\n",
       "      <td>978300172</td>\n",
       "      <td>1</td>\n",
       "    </tr>\n",
       "    <tr>\n",
       "      <th>4</th>\n",
       "      <td>4</td>\n",
       "      <td>1</td>\n",
       "      <td>978300275</td>\n",
       "      <td>1</td>\n",
       "    </tr>\n",
       "    <tr>\n",
       "      <th>...</th>\n",
       "      <td>...</td>\n",
       "      <td>...</td>\n",
       "      <td>...</td>\n",
       "      <td>...</td>\n",
       "    </tr>\n",
       "    <tr>\n",
       "      <th>471158</th>\n",
       "      <td>471158</td>\n",
       "      <td>6040</td>\n",
       "      <td>997454398</td>\n",
       "      <td>1</td>\n",
       "    </tr>\n",
       "    <tr>\n",
       "      <th>471159</th>\n",
       "      <td>471159</td>\n",
       "      <td>6040</td>\n",
       "      <td>997454429</td>\n",
       "      <td>1</td>\n",
       "    </tr>\n",
       "    <tr>\n",
       "      <th>471160</th>\n",
       "      <td>471160</td>\n",
       "      <td>6040</td>\n",
       "      <td>997454464</td>\n",
       "      <td>2</td>\n",
       "    </tr>\n",
       "    <tr>\n",
       "      <th>471161</th>\n",
       "      <td>471161</td>\n",
       "      <td>6040</td>\n",
       "      <td>997454486</td>\n",
       "      <td>1</td>\n",
       "    </tr>\n",
       "    <tr>\n",
       "      <th>471162</th>\n",
       "      <td>471162</td>\n",
       "      <td>6040</td>\n",
       "      <td>998315055</td>\n",
       "      <td>1</td>\n",
       "    </tr>\n",
       "  </tbody>\n",
       "</table>\n",
       "<p>471163 rows × 4 columns</p>\n",
       "</div>"
      ],
      "text/plain": [
       "         index  UserId       Time  ItemId\n",
       "0            0       1  978300019       1\n",
       "1            1       1  978300055       3\n",
       "2            2       1  978300103       1\n",
       "3            3       1  978300172       1\n",
       "4            4       1  978300275       1\n",
       "...        ...     ...        ...     ...\n",
       "471158  471158    6040  997454398       1\n",
       "471159  471159    6040  997454429       1\n",
       "471160  471160    6040  997454464       2\n",
       "471161  471161    6040  997454486       1\n",
       "471162  471162    6040  998315055       1\n",
       "\n",
       "[471163 rows x 4 columns]"
      ]
     },
     "execution_count": 4,
     "metadata": {},
     "output_type": "execute_result"
    }
   ],
   "source": [
    "df = data.groupby(['UserId', 'Time'])['ItemId'].count().reset_index()\n",
    "df.reset_index(inplace=True)\n",
    "df"
   ]
  },
  {
   "cell_type": "code",
   "execution_count": 5,
   "id": "absolute-feelings",
   "metadata": {},
   "outputs": [
    {
     "data": {
      "text/html": [
       "<div>\n",
       "<style scoped>\n",
       "    .dataframe tbody tr th:only-of-type {\n",
       "        vertical-align: middle;\n",
       "    }\n",
       "\n",
       "    .dataframe tbody tr th {\n",
       "        vertical-align: top;\n",
       "    }\n",
       "\n",
       "    .dataframe thead th {\n",
       "        text-align: right;\n",
       "    }\n",
       "</style>\n",
       "<table border=\"1\" class=\"dataframe\">\n",
       "  <thead>\n",
       "    <tr style=\"text-align: right;\">\n",
       "      <th></th>\n",
       "      <th>UserId</th>\n",
       "      <th>ItemId</th>\n",
       "      <th>Rating</th>\n",
       "      <th>Time</th>\n",
       "      <th>SessionId</th>\n",
       "    </tr>\n",
       "  </thead>\n",
       "  <tbody>\n",
       "    <tr>\n",
       "      <th>0</th>\n",
       "      <td>1</td>\n",
       "      <td>3186</td>\n",
       "      <td>4</td>\n",
       "      <td>978300019</td>\n",
       "      <td>0</td>\n",
       "    </tr>\n",
       "    <tr>\n",
       "      <th>1</th>\n",
       "      <td>1</td>\n",
       "      <td>1270</td>\n",
       "      <td>5</td>\n",
       "      <td>978300055</td>\n",
       "      <td>1</td>\n",
       "    </tr>\n",
       "    <tr>\n",
       "      <th>2</th>\n",
       "      <td>1</td>\n",
       "      <td>1721</td>\n",
       "      <td>4</td>\n",
       "      <td>978300055</td>\n",
       "      <td>1</td>\n",
       "    </tr>\n",
       "    <tr>\n",
       "      <th>3</th>\n",
       "      <td>1</td>\n",
       "      <td>1022</td>\n",
       "      <td>5</td>\n",
       "      <td>978300055</td>\n",
       "      <td>1</td>\n",
       "    </tr>\n",
       "    <tr>\n",
       "      <th>4</th>\n",
       "      <td>1</td>\n",
       "      <td>2340</td>\n",
       "      <td>3</td>\n",
       "      <td>978300103</td>\n",
       "      <td>2</td>\n",
       "    </tr>\n",
       "    <tr>\n",
       "      <th>...</th>\n",
       "      <td>...</td>\n",
       "      <td>...</td>\n",
       "      <td>...</td>\n",
       "      <td>...</td>\n",
       "      <td>...</td>\n",
       "    </tr>\n",
       "    <tr>\n",
       "      <th>1000204</th>\n",
       "      <td>6040</td>\n",
       "      <td>2917</td>\n",
       "      <td>4</td>\n",
       "      <td>997454429</td>\n",
       "      <td>471159</td>\n",
       "    </tr>\n",
       "    <tr>\n",
       "      <th>1000205</th>\n",
       "      <td>6040</td>\n",
       "      <td>1921</td>\n",
       "      <td>4</td>\n",
       "      <td>997454464</td>\n",
       "      <td>471160</td>\n",
       "    </tr>\n",
       "    <tr>\n",
       "      <th>1000206</th>\n",
       "      <td>6040</td>\n",
       "      <td>1784</td>\n",
       "      <td>3</td>\n",
       "      <td>997454464</td>\n",
       "      <td>471160</td>\n",
       "    </tr>\n",
       "    <tr>\n",
       "      <th>1000207</th>\n",
       "      <td>6040</td>\n",
       "      <td>161</td>\n",
       "      <td>3</td>\n",
       "      <td>997454486</td>\n",
       "      <td>471161</td>\n",
       "    </tr>\n",
       "    <tr>\n",
       "      <th>1000208</th>\n",
       "      <td>6040</td>\n",
       "      <td>1221</td>\n",
       "      <td>4</td>\n",
       "      <td>998315055</td>\n",
       "      <td>471162</td>\n",
       "    </tr>\n",
       "  </tbody>\n",
       "</table>\n",
       "<p>1000209 rows × 5 columns</p>\n",
       "</div>"
      ],
      "text/plain": [
       "         UserId  ItemId  Rating       Time  SessionId\n",
       "0             1    3186       4  978300019          0\n",
       "1             1    1270       5  978300055          1\n",
       "2             1    1721       4  978300055          1\n",
       "3             1    1022       5  978300055          1\n",
       "4             1    2340       3  978300103          2\n",
       "...         ...     ...     ...        ...        ...\n",
       "1000204    6040    2917       4  997454429     471159\n",
       "1000205    6040    1921       4  997454464     471160\n",
       "1000206    6040    1784       3  997454464     471160\n",
       "1000207    6040     161       3  997454486     471161\n",
       "1000208    6040    1221       4  998315055     471162\n",
       "\n",
       "[1000209 rows x 5 columns]"
      ]
     },
     "execution_count": 5,
     "metadata": {},
     "output_type": "execute_result"
    }
   ],
   "source": [
    "data = pd.merge(data, df, on=['UserId', 'Time'])\n",
    "data.drop(columns='ItemId_y', inplace=True)\n",
    "data.columns = ['UserId', 'ItemId', 'Rating', 'Time', 'SessionId']\n",
    "data"
   ]
  },
  {
   "cell_type": "code",
   "execution_count": 6,
   "id": "involved-uniform",
   "metadata": {},
   "outputs": [
    {
     "data": {
      "text/plain": [
       "SessionId\n",
       "0         1\n",
       "1         3\n",
       "2         1\n",
       "3         1\n",
       "4         1\n",
       "         ..\n",
       "471158    1\n",
       "471159    1\n",
       "471160    2\n",
       "471161    1\n",
       "471162    1\n",
       "Length: 471163, dtype: int64"
      ]
     },
     "execution_count": 6,
     "metadata": {},
     "output_type": "execute_result"
    }
   ],
   "source": [
    "session_length = data.groupby('SessionId').size()\n",
    "session_length"
   ]
  },
  {
   "cell_type": "markdown",
   "id": "liquid-milwaukee",
   "metadata": {},
   "source": [
    "- 각 세션에 대해 길이를 출력하고, 길이는 하나의 세션이 몇 개의 영화를 평가했는지에 대한 정보를 담고 있다."
   ]
  },
  {
   "cell_type": "code",
   "execution_count": 7,
   "id": "pleasant-italic",
   "metadata": {},
   "outputs": [
    {
     "data": {
      "text/plain": [
       "(2.0, 2.1228513274599234)"
      ]
     },
     "execution_count": 7,
     "metadata": {},
     "output_type": "execute_result"
    }
   ],
   "source": [
    "session_length.median(), session_length.mean()"
   ]
  },
  {
   "cell_type": "markdown",
   "id": "played-military",
   "metadata": {},
   "source": [
    "- 한 세션당 평가한 영화의 중앙값은 2, 평균은 약 2.12"
   ]
  },
  {
   "cell_type": "code",
   "execution_count": 8,
   "id": "spoken-healthcare",
   "metadata": {},
   "outputs": [
    {
     "data": {
      "text/plain": [
       "(1, 30)"
      ]
     },
     "execution_count": 8,
     "metadata": {},
     "output_type": "execute_result"
    }
   ],
   "source": [
    "session_length.min(), session_length.max()"
   ]
  },
  {
   "cell_type": "markdown",
   "id": "ahead-blink",
   "metadata": {},
   "source": [
    "- 한 세션당 평가한 영화의 최솟값은 1, 최댓값은 30"
   ]
  },
  {
   "cell_type": "code",
   "execution_count": 9,
   "id": "interracial-machine",
   "metadata": {},
   "outputs": [
    {
     "data": {
      "text/plain": [
       "10.0"
      ]
     },
     "execution_count": 9,
     "metadata": {},
     "output_type": "execute_result"
    }
   ],
   "source": [
    "session_length.quantile(0.999)"
   ]
  },
  {
   "cell_type": "markdown",
   "id": "confirmed-structure",
   "metadata": {},
   "source": [
    "- 10개보다 많은 영화에 대해 평가한 데이터들은 이상치로 설정"
   ]
  },
  {
   "cell_type": "code",
   "execution_count": 10,
   "id": "exposed-progressive",
   "metadata": {},
   "outputs": [
    {
     "data": {
      "text/html": [
       "<div>\n",
       "<style scoped>\n",
       "    .dataframe tbody tr th:only-of-type {\n",
       "        vertical-align: middle;\n",
       "    }\n",
       "\n",
       "    .dataframe tbody tr th {\n",
       "        vertical-align: top;\n",
       "    }\n",
       "\n",
       "    .dataframe thead th {\n",
       "        text-align: right;\n",
       "    }\n",
       "</style>\n",
       "<table border=\"1\" class=\"dataframe\">\n",
       "  <thead>\n",
       "    <tr style=\"text-align: right;\">\n",
       "      <th></th>\n",
       "      <th>UserId</th>\n",
       "      <th>ItemId</th>\n",
       "      <th>Rating</th>\n",
       "      <th>Time</th>\n",
       "      <th>SessionId</th>\n",
       "    </tr>\n",
       "  </thead>\n",
       "  <tbody>\n",
       "    <tr>\n",
       "      <th>112347</th>\n",
       "      <td>731</td>\n",
       "      <td>3044</td>\n",
       "      <td>4</td>\n",
       "      <td>975528402</td>\n",
       "      <td>55117</td>\n",
       "    </tr>\n",
       "    <tr>\n",
       "      <th>112348</th>\n",
       "      <td>731</td>\n",
       "      <td>1455</td>\n",
       "      <td>3</td>\n",
       "      <td>975528402</td>\n",
       "      <td>55117</td>\n",
       "    </tr>\n",
       "    <tr>\n",
       "      <th>112349</th>\n",
       "      <td>731</td>\n",
       "      <td>1639</td>\n",
       "      <td>5</td>\n",
       "      <td>975528402</td>\n",
       "      <td>55117</td>\n",
       "    </tr>\n",
       "    <tr>\n",
       "      <th>112350</th>\n",
       "      <td>731</td>\n",
       "      <td>3244</td>\n",
       "      <td>4</td>\n",
       "      <td>975528402</td>\n",
       "      <td>55117</td>\n",
       "    </tr>\n",
       "    <tr>\n",
       "      <th>112351</th>\n",
       "      <td>731</td>\n",
       "      <td>1656</td>\n",
       "      <td>2</td>\n",
       "      <td>975528402</td>\n",
       "      <td>55117</td>\n",
       "    </tr>\n",
       "    <tr>\n",
       "      <th>112352</th>\n",
       "      <td>731</td>\n",
       "      <td>3426</td>\n",
       "      <td>4</td>\n",
       "      <td>975528402</td>\n",
       "      <td>55117</td>\n",
       "    </tr>\n",
       "    <tr>\n",
       "      <th>112353</th>\n",
       "      <td>731</td>\n",
       "      <td>1829</td>\n",
       "      <td>2</td>\n",
       "      <td>975528402</td>\n",
       "      <td>55117</td>\n",
       "    </tr>\n",
       "    <tr>\n",
       "      <th>112354</th>\n",
       "      <td>731</td>\n",
       "      <td>2675</td>\n",
       "      <td>4</td>\n",
       "      <td>975528402</td>\n",
       "      <td>55117</td>\n",
       "    </tr>\n",
       "    <tr>\n",
       "      <th>112355</th>\n",
       "      <td>731</td>\n",
       "      <td>802</td>\n",
       "      <td>3</td>\n",
       "      <td>975528402</td>\n",
       "      <td>55117</td>\n",
       "    </tr>\n",
       "    <tr>\n",
       "      <th>112356</th>\n",
       "      <td>731</td>\n",
       "      <td>803</td>\n",
       "      <td>5</td>\n",
       "      <td>975528402</td>\n",
       "      <td>55117</td>\n",
       "    </tr>\n",
       "    <tr>\n",
       "      <th>112357</th>\n",
       "      <td>731</td>\n",
       "      <td>1357</td>\n",
       "      <td>4</td>\n",
       "      <td>975528402</td>\n",
       "      <td>55117</td>\n",
       "    </tr>\n",
       "    <tr>\n",
       "      <th>112358</th>\n",
       "      <td>731</td>\n",
       "      <td>838</td>\n",
       "      <td>5</td>\n",
       "      <td>975528402</td>\n",
       "      <td>55117</td>\n",
       "    </tr>\n",
       "    <tr>\n",
       "      <th>112359</th>\n",
       "      <td>731</td>\n",
       "      <td>2171</td>\n",
       "      <td>4</td>\n",
       "      <td>975528402</td>\n",
       "      <td>55117</td>\n",
       "    </tr>\n",
       "    <tr>\n",
       "      <th>112360</th>\n",
       "      <td>731</td>\n",
       "      <td>852</td>\n",
       "      <td>2</td>\n",
       "      <td>975528402</td>\n",
       "      <td>55117</td>\n",
       "    </tr>\n",
       "    <tr>\n",
       "      <th>112361</th>\n",
       "      <td>731</td>\n",
       "      <td>2331</td>\n",
       "      <td>4</td>\n",
       "      <td>975528402</td>\n",
       "      <td>55117</td>\n",
       "    </tr>\n",
       "    <tr>\n",
       "      <th>112362</th>\n",
       "      <td>731</td>\n",
       "      <td>1535</td>\n",
       "      <td>3</td>\n",
       "      <td>975528402</td>\n",
       "      <td>55117</td>\n",
       "    </tr>\n",
       "    <tr>\n",
       "      <th>112363</th>\n",
       "      <td>731</td>\n",
       "      <td>1393</td>\n",
       "      <td>2</td>\n",
       "      <td>975528402</td>\n",
       "      <td>55117</td>\n",
       "    </tr>\n",
       "    <tr>\n",
       "      <th>112364</th>\n",
       "      <td>731</td>\n",
       "      <td>1564</td>\n",
       "      <td>4</td>\n",
       "      <td>975528402</td>\n",
       "      <td>55117</td>\n",
       "    </tr>\n",
       "    <tr>\n",
       "      <th>112365</th>\n",
       "      <td>731</td>\n",
       "      <td>892</td>\n",
       "      <td>5</td>\n",
       "      <td>975528402</td>\n",
       "      <td>55117</td>\n",
       "    </tr>\n",
       "    <tr>\n",
       "      <th>112366</th>\n",
       "      <td>731</td>\n",
       "      <td>151</td>\n",
       "      <td>3</td>\n",
       "      <td>975528402</td>\n",
       "      <td>55117</td>\n",
       "    </tr>\n",
       "    <tr>\n",
       "      <th>112367</th>\n",
       "      <td>731</td>\n",
       "      <td>2715</td>\n",
       "      <td>2</td>\n",
       "      <td>975528402</td>\n",
       "      <td>55117</td>\n",
       "    </tr>\n",
       "    <tr>\n",
       "      <th>112368</th>\n",
       "      <td>731</td>\n",
       "      <td>2570</td>\n",
       "      <td>2</td>\n",
       "      <td>975528402</td>\n",
       "      <td>55117</td>\n",
       "    </tr>\n",
       "    <tr>\n",
       "      <th>112369</th>\n",
       "      <td>731</td>\n",
       "      <td>39</td>\n",
       "      <td>5</td>\n",
       "      <td>975528402</td>\n",
       "      <td>55117</td>\n",
       "    </tr>\n",
       "    <tr>\n",
       "      <th>112370</th>\n",
       "      <td>731</td>\n",
       "      <td>2919</td>\n",
       "      <td>4</td>\n",
       "      <td>975528402</td>\n",
       "      <td>55117</td>\n",
       "    </tr>\n",
       "    <tr>\n",
       "      <th>112371</th>\n",
       "      <td>731</td>\n",
       "      <td>49</td>\n",
       "      <td>4</td>\n",
       "      <td>975528402</td>\n",
       "      <td>55117</td>\n",
       "    </tr>\n",
       "    <tr>\n",
       "      <th>112372</th>\n",
       "      <td>731</td>\n",
       "      <td>58</td>\n",
       "      <td>4</td>\n",
       "      <td>975528402</td>\n",
       "      <td>55117</td>\n",
       "    </tr>\n",
       "    <tr>\n",
       "      <th>112373</th>\n",
       "      <td>731</td>\n",
       "      <td>1210</td>\n",
       "      <td>3</td>\n",
       "      <td>975528402</td>\n",
       "      <td>55117</td>\n",
       "    </tr>\n",
       "    <tr>\n",
       "      <th>112374</th>\n",
       "      <td>731</td>\n",
       "      <td>85</td>\n",
       "      <td>4</td>\n",
       "      <td>975528402</td>\n",
       "      <td>55117</td>\n",
       "    </tr>\n",
       "    <tr>\n",
       "      <th>112375</th>\n",
       "      <td>731</td>\n",
       "      <td>2969</td>\n",
       "      <td>4</td>\n",
       "      <td>975528402</td>\n",
       "      <td>55117</td>\n",
       "    </tr>\n",
       "    <tr>\n",
       "      <th>112376</th>\n",
       "      <td>731</td>\n",
       "      <td>1244</td>\n",
       "      <td>5</td>\n",
       "      <td>975528402</td>\n",
       "      <td>55117</td>\n",
       "    </tr>\n",
       "  </tbody>\n",
       "</table>\n",
       "</div>"
      ],
      "text/plain": [
       "        UserId  ItemId  Rating       Time  SessionId\n",
       "112347     731    3044       4  975528402      55117\n",
       "112348     731    1455       3  975528402      55117\n",
       "112349     731    1639       5  975528402      55117\n",
       "112350     731    3244       4  975528402      55117\n",
       "112351     731    1656       2  975528402      55117\n",
       "112352     731    3426       4  975528402      55117\n",
       "112353     731    1829       2  975528402      55117\n",
       "112354     731    2675       4  975528402      55117\n",
       "112355     731     802       3  975528402      55117\n",
       "112356     731     803       5  975528402      55117\n",
       "112357     731    1357       4  975528402      55117\n",
       "112358     731     838       5  975528402      55117\n",
       "112359     731    2171       4  975528402      55117\n",
       "112360     731     852       2  975528402      55117\n",
       "112361     731    2331       4  975528402      55117\n",
       "112362     731    1535       3  975528402      55117\n",
       "112363     731    1393       2  975528402      55117\n",
       "112364     731    1564       4  975528402      55117\n",
       "112365     731     892       5  975528402      55117\n",
       "112366     731     151       3  975528402      55117\n",
       "112367     731    2715       2  975528402      55117\n",
       "112368     731    2570       2  975528402      55117\n",
       "112369     731      39       5  975528402      55117\n",
       "112370     731    2919       4  975528402      55117\n",
       "112371     731      49       4  975528402      55117\n",
       "112372     731      58       4  975528402      55117\n",
       "112373     731    1210       3  975528402      55117\n",
       "112374     731      85       4  975528402      55117\n",
       "112375     731    2969       4  975528402      55117\n",
       "112376     731    1244       5  975528402      55117"
      ]
     },
     "execution_count": 10,
     "metadata": {},
     "output_type": "execute_result"
    }
   ],
   "source": [
    "long_session = session_length[session_length==30].index[0]\n",
    "data[data['SessionId']==long_session]"
   ]
  },
  {
   "cell_type": "code",
   "execution_count": 11,
   "id": "equipped-receptor",
   "metadata": {},
   "outputs": [
    {
     "data": {
      "text/plain": [
       "1    0.480048\n",
       "2    0.713936\n",
       "3    0.847350\n",
       "4    0.919684\n",
       "5    0.958639\n",
       "6    0.979132\n",
       "7    0.989772\n",
       "8    0.994989\n",
       "9    0.997604\n",
       "dtype: float64"
      ]
     },
     "execution_count": 11,
     "metadata": {},
     "output_type": "execute_result"
    }
   ],
   "source": [
    "length_count = session_length.groupby(session_length).size()\n",
    "length_percent_cumsum = length_count.cumsum() / length_count.sum()\n",
    "length_percent_cumsum_999 = length_percent_cumsum[length_percent_cumsum < 0.999]\n",
    "\n",
    "length_percent_cumsum_999"
   ]
  },
  {
   "cell_type": "code",
   "execution_count": 12,
   "id": "lyric-exemption",
   "metadata": {},
   "outputs": [
    {
     "data": {
      "image/png": "[encoded data removed]",
      "text/plain": [
       "<Figure size 720x360 with 1 Axes>"
      ]
     },
     "metadata": {
      "needs_background": "light"
     },
     "output_type": "display_data"
    }
   ],
   "source": [
    "import matplotlib.pyplot as plt\n",
    "\n",
    "plt.figure(figsize=(10, 5))\n",
    "plt.bar(x=length_percent_cumsum.index,\n",
    "        height=length_percent_cumsum)\n",
    "plt.xticks(length_percent_cumsum.index)\n",
    "plt.yticks(np.arange(0, 1.01, 0.05))\n",
    "plt.title('Cumsum Percentage', size=20)\n",
    "plt.show()"
   ]
  },
  {
   "cell_type": "code",
   "execution_count": 13,
   "id": "impressed-windsor",
   "metadata": {},
   "outputs": [
    {
     "data": {
      "image/png": "[encoded data removed]",
      "text/plain": [
       "<Figure size 504x360 with 1 Axes>"
      ]
     },
     "metadata": {
      "needs_background": "light"
     },
     "output_type": "display_data"
    }
   ],
   "source": [
    "plt.figure(figsize=(7, 5))\n",
    "plt.bar(x=length_percent_cumsum_999.index,\n",
    "        height=length_percent_cumsum_999, color='deeppink')\n",
    "plt.xticks(length_percent_cumsum_999.index)\n",
    "plt.yticks(np.arange(0, 1.01, 0.05))\n",
    "plt.title('Cumsum Percentage Until 0.999', size=20)\n",
    "plt.show()"
   ]
  },
  {
   "cell_type": "markdown",
   "id": "quantitative-adelaide",
   "metadata": {},
   "source": [
    "- 세션의 길이가 9이하인 데이터만 그래프로 출력"
   ]
  },
  {
   "cell_type": "markdown",
   "id": "developmental-spoke",
   "metadata": {},
   "source": [
    "### 시간분석"
   ]
  },
  {
   "cell_type": "code",
   "execution_count": 14,
   "id": "actual-measurement",
   "metadata": {},
   "outputs": [
    {
     "name": "stdout",
     "output_type": "stream",
     "text": [
      "956703932\n",
      "1046454590\n"
     ]
    }
   ],
   "source": [
    "oldest, latest = data['Time'].min(), data['Time'].max()\n",
    "print(oldest) \n",
    "print(latest)"
   ]
  },
  {
   "cell_type": "code",
   "execution_count": 15,
   "id": "daily-jacket",
   "metadata": {},
   "outputs": [
    {
     "name": "stdout",
     "output_type": "stream",
     "text": [
      "2000-04-25 23:05:32\n",
      "2003-02-28 17:49:50\n"
     ]
    }
   ],
   "source": [
    "print(dt.datetime.utcfromtimestamp(oldest).strftime('%Y-%m-%d %H:%M:%S'))\n",
    "print(dt.datetime.utcfromtimestamp(latest).strftime('%Y-%m-%d %H:%M:%S'))"
   ]
  },
  {
   "cell_type": "code",
   "execution_count": 16,
   "id": "requested-festival",
   "metadata": {},
   "outputs": [
    {
     "name": "stdout",
     "output_type": "stream",
     "text": [
      "1000209\n",
      "69349\n",
      "21704\n"
     ]
    }
   ],
   "source": [
    "print(len(data[data['Time'] > latest - (86400*365*3)]))  # 최근 3년 데이터 수\n",
    "print(len(data[data['Time'] > latest - (86400*365*2)]))  # 최근 2년 데이터 수\n",
    "print(len(data[data['Time'] > latest - (86400*365*1)]))  # 최근 1년 데이터 수"
   ]
  },
  {
   "cell_type": "markdown",
   "id": "sorted-angola",
   "metadata": {},
   "source": [
    "- 1일을 [초(second)] 단위로 환산 86400"
   ]
  },
  {
   "cell_type": "code",
   "execution_count": 17,
   "id": "union-premises",
   "metadata": {},
   "outputs": [
    {
     "data": {
      "text/html": [
       "<div>\n",
       "<style scoped>\n",
       "    .dataframe tbody tr th:only-of-type {\n",
       "        vertical-align: middle;\n",
       "    }\n",
       "\n",
       "    .dataframe tbody tr th {\n",
       "        vertical-align: top;\n",
       "    }\n",
       "\n",
       "    .dataframe thead th {\n",
       "        text-align: right;\n",
       "    }\n",
       "</style>\n",
       "<table border=\"1\" class=\"dataframe\">\n",
       "  <thead>\n",
       "    <tr style=\"text-align: right;\">\n",
       "      <th></th>\n",
       "      <th>SessionId</th>\n",
       "      <th>UserId</th>\n",
       "      <th>Time</th>\n",
       "      <th>ItemId</th>\n",
       "      <th>Rating</th>\n",
       "    </tr>\n",
       "  </thead>\n",
       "  <tbody>\n",
       "    <tr>\n",
       "      <th>0</th>\n",
       "      <td>0</td>\n",
       "      <td>1</td>\n",
       "      <td>978300019</td>\n",
       "      <td>3186</td>\n",
       "      <td>4</td>\n",
       "    </tr>\n",
       "    <tr>\n",
       "      <th>1</th>\n",
       "      <td>1</td>\n",
       "      <td>1</td>\n",
       "      <td>978300055</td>\n",
       "      <td>1270</td>\n",
       "      <td>5</td>\n",
       "    </tr>\n",
       "    <tr>\n",
       "      <th>2</th>\n",
       "      <td>1</td>\n",
       "      <td>1</td>\n",
       "      <td>978300055</td>\n",
       "      <td>1721</td>\n",
       "      <td>4</td>\n",
       "    </tr>\n",
       "    <tr>\n",
       "      <th>3</th>\n",
       "      <td>1</td>\n",
       "      <td>1</td>\n",
       "      <td>978300055</td>\n",
       "      <td>1022</td>\n",
       "      <td>5</td>\n",
       "    </tr>\n",
       "    <tr>\n",
       "      <th>4</th>\n",
       "      <td>2</td>\n",
       "      <td>1</td>\n",
       "      <td>978300103</td>\n",
       "      <td>2340</td>\n",
       "      <td>3</td>\n",
       "    </tr>\n",
       "    <tr>\n",
       "      <th>...</th>\n",
       "      <td>...</td>\n",
       "      <td>...</td>\n",
       "      <td>...</td>\n",
       "      <td>...</td>\n",
       "      <td>...</td>\n",
       "    </tr>\n",
       "    <tr>\n",
       "      <th>1000204</th>\n",
       "      <td>471159</td>\n",
       "      <td>6040</td>\n",
       "      <td>997454429</td>\n",
       "      <td>2917</td>\n",
       "      <td>4</td>\n",
       "    </tr>\n",
       "    <tr>\n",
       "      <th>1000205</th>\n",
       "      <td>471160</td>\n",
       "      <td>6040</td>\n",
       "      <td>997454464</td>\n",
       "      <td>1921</td>\n",
       "      <td>4</td>\n",
       "    </tr>\n",
       "    <tr>\n",
       "      <th>1000206</th>\n",
       "      <td>471160</td>\n",
       "      <td>6040</td>\n",
       "      <td>997454464</td>\n",
       "      <td>1784</td>\n",
       "      <td>3</td>\n",
       "    </tr>\n",
       "    <tr>\n",
       "      <th>1000207</th>\n",
       "      <td>471161</td>\n",
       "      <td>6040</td>\n",
       "      <td>997454486</td>\n",
       "      <td>161</td>\n",
       "      <td>3</td>\n",
       "    </tr>\n",
       "    <tr>\n",
       "      <th>1000208</th>\n",
       "      <td>471162</td>\n",
       "      <td>6040</td>\n",
       "      <td>998315055</td>\n",
       "      <td>1221</td>\n",
       "      <td>4</td>\n",
       "    </tr>\n",
       "  </tbody>\n",
       "</table>\n",
       "<p>1000209 rows × 5 columns</p>\n",
       "</div>"
      ],
      "text/plain": [
       "         SessionId  UserId       Time  ItemId  Rating\n",
       "0                0       1  978300019    3186       4\n",
       "1                1       1  978300055    1270       5\n",
       "2                1       1  978300055    1721       4\n",
       "3                1       1  978300055    1022       5\n",
       "4                2       1  978300103    2340       3\n",
       "...            ...     ...        ...     ...     ...\n",
       "1000204     471159    6040  997454429    2917       4\n",
       "1000205     471160    6040  997454464    1921       4\n",
       "1000206     471160    6040  997454464    1784       3\n",
       "1000207     471161    6040  997454486     161       3\n",
       "1000208     471162    6040  998315055    1221       4\n",
       "\n",
       "[1000209 rows x 5 columns]"
      ]
     },
     "execution_count": 17,
     "metadata": {},
     "output_type": "execute_result"
    }
   ],
   "source": [
    "data = data[['SessionId', 'UserId', 'Time', 'ItemId', 'Rating']]\n",
    "data"
   ]
  },
  {
   "cell_type": "code",
   "execution_count": 18,
   "id": "capital-chapter",
   "metadata": {},
   "outputs": [],
   "source": [
    "def split_by_date(data: pd.DataFrame, n_days: int):\n",
    "    final_time = data['Time'].max()\n",
    "    session_last_time = data.groupby('SessionId')['Time'].max()\n",
    "    session_in_train = session_last_time[session_last_time < final_time - (86400*n_days)].index\n",
    "    session_in_test = session_last_time[session_last_time >= final_time - (86400*n_days)].index\n",
    "\n",
    "    before_date = data[data['SessionId'].isin(session_in_train)]\n",
    "    after_date = data[data['SessionId'].isin(session_in_test)]\n",
    "    after_date = after_date[after_date['ItemId'].isin(before_date['ItemId'])]\n",
    "    return before_date, after_date"
   ]
  },
  {
   "cell_type": "code",
   "execution_count": 19,
   "id": "supposed-circle",
   "metadata": {},
   "outputs": [],
   "source": [
    "tr, test = split_by_date(data, n_days=100)\n",
    "tr, val = split_by_date(tr, n_days=100)"
   ]
  },
  {
   "cell_type": "code",
   "execution_count": 20,
   "id": "constant-reunion",
   "metadata": {},
   "outputs": [],
   "source": [
    "def stats_info(data: pd.DataFrame, status: str):\n",
    "    first_time = dt.datetime.utcfromtimestamp(data[\"Time\"].min()).strftime('%Y-%m-%d %H:%M:%S')\n",
    "    last_time = dt.datetime.utcfromtimestamp(data[\"Time\"].max()).strftime('%Y-%m-%d %H:%M:%S')\n",
    "    print(f'* {status} Set Stats Info\\n'\n",
    "          f'\\t Events: {len(data)}\\n'\n",
    "          f'\\t Sessions: {data[\"UserId\"].nunique()}\\n'\n",
    "          f'\\t Items: {data[\"ItemId\"].nunique()}\\n'\n",
    "          f'\\t First Time : {first_time}\\n'\n",
    "          f'\\t Last Time : {last_time}\\n')"
   ]
  },
  {
   "cell_type": "code",
   "execution_count": 21,
   "id": "female-playing",
   "metadata": {},
   "outputs": [
    {
     "name": "stdout",
     "output_type": "stream",
     "text": [
      "* train Set Stats Info\n",
      "\t Events: 989923\n",
      "\t Sessions: 6039\n",
      "\t Items: 3702\n",
      "\t First Time : 2000-04-25 23:05:32\n",
      "\t Last Time : 2002-08-12 13:53:29\n",
      "\n",
      "* valid Set Stats Info\n",
      "\t Events: 5209\n",
      "\t Sessions: 245\n",
      "\t Items: 1949\n",
      "\t First Time : 2002-08-13 00:40:06\n",
      "\t Last Time : 2002-11-20 16:38:40\n",
      "\n",
      "* test Set Stats Info\n",
      "\t Events: 5073\n",
      "\t Sessions: 254\n",
      "\t Items: 1893\n",
      "\t First Time : 2002-11-20 20:30:02\n",
      "\t Last Time : 2003-02-28 17:49:50\n",
      "\n"
     ]
    }
   ],
   "source": [
    "stats_info(tr, 'train')\n",
    "stats_info(val, 'valid')\n",
    "stats_info(test, 'test')"
   ]
  },
  {
   "cell_type": "code",
   "execution_count": 22,
   "id": "static-biography",
   "metadata": {},
   "outputs": [],
   "source": [
    "id2idx = {item_id : index for index, item_id in enumerate(tr['ItemId'].unique())}\n",
    "\n",
    "def indexing(df, id2idx):\n",
    "    df['item_idx'] = df['ItemId'].map(lambda x: id2idx.get(x, -1))  # id2idx에 없는 아이템은 모르는 값(-1) 처리 해줍니다.\n",
    "    return df\n",
    "\n",
    "tr = indexing(tr, id2idx)\n",
    "val = indexing(val, id2idx)\n",
    "test = indexing(test, id2idx)"
   ]
  },
  {
   "cell_type": "markdown",
   "id": "worst-review",
   "metadata": {},
   "source": [
    "- train data를 기준으로 인덱싱\n",
    "- id2idx에 없는 아이템은 모르는 값(-1)으로 처리"
   ]
  },
  {
   "cell_type": "code",
   "execution_count": 23,
   "id": "sonic-article",
   "metadata": {},
   "outputs": [],
   "source": [
    "save_path = data_path / 'processed'\n",
    "save_path.mkdir(parents=True, exist_ok=True)\n",
    "\n",
    "tr.to_pickle(save_path / 'train.pkl')\n",
    "val.to_pickle(save_path / 'valid.pkl')\n",
    "test.to_pickle(save_path / 'test.pkl')"
   ]
  },
  {
   "cell_type": "markdown",
   "id": "friendly-drain",
   "metadata": {},
   "source": [
    "## 2. 미니 배치 구성"
   ]
  },
  {
   "cell_type": "code",
   "execution_count": 24,
   "id": "refined-island",
   "metadata": {},
   "outputs": [],
   "source": [
    "class SessionDataset:\n",
    "    \"\"\"Credit to yhs-968/pyGRU4REC.\"\"\"\n",
    "\n",
    "    def __init__(self, data):\n",
    "        self.df = data\n",
    "        self.click_offsets = self.get_click_offsets()\n",
    "        self.session_idx = np.arange(self.df['SessionId'].nunique())  # indexing to SessionId\n",
    "\n",
    "    def get_click_offsets(self):\n",
    "        \"\"\"\n",
    "        Return the indexes of the first click of each session IDs,\n",
    "        \"\"\"\n",
    "        offsets = np.zeros(self.df['SessionId'].nunique() + 1, dtype=np.int32)\n",
    "        offsets[1:] = self.df.groupby('SessionId').size().cumsum()\n",
    "        return offsets"
   ]
  },
  {
   "cell_type": "code",
   "execution_count": 25,
   "id": "corporate-education",
   "metadata": {},
   "outputs": [
    {
     "data": {
      "text/html": [
       "<div>\n",
       "<style scoped>\n",
       "    .dataframe tbody tr th:only-of-type {\n",
       "        vertical-align: middle;\n",
       "    }\n",
       "\n",
       "    .dataframe tbody tr th {\n",
       "        vertical-align: top;\n",
       "    }\n",
       "\n",
       "    .dataframe thead th {\n",
       "        text-align: right;\n",
       "    }\n",
       "</style>\n",
       "<table border=\"1\" class=\"dataframe\">\n",
       "  <thead>\n",
       "    <tr style=\"text-align: right;\">\n",
       "      <th></th>\n",
       "      <th>SessionId</th>\n",
       "      <th>UserId</th>\n",
       "      <th>Time</th>\n",
       "      <th>ItemId</th>\n",
       "      <th>Rating</th>\n",
       "      <th>item_idx</th>\n",
       "    </tr>\n",
       "  </thead>\n",
       "  <tbody>\n",
       "    <tr>\n",
       "      <th>0</th>\n",
       "      <td>0</td>\n",
       "      <td>1</td>\n",
       "      <td>978300019</td>\n",
       "      <td>3186</td>\n",
       "      <td>4</td>\n",
       "      <td>0</td>\n",
       "    </tr>\n",
       "    <tr>\n",
       "      <th>1</th>\n",
       "      <td>1</td>\n",
       "      <td>1</td>\n",
       "      <td>978300055</td>\n",
       "      <td>1270</td>\n",
       "      <td>5</td>\n",
       "      <td>1</td>\n",
       "    </tr>\n",
       "    <tr>\n",
       "      <th>2</th>\n",
       "      <td>1</td>\n",
       "      <td>1</td>\n",
       "      <td>978300055</td>\n",
       "      <td>1721</td>\n",
       "      <td>4</td>\n",
       "      <td>2</td>\n",
       "    </tr>\n",
       "    <tr>\n",
       "      <th>3</th>\n",
       "      <td>1</td>\n",
       "      <td>1</td>\n",
       "      <td>978300055</td>\n",
       "      <td>1022</td>\n",
       "      <td>5</td>\n",
       "      <td>3</td>\n",
       "    </tr>\n",
       "    <tr>\n",
       "      <th>4</th>\n",
       "      <td>2</td>\n",
       "      <td>1</td>\n",
       "      <td>978300103</td>\n",
       "      <td>2340</td>\n",
       "      <td>3</td>\n",
       "      <td>4</td>\n",
       "    </tr>\n",
       "    <tr>\n",
       "      <th>5</th>\n",
       "      <td>3</td>\n",
       "      <td>1</td>\n",
       "      <td>978300172</td>\n",
       "      <td>1836</td>\n",
       "      <td>5</td>\n",
       "      <td>5</td>\n",
       "    </tr>\n",
       "    <tr>\n",
       "      <th>6</th>\n",
       "      <td>4</td>\n",
       "      <td>1</td>\n",
       "      <td>978300275</td>\n",
       "      <td>3408</td>\n",
       "      <td>4</td>\n",
       "      <td>6</td>\n",
       "    </tr>\n",
       "    <tr>\n",
       "      <th>7</th>\n",
       "      <td>5</td>\n",
       "      <td>1</td>\n",
       "      <td>978300719</td>\n",
       "      <td>2804</td>\n",
       "      <td>5</td>\n",
       "      <td>7</td>\n",
       "    </tr>\n",
       "    <tr>\n",
       "      <th>8</th>\n",
       "      <td>5</td>\n",
       "      <td>1</td>\n",
       "      <td>978300719</td>\n",
       "      <td>1207</td>\n",
       "      <td>4</td>\n",
       "      <td>8</td>\n",
       "    </tr>\n",
       "    <tr>\n",
       "      <th>9</th>\n",
       "      <td>6</td>\n",
       "      <td>1</td>\n",
       "      <td>978300760</td>\n",
       "      <td>1193</td>\n",
       "      <td>5</td>\n",
       "      <td>9</td>\n",
       "    </tr>\n",
       "  </tbody>\n",
       "</table>\n",
       "</div>"
      ],
      "text/plain": [
       "   SessionId  UserId       Time  ItemId  Rating  item_idx\n",
       "0          0       1  978300019    3186       4         0\n",
       "1          1       1  978300055    1270       5         1\n",
       "2          1       1  978300055    1721       4         2\n",
       "3          1       1  978300055    1022       5         3\n",
       "4          2       1  978300103    2340       3         4\n",
       "5          3       1  978300172    1836       5         5\n",
       "6          4       1  978300275    3408       4         6\n",
       "7          5       1  978300719    2804       5         7\n",
       "8          5       1  978300719    1207       4         8\n",
       "9          6       1  978300760    1193       5         9"
      ]
     },
     "execution_count": 25,
     "metadata": {},
     "output_type": "execute_result"
    }
   ],
   "source": [
    "tr_dataset = SessionDataset(tr)\n",
    "tr_dataset.df.head(10)"
   ]
  },
  {
   "cell_type": "code",
   "execution_count": 26,
   "id": "modular-lyric",
   "metadata": {},
   "outputs": [
    {
     "data": {
      "text/plain": [
       "array([     0,      1,      4, ..., 989921, 989922, 989923], dtype=int32)"
      ]
     },
     "execution_count": 26,
     "metadata": {},
     "output_type": "execute_result"
    }
   ],
   "source": [
    "tr_dataset.click_offsets"
   ]
  },
  {
   "cell_type": "code",
   "execution_count": 27,
   "id": "judicial-contrast",
   "metadata": {},
   "outputs": [
    {
     "data": {
      "text/plain": [
       "array([     0,      1,      2, ..., 463928, 463929, 463930])"
      ]
     },
     "execution_count": 27,
     "metadata": {},
     "output_type": "execute_result"
    }
   ],
   "source": [
    "tr_dataset.session_idx"
   ]
  },
  {
   "cell_type": "code",
   "execution_count": 28,
   "id": "opening-suspect",
   "metadata": {},
   "outputs": [],
   "source": [
    "class SessionDataLoader:\n",
    "    \"\"\"Credit to yhs-968/pyGRU4REC.\"\"\"\n",
    "\n",
    "    def __init__(self, dataset: SessionDataset, batch_size=50):\n",
    "        self.dataset = dataset\n",
    "        self.batch_size = batch_size\n",
    "\n",
    "    def __iter__(self):\n",
    "        \"\"\" Returns the iterator for producing session-parallel training mini-batches.\n",
    "        Yields:\n",
    "            input (B,):  Item indices that will be encoded as one-hot vectors later.\n",
    "            target (B,): a Variable that stores the target item indices\n",
    "            masks: Numpy array indicating the positions of the sessions to be terminated\n",
    "        \"\"\"\n",
    "\n",
    "        start, end, mask, last_session, finished = self.initialize()  # initialize 메소드에서 확인해주세요.\n",
    "        \"\"\"\n",
    "        start : Index Where Session Start\n",
    "        end : Index Where Session End\n",
    "        mask : indicator for the sessions to be terminated\n",
    "        \"\"\"\n",
    "\n",
    "        while not finished:\n",
    "            min_len = (end - start).min() - 1  # Shortest Length Among Sessions\n",
    "            for i in range(min_len):\n",
    "                # Build inputs & targets\n",
    "                inp = self.dataset.df['item_idx'].values[start + i]\n",
    "                target = self.dataset.df['item_idx'].values[start + i + 1]\n",
    "                yield inp, target, mask\n",
    "\n",
    "            start, end, mask, last_session, finished = self.update_status(start, end, min_len, last_session, finished)\n",
    "\n",
    "    def initialize(self):\n",
    "        first_iters = np.arange(self.batch_size)    # 첫 배치에 사용할 세션 Index를 가져옵니다.\n",
    "        last_session = self.batch_size - 1    # 마지막으로 다루고 있는 세션 Index를 저장해둡니다.\n",
    "        start = self.dataset.click_offsets[self.dataset.session_idx[first_iters]]       # data 상에서 session이 시작된 위치를 가져옵니다.\n",
    "        end = self.dataset.click_offsets[self.dataset.session_idx[first_iters] + 1]  # session이 끝난 위치 바로 다음 위치를 가져옵니다.\n",
    "        mask = np.array([])   # session의 모든 아이템을 다 돌은 경우 mask에 추가해줄 것입니다.\n",
    "        finished = False         # data를 전부 돌았는지 기록하기 위한 변수입니다.\n",
    "        return start, end, mask, last_session, finished\n",
    "\n",
    "    def update_status(self, start: np.ndarray, end: np.ndarray, min_len: int, last_session: int, finished: bool):  \n",
    "        # 다음 배치 데이터를 생성하기 위해 상태를 update합니다.\n",
    "        \n",
    "        start += min_len   # __iter__에서 min_len 만큼 for문을 돌았으므로 start를 min_len 만큼 더해줍니다.\n",
    "        mask = np.arange(self.batch_size)[(end - start) == 1]  \n",
    "        # end는 다음 세션이 시작되는 위치인데 start와 한 칸 차이난다는 것은 session이 끝났다는 뜻입니다. mask에 기록해줍니다.\n",
    "        \n",
    "        for i, idx in enumerate(mask, start=1):  # mask에 추가된 세션 개수만큼 새로운 세션을 돌것입니다.\n",
    "            new_session = last_session + i  \n",
    "            if new_session > self.dataset.session_idx[-1]:  # 만약 새로운 세션이 마지막 세션 index보다 크다면 모든 학습데이터를 돈 것입니다.\n",
    "                finished = True\n",
    "                break\n",
    "            # update the next starting/ending point\n",
    "            start[idx] = self.dataset.click_offsets[self.dataset.session_idx[new_session]]     # 종료된 세션 대신 새로운 세션의 시작점을 기록합니다.\n",
    "            end[idx] = self.dataset.click_offsets[self.dataset.session_idx[new_session] + 1]\n",
    "\n",
    "        last_session += len(mask)  # 마지막 세션의 위치를 기록해둡니다.\n",
    "        return start, end, mask, last_session, finished"
   ]
  },
  {
   "cell_type": "code",
   "execution_count": 29,
   "id": "statewide-scenario",
   "metadata": {},
   "outputs": [
    {
     "data": {
      "text/html": [
       "<div>\n",
       "<style scoped>\n",
       "    .dataframe tbody tr th:only-of-type {\n",
       "        vertical-align: middle;\n",
       "    }\n",
       "\n",
       "    .dataframe tbody tr th {\n",
       "        vertical-align: top;\n",
       "    }\n",
       "\n",
       "    .dataframe thead th {\n",
       "        text-align: right;\n",
       "    }\n",
       "</style>\n",
       "<table border=\"1\" class=\"dataframe\">\n",
       "  <thead>\n",
       "    <tr style=\"text-align: right;\">\n",
       "      <th></th>\n",
       "      <th>SessionId</th>\n",
       "      <th>UserId</th>\n",
       "      <th>Time</th>\n",
       "      <th>ItemId</th>\n",
       "      <th>Rating</th>\n",
       "      <th>item_idx</th>\n",
       "    </tr>\n",
       "  </thead>\n",
       "  <tbody>\n",
       "    <tr>\n",
       "      <th>0</th>\n",
       "      <td>0</td>\n",
       "      <td>1</td>\n",
       "      <td>978300019</td>\n",
       "      <td>3186</td>\n",
       "      <td>4</td>\n",
       "      <td>0</td>\n",
       "    </tr>\n",
       "    <tr>\n",
       "      <th>1</th>\n",
       "      <td>1</td>\n",
       "      <td>1</td>\n",
       "      <td>978300055</td>\n",
       "      <td>1270</td>\n",
       "      <td>5</td>\n",
       "      <td>1</td>\n",
       "    </tr>\n",
       "    <tr>\n",
       "      <th>2</th>\n",
       "      <td>1</td>\n",
       "      <td>1</td>\n",
       "      <td>978300055</td>\n",
       "      <td>1721</td>\n",
       "      <td>4</td>\n",
       "      <td>2</td>\n",
       "    </tr>\n",
       "    <tr>\n",
       "      <th>3</th>\n",
       "      <td>1</td>\n",
       "      <td>1</td>\n",
       "      <td>978300055</td>\n",
       "      <td>1022</td>\n",
       "      <td>5</td>\n",
       "      <td>3</td>\n",
       "    </tr>\n",
       "    <tr>\n",
       "      <th>4</th>\n",
       "      <td>2</td>\n",
       "      <td>1</td>\n",
       "      <td>978300103</td>\n",
       "      <td>2340</td>\n",
       "      <td>3</td>\n",
       "      <td>4</td>\n",
       "    </tr>\n",
       "    <tr>\n",
       "      <th>5</th>\n",
       "      <td>3</td>\n",
       "      <td>1</td>\n",
       "      <td>978300172</td>\n",
       "      <td>1836</td>\n",
       "      <td>5</td>\n",
       "      <td>5</td>\n",
       "    </tr>\n",
       "    <tr>\n",
       "      <th>6</th>\n",
       "      <td>4</td>\n",
       "      <td>1</td>\n",
       "      <td>978300275</td>\n",
       "      <td>3408</td>\n",
       "      <td>4</td>\n",
       "      <td>6</td>\n",
       "    </tr>\n",
       "    <tr>\n",
       "      <th>7</th>\n",
       "      <td>5</td>\n",
       "      <td>1</td>\n",
       "      <td>978300719</td>\n",
       "      <td>2804</td>\n",
       "      <td>5</td>\n",
       "      <td>7</td>\n",
       "    </tr>\n",
       "    <tr>\n",
       "      <th>8</th>\n",
       "      <td>5</td>\n",
       "      <td>1</td>\n",
       "      <td>978300719</td>\n",
       "      <td>1207</td>\n",
       "      <td>4</td>\n",
       "      <td>8</td>\n",
       "    </tr>\n",
       "    <tr>\n",
       "      <th>9</th>\n",
       "      <td>6</td>\n",
       "      <td>1</td>\n",
       "      <td>978300760</td>\n",
       "      <td>1193</td>\n",
       "      <td>5</td>\n",
       "      <td>9</td>\n",
       "    </tr>\n",
       "    <tr>\n",
       "      <th>10</th>\n",
       "      <td>6</td>\n",
       "      <td>1</td>\n",
       "      <td>978300760</td>\n",
       "      <td>720</td>\n",
       "      <td>3</td>\n",
       "      <td>10</td>\n",
       "    </tr>\n",
       "    <tr>\n",
       "      <th>11</th>\n",
       "      <td>6</td>\n",
       "      <td>1</td>\n",
       "      <td>978300760</td>\n",
       "      <td>260</td>\n",
       "      <td>4</td>\n",
       "      <td>11</td>\n",
       "    </tr>\n",
       "    <tr>\n",
       "      <th>12</th>\n",
       "      <td>7</td>\n",
       "      <td>1</td>\n",
       "      <td>978301368</td>\n",
       "      <td>919</td>\n",
       "      <td>4</td>\n",
       "      <td>12</td>\n",
       "    </tr>\n",
       "    <tr>\n",
       "      <th>13</th>\n",
       "      <td>8</td>\n",
       "      <td>1</td>\n",
       "      <td>978301398</td>\n",
       "      <td>608</td>\n",
       "      <td>4</td>\n",
       "      <td>13</td>\n",
       "    </tr>\n",
       "    <tr>\n",
       "      <th>14</th>\n",
       "      <td>9</td>\n",
       "      <td>1</td>\n",
       "      <td>978301570</td>\n",
       "      <td>2692</td>\n",
       "      <td>4</td>\n",
       "      <td>14</td>\n",
       "    </tr>\n",
       "  </tbody>\n",
       "</table>\n",
       "</div>"
      ],
      "text/plain": [
       "    SessionId  UserId       Time  ItemId  Rating  item_idx\n",
       "0           0       1  978300019    3186       4         0\n",
       "1           1       1  978300055    1270       5         1\n",
       "2           1       1  978300055    1721       4         2\n",
       "3           1       1  978300055    1022       5         3\n",
       "4           2       1  978300103    2340       3         4\n",
       "5           3       1  978300172    1836       5         5\n",
       "6           4       1  978300275    3408       4         6\n",
       "7           5       1  978300719    2804       5         7\n",
       "8           5       1  978300719    1207       4         8\n",
       "9           6       1  978300760    1193       5         9\n",
       "10          6       1  978300760     720       3        10\n",
       "11          6       1  978300760     260       4        11\n",
       "12          7       1  978301368     919       4        12\n",
       "13          8       1  978301398     608       4        13\n",
       "14          9       1  978301570    2692       4        14"
      ]
     },
     "execution_count": 29,
     "metadata": {},
     "output_type": "execute_result"
    }
   ],
   "source": [
    "tr_data_loader = SessionDataLoader(tr_dataset, batch_size=4)\n",
    "tr_dataset.df.head(15)"
   ]
  },
  {
   "cell_type": "code",
   "execution_count": 30,
   "id": "distinct-accident",
   "metadata": {},
   "outputs": [],
   "source": [
    "iter_ex = iter(tr_data_loader)"
   ]
  },
  {
   "cell_type": "code",
   "execution_count": 31,
   "id": "interesting-curtis",
   "metadata": {},
   "outputs": [
    {
     "name": "stdout",
     "output_type": "stream",
     "text": [
      "Model Input Item Idx are : [19  1  7  9]\n",
      "Label Item Idx are :       [20  2  8 10]\n",
      "Previous Masked Input Idx are [0]\n"
     ]
    }
   ],
   "source": [
    "inputs, labels, mask =  next(iter_ex)\n",
    "print(f'Model Input Item Idx are : {inputs}')\n",
    "print(f'Label Item Idx are : {\"\":5} {labels}')\n",
    "print(f'Previous Masked Input Idx are {mask}')"
   ]
  },
  {
   "cell_type": "markdown",
   "id": "significant-ribbon",
   "metadata": {},
   "source": [
    "## 3. 모델 구성"
   ]
  },
  {
   "cell_type": "code",
   "execution_count": 32,
   "id": "marine-watershed",
   "metadata": {},
   "outputs": [],
   "source": [
    "def mrr_k(pred, truth: int, k: int):\n",
    "    indexing = np.where(pred[:k] == truth)[0]\n",
    "    if len(indexing) > 0:\n",
    "        return 1 / (indexing[0] + 1)\n",
    "    else:\n",
    "        return 0\n",
    "\n",
    "def recall_k(pred, truth: int, k: int) -> int:\n",
    "    answer = truth in pred[:k]\n",
    "    return int(answer)"
   ]
  },
  {
   "cell_type": "code",
   "execution_count": 33,
   "id": "cheap-antarctica",
   "metadata": {},
   "outputs": [],
   "source": [
    "import numpy as np\n",
    "import tensorflow as tf\n",
    "from tensorflow.keras.layers import Input, Dense, Dropout, GRU, LSTM\n",
    "from tensorflow.keras.losses import categorical_crossentropy\n",
    "from tensorflow.keras.models import Model\n",
    "from tensorflow.keras.optimizers import Adam\n",
    "from tensorflow.keras.utils import to_categorical\n",
    "from tqdm import tqdm"
   ]
  },
  {
   "cell_type": "code",
   "execution_count": 34,
   "id": "stable-developer",
   "metadata": {},
   "outputs": [],
   "source": [
    "def create_model(args):\n",
    "    inputs = Input(batch_shape=(args.batch_size, 1, args.num_items))\n",
    "    gru, _ = GRU(args.hsz, stateful=True, return_state=True, name='GRU')(inputs)\n",
    "    dropout = Dropout(args.drop_rate)(gru)\n",
    "    predictions = Dense(args.num_items, activation='softmax')(dropout)\n",
    "    model = Model(inputs=inputs, outputs=[predictions])\n",
    "    model.compile(loss=categorical_crossentropy, optimizer=Adam(args.lr), metrics=['accuracy'])\n",
    "    model.summary()\n",
    "    return model"
   ]
  },
  {
   "cell_type": "code",
   "execution_count": 60,
   "id": "polished-patrick",
   "metadata": {},
   "outputs": [],
   "source": [
    "class Args:\n",
    "    def __init__(self, tr, val, test, batch_size, hsz, drop_rate, lr, epochs, k):\n",
    "        self.tr = tr\n",
    "        self.val = val\n",
    "        self.test = test\n",
    "        self.num_items = tr['ItemId'].nunique()\n",
    "        self.num_sessions = tr['SessionId'].nunique()\n",
    "        self.batch_size = batch_size\n",
    "        self.hsz = hsz\n",
    "        self.drop_rate = drop_rate\n",
    "        self.lr = lr\n",
    "        self.epochs = epochs\n",
    "        self.k = k\n",
    "\n",
    "args = Args(tr, val, test, batch_size=64, hsz=50, drop_rate=0.5, lr=0.001, epochs=30, k=20)"
   ]
  },
  {
   "cell_type": "code",
   "execution_count": 61,
   "id": "right-martin",
   "metadata": {},
   "outputs": [
    {
     "name": "stdout",
     "output_type": "stream",
     "text": [
      "Model: \"model_5\"\n",
      "_________________________________________________________________\n",
      "Layer (type)                 Output Shape              Param #   \n",
      "=================================================================\n",
      "input_6 (InputLayer)         [(64, 1, 3702)]           0         \n",
      "_________________________________________________________________\n",
      "GRU (GRU)                    [(64, 50), (64, 50)]      563100    \n",
      "_________________________________________________________________\n",
      "dropout_5 (Dropout)          (64, 50)                  0         \n",
      "_________________________________________________________________\n",
      "dense_5 (Dense)              (64, 3702)                188802    \n",
      "=================================================================\n",
      "Total params: 751,902\n",
      "Trainable params: 751,902\n",
      "Non-trainable params: 0\n",
      "_________________________________________________________________\n"
     ]
    }
   ],
   "source": [
    "model = create_model(args)"
   ]
  },
  {
   "cell_type": "markdown",
   "id": "distributed-action",
   "metadata": {},
   "source": [
    "## 4. 모델 학습"
   ]
  },
  {
   "cell_type": "code",
   "execution_count": 62,
   "id": "listed-acrylic",
   "metadata": {},
   "outputs": [],
   "source": [
    "# train 셋으로 학습하면서 valid 셋으로 검증합니다.\n",
    "def train_model(model, args):\n",
    "    train_dataset = SessionDataset(args.tr)\n",
    "    train_loader = SessionDataLoader(train_dataset, batch_size=args.batch_size)\n",
    "\n",
    "    for epoch in range(1, args.epochs + 1):\n",
    "        total_step = len(args.tr) - args.tr['SessionId'].nunique()\n",
    "        tr_loader = tqdm(train_loader, total=total_step // args.batch_size, desc='Train', mininterval=1)\n",
    "        for feat, target, mask in tr_loader:\n",
    "            reset_hidden_states(model, mask)  # 종료된 session은 hidden_state를 초기화합니다. 아래 메서드에서 확인해주세요.\n",
    "\n",
    "            input_ohe = to_categorical(feat, num_classes=args.num_items)\n",
    "            input_ohe = np.expand_dims(input_ohe, axis=1)\n",
    "            target_ohe = to_categorical(target, num_classes=args.num_items)\n",
    "\n",
    "            result = model.train_on_batch(input_ohe, target_ohe)\n",
    "            tr_loader.set_postfix(train_loss=result[0], accuracy = result[1])\n",
    "\n",
    "        val_recall, val_mrr = get_metrics(args.val, model, args, args.k)  # valid set에 대해 검증합니다.\n",
    "\n",
    "        print(f\"\\t - Recall@{args.k} epoch {epoch}: {val_recall:3f}\")\n",
    "        print(f\"\\t - MRR@{args.k}    epoch {epoch}: {val_mrr:3f}\\n\")\n",
    "\n",
    "\n",
    "def reset_hidden_states(model, mask):\n",
    "    gru_layer = model.get_layer(name='GRU')  # model에서 gru layer를 가져옵니다.\n",
    "    hidden_states = gru_layer.states[0].numpy()  # gru_layer의 parameter를 가져옵니다.\n",
    "    for elt in mask:  # mask된 인덱스 즉, 종료된 세션의 인덱스를 돌면서\n",
    "        hidden_states[elt, :] = 0  # parameter를 초기화 합니다.\n",
    "    gru_layer.reset_states(states=hidden_states)\n",
    "\n",
    "\n",
    "def get_metrics(data, model, args, k: int):  # valid셋과 test셋을 평가하는 코드입니다. \n",
    "                                             # train과 거의 같지만 mrr, recall을 구하는 라인이 있습니다.\n",
    "    dataset = SessionDataset(data)\n",
    "    loader = SessionDataLoader(dataset, batch_size=args.batch_size)\n",
    "    recall_list, mrr_list = [], []\n",
    "\n",
    "    total_step = len(data) - data['SessionId'].nunique()\n",
    "    for inputs, label, mask in tqdm(loader, total=total_step // args.batch_size, desc='Evaluation', mininterval=1):\n",
    "        reset_hidden_states(model, mask)\n",
    "        input_ohe = to_categorical(inputs, num_classes=args.num_items)\n",
    "        input_ohe = np.expand_dims(input_ohe, axis=1)\n",
    "\n",
    "        pred = model.predict(input_ohe, batch_size=args.batch_size)\n",
    "        pred_arg = tf.argsort(pred, direction='DESCENDING')  # softmax 값이 큰 순서대로 sorting 합니다.\n",
    "\n",
    "        length = len(inputs)\n",
    "        recall_list.extend([recall_k(pred_arg[i], label[i], k) for i in range(length)])\n",
    "        mrr_list.extend([mrr_k(pred_arg[i], label[i], k) for i in range(length)])\n",
    "\n",
    "    recall, mrr = np.mean(recall_list), np.mean(mrr_list)\n",
    "    return recall, mrr"
   ]
  },
  {
   "cell_type": "markdown",
   "id": "center-telescope",
   "metadata": {},
   "source": [
    "- epochs = 5"
   ]
  },
  {
   "cell_type": "code",
   "execution_count": 49,
   "id": "headed-skill",
   "metadata": {
    "scrolled": true
   },
   "outputs": [
    {
     "name": "stderr",
     "output_type": "stream",
     "text": [
      "Train: 100%|█████████▉| 4108/4109 [01:40<00:00, 40.94it/s, accuracy=0.0312, train_loss=6.6]  \n",
      "Evaluation:  92%|█████████▏| 11/12 [00:09<00:00,  1.22it/s]\n",
      "Train:   0%|          | 0/4109 [00:00<?, ?it/s, accuracy=0.0156, train_loss=6.65] "
     ]
    },
    {
     "name": "stdout",
     "output_type": "stream",
     "text": [
      "\t - Recall@20 epoch 1: 0.130682\n",
      "\t - MRR@20    epoch 1: 0.041932\n",
      "\n"
     ]
    },
    {
     "name": "stderr",
     "output_type": "stream",
     "text": [
      "Train: 100%|█████████▉| 4108/4109 [01:39<00:00, 41.17it/s, accuracy=0.0312, train_loss=6.15] \n",
      "Evaluation:  92%|█████████▏| 11/12 [00:10<00:00,  1.06it/s]\n",
      "Train:   0%|          | 0/4109 [00:00<?, ?it/s, accuracy=0.0469, train_loss=6.16] "
     ]
    },
    {
     "name": "stdout",
     "output_type": "stream",
     "text": [
      "\t - Recall@20 epoch 2: 0.171165\n",
      "\t - MRR@20    epoch 2: 0.059430\n",
      "\n"
     ]
    },
    {
     "name": "stderr",
     "output_type": "stream",
     "text": [
      "Train: 100%|█████████▉| 4108/4109 [01:40<00:00, 40.90it/s, accuracy=0.0625, train_loss=6.01] \n",
      "Evaluation:  92%|█████████▏| 11/12 [00:08<00:00,  1.31it/s]\n",
      "Train:   0%|          | 0/4109 [00:00<?, ?it/s, accuracy=0.0391, train_loss=6.03] "
     ]
    },
    {
     "name": "stdout",
     "output_type": "stream",
     "text": [
      "\t - Recall@20 epoch 3: 0.187500\n",
      "\t - MRR@20    epoch 3: 0.064550\n",
      "\n"
     ]
    },
    {
     "name": "stderr",
     "output_type": "stream",
     "text": [
      "Train: 100%|█████████▉| 4108/4109 [01:38<00:00, 41.63it/s, accuracy=0.0312, train_loss=5.92] \n",
      "Evaluation:  92%|█████████▏| 11/12 [00:08<00:00,  1.31it/s]\n",
      "Train:   0%|          | 0/4109 [00:00<?, ?it/s, accuracy=0.0469, train_loss=5.97] "
     ]
    },
    {
     "name": "stdout",
     "output_type": "stream",
     "text": [
      "\t - Recall@20 epoch 4: 0.191761\n",
      "\t - MRR@20    epoch 4: 0.067068\n",
      "\n"
     ]
    },
    {
     "name": "stderr",
     "output_type": "stream",
     "text": [
      "Train: 100%|█████████▉| 4108/4109 [01:39<00:00, 41.49it/s, accuracy=0.0547, train_loss=5.89] \n",
      "Evaluation:  92%|█████████▏| 11/12 [00:08<00:00,  1.32it/s]"
     ]
    },
    {
     "name": "stdout",
     "output_type": "stream",
     "text": [
      "\t - Recall@20 epoch 5: 0.190341\n",
      "\t - MRR@20    epoch 5: 0.069656\n",
      "\n"
     ]
    },
    {
     "name": "stderr",
     "output_type": "stream",
     "text": [
      "\n"
     ]
    }
   ],
   "source": [
    "train_model(model, args)"
   ]
  },
  {
   "cell_type": "markdown",
   "id": "chronic-magic",
   "metadata": {},
   "source": [
    "- epochs = 20"
   ]
  },
  {
   "cell_type": "code",
   "execution_count": 43,
   "id": "monthly-charlotte",
   "metadata": {
    "scrolled": true
   },
   "outputs": [
    {
     "name": "stderr",
     "output_type": "stream",
     "text": [
      "Train: 100%|█████████▉| 4108/4109 [01:41<00:00, 40.31it/s, accuracy=0.0312, train_loss=6.56] \n",
      "Evaluation:  92%|█████████▏| 11/12 [00:09<00:00,  1.22it/s]\n",
      "Train:   0%|          | 0/4109 [00:00<?, ?it/s, accuracy=0.0234, train_loss=6.66] "
     ]
    },
    {
     "name": "stdout",
     "output_type": "stream",
     "text": [
      "\t - Recall@20 epoch 1: 0.129972\n",
      "\t - MRR@20    epoch 1: 0.039691\n",
      "\n"
     ]
    },
    {
     "name": "stderr",
     "output_type": "stream",
     "text": [
      "Train: 100%|█████████▉| 4108/4109 [01:39<00:00, 41.34it/s, accuracy=0.0391, train_loss=6.14] \n",
      "Evaluation:  92%|█████████▏| 11/12 [00:08<00:00,  1.30it/s]\n",
      "Train:   0%|          | 0/4109 [00:00<?, ?it/s, accuracy=0.0781, train_loss=6.32]"
     ]
    },
    {
     "name": "stdout",
     "output_type": "stream",
     "text": [
      "\t - Recall@20 epoch 2: 0.172585\n",
      "\t - MRR@20    epoch 2: 0.061197\n",
      "\n"
     ]
    },
    {
     "name": "stderr",
     "output_type": "stream",
     "text": [
      "Train: 100%|█████████▉| 4108/4109 [01:39<00:00, 41.33it/s, accuracy=0.0469, train_loss=6.02] \n",
      "Evaluation:  92%|█████████▏| 11/12 [00:08<00:00,  1.31it/s]\n",
      "Train:   0%|          | 0/4109 [00:00<?, ?it/s, accuracy=0.0391, train_loss=6.02] "
     ]
    },
    {
     "name": "stdout",
     "output_type": "stream",
     "text": [
      "\t - Recall@20 epoch 3: 0.191051\n",
      "\t - MRR@20    epoch 3: 0.065909\n",
      "\n"
     ]
    },
    {
     "name": "stderr",
     "output_type": "stream",
     "text": [
      "Train: 100%|█████████▉| 4108/4109 [01:37<00:00, 42.06it/s, accuracy=0.0469, train_loss=5.96] \n",
      "Evaluation:  92%|█████████▏| 11/12 [00:08<00:00,  1.32it/s]\n",
      "Train:   0%|          | 0/4109 [00:00<?, ?it/s, accuracy=0.0469, train_loss=5.94]"
     ]
    },
    {
     "name": "stdout",
     "output_type": "stream",
     "text": [
      "\t - Recall@20 epoch 4: 0.191051\n",
      "\t - MRR@20    epoch 4: 0.070926\n",
      "\n"
     ]
    },
    {
     "name": "stderr",
     "output_type": "stream",
     "text": [
      "Train: 100%|█████████▉| 4108/4109 [01:36<00:00, 42.47it/s, accuracy=0.0625, train_loss=5.87] \n",
      "Evaluation:  92%|█████████▏| 11/12 [00:08<00:00,  1.32it/s]\n",
      "Train:   0%|          | 0/4109 [00:00<?, ?it/s, accuracy=0.0625, train_loss=5.84]"
     ]
    },
    {
     "name": "stdout",
     "output_type": "stream",
     "text": [
      "\t - Recall@20 epoch 5: 0.189631\n",
      "\t - MRR@20    epoch 5: 0.071368\n",
      "\n"
     ]
    },
    {
     "name": "stderr",
     "output_type": "stream",
     "text": [
      "Train: 100%|█████████▉| 4108/4109 [01:38<00:00, 41.50it/s, accuracy=0.0391, train_loss=5.86] \n",
      "Evaluation:  92%|█████████▏| 11/12 [00:08<00:00,  1.32it/s]\n",
      "Train:   0%|          | 0/4109 [00:00<?, ?it/s, accuracy=0.0469, train_loss=5.97] "
     ]
    },
    {
     "name": "stdout",
     "output_type": "stream",
     "text": [
      "\t - Recall@20 epoch 6: 0.188210\n",
      "\t - MRR@20    epoch 6: 0.073264\n",
      "\n"
     ]
    },
    {
     "name": "stderr",
     "output_type": "stream",
     "text": [
      "Train: 100%|█████████▉| 4108/4109 [01:38<00:00, 41.73it/s, accuracy=0.0312, train_loss=5.77] \n",
      "Evaluation:  92%|█████████▏| 11/12 [00:08<00:00,  1.32it/s]\n",
      "Train:   0%|          | 0/4109 [00:00<?, ?it/s, accuracy=0.0781, train_loss=5.88]"
     ]
    },
    {
     "name": "stdout",
     "output_type": "stream",
     "text": [
      "\t - Recall@20 epoch 7: 0.190341\n",
      "\t - MRR@20    epoch 7: 0.073289\n",
      "\n"
     ]
    },
    {
     "name": "stderr",
     "output_type": "stream",
     "text": [
      "Train: 100%|█████████▉| 4108/4109 [01:37<00:00, 41.97it/s, accuracy=0.0547, train_loss=5.77] \n",
      "Evaluation:  92%|█████████▏| 11/12 [00:08<00:00,  1.31it/s]\n",
      "Train:   0%|          | 0/4109 [00:00<?, ?it/s, accuracy=0.0547, train_loss=5.89]"
     ]
    },
    {
     "name": "stdout",
     "output_type": "stream",
     "text": [
      "\t - Recall@20 epoch 8: 0.191051\n",
      "\t - MRR@20    epoch 8: 0.072527\n",
      "\n"
     ]
    },
    {
     "name": "stderr",
     "output_type": "stream",
     "text": [
      "Train: 100%|█████████▉| 4108/4109 [01:39<00:00, 41.27it/s, accuracy=0.0391, train_loss=5.72] \n",
      "Evaluation:  92%|█████████▏| 11/12 [00:08<00:00,  1.32it/s]\n",
      "Train:   0%|          | 0/4109 [00:00<?, ?it/s, accuracy=0.0781, train_loss=5.98] "
     ]
    },
    {
     "name": "stdout",
     "output_type": "stream",
     "text": [
      "\t - Recall@20 epoch 9: 0.190341\n",
      "\t - MRR@20    epoch 9: 0.074414\n",
      "\n"
     ]
    },
    {
     "name": "stderr",
     "output_type": "stream",
     "text": [
      "Train: 100%|█████████▉| 4108/4109 [01:38<00:00, 41.72it/s, accuracy=0.0391, train_loss=5.69] \n",
      "Evaluation:  92%|█████████▏| 11/12 [00:08<00:00,  1.33it/s]\n",
      "Train:   0%|          | 0/4109 [00:00<?, ?it/s, accuracy=0.0625, train_loss=5.79] "
     ]
    },
    {
     "name": "stdout",
     "output_type": "stream",
     "text": [
      "\t - Recall@20 epoch 10: 0.196023\n",
      "\t - MRR@20    epoch 10: 0.073977\n",
      "\n"
     ]
    },
    {
     "name": "stderr",
     "output_type": "stream",
     "text": [
      "Train: 100%|█████████▉| 4108/4109 [01:36<00:00, 42.57it/s, accuracy=0.0312, train_loss=5.7]  \n",
      "Evaluation:  92%|█████████▏| 11/12 [00:08<00:00,  1.33it/s]\n",
      "Train:   0%|          | 0/4109 [00:00<?, ?it/s, accuracy=0.0625, train_loss=5.83] "
     ]
    },
    {
     "name": "stdout",
     "output_type": "stream",
     "text": [
      "\t - Recall@20 epoch 11: 0.196733\n",
      "\t - MRR@20    epoch 11: 0.071943\n",
      "\n"
     ]
    },
    {
     "name": "stderr",
     "output_type": "stream",
     "text": [
      "Train: 100%|█████████▉| 4108/4109 [01:36<00:00, 42.70it/s, accuracy=0.0391, train_loss=5.74] \n",
      "Evaluation:  92%|█████████▏| 11/12 [00:08<00:00,  1.33it/s]\n",
      "Train:   0%|          | 0/4109 [00:00<?, ?it/s, accuracy=0.0625, train_loss=5.84]"
     ]
    },
    {
     "name": "stdout",
     "output_type": "stream",
     "text": [
      "\t - Recall@20 epoch 12: 0.196023\n",
      "\t - MRR@20    epoch 12: 0.072517\n",
      "\n"
     ]
    },
    {
     "name": "stderr",
     "output_type": "stream",
     "text": [
      "Train: 100%|█████████▉| 4108/4109 [01:39<00:00, 41.33it/s, accuracy=0.0312, train_loss=5.72] \n",
      "Evaluation:  92%|█████████▏| 11/12 [00:08<00:00,  1.32it/s]\n",
      "Train:   0%|          | 0/4109 [00:00<?, ?it/s, accuracy=0.0547, train_loss=5.87] "
     ]
    },
    {
     "name": "stdout",
     "output_type": "stream",
     "text": [
      "\t - Recall@20 epoch 13: 0.200994\n",
      "\t - MRR@20    epoch 13: 0.073984\n",
      "\n"
     ]
    },
    {
     "name": "stderr",
     "output_type": "stream",
     "text": [
      "Train: 100%|█████████▉| 4108/4109 [01:36<00:00, 42.46it/s, accuracy=0.0312, train_loss=5.67] \n",
      "Evaluation:  92%|█████████▏| 11/12 [00:09<00:00,  1.13it/s]\n",
      "Train:   0%|          | 0/4109 [00:00<?, ?it/s, accuracy=0.0703, train_loss=5.85]"
     ]
    },
    {
     "name": "stdout",
     "output_type": "stream",
     "text": [
      "\t - Recall@20 epoch 14: 0.200994\n",
      "\t - MRR@20    epoch 14: 0.073358\n",
      "\n"
     ]
    },
    {
     "name": "stderr",
     "output_type": "stream",
     "text": [
      "Train: 100%|█████████▉| 4108/4109 [01:38<00:00, 41.92it/s, accuracy=0.0469, train_loss=5.64] \n",
      "Evaluation:  92%|█████████▏| 11/12 [00:08<00:00,  1.33it/s]\n",
      "Train:   0%|          | 0/4109 [00:00<?, ?it/s, accuracy=0.0703, train_loss=5.84] "
     ]
    },
    {
     "name": "stdout",
     "output_type": "stream",
     "text": [
      "\t - Recall@20 epoch 15: 0.202415\n",
      "\t - MRR@20    epoch 15: 0.072831\n",
      "\n"
     ]
    },
    {
     "name": "stderr",
     "output_type": "stream",
     "text": [
      "Train: 100%|█████████▉| 4108/4109 [01:37<00:00, 42.13it/s, accuracy=0.0391, train_loss=5.62] \n",
      "Evaluation:  92%|█████████▏| 11/12 [00:08<00:00,  1.32it/s]\n",
      "Train:   0%|          | 0/4109 [00:00<?, ?it/s, accuracy=0.0859, train_loss=5.8] "
     ]
    },
    {
     "name": "stdout",
     "output_type": "stream",
     "text": [
      "\t - Recall@20 epoch 16: 0.203835\n",
      "\t - MRR@20    epoch 16: 0.072821\n",
      "\n"
     ]
    },
    {
     "name": "stderr",
     "output_type": "stream",
     "text": [
      "Train: 100%|█████████▉| 4108/4109 [01:40<00:00, 40.77it/s, accuracy=0.0625, train_loss=5.62] \n",
      "Evaluation:  92%|█████████▏| 11/12 [00:08<00:00,  1.32it/s]\n",
      "Train:   0%|          | 0/4109 [00:00<?, ?it/s, accuracy=0.0703, train_loss=5.97] "
     ]
    },
    {
     "name": "stdout",
     "output_type": "stream",
     "text": [
      "\t - Recall@20 epoch 17: 0.200994\n",
      "\t - MRR@20    epoch 17: 0.073214\n",
      "\n"
     ]
    },
    {
     "name": "stderr",
     "output_type": "stream",
     "text": [
      "Train: 100%|█████████▉| 4108/4109 [01:39<00:00, 41.49it/s, accuracy=0.0547, train_loss=5.59] \n",
      "Evaluation:  92%|█████████▏| 11/12 [00:08<00:00,  1.33it/s]\n",
      "Train:   0%|          | 0/4109 [00:00<?, ?it/s, accuracy=0.0625, train_loss=5.86]"
     ]
    },
    {
     "name": "stdout",
     "output_type": "stream",
     "text": [
      "\t - Recall@20 epoch 18: 0.203125\n",
      "\t - MRR@20    epoch 18: 0.071191\n",
      "\n"
     ]
    },
    {
     "name": "stderr",
     "output_type": "stream",
     "text": [
      "Train: 100%|█████████▉| 4108/4109 [01:38<00:00, 41.74it/s, accuracy=0.0781, train_loss=5.51] \n",
      "Evaluation:  92%|█████████▏| 11/12 [00:08<00:00,  1.33it/s]\n",
      "Train:   0%|          | 0/4109 [00:00<?, ?it/s, accuracy=0.0547, train_loss=5.83]"
     ]
    },
    {
     "name": "stdout",
     "output_type": "stream",
     "text": [
      "\t - Recall@20 epoch 19: 0.205256\n",
      "\t - MRR@20    epoch 19: 0.072288\n",
      "\n"
     ]
    },
    {
     "name": "stderr",
     "output_type": "stream",
     "text": [
      "Train: 100%|█████████▉| 4108/4109 [01:38<00:00, 41.65it/s, accuracy=0.0234, train_loss=5.6]  \n",
      "Evaluation:  92%|█████████▏| 11/12 [00:08<00:00,  1.31it/s]"
     ]
    },
    {
     "name": "stdout",
     "output_type": "stream",
     "text": [
      "\t - Recall@20 epoch 20: 0.203125\n",
      "\t - MRR@20    epoch 20: 0.071087\n",
      "\n"
     ]
    },
    {
     "name": "stderr",
     "output_type": "stream",
     "text": [
      "\n"
     ]
    }
   ],
   "source": [
    "train_model(model, args)"
   ]
  },
  {
   "cell_type": "markdown",
   "id": "informed-identification",
   "metadata": {},
   "source": [
    "- epochs = 30"
   ]
  },
  {
   "cell_type": "code",
   "execution_count": 38,
   "id": "eight-perry",
   "metadata": {},
   "outputs": [
    {
     "name": "stderr",
     "output_type": "stream",
     "text": [
      "Train: 100%|█████████▉| 4108/4109 [01:39<00:00, 41.09it/s, accuracy=0.0312, train_loss=6.58] \n",
      "Evaluation:  92%|█████████▏| 11/12 [00:08<00:00,  1.23it/s]\n",
      "Train:   0%|          | 0/4109 [00:00<?, ?it/s, accuracy=0.0469, train_loss=6.77] "
     ]
    },
    {
     "name": "stdout",
     "output_type": "stream",
     "text": [
      "\t - Recall@20 epoch 1: 0.130682\n",
      "\t - MRR@20    epoch 1: 0.040295\n",
      "\n"
     ]
    },
    {
     "name": "stderr",
     "output_type": "stream",
     "text": [
      "Train: 100%|█████████▉| 4108/4109 [01:37<00:00, 42.17it/s, accuracy=0.0312, train_loss=6.17] \n",
      "Evaluation:  92%|█████████▏| 11/12 [00:08<00:00,  1.31it/s]\n",
      "Train:   0%|          | 0/4109 [00:00<?, ?it/s, accuracy=0.0469, train_loss=6.21] "
     ]
    },
    {
     "name": "stdout",
     "output_type": "stream",
     "text": [
      "\t - Recall@20 epoch 2: 0.171165\n",
      "\t - MRR@20    epoch 2: 0.062270\n",
      "\n"
     ]
    },
    {
     "name": "stderr",
     "output_type": "stream",
     "text": [
      "Train: 100%|█████████▉| 4108/4109 [01:38<00:00, 41.83it/s, accuracy=0.0234, train_loss=5.98] \n",
      "Evaluation:  92%|█████████▏| 11/12 [00:08<00:00,  1.31it/s]\n",
      "Train:   0%|          | 0/4109 [00:00<?, ?it/s, accuracy=0.0625, train_loss=6.07]"
     ]
    },
    {
     "name": "stdout",
     "output_type": "stream",
     "text": [
      "\t - Recall@20 epoch 3: 0.188920\n",
      "\t - MRR@20    epoch 3: 0.069721\n",
      "\n"
     ]
    },
    {
     "name": "stderr",
     "output_type": "stream",
     "text": [
      "Train: 100%|█████████▉| 4108/4109 [01:38<00:00, 41.60it/s, accuracy=0.0312, train_loss=5.94] \n",
      "Evaluation:  92%|█████████▏| 11/12 [00:08<00:00,  1.32it/s]\n",
      "Train:   0%|          | 0/4109 [00:00<?, ?it/s, accuracy=0.0703, train_loss=6.22] "
     ]
    },
    {
     "name": "stdout",
     "output_type": "stream",
     "text": [
      "\t - Recall@20 epoch 4: 0.195312\n",
      "\t - MRR@20    epoch 4: 0.072024\n",
      "\n"
     ]
    },
    {
     "name": "stderr",
     "output_type": "stream",
     "text": [
      "Train: 100%|█████████▉| 4108/4109 [01:38<00:00, 41.50it/s, accuracy=0.0391, train_loss=5.84] \n",
      "Evaluation:  92%|█████████▏| 11/12 [00:08<00:00,  1.32it/s]\n",
      "Train:   0%|          | 0/4109 [00:00<?, ?it/s, accuracy=0.0938, train_loss=6.18]"
     ]
    },
    {
     "name": "stdout",
     "output_type": "stream",
     "text": [
      "\t - Recall@20 epoch 5: 0.195312\n",
      "\t - MRR@20    epoch 5: 0.071236\n",
      "\n"
     ]
    },
    {
     "name": "stderr",
     "output_type": "stream",
     "text": [
      "Train: 100%|█████████▉| 4108/4109 [01:38<00:00, 41.58it/s, accuracy=0.0391, train_loss=5.84] \n",
      "Evaluation:  92%|█████████▏| 11/12 [00:08<00:00,  1.32it/s]\n",
      "Train:   0%|          | 0/4109 [00:00<?, ?it/s, accuracy=0.0469, train_loss=5.94]"
     ]
    },
    {
     "name": "stdout",
     "output_type": "stream",
     "text": [
      "\t - Recall@20 epoch 6: 0.193892\n",
      "\t - MRR@20    epoch 6: 0.071803\n",
      "\n"
     ]
    },
    {
     "name": "stderr",
     "output_type": "stream",
     "text": [
      "Train: 100%|█████████▉| 4108/4109 [01:38<00:00, 41.75it/s, accuracy=0.0859, train_loss=5.75] \n",
      "Evaluation:  92%|█████████▏| 11/12 [00:08<00:00,  1.32it/s]\n",
      "Train:   0%|          | 0/4109 [00:00<?, ?it/s, accuracy=0.0859, train_loss=6.1] "
     ]
    },
    {
     "name": "stdout",
     "output_type": "stream",
     "text": [
      "\t - Recall@20 epoch 7: 0.195312\n",
      "\t - MRR@20    epoch 7: 0.071567\n",
      "\n"
     ]
    },
    {
     "name": "stderr",
     "output_type": "stream",
     "text": [
      "Train: 100%|█████████▉| 4108/4109 [01:38<00:00, 41.60it/s, accuracy=0.0469, train_loss=5.72] \n",
      "Evaluation:  92%|█████████▏| 11/12 [00:08<00:00,  1.31it/s]\n",
      "Train:   0%|          | 0/4109 [00:00<?, ?it/s, accuracy=0.0469, train_loss=6.02]"
     ]
    },
    {
     "name": "stdout",
     "output_type": "stream",
     "text": [
      "\t - Recall@20 epoch 8: 0.201705\n",
      "\t - MRR@20    epoch 8: 0.071386\n",
      "\n"
     ]
    },
    {
     "name": "stderr",
     "output_type": "stream",
     "text": [
      "Train: 100%|█████████▉| 4108/4109 [01:38<00:00, 41.67it/s, accuracy=0.0391, train_loss=5.66] \n",
      "Evaluation:  92%|█████████▏| 11/12 [00:08<00:00,  1.33it/s]\n",
      "Train:   0%|          | 0/4109 [00:00<?, ?it/s, accuracy=0.0938, train_loss=6.06]"
     ]
    },
    {
     "name": "stdout",
     "output_type": "stream",
     "text": [
      "\t - Recall@20 epoch 9: 0.203835\n",
      "\t - MRR@20    epoch 9: 0.071112\n",
      "\n"
     ]
    },
    {
     "name": "stderr",
     "output_type": "stream",
     "text": [
      "Train: 100%|█████████▉| 4108/4109 [01:38<00:00, 41.68it/s, accuracy=0.0469, train_loss=5.61] \n",
      "Evaluation:  92%|█████████▏| 11/12 [00:08<00:00,  1.33it/s]\n",
      "Train:   0%|          | 0/4109 [00:00<?, ?it/s, accuracy=0.0547, train_loss=5.9] "
     ]
    },
    {
     "name": "stdout",
     "output_type": "stream",
     "text": [
      "\t - Recall@20 epoch 10: 0.203125\n",
      "\t - MRR@20    epoch 10: 0.073181\n",
      "\n"
     ]
    },
    {
     "name": "stderr",
     "output_type": "stream",
     "text": [
      "Train: 100%|█████████▉| 4108/4109 [01:40<00:00, 40.92it/s, accuracy=0.0391, train_loss=5.63] \n",
      "Evaluation:  92%|█████████▏| 11/12 [00:08<00:00,  1.32it/s]\n",
      "Train:   0%|          | 0/4109 [00:00<?, ?it/s, accuracy=0.0625, train_loss=5.9]  "
     ]
    },
    {
     "name": "stdout",
     "output_type": "stream",
     "text": [
      "\t - Recall@20 epoch 11: 0.205256\n",
      "\t - MRR@20    epoch 11: 0.072158\n",
      "\n"
     ]
    },
    {
     "name": "stderr",
     "output_type": "stream",
     "text": [
      "Train: 100%|█████████▉| 4108/4109 [01:38<00:00, 41.78it/s, accuracy=0.0703, train_loss=5.67] \n",
      "Evaluation:  92%|█████████▏| 11/12 [00:08<00:00,  1.33it/s]\n",
      "Train:   0%|          | 0/4109 [00:00<?, ?it/s, accuracy=0.0859, train_loss=5.87]"
     ]
    },
    {
     "name": "stdout",
     "output_type": "stream",
     "text": [
      "\t - Recall@20 epoch 12: 0.206676\n",
      "\t - MRR@20    epoch 12: 0.073091\n",
      "\n"
     ]
    },
    {
     "name": "stderr",
     "output_type": "stream",
     "text": [
      "Train: 100%|█████████▉| 4108/4109 [01:37<00:00, 42.31it/s, accuracy=0.0391, train_loss=5.63] \n",
      "Evaluation:  92%|█████████▏| 11/12 [00:08<00:00,  1.33it/s]\n",
      "Train:   0%|          | 0/4109 [00:00<?, ?it/s, accuracy=0.0625, train_loss=5.92] "
     ]
    },
    {
     "name": "stdout",
     "output_type": "stream",
     "text": [
      "\t - Recall@20 epoch 13: 0.208807\n",
      "\t - MRR@20    epoch 13: 0.071525\n",
      "\n"
     ]
    },
    {
     "name": "stderr",
     "output_type": "stream",
     "text": [
      "Train: 100%|█████████▉| 4108/4109 [01:35<00:00, 42.96it/s, accuracy=0.0703, train_loss=5.57] \n",
      "Evaluation:  92%|█████████▏| 11/12 [00:08<00:00,  1.33it/s]\n",
      "Train:   0%|          | 0/4109 [00:00<?, ?it/s, accuracy=0.0547, train_loss=5.81]"
     ]
    },
    {
     "name": "stdout",
     "output_type": "stream",
     "text": [
      "\t - Recall@20 epoch 14: 0.204545\n",
      "\t - MRR@20    epoch 14: 0.072471\n",
      "\n"
     ]
    },
    {
     "name": "stderr",
     "output_type": "stream",
     "text": [
      "Train: 100%|█████████▉| 4108/4109 [01:35<00:00, 43.03it/s, accuracy=0.0547, train_loss=5.64] \n",
      "Evaluation:  92%|█████████▏| 11/12 [00:08<00:00,  1.33it/s]\n",
      "Train:   0%|          | 0/4109 [00:00<?, ?it/s, accuracy=0.0703, train_loss=5.82] "
     ]
    },
    {
     "name": "stdout",
     "output_type": "stream",
     "text": [
      "\t - Recall@20 epoch 15: 0.205966\n",
      "\t - MRR@20    epoch 15: 0.072588\n",
      "\n"
     ]
    },
    {
     "name": "stderr",
     "output_type": "stream",
     "text": [
      "Train: 100%|█████████▉| 4108/4109 [01:36<00:00, 42.72it/s, accuracy=0.0703, train_loss=5.59] \n",
      "Evaluation:  92%|█████████▏| 11/12 [00:08<00:00,  1.32it/s]\n",
      "Train:   0%|          | 0/4109 [00:00<?, ?it/s, accuracy=0.0781, train_loss=5.84] "
     ]
    },
    {
     "name": "stdout",
     "output_type": "stream",
     "text": [
      "\t - Recall@20 epoch 16: 0.204545\n",
      "\t - MRR@20    epoch 16: 0.071681\n",
      "\n"
     ]
    },
    {
     "name": "stderr",
     "output_type": "stream",
     "text": [
      "Train: 100%|█████████▉| 4108/4109 [01:39<00:00, 41.49it/s, accuracy=0.0547, train_loss=5.53] \n",
      "Evaluation:  92%|█████████▏| 11/12 [00:08<00:00,  1.33it/s]\n",
      "Train:   0%|          | 0/4109 [00:00<?, ?it/s, accuracy=0.0703, train_loss=5.77] "
     ]
    },
    {
     "name": "stdout",
     "output_type": "stream",
     "text": [
      "\t - Recall@20 epoch 17: 0.202415\n",
      "\t - MRR@20    epoch 17: 0.074480\n",
      "\n"
     ]
    },
    {
     "name": "stderr",
     "output_type": "stream",
     "text": [
      "Train: 100%|█████████▉| 4108/4109 [01:39<00:00, 41.33it/s, accuracy=0.0547, train_loss=5.55] \n",
      "Evaluation:  92%|█████████▏| 11/12 [00:08<00:00,  1.33it/s]\n",
      "Train:   0%|          | 0/4109 [00:00<?, ?it/s, accuracy=0.0703, train_loss=5.91]"
     ]
    },
    {
     "name": "stdout",
     "output_type": "stream",
     "text": [
      "\t - Recall@20 epoch 18: 0.199574\n",
      "\t - MRR@20    epoch 18: 0.072064\n",
      "\n"
     ]
    },
    {
     "name": "stderr",
     "output_type": "stream",
     "text": [
      "Train: 100%|█████████▉| 4108/4109 [01:38<00:00, 41.80it/s, accuracy=0.0781, train_loss=5.48] \n",
      "Evaluation:  92%|█████████▏| 11/12 [00:08<00:00,  1.33it/s]\n",
      "Train:   0%|          | 0/4109 [00:00<?, ?it/s, accuracy=0.0703, train_loss=5.83]"
     ]
    },
    {
     "name": "stdout",
     "output_type": "stream",
     "text": [
      "\t - Recall@20 epoch 19: 0.200284\n",
      "\t - MRR@20    epoch 19: 0.073606\n",
      "\n"
     ]
    },
    {
     "name": "stderr",
     "output_type": "stream",
     "text": [
      "Train: 100%|█████████▉| 4108/4109 [01:38<00:00, 41.90it/s, accuracy=0.0391, train_loss=5.52] \n",
      "Evaluation:  92%|█████████▏| 11/12 [00:08<00:00,  1.32it/s]\n",
      "Train:   0%|          | 0/4109 [00:00<?, ?it/s, accuracy=0.0547, train_loss=5.78]"
     ]
    },
    {
     "name": "stdout",
     "output_type": "stream",
     "text": [
      "\t - Recall@20 epoch 20: 0.200994\n",
      "\t - MRR@20    epoch 20: 0.073296\n",
      "\n"
     ]
    },
    {
     "name": "stderr",
     "output_type": "stream",
     "text": [
      "Train: 100%|█████████▉| 4108/4109 [01:36<00:00, 42.38it/s, accuracy=0.0625, train_loss=5.53] \n",
      "Evaluation:  92%|█████████▏| 11/12 [00:09<00:00,  1.20it/s]\n",
      "Train:   0%|          | 0/4109 [00:00<?, ?it/s, accuracy=0.0625, train_loss=5.71]"
     ]
    },
    {
     "name": "stdout",
     "output_type": "stream",
     "text": [
      "\t - Recall@20 epoch 21: 0.202415\n",
      "\t - MRR@20    epoch 21: 0.071014\n",
      "\n"
     ]
    },
    {
     "name": "stderr",
     "output_type": "stream",
     "text": [
      "Train: 100%|█████████▉| 4108/4109 [01:39<00:00, 41.30it/s, accuracy=0.0625, train_loss=5.47] \n",
      "Evaluation:  92%|█████████▏| 11/12 [00:08<00:00,  1.33it/s]\n",
      "Train:   0%|          | 0/4109 [00:00<?, ?it/s, accuracy=0.0703, train_loss=5.77] "
     ]
    },
    {
     "name": "stdout",
     "output_type": "stream",
     "text": [
      "\t - Recall@20 epoch 22: 0.203125\n",
      "\t - MRR@20    epoch 22: 0.071384\n",
      "\n"
     ]
    },
    {
     "name": "stderr",
     "output_type": "stream",
     "text": [
      "Train: 100%|█████████▉| 4108/4109 [01:37<00:00, 42.27it/s, accuracy=0.0938, train_loss=5.48] \n",
      "Evaluation:  92%|█████████▏| 11/12 [00:08<00:00,  1.32it/s]\n",
      "Train:   0%|          | 0/4109 [00:00<?, ?it/s, accuracy=0.0781, train_loss=5.77]"
     ]
    },
    {
     "name": "stdout",
     "output_type": "stream",
     "text": [
      "\t - Recall@20 epoch 23: 0.203835\n",
      "\t - MRR@20    epoch 23: 0.072374\n",
      "\n"
     ]
    },
    {
     "name": "stderr",
     "output_type": "stream",
     "text": [
      "Train: 100%|█████████▉| 4108/4109 [01:37<00:00, 42.07it/s, accuracy=0.0547, train_loss=5.45] \n",
      "Evaluation:  92%|█████████▏| 11/12 [00:08<00:00,  1.32it/s]\n",
      "Train:   0%|          | 0/4109 [00:00<?, ?it/s, accuracy=0.0625, train_loss=5.85]"
     ]
    },
    {
     "name": "stdout",
     "output_type": "stream",
     "text": [
      "\t - Recall@20 epoch 24: 0.203835\n",
      "\t - MRR@20    epoch 24: 0.073052\n",
      "\n"
     ]
    },
    {
     "name": "stderr",
     "output_type": "stream",
     "text": [
      "Train: 100%|█████████▉| 4108/4109 [01:37<00:00, 42.09it/s, accuracy=0.0625, train_loss=5.52] \n",
      "Evaluation:  92%|█████████▏| 11/12 [00:08<00:00,  1.33it/s]\n",
      "Train:   0%|          | 0/4109 [00:00<?, ?it/s, accuracy=0.0859, train_loss=5.8] "
     ]
    },
    {
     "name": "stdout",
     "output_type": "stream",
     "text": [
      "\t - Recall@20 epoch 25: 0.205256\n",
      "\t - MRR@20    epoch 25: 0.072225\n",
      "\n"
     ]
    },
    {
     "name": "stderr",
     "output_type": "stream",
     "text": [
      "Train: 100%|█████████▉| 4108/4109 [01:39<00:00, 41.48it/s, accuracy=0.102, train_loss=5.32]  \n",
      "Evaluation:  92%|█████████▏| 11/12 [00:08<00:00,  1.32it/s]\n",
      "Train:   0%|          | 0/4109 [00:00<?, ?it/s, accuracy=0.0859, train_loss=5.75]"
     ]
    },
    {
     "name": "stdout",
     "output_type": "stream",
     "text": [
      "\t - Recall@20 epoch 26: 0.203125\n",
      "\t - MRR@20    epoch 26: 0.073543\n",
      "\n"
     ]
    },
    {
     "name": "stderr",
     "output_type": "stream",
     "text": [
      "Train: 100%|█████████▉| 4108/4109 [01:38<00:00, 41.63it/s, accuracy=0.0703, train_loss=5.32] \n",
      "Evaluation:  92%|█████████▏| 11/12 [00:08<00:00,  1.32it/s]\n",
      "Train:   0%|          | 0/4109 [00:00<?, ?it/s, accuracy=0.0703, train_loss=5.7] "
     ]
    },
    {
     "name": "stdout",
     "output_type": "stream",
     "text": [
      "\t - Recall@20 epoch 27: 0.200284\n",
      "\t - MRR@20    epoch 27: 0.073268\n",
      "\n"
     ]
    },
    {
     "name": "stderr",
     "output_type": "stream",
     "text": [
      "Train: 100%|█████████▉| 4108/4109 [01:37<00:00, 42.20it/s, accuracy=0.0859, train_loss=5.41] \n",
      "Evaluation:  92%|█████████▏| 11/12 [00:08<00:00,  1.33it/s]\n",
      "Train:   0%|          | 0/4109 [00:00<?, ?it/s, accuracy=0.0703, train_loss=5.63]"
     ]
    },
    {
     "name": "stdout",
     "output_type": "stream",
     "text": [
      "\t - Recall@20 epoch 28: 0.198153\n",
      "\t - MRR@20    epoch 28: 0.073422\n",
      "\n"
     ]
    },
    {
     "name": "stderr",
     "output_type": "stream",
     "text": [
      "Train: 100%|█████████▉| 4108/4109 [01:39<00:00, 41.41it/s, accuracy=0.0781, train_loss=5.45] \n",
      "Evaluation:  92%|█████████▏| 11/12 [00:08<00:00,  1.32it/s]\n",
      "Train:   0%|          | 0/4109 [00:00<?, ?it/s, accuracy=0.0703, train_loss=5.73]"
     ]
    },
    {
     "name": "stdout",
     "output_type": "stream",
     "text": [
      "\t - Recall@20 epoch 29: 0.193892\n",
      "\t - MRR@20    epoch 29: 0.070778\n",
      "\n"
     ]
    },
    {
     "name": "stderr",
     "output_type": "stream",
     "text": [
      "Train: 100%|█████████▉| 4108/4109 [01:38<00:00, 41.68it/s, accuracy=0.0859, train_loss=5.46] \n",
      "Evaluation:  92%|█████████▏| 11/12 [00:08<00:00,  1.32it/s]"
     ]
    },
    {
     "name": "stdout",
     "output_type": "stream",
     "text": [
      "\t - Recall@20 epoch 30: 0.191761\n",
      "\t - MRR@20    epoch 30: 0.069587\n",
      "\n"
     ]
    },
    {
     "name": "stderr",
     "output_type": "stream",
     "text": [
      "\n"
     ]
    }
   ],
   "source": [
    "train_model(model, args)"
   ]
  },
  {
   "cell_type": "code",
   "execution_count": 54,
   "id": "skilled-eclipse",
   "metadata": {
    "scrolled": true
   },
   "outputs": [
    {
     "name": "stderr",
     "output_type": "stream",
     "text": [
      "Train: 100%|█████████▉| 4108/4109 [01:40<00:00, 40.72it/s, accuracy=0.0312, train_loss=6.68] \n",
      "Evaluation:  92%|█████████▏| 11/12 [00:09<00:00,  1.21it/s]\n",
      "Train:   0%|          | 0/4109 [00:00<?, ?it/s, accuracy=0.0625, train_loss=6.83] "
     ]
    },
    {
     "name": "stdout",
     "output_type": "stream",
     "text": [
      "\t - Recall@20 epoch 1: 0.119318\n",
      "\t - MRR@20    epoch 1: 0.035718\n",
      "\n"
     ]
    },
    {
     "name": "stderr",
     "output_type": "stream",
     "text": [
      "Train: 100%|█████████▉| 4108/4109 [01:42<00:00, 39.91it/s, accuracy=0.0234, train_loss=6.13] \n",
      "Evaluation:  92%|█████████▏| 11/12 [00:08<00:00,  1.29it/s]\n",
      "Train:   0%|          | 0/4109 [00:00<?, ?it/s, accuracy=0.0312, train_loss=6.22]"
     ]
    },
    {
     "name": "stdout",
     "output_type": "stream",
     "text": [
      "\t - Recall@20 epoch 2: 0.171165\n",
      "\t - MRR@20    epoch 2: 0.056256\n",
      "\n"
     ]
    },
    {
     "name": "stderr",
     "output_type": "stream",
     "text": [
      "Train: 100%|█████████▉| 4108/4109 [01:40<00:00, 41.02it/s, accuracy=0.0469, train_loss=5.93] \n",
      "Evaluation:  92%|█████████▏| 11/12 [00:08<00:00,  1.31it/s]\n",
      "Train:   0%|          | 0/4109 [00:00<?, ?it/s, accuracy=0.0781, train_loss=6.32]"
     ]
    },
    {
     "name": "stdout",
     "output_type": "stream",
     "text": [
      "\t - Recall@20 epoch 3: 0.188920\n",
      "\t - MRR@20    epoch 3: 0.064804\n",
      "\n"
     ]
    },
    {
     "name": "stderr",
     "output_type": "stream",
     "text": [
      "Train: 100%|█████████▉| 4108/4109 [01:38<00:00, 41.53it/s, accuracy=0.0547, train_loss=5.98] \n",
      "Evaluation:  92%|█████████▏| 11/12 [00:08<00:00,  1.31it/s]\n",
      "Train:   0%|          | 0/4109 [00:00<?, ?it/s, accuracy=0.0859, train_loss=6.26] "
     ]
    },
    {
     "name": "stdout",
     "output_type": "stream",
     "text": [
      "\t - Recall@20 epoch 4: 0.193182\n",
      "\t - MRR@20    epoch 4: 0.065732\n",
      "\n"
     ]
    },
    {
     "name": "stderr",
     "output_type": "stream",
     "text": [
      "Train: 100%|█████████▉| 4108/4109 [01:39<00:00, 41.48it/s, accuracy=0.0391, train_loss=5.92] \n",
      "Evaluation:  92%|█████████▏| 11/12 [00:09<00:00,  1.10it/s]\n",
      "Train:   0%|          | 0/4109 [00:00<?, ?it/s, accuracy=0.0547, train_loss=5.99] "
     ]
    },
    {
     "name": "stdout",
     "output_type": "stream",
     "text": [
      "\t - Recall@20 epoch 5: 0.193182\n",
      "\t - MRR@20    epoch 5: 0.067084\n",
      "\n"
     ]
    },
    {
     "name": "stderr",
     "output_type": "stream",
     "text": [
      "Train: 100%|█████████▉| 4108/4109 [01:37<00:00, 42.04it/s, accuracy=0.0547, train_loss=5.77] \n",
      "Evaluation:  92%|█████████▏| 11/12 [00:08<00:00,  1.30it/s]\n",
      "Train:   0%|          | 0/4109 [00:00<?, ?it/s, accuracy=0.0391, train_loss=6.03]"
     ]
    },
    {
     "name": "stdout",
     "output_type": "stream",
     "text": [
      "\t - Recall@20 epoch 6: 0.190341\n",
      "\t - MRR@20    epoch 6: 0.067510\n",
      "\n"
     ]
    },
    {
     "name": "stderr",
     "output_type": "stream",
     "text": [
      "Train: 100%|█████████▉| 4108/4109 [01:37<00:00, 42.20it/s, accuracy=0.0469, train_loss=5.75] \n",
      "Evaluation:  92%|█████████▏| 11/12 [00:08<00:00,  1.31it/s]\n",
      "Train:   0%|          | 0/4109 [00:00<?, ?it/s, accuracy=0.0391, train_loss=5.96]"
     ]
    },
    {
     "name": "stdout",
     "output_type": "stream",
     "text": [
      "\t - Recall@20 epoch 7: 0.192472\n",
      "\t - MRR@20    epoch 7: 0.069409\n",
      "\n"
     ]
    },
    {
     "name": "stderr",
     "output_type": "stream",
     "text": [
      "Train: 100%|█████████▉| 4108/4109 [01:36<00:00, 42.48it/s, accuracy=0.0625, train_loss=5.7]  \n",
      "Evaluation:  92%|█████████▏| 11/12 [00:08<00:00,  1.32it/s]\n",
      "Train:   0%|          | 0/4109 [00:00<?, ?it/s, accuracy=0.0469, train_loss=5.91]"
     ]
    },
    {
     "name": "stdout",
     "output_type": "stream",
     "text": [
      "\t - Recall@20 epoch 8: 0.193892\n",
      "\t - MRR@20    epoch 8: 0.068528\n",
      "\n"
     ]
    },
    {
     "name": "stderr",
     "output_type": "stream",
     "text": [
      "Train: 100%|█████████▉| 4108/4109 [01:42<00:00, 39.92it/s, accuracy=0.0391, train_loss=5.74] \n",
      "Evaluation:  92%|█████████▏| 11/12 [00:08<00:00,  1.32it/s]\n",
      "Train:   0%|          | 0/4109 [00:00<?, ?it/s, accuracy=0.0859, train_loss=6.17] "
     ]
    },
    {
     "name": "stdout",
     "output_type": "stream",
     "text": [
      "\t - Recall@20 epoch 9: 0.196733\n",
      "\t - MRR@20    epoch 9: 0.067407\n",
      "\n"
     ]
    },
    {
     "name": "stderr",
     "output_type": "stream",
     "text": [
      "Train: 100%|█████████▉| 4108/4109 [01:38<00:00, 41.55it/s, accuracy=0.0312, train_loss=5.71] \n",
      "Evaluation:  92%|█████████▏| 11/12 [00:08<00:00,  1.32it/s]"
     ]
    },
    {
     "name": "stdout",
     "output_type": "stream",
     "text": [
      "\t - Recall@20 epoch 10: 0.196023\n",
      "\t - MRR@20    epoch 10: 0.068701\n",
      "\n"
     ]
    },
    {
     "name": "stderr",
     "output_type": "stream",
     "text": [
      "\n"
     ]
    }
   ],
   "source": [
    "# dropout 변경\n",
    "train_model(model, args)"
   ]
  },
  {
   "cell_type": "markdown",
   "id": "durable-instrumentation",
   "metadata": {},
   "source": [
    "- drop_rate=0.5"
   ]
  },
  {
   "cell_type": "code",
   "execution_count": 59,
   "id": "verbal-click",
   "metadata": {
    "scrolled": true
   },
   "outputs": [
    {
     "name": "stderr",
     "output_type": "stream",
     "text": [
      "Train: 100%|█████████▉| 4108/4109 [01:41<00:00, 40.49it/s, accuracy=0.0312, train_loss=7.02] \n",
      "Evaluation:  92%|█████████▏| 11/12 [00:09<00:00,  1.20it/s]\n",
      "Train:   0%|          | 0/4109 [00:00<?, ?it/s, accuracy=0.00781, train_loss=7.12]"
     ]
    },
    {
     "name": "stdout",
     "output_type": "stream",
     "text": [
      "\t - Recall@20 epoch 1: 0.087358\n",
      "\t - MRR@20    epoch 1: 0.025311\n",
      "\n"
     ]
    },
    {
     "name": "stderr",
     "output_type": "stream",
     "text": [
      "Train: 100%|█████████▉| 4108/4109 [01:39<00:00, 41.45it/s, accuracy=0.0312, train_loss=6.56] \n",
      "Evaluation:  92%|█████████▏| 11/12 [00:08<00:00,  1.29it/s]\n",
      "Train:   0%|          | 0/4109 [00:00<?, ?it/s, accuracy=0.0156, train_loss=6.43] "
     ]
    },
    {
     "name": "stdout",
     "output_type": "stream",
     "text": [
      "\t - Recall@20 epoch 2: 0.159091\n",
      "\t - MRR@20    epoch 2: 0.052798\n",
      "\n"
     ]
    },
    {
     "name": "stderr",
     "output_type": "stream",
     "text": [
      "Train: 100%|█████████▉| 4108/4109 [01:38<00:00, 41.57it/s, accuracy=0.0312, train_loss=6.38] \n",
      "Evaluation:  92%|█████████▏| 11/12 [00:08<00:00,  1.30it/s]\n",
      "Train:   0%|          | 0/4109 [00:00<?, ?it/s, accuracy=0.0469, train_loss=6.35]"
     ]
    },
    {
     "name": "stdout",
     "output_type": "stream",
     "text": [
      "\t - Recall@20 epoch 3: 0.177557\n",
      "\t - MRR@20    epoch 3: 0.059056\n",
      "\n"
     ]
    },
    {
     "name": "stderr",
     "output_type": "stream",
     "text": [
      "Train: 100%|█████████▉| 4108/4109 [01:38<00:00, 41.72it/s, accuracy=0.0391, train_loss=6.28] \n",
      "Evaluation:  92%|█████████▏| 11/12 [00:08<00:00,  1.31it/s]\n",
      "Train:   0%|          | 0/4109 [00:00<?, ?it/s, accuracy=0.0469, train_loss=6.28] "
     ]
    },
    {
     "name": "stdout",
     "output_type": "stream",
     "text": [
      "\t - Recall@20 epoch 4: 0.188920\n",
      "\t - MRR@20    epoch 4: 0.064938\n",
      "\n"
     ]
    },
    {
     "name": "stderr",
     "output_type": "stream",
     "text": [
      "Train: 100%|█████████▉| 4108/4109 [01:37<00:00, 42.13it/s, accuracy=0.0312, train_loss=6.24] \n",
      "Evaluation:  92%|█████████▏| 11/12 [00:08<00:00,  1.32it/s]\n",
      "Train:   0%|          | 0/4109 [00:00<?, ?it/s, accuracy=0.0547, train_loss=6.14]"
     ]
    },
    {
     "name": "stdout",
     "output_type": "stream",
     "text": [
      "\t - Recall@20 epoch 5: 0.196023\n",
      "\t - MRR@20    epoch 5: 0.068248\n",
      "\n"
     ]
    },
    {
     "name": "stderr",
     "output_type": "stream",
     "text": [
      "Train: 100%|█████████▉| 4108/4109 [01:37<00:00, 42.13it/s, accuracy=0.0469, train_loss=6.22] \n",
      "Evaluation:  92%|█████████▏| 11/12 [00:08<00:00,  1.32it/s]\n",
      "Train:   0%|          | 0/4109 [00:00<?, ?it/s, accuracy=0.0391, train_loss=6.47]"
     ]
    },
    {
     "name": "stdout",
     "output_type": "stream",
     "text": [
      "\t - Recall@20 epoch 6: 0.193892\n",
      "\t - MRR@20    epoch 6: 0.067993\n",
      "\n"
     ]
    },
    {
     "name": "stderr",
     "output_type": "stream",
     "text": [
      "Train: 100%|█████████▉| 4108/4109 [01:39<00:00, 41.28it/s, accuracy=0.0312, train_loss=6.36] \n",
      "Evaluation:  92%|█████████▏| 11/12 [00:08<00:00,  1.33it/s]\n",
      "Train:   0%|          | 0/4109 [00:00<?, ?it/s, accuracy=0.0703, train_loss=6.11]"
     ]
    },
    {
     "name": "stdout",
     "output_type": "stream",
     "text": [
      "\t - Recall@20 epoch 7: 0.194602\n",
      "\t - MRR@20    epoch 7: 0.068919\n",
      "\n"
     ]
    },
    {
     "name": "stderr",
     "output_type": "stream",
     "text": [
      "Train: 100%|█████████▉| 4108/4109 [01:37<00:00, 42.21it/s, accuracy=0.0469, train_loss=6.36] \n",
      "Evaluation:  92%|█████████▏| 11/12 [00:08<00:00,  1.32it/s]\n",
      "Train:   0%|          | 0/4109 [00:00<?, ?it/s, accuracy=0.0469, train_loss=6.24] "
     ]
    },
    {
     "name": "stdout",
     "output_type": "stream",
     "text": [
      "\t - Recall@20 epoch 8: 0.195312\n",
      "\t - MRR@20    epoch 8: 0.068529\n",
      "\n"
     ]
    },
    {
     "name": "stderr",
     "output_type": "stream",
     "text": [
      "Train: 100%|█████████▉| 4108/4109 [01:37<00:00, 41.97it/s, accuracy=0.0234, train_loss=6.13] \n",
      "Evaluation:  92%|█████████▏| 11/12 [00:08<00:00,  1.32it/s]\n",
      "Train:   0%|          | 0/4109 [00:00<?, ?it/s, accuracy=0.0312, train_loss=6.1] "
     ]
    },
    {
     "name": "stdout",
     "output_type": "stream",
     "text": [
      "\t - Recall@20 epoch 9: 0.192472\n",
      "\t - MRR@20    epoch 9: 0.067051\n",
      "\n"
     ]
    },
    {
     "name": "stderr",
     "output_type": "stream",
     "text": [
      "Train: 100%|█████████▉| 4108/4109 [01:41<00:00, 40.66it/s, accuracy=0.0312, train_loss=5.98] \n",
      "Evaluation:  92%|█████████▏| 11/12 [00:08<00:00,  1.32it/s]\n",
      "Evaluation:   0%|          | 0/11 [00:00<?, ?it/s]"
     ]
    },
    {
     "name": "stdout",
     "output_type": "stream",
     "text": [
      "\t - Recall@20 epoch 10: 0.194602\n",
      "\t - MRR@20    epoch 10: 0.068765\n",
      "\n"
     ]
    },
    {
     "name": "stderr",
     "output_type": "stream",
     "text": [
      "Evaluation:  91%|█████████ | 10/11 [00:07<00:00,  1.38it/s]"
     ]
    },
    {
     "name": "stdout",
     "output_type": "stream",
     "text": [
      "\t - Recall@20: 0.260156\n",
      "\t - MRR@20: 0.104563\n",
      "\n"
     ]
    },
    {
     "name": "stderr",
     "output_type": "stream",
     "text": [
      "\n"
     ]
    }
   ],
   "source": [
    "train_model(model, args)\n",
    "\n",
    "def test_model(model, args, test):\n",
    "    test_recall, test_mrr = get_metrics(test, model, args, 20)\n",
    "    print(f\"\\t - Recall@{args.k}: {test_recall:3f}\")\n",
    "    print(f\"\\t - MRR@{args.k}: {test_mrr:3f}\\n\")\n",
    "\n",
    "test_model(model, args, test)"
   ]
  },
  {
   "cell_type": "markdown",
   "id": "intimate-cornell",
   "metadata": {},
   "source": [
    "- batch_size=64, hsz=50, drop_rate=0.5, lr=0.001, epochs=30, k=20"
   ]
  },
  {
   "cell_type": "code",
   "execution_count": 63,
   "id": "comic-broad",
   "metadata": {},
   "outputs": [
    {
     "name": "stderr",
     "output_type": "stream",
     "text": [
      "Train: 100%|██████████| 8218/8218 [02:34<00:00, 53.16it/s, accuracy=0.0312, train_loss=6.67]\n",
      "Evaluation:  96%|█████████▌| 23/24 [00:09<00:00,  2.33it/s]\n",
      "Train:   0%|          | 0/8218 [00:00<?, ?it/s, accuracy=0, train_loss=6.75]     "
     ]
    },
    {
     "name": "stdout",
     "output_type": "stream",
     "text": [
      "\t - Recall@20 epoch 1: 0.117527\n",
      "\t - MRR@20    epoch 1: 0.037202\n",
      "\n"
     ]
    },
    {
     "name": "stderr",
     "output_type": "stream",
     "text": [
      "Train: 100%|██████████| 8218/8218 [02:29<00:00, 54.88it/s, accuracy=0.0156, train_loss=6.22]\n",
      "Evaluation:  96%|█████████▌| 23/24 [00:09<00:00,  2.47it/s]\n",
      "Train:   0%|          | 0/8218 [00:00<?, ?it/s, accuracy=0, train_loss=6.82]     "
     ]
    },
    {
     "name": "stdout",
     "output_type": "stream",
     "text": [
      "\t - Recall@20 epoch 2: 0.165082\n",
      "\t - MRR@20    epoch 2: 0.055323\n",
      "\n"
     ]
    },
    {
     "name": "stderr",
     "output_type": "stream",
     "text": [
      "Train: 100%|██████████| 8218/8218 [02:35<00:00, 52.98it/s, accuracy=0.0312, train_loss=6.25]\n",
      "Evaluation:  96%|█████████▌| 23/24 [00:09<00:00,  2.50it/s]\n",
      "Train:   0%|          | 0/8218 [00:00<?, ?it/s, accuracy=0.0156, train_loss=7.43]"
     ]
    },
    {
     "name": "stdout",
     "output_type": "stream",
     "text": [
      "\t - Recall@20 epoch 3: 0.186821\n",
      "\t - MRR@20    epoch 3: 0.061907\n",
      "\n"
     ]
    },
    {
     "name": "stderr",
     "output_type": "stream",
     "text": [
      "Train: 100%|██████████| 8218/8218 [02:30<00:00, 54.63it/s, accuracy=0, train_loss=6.28]     \n",
      "Evaluation:  96%|█████████▌| 23/24 [00:09<00:00,  2.49it/s]\n",
      "Train:   0%|          | 0/8218 [00:00<?, ?it/s, accuracy=0, train_loss=6.79]     "
     ]
    },
    {
     "name": "stdout",
     "output_type": "stream",
     "text": [
      "\t - Recall@20 epoch 4: 0.191576\n",
      "\t - MRR@20    epoch 4: 0.064107\n",
      "\n"
     ]
    },
    {
     "name": "stderr",
     "output_type": "stream",
     "text": [
      "Train: 100%|██████████| 8218/8218 [02:29<00:00, 54.91it/s, accuracy=0.0625, train_loss=6.21]\n",
      "Evaluation:  96%|█████████▌| 23/24 [00:09<00:00,  2.49it/s]\n",
      "Train:   0%|          | 0/8218 [00:00<?, ?it/s, accuracy=0.0156, train_loss=6.98]"
     ]
    },
    {
     "name": "stdout",
     "output_type": "stream",
     "text": [
      "\t - Recall@20 epoch 5: 0.194293\n",
      "\t - MRR@20    epoch 5: 0.064935\n",
      "\n"
     ]
    },
    {
     "name": "stderr",
     "output_type": "stream",
     "text": [
      "Train: 100%|██████████| 8218/8218 [02:29<00:00, 55.12it/s, accuracy=0.0156, train_loss=6.22]\n",
      "Evaluation:  96%|█████████▌| 23/24 [00:09<00:00,  2.50it/s]\n",
      "Train:   0%|          | 0/8218 [00:00<?, ?it/s, accuracy=0, train_loss=6.78]     "
     ]
    },
    {
     "name": "stdout",
     "output_type": "stream",
     "text": [
      "\t - Recall@20 epoch 6: 0.192255\n",
      "\t - MRR@20    epoch 6: 0.064894\n",
      "\n"
     ]
    },
    {
     "name": "stderr",
     "output_type": "stream",
     "text": [
      "Train: 100%|██████████| 8218/8218 [02:34<00:00, 53.17it/s, accuracy=0.0312, train_loss=6.26]\n",
      "Evaluation:  96%|█████████▌| 23/24 [00:09<00:00,  2.49it/s]\n",
      "Train:   0%|          | 0/8218 [00:00<?, ?it/s, accuracy=0.0156, train_loss=6.67]"
     ]
    },
    {
     "name": "stdout",
     "output_type": "stream",
     "text": [
      "\t - Recall@20 epoch 7: 0.197011\n",
      "\t - MRR@20    epoch 7: 0.065185\n",
      "\n"
     ]
    },
    {
     "name": "stderr",
     "output_type": "stream",
     "text": [
      "Train: 100%|██████████| 8218/8218 [02:30<00:00, 54.55it/s, accuracy=0.0156, train_loss=5.97]\n",
      "Evaluation:  96%|█████████▌| 23/24 [00:09<00:00,  2.46it/s]\n",
      "Train:   0%|          | 0/8218 [00:00<?, ?it/s, accuracy=0.0156, train_loss=6.88]"
     ]
    },
    {
     "name": "stdout",
     "output_type": "stream",
     "text": [
      "\t - Recall@20 epoch 8: 0.194973\n",
      "\t - MRR@20    epoch 8: 0.067332\n",
      "\n"
     ]
    },
    {
     "name": "stderr",
     "output_type": "stream",
     "text": [
      "Train: 100%|██████████| 8218/8218 [02:33<00:00, 53.63it/s, accuracy=0.0156, train_loss=5.99]\n",
      "Evaluation:  96%|█████████▌| 23/24 [00:09<00:00,  2.50it/s]\n",
      "Train:   0%|          | 0/8218 [00:00<?, ?it/s, accuracy=0.0156, train_loss=6.85]"
     ]
    },
    {
     "name": "stdout",
     "output_type": "stream",
     "text": [
      "\t - Recall@20 epoch 9: 0.194973\n",
      "\t - MRR@20    epoch 9: 0.065824\n",
      "\n"
     ]
    },
    {
     "name": "stderr",
     "output_type": "stream",
     "text": [
      "Train: 100%|██████████| 8218/8218 [02:33<00:00, 53.58it/s, accuracy=0.0469, train_loss=6.14]\n",
      "Evaluation:  96%|█████████▌| 23/24 [00:09<00:00,  2.49it/s]\n",
      "Train:   0%|          | 0/8218 [00:00<?, ?it/s, accuracy=0, train_loss=6.68]     "
     ]
    },
    {
     "name": "stdout",
     "output_type": "stream",
     "text": [
      "\t - Recall@20 epoch 10: 0.194973\n",
      "\t - MRR@20    epoch 10: 0.064197\n",
      "\n"
     ]
    },
    {
     "name": "stderr",
     "output_type": "stream",
     "text": [
      "Train: 100%|██████████| 8218/8218 [02:29<00:00, 55.02it/s, accuracy=0.0469, train_loss=6.19]\n",
      "Evaluation:  96%|█████████▌| 23/24 [00:09<00:00,  2.50it/s]\n",
      "Train:   0%|          | 0/8218 [00:00<?, ?it/s, accuracy=0, train_loss=6.83]     "
     ]
    },
    {
     "name": "stdout",
     "output_type": "stream",
     "text": [
      "\t - Recall@20 epoch 11: 0.195652\n",
      "\t - MRR@20    epoch 11: 0.066637\n",
      "\n"
     ]
    },
    {
     "name": "stderr",
     "output_type": "stream",
     "text": [
      "Train: 100%|██████████| 8218/8218 [02:34<00:00, 53.06it/s, accuracy=0.0156, train_loss=6.22]\n",
      "Evaluation:  96%|█████████▌| 23/24 [00:09<00:00,  2.47it/s]\n",
      "Train:   0%|          | 0/8218 [00:00<?, ?it/s, accuracy=0.0156, train_loss=6.71]"
     ]
    },
    {
     "name": "stdout",
     "output_type": "stream",
     "text": [
      "\t - Recall@20 epoch 12: 0.199728\n",
      "\t - MRR@20    epoch 12: 0.067672\n",
      "\n"
     ]
    },
    {
     "name": "stderr",
     "output_type": "stream",
     "text": [
      "Train: 100%|██████████| 8218/8218 [02:32<00:00, 53.72it/s, accuracy=0, train_loss=6.27]     \n",
      "Evaluation:  96%|█████████▌| 23/24 [00:09<00:00,  2.51it/s]\n",
      "Train:   0%|          | 0/8218 [00:00<?, ?it/s, accuracy=0.0156, train_loss=6.64]"
     ]
    },
    {
     "name": "stdout",
     "output_type": "stream",
     "text": [
      "\t - Recall@20 epoch 13: 0.201087\n",
      "\t - MRR@20    epoch 13: 0.066300\n",
      "\n"
     ]
    },
    {
     "name": "stderr",
     "output_type": "stream",
     "text": [
      "Train: 100%|██████████| 8218/8218 [02:30<00:00, 54.44it/s, accuracy=0.0312, train_loss=5.91]\n",
      "Evaluation:  96%|█████████▌| 23/24 [00:09<00:00,  2.50it/s]\n",
      "Train:   0%|          | 0/8218 [00:00<?, ?it/s, accuracy=0, train_loss=6.79]     "
     ]
    },
    {
     "name": "stdout",
     "output_type": "stream",
     "text": [
      "\t - Recall@20 epoch 14: 0.195652\n",
      "\t - MRR@20    epoch 14: 0.064964\n",
      "\n"
     ]
    },
    {
     "name": "stderr",
     "output_type": "stream",
     "text": [
      "Train: 100%|██████████| 8218/8218 [02:31<00:00, 54.40it/s, accuracy=0.0312, train_loss=5.98]\n",
      "Evaluation:  96%|█████████▌| 23/24 [00:09<00:00,  2.51it/s]\n",
      "Train:   0%|          | 0/8218 [00:00<?, ?it/s, accuracy=0.0156, train_loss=6.61]"
     ]
    },
    {
     "name": "stdout",
     "output_type": "stream",
     "text": [
      "\t - Recall@20 epoch 15: 0.195652\n",
      "\t - MRR@20    epoch 15: 0.067056\n",
      "\n"
     ]
    },
    {
     "name": "stderr",
     "output_type": "stream",
     "text": [
      "Train: 100%|██████████| 8218/8218 [02:31<00:00, 54.28it/s, accuracy=0.0312, train_loss=5.91]\n",
      "Evaluation:  96%|█████████▌| 23/24 [00:09<00:00,  2.48it/s]\n",
      "Train:   0%|          | 0/8218 [00:00<?, ?it/s, accuracy=0, train_loss=6.73]     "
     ]
    },
    {
     "name": "stdout",
     "output_type": "stream",
     "text": [
      "\t - Recall@20 epoch 16: 0.196332\n",
      "\t - MRR@20    epoch 16: 0.067579\n",
      "\n"
     ]
    },
    {
     "name": "stderr",
     "output_type": "stream",
     "text": [
      "Train: 100%|██████████| 8218/8218 [02:33<00:00, 53.60it/s, accuracy=0.0469, train_loss=5.98]\n",
      "Evaluation:  96%|█████████▌| 23/24 [00:09<00:00,  2.51it/s]\n",
      "Train:   0%|          | 0/8218 [00:00<?, ?it/s, accuracy=0, train_loss=6.7]      "
     ]
    },
    {
     "name": "stdout",
     "output_type": "stream",
     "text": [
      "\t - Recall@20 epoch 17: 0.194293\n",
      "\t - MRR@20    epoch 17: 0.066215\n",
      "\n"
     ]
    },
    {
     "name": "stderr",
     "output_type": "stream",
     "text": [
      "Train: 100%|██████████| 8218/8218 [02:33<00:00, 53.41it/s, accuracy=0.0156, train_loss=6.07]\n",
      "Evaluation:  96%|█████████▌| 23/24 [00:09<00:00,  2.50it/s]\n",
      "Train:   0%|          | 0/8218 [00:00<?, ?it/s, accuracy=0.0156, train_loss=6.79]"
     ]
    },
    {
     "name": "stdout",
     "output_type": "stream",
     "text": [
      "\t - Recall@20 epoch 18: 0.197690\n",
      "\t - MRR@20    epoch 18: 0.065131\n",
      "\n"
     ]
    },
    {
     "name": "stderr",
     "output_type": "stream",
     "text": [
      "Train: 100%|██████████| 8218/8218 [02:31<00:00, 54.29it/s, accuracy=0, train_loss=5.79]     \n",
      "Evaluation:  96%|█████████▌| 23/24 [00:09<00:00,  2.52it/s]\n",
      "Train:   0%|          | 0/8218 [00:00<?, ?it/s, accuracy=0.0469, train_loss=6.31]"
     ]
    },
    {
     "name": "stdout",
     "output_type": "stream",
     "text": [
      "\t - Recall@20 epoch 19: 0.195652\n",
      "\t - MRR@20    epoch 19: 0.067052\n",
      "\n"
     ]
    },
    {
     "name": "stderr",
     "output_type": "stream",
     "text": [
      "Train: 100%|██████████| 8218/8218 [02:23<00:00, 57.12it/s, accuracy=0.0312, train_loss=6.14]\n",
      "Evaluation:  96%|█████████▌| 23/24 [00:09<00:00,  2.52it/s]\n",
      "Train:   0%|          | 0/8218 [00:00<?, ?it/s, accuracy=0, train_loss=6.38]     "
     ]
    },
    {
     "name": "stdout",
     "output_type": "stream",
     "text": [
      "\t - Recall@20 epoch 20: 0.196332\n",
      "\t - MRR@20    epoch 20: 0.067757\n",
      "\n"
     ]
    },
    {
     "name": "stderr",
     "output_type": "stream",
     "text": [
      "Train: 100%|██████████| 8218/8218 [02:26<00:00, 56.01it/s, accuracy=0.0156, train_loss=6.08]\n",
      "Evaluation:  96%|█████████▌| 23/24 [00:09<00:00,  2.51it/s]\n",
      "Train:   0%|          | 0/8218 [00:00<?, ?it/s, accuracy=0.0469, train_loss=6.22]"
     ]
    },
    {
     "name": "stdout",
     "output_type": "stream",
     "text": [
      "\t - Recall@20 epoch 21: 0.194293\n",
      "\t - MRR@20    epoch 21: 0.067913\n",
      "\n"
     ]
    },
    {
     "name": "stderr",
     "output_type": "stream",
     "text": [
      "Train: 100%|██████████| 8218/8218 [02:27<00:00, 55.62it/s, accuracy=0, train_loss=6.05]     \n",
      "Evaluation:  96%|█████████▌| 23/24 [00:09<00:00,  2.52it/s]\n",
      "Train:   0%|          | 0/8218 [00:00<?, ?it/s, accuracy=0, train_loss=6.68]     "
     ]
    },
    {
     "name": "stdout",
     "output_type": "stream",
     "text": [
      "\t - Recall@20 epoch 22: 0.198370\n",
      "\t - MRR@20    epoch 22: 0.067185\n",
      "\n"
     ]
    },
    {
     "name": "stderr",
     "output_type": "stream",
     "text": [
      "Train: 100%|██████████| 8218/8218 [02:23<00:00, 57.42it/s, accuracy=0.0312, train_loss=6.03]\n",
      "Evaluation:  96%|█████████▌| 23/24 [00:09<00:00,  2.52it/s]\n",
      "Train:   0%|          | 0/8218 [00:00<?, ?it/s, accuracy=0.0312, train_loss=6.2] "
     ]
    },
    {
     "name": "stdout",
     "output_type": "stream",
     "text": [
      "\t - Recall@20 epoch 23: 0.193614\n",
      "\t - MRR@20    epoch 23: 0.067009\n",
      "\n"
     ]
    },
    {
     "name": "stderr",
     "output_type": "stream",
     "text": [
      "Train: 100%|██████████| 8218/8218 [02:21<00:00, 58.02it/s, accuracy=0.0469, train_loss=6.01]\n",
      "Evaluation:  96%|█████████▌| 23/24 [00:09<00:00,  2.51it/s]\n",
      "Train:   0%|          | 0/8218 [00:00<?, ?it/s, accuracy=0.0625, train_loss=6.19]"
     ]
    },
    {
     "name": "stdout",
     "output_type": "stream",
     "text": [
      "\t - Recall@20 epoch 24: 0.194973\n",
      "\t - MRR@20    epoch 24: 0.067818\n",
      "\n"
     ]
    },
    {
     "name": "stderr",
     "output_type": "stream",
     "text": [
      "Train: 100%|██████████| 8218/8218 [02:25<00:00, 56.50it/s, accuracy=0.0625, train_loss=6.03]\n",
      "Evaluation:  96%|█████████▌| 23/24 [00:09<00:00,  2.51it/s]\n",
      "Train:   0%|          | 0/8218 [00:00<?, ?it/s, accuracy=0.0625, train_loss=6.24]"
     ]
    },
    {
     "name": "stdout",
     "output_type": "stream",
     "text": [
      "\t - Recall@20 epoch 25: 0.193614\n",
      "\t - MRR@20    epoch 25: 0.066612\n",
      "\n"
     ]
    },
    {
     "name": "stderr",
     "output_type": "stream",
     "text": [
      "Train: 100%|██████████| 8218/8218 [02:24<00:00, 56.88it/s, accuracy=0.0469, train_loss=5.91]\n",
      "Evaluation:  96%|█████████▌| 23/24 [00:09<00:00,  2.52it/s]\n",
      "Train:   0%|          | 0/8218 [00:00<?, ?it/s, accuracy=0.0312, train_loss=6.24]"
     ]
    },
    {
     "name": "stdout",
     "output_type": "stream",
     "text": [
      "\t - Recall@20 epoch 26: 0.197690\n",
      "\t - MRR@20    epoch 26: 0.066785\n",
      "\n"
     ]
    },
    {
     "name": "stderr",
     "output_type": "stream",
     "text": [
      "Train: 100%|██████████| 8218/8218 [02:23<00:00, 57.29it/s, accuracy=0.0938, train_loss=5.82]\n",
      "Evaluation:  96%|█████████▌| 23/24 [00:09<00:00,  2.52it/s]\n",
      "Train:   0%|          | 0/8218 [00:00<?, ?it/s, accuracy=0.0625, train_loss=6.25]"
     ]
    },
    {
     "name": "stdout",
     "output_type": "stream",
     "text": [
      "\t - Recall@20 epoch 27: 0.195652\n",
      "\t - MRR@20    epoch 27: 0.068370\n",
      "\n"
     ]
    },
    {
     "name": "stderr",
     "output_type": "stream",
     "text": [
      "Train: 100%|██████████| 8218/8218 [02:22<00:00, 57.60it/s, accuracy=0.0469, train_loss=5.95]\n",
      "Evaluation:  96%|█████████▌| 23/24 [00:09<00:00,  2.52it/s]\n",
      "Train:   0%|          | 0/8218 [00:00<?, ?it/s, accuracy=0.0469, train_loss=6.16]"
     ]
    },
    {
     "name": "stdout",
     "output_type": "stream",
     "text": [
      "\t - Recall@20 epoch 28: 0.192255\n",
      "\t - MRR@20    epoch 28: 0.065845\n",
      "\n"
     ]
    },
    {
     "name": "stderr",
     "output_type": "stream",
     "text": [
      "Train: 100%|██████████| 8218/8218 [02:26<00:00, 56.26it/s, accuracy=0.0312, train_loss=6.08]\n",
      "Evaluation:  96%|█████████▌| 23/24 [00:09<00:00,  2.51it/s]\n",
      "Train:   0%|          | 0/8218 [00:00<?, ?it/s, accuracy=0.0781, train_loss=6.25]"
     ]
    },
    {
     "name": "stdout",
     "output_type": "stream",
     "text": [
      "\t - Recall@20 epoch 29: 0.194293\n",
      "\t - MRR@20    epoch 29: 0.065125\n",
      "\n"
     ]
    },
    {
     "name": "stderr",
     "output_type": "stream",
     "text": [
      "Train: 100%|██████████| 8218/8218 [02:24<00:00, 56.79it/s, accuracy=0.0469, train_loss=6.04]\n",
      "Evaluation:  96%|█████████▌| 23/24 [00:09<00:00,  2.53it/s]\n",
      "Evaluation:   0%|          | 0/23 [00:00<?, ?it/s]"
     ]
    },
    {
     "name": "stdout",
     "output_type": "stream",
     "text": [
      "\t - Recall@20 epoch 30: 0.194973\n",
      "\t - MRR@20    epoch 30: 0.069009\n",
      "\n"
     ]
    },
    {
     "name": "stderr",
     "output_type": "stream",
     "text": [
      "Evaluation:  96%|█████████▌| 22/23 [00:08<00:00,  2.62it/s]"
     ]
    },
    {
     "name": "stdout",
     "output_type": "stream",
     "text": [
      "\t - Recall@20: 0.247869\n",
      "\t - MRR@20: 0.095760\n",
      "\n"
     ]
    },
    {
     "name": "stderr",
     "output_type": "stream",
     "text": [
      "\n"
     ]
    }
   ],
   "source": [
    "train_model(model, args)\n",
    "\n",
    "def test_model(model, args, test):\n",
    "    test_recall, test_mrr = get_metrics(test, model, args, 20)\n",
    "    print(f\"\\t - Recall@{args.k}: {test_recall:3f}\")\n",
    "    print(f\"\\t - MRR@{args.k}: {test_mrr:3f}\\n\")\n",
    "\n",
    "test_model(model, args, test)"
   ]
  },
  {
   "cell_type": "markdown",
   "id": "challenging-essex",
   "metadata": {},
   "source": [
    "- Recall : 전체 relevant한 아이템 중 추천된 아이템이 속한 비율. 분모는 전체 relevant한 아이템의 갯수, 분자는 k개의 추천 중 relevant한 아이템의 갯수.\n",
    " ***Recall의 의미는 useful stuff에 대한 추천을 최대한 놓치지 않는 것.***\n",
    "\n",
    "\n",
    "- MRR(Mean Reciprocal Rank) : Reciprocal rank는 첫 번째로 등장하는 relevant한 아이템이 우리의 추천상 몇 번째에 위치하는지를 나타내는 지표. 그대로 몇 번째인지를 사용하면 앞에 나올수록 좋은 모델이라는 것을 반대로 표현하기 때문에 **역수를 취해준다.**"
   ]
  },
  {
   "cell_type": "markdown",
   "id": "saved-venice",
   "metadata": {},
   "source": [
    "## 5. 모델 테스트"
   ]
  },
  {
   "cell_type": "code",
   "execution_count": 55,
   "id": "confirmed-roads",
   "metadata": {
    "scrolled": false
   },
   "outputs": [
    {
     "name": "stderr",
     "output_type": "stream",
     "text": [
      "Evaluation:  91%|█████████ | 10/11 [00:07<00:00,  1.39it/s]"
     ]
    },
    {
     "name": "stdout",
     "output_type": "stream",
     "text": [
      "\t - Recall@20: 0.264062\n",
      "\t - MRR@20: 0.101073\n",
      "\n"
     ]
    },
    {
     "name": "stderr",
     "output_type": "stream",
     "text": [
      "\n"
     ]
    }
   ],
   "source": [
    "def test_model(model, args, test):\n",
    "    test_recall, test_mrr = get_metrics(test, model, args, 20)\n",
    "    print(f\"\\t - Recall@{args.k}: {test_recall:3f}\")\n",
    "    print(f\"\\t - MRR@{args.k}: {test_mrr:3f}\\n\")\n",
    "\n",
    "test_model(model, args, test)"
   ]
  },
  {
   "cell_type": "markdown",
   "id": "integral-parliament",
   "metadata": {},
   "source": [
    "## 6. 하이퍼파라미터 변경에 따른 성능 변화"
   ]
  },
  {
   "cell_type": "markdown",
   "id": "medieval-blake",
   "metadata": {},
   "source": [
    "- 배치 사이즈 변경\n",
    "\n",
    "    + batch_size=128, hsz=50, drop_rate=0.1, lr=0.001, epochs=10, k=20 **(초기설정)**\n",
    "\n",
    "\t - Recall@20: 0.259375\n",
    "\t - MRR@20: 0.101760\n",
    "\n",
    "    + batch_size=64, hsz=50, drop_rate=0.1, lr=0.001, epochs=10, k=20\n",
    "\n",
    "     - Recall@20: 0.271307\n",
    "\t - MRR@20: 0.096811\n",
    "\n",
    "    + batch_size=256, hsz=50, drop_rate=0.1, lr=0.001, epochs=10, k=20\n",
    "\n",
    "\t - Recall@20: 0.250000\n",
    "\t - MRR@20: 0.102511\n",
    "\n",
    "\n",
    "*************************************************\n",
    "\n",
    "\n",
    "- 러닝레이트 변경\n",
    "\n",
    "    + batch_size=128, hsz=50, drop_rate=0.1, lr=0.001, epochs=10, k=20 **(초기설정)**\n",
    "\n",
    "\t - Recall@20: 0.259375\n",
    "\t - MRR@20: 0.101760\n",
    "\n",
    "    + batch_size=128, hsz=50, drop_rate=0.1, lr=0.01, epochs=10, k=20\n",
    "\n",
    "\t - Recall@20: 0.194531\n",
    "\t - MRR@20: 0.073424\n",
    "\n",
    "    + batch_size=128, hsz=50, drop_rate=0.1, lr=0.1, epochs=10, k=20\n",
    "\n",
    "\t - Recall@20: 0.071094\n",
    "\t - MRR@20: 0.018344\n",
    "\n",
    "\n",
    "*************************************************\n",
    "\n",
    "- epochs 변경\n",
    "\n",
    "    + batch_size=128, hsz=50, drop_rate=0.1, lr=0.001, epochs=10, k=20 **(초기설정)**\n",
    "\n",
    "\t - Recall@20: 0.259375\n",
    "\t - MRR@20: 0.101760\n",
    "\n",
    "    + batch_size=128, hsz=50, drop_rate=0.1, lr=0.001, epochs=5, k=20\n",
    "\t - Recall@20: 0.255469\n",
    "\t - MRR@20: 0.102877\n",
    "\n",
    "    + batch_size=128, hsz=50, drop_rate=0.1, lr=0.001, epochs=20, k=20\n",
    "\n",
    "\t - Recall@20: 0.259375\n",
    "\t - MRR@20: 0.104143\n",
    "\n",
    "    + batch_size=128, hsz=50, drop_rate=0.1, lr=0.001, epochs=30, k=20\n",
    "\n",
    "\t - Recall@20: 0.268750\n",
    "\t - MRR@20: 0.105570\n",
    "\n",
    "\n",
    "*************************************************\n",
    "\n",
    "- dropout 변경\n",
    "\n",
    "    + batch_size=128, hsz=50, drop_rate=0.1, lr=0.001, epochs=10, k=20 **(초기설정)**\n",
    "\n",
    "\t - Recall@20: 0.259375\n",
    "\t - MRR@20: 0.101760\n",
    "\n",
    "    + batch_size=128, hsz=50, drop_rate=0.2, lr=0.001, epochs=10, k=20\n",
    "\n",
    "\t - Recall@20: 0.264062\n",
    "\t - MRR@20: 0.101073\n",
    "\n",
    "    + batch_size=128, hsz=50, drop_rate=0.5, lr=0.001, epochs=10, k=20\n",
    "\n",
    "\t - Recall@20: 0.260156\n",
    "\t - MRR@20: 0.104563\n",
    "\n",
    "****************************************\n",
    ">최종적으로 batch_size=64, hsz=50, drop_rate=0.5, lr=0.001, epochs=30, k=20 (각각의 설정에서 괜찮은 조건을 가졌던 값들 대입)\n",
    ">    - Recall@20: 0.247869\n",
    ">    - MRR@20: 0.095760"
   ]
  },
  {
   "cell_type": "markdown",
   "id": "peripheral-slope",
   "metadata": {},
   "source": [
    "*****************************\n",
    "## 7. 회고\n",
    "\n"
   ]
  },
  {
   "cell_type": "markdown",
   "id": "chemical-morris",
   "metadata": {},
   "source": [
    "****************************************************\n",
    "   - 배치 사이즈를 줄이면 Recall 값이 커짐.\n",
    "\n",
    "\n",
    "   - 러닝레이트를 줄이면 Recall, MRR 값이 작아짐.\n",
    "   \n",
    "\n",
    "   - 에폭을 증가시키면 10에서 20으로 Recall값은 같으나 MRR이 증가, 30으로 증가시켜야 Recall, MRR 값이 같이 증가.\n",
    "\n",
    "\n",
    "   - 드롭아웃을 0.1에서 0.5로 증가시킬때 Recall, MRR이 증가. 0.1에서 0.2로 했을때는 Recall 값은 증가하지만, MRR이 감소.\n",
    "\n",
    "\n",
    "   - 괜찮은 조건을 가졌던 값들을 섞어서 대입했지만, 오히려 더 안좋은 결과가 나옴.\n",
    "\n",
    "************************\n",
    "\n",
    "> 여러가지 시도를 해본다고 해봤는데, 부족하다는 생각이 들었고, 수치로만 결과를 확인하니 믿을 수 있는 것인지 파악하는 것이 쉽지 않았다.(더불어 학습하는데 시간이 많이 걸려, 많은 조건 중에서 뽑아서 하다보니, 제대로 했는지 의문이 든다.) 그래도 확실하게 값을 달리했을때 생기는 변화는 보였기 때문에 비교 분석은 할 수 있었던 것 같다.\n",
    "**모델마다 적절한 하이퍼 파라미터를 찾는과정이 굉장히 어렵고, 번거로운 과정을 거쳐야 하기 때문에 선구자들의 조언에서 아주 조금씩 변경을 하는것이 현명한 방법이다.**"
   ]
  }
 ],
 "metadata": {
  "kernelspec": {
   "display_name": "Python 3",
   "language": "python",
   "name": "python3"
  },
  "language_info": {
   "codemirror_mode": {
    "name": "ipython",
    "version": 3
   },
   "file_extension": ".py",
   "mimetype": "text/x-python",
   "name": "python",
   "nbconvert_exporter": "python",
   "pygments_lexer": "ipython3",
   "version": "3.7.9"
  }
 },
 "nbformat": 4,
 "nbformat_minor": 5
}
