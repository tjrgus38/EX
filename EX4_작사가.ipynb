{
 "cells": [
  {
   "cell_type": "markdown",
   "id": "patent-workstation",
   "metadata": {},
   "source": [
    "# EX4 - 작사가 인공지능 만들기\n",
    "\n",
    "****************************"
   ]
  },
  {
   "cell_type": "markdown",
   "id": "turned-capitol",
   "metadata": {},
   "source": [
    "#### mkdir -p ~/aiffel/lyricist/models\n",
    "#### ln -s ~/data ~/aiffel/lyricist/data\n",
    "\n",
    "#### 파일 준비"
   ]
  },
  {
   "cell_type": "code",
   "execution_count": 10,
   "id": "julian-madison",
   "metadata": {},
   "outputs": [
    {
     "name": "stdout",
     "output_type": "stream",
     "text": [
      "데이터 크기: 187088\n",
      "Examples:\n",
      " [' There must be some kind of way outta here', 'Said the joker to the thief', \"There's too much confusion\"]\n"
     ]
    }
   ],
   "source": [
    "import re\n",
    "import numpy as np\n",
    "import tensorflow as tf\n",
    "import glob\n",
    "import os\n",
    "\n",
    "from sklearn.model_selection import train_test_split\n",
    "\n",
    "txt_file_path = os.getenv('HOME')+'/aiffel/lyricist/data/lyrics/*'\n",
    "\n",
    "txt_list = glob.glob(txt_file_path)\n",
    "\n",
    "raw_corpus = []\n",
    "\n",
    "# 여러개의 txt 파일을 모두 읽어서 raw_corpus 에 담습니다.\n",
    "for txt_file in txt_list:\n",
    "    with open(txt_file, \"r\") as f:\n",
    "        raw = f.read().splitlines()\n",
    "        raw_corpus.extend(raw)\n",
    "\n",
    "print(\"데이터 크기:\", len(raw_corpus))\n",
    "print(\"Examples:\\n\", raw_corpus[:3]) # 문장 3개 확인"
   ]
  },
  {
   "cell_type": "markdown",
   "id": "lyric-bridal",
   "metadata": {},
   "source": [
    "****************\n",
    "## 문장 전처리\n",
    "\n",
    "### 문장들을 정규표현식을 이용해서 정제"
   ]
  },
  {
   "cell_type": "code",
   "execution_count": 11,
   "id": "intended-constitutional",
   "metadata": {},
   "outputs": [
    {
     "name": "stdout",
     "output_type": "stream",
     "text": [
      "<start> this is sample sentence . <end>\n"
     ]
    }
   ],
   "source": [
    "def preprocess_sentence(sentence):\n",
    "    sentence = sentence.lower().strip() # 소문자로 바꾸고 양쪽 공백을 삭제\n",
    "    sentence = re.sub(r\"([?.!,¿])\", r\" \\1 \", sentence) # 패턴의 특수문자를 만나면 특수문자 양쪽에 공백을 추가\n",
    "    sentence = re.sub(r'[\" \"]+', \" \", sentence) # 공백 패턴을 만나면 스페이스 1개로 치환\n",
    "    sentence = re.sub(r\"[^a-zA-Z?.!,¿]+\", \" \", sentence) # a-zA-Z?.!,¿ 패턴을 제외한 모든 문자(공백문자까지도)를 스페이스 1개로 치환\n",
    "    \n",
    "\n",
    "    sentence = sentence.lower().strip()\n",
    "    \n",
    "\n",
    "    sentence = '<start> ' + sentence + ' <end>' # 문장 앞뒤로 <start>와 <end>를 단어처럼 붙여 줍니다\n",
    "\n",
    "    return sentence\n",
    "\n",
    "print(preprocess_sentence(\"This @_is ;;;sample        sentence.\"))"
   ]
  },
  {
   "cell_type": "code",
   "execution_count": 12,
   "id": "suburban-driving",
   "metadata": {},
   "outputs": [
    {
     "data": {
      "text/plain": [
       "['<start> there must be some kind of way outta here <end>',\n",
       " '<start> said the joker to the thief <end>',\n",
       " '<start> there s too much confusion <end>',\n",
       " '<start> i can t get no relief business men , they drink my wine <end>',\n",
       " '<start> plowman dig my earth <end>',\n",
       " '<start> none were level on the mind <end>',\n",
       " '<start> nobody up at his word <end>',\n",
       " '<start> hey , hey no reason to get excited <end>',\n",
       " '<start> the thief he kindly spoke <end>',\n",
       " '<start> there are many here among us <end>']"
      ]
     },
     "execution_count": 12,
     "metadata": {},
     "output_type": "execute_result"
    }
   ],
   "source": [
    "corpus = []\n",
    "for idx, sentence in enumerate(raw_corpus):\n",
    "    # 아무것도 들어 있지 않은 문장 제외\n",
    "    if len(sentence) == 0 : continue\n",
    "    if sentence[-1] == \":\": continue \n",
    "    # 데이터로 사용한 글의 종류가 대본일 경우 비어있거나, 화자의 이름이 있을 경우에 사용.\n",
    "    \n",
    "    preprocessed_sentence = preprocess_sentence(sentence)\n",
    "    # 정제후 단어의 개수가 13개를 넘는 문장 제외\n",
    "    if not ( preprocessed_sentence.count(' ')+1 <= 15) : continue\n",
    "    # corpus에 이미 등록되어 있는 경우는 건너뜀\n",
    "    if preprocessed_sentence in corpus : continue\n",
    "    corpus.append(preprocessed_sentence)\n",
    "    \n",
    "corpus[:10]"
   ]
  },
  {
   "cell_type": "markdown",
   "id": "damaged-warren",
   "metadata": {},
   "source": [
    "**************\n",
    "## 텐서 플로우를 활용한 데이터 토큰화\n",
    "\n",
    "### 데이터를 숫자로 만드는 것을 벡터화\n",
    "### 숫자로 변환된 데이터를 텐서"
   ]
  },
  {
   "cell_type": "code",
   "execution_count": 13,
   "id": "cardiac-possession",
   "metadata": {},
   "outputs": [
    {
     "name": "stdout",
     "output_type": "stream",
     "text": [
      "[[  2  59 231 ...   0   0   0]\n",
      " [  2 111   6 ...   0   0   0]\n",
      " [  2  59  15 ...   0   0   0]\n",
      " ...\n",
      " [  2  79  45 ...   3   0   0]\n",
      " [  2  57   4 ...   0   0   0]\n",
      " [  2  13 547 ...   0   0   0]] <keras_preprocessing.text.Tokenizer object at 0x7fd8aa19ae50>\n",
      "[[   2   59  231   27   92  480   18   88  810   93]\n",
      " [   2  111    6 4850   10    6 1928    3    0    0]\n",
      " [   2   59   15  106  180 2243    3    0    0    0]]\n"
     ]
    }
   ],
   "source": [
    "def tokenize(corpus):\n",
    "    # 텐서플로우에서 제공하는 Tokenizer 패키지를 생성\n",
    "    tokenizer = tf.keras.preprocessing.text.Tokenizer(\n",
    "        num_words=12000,   # 전체 단어의 개수 \n",
    "        filters=' ',      # 전처리 로직\n",
    "        oov_token=\"<unk>\" # out-of-vocabulary, 사전에 없는 단어\n",
    "    )\n",
    "    tokenizer.fit_on_texts(corpus) # 우리가 구축한 corpus로부터 Tokenizer가 사전을 자동구축\n",
    "\n",
    "    # tokenizer를 활용하여 모델에 입력할 데이터셋을 구축\n",
    "    tensor = tokenizer.texts_to_sequences(corpus) # tokenizer는 구축한 사전으로부터 corpus를 해석해 Tensor로 변환\n",
    "\n",
    "    # 입력 데이터의 시퀀스 길이를 일정하게 맞추기 위한 padding  메소드\n",
    "    # maxlen의 디폴트값은 None. corpus의 가장 긴 문장을 기준으로 시퀀스 길이가 맞춰진다\n",
    "    tensor = tf.keras.preprocessing.sequence.pad_sequences(tensor, padding='post', maxlen = 15)  \n",
    "\n",
    "    print(tensor,tokenizer)\n",
    "    return tensor, tokenizer\n",
    "\n",
    "tensor, tokenizer = tokenize(corpus)\n",
    "\n",
    "print(tensor[:3, :10]) # 텐서 데이터 확인"
   ]
  },
  {
   "cell_type": "code",
   "execution_count": 14,
   "id": "differential-director",
   "metadata": {
    "scrolled": true
   },
   "outputs": [
    {
     "name": "stdout",
     "output_type": "stream",
     "text": [
      "1 : <unk>\n",
      "2 : <start>\n",
      "3 : <end>\n",
      "4 : ,\n",
      "5 : i\n",
      "6 : the\n",
      "7 : you\n",
      "8 : and\n",
      "9 : a\n",
      "10 : to\n"
     ]
    }
   ],
   "source": [
    "# 단어 사전의 index\n",
    "for idx in tokenizer.index_word:\n",
    "    print(idx, \":\", tokenizer.index_word[idx])\n",
    "\n",
    "    if idx >= 10: break\n",
    "# 1번 부터 저장된 문장 성분의 단어들을 확인 가능."
   ]
  },
  {
   "cell_type": "markdown",
   "id": "confirmed-tribune",
   "metadata": {},
   "source": [
    "**********\n",
    "## data 분리"
   ]
  },
  {
   "cell_type": "code",
   "execution_count": 15,
   "id": "stuck-class",
   "metadata": {},
   "outputs": [
    {
     "name": "stdout",
     "output_type": "stream",
     "text": [
      "Shape of Source : (80631, 14)\n",
      "Shape of Target : (80631, 14)\n"
     ]
    }
   ],
   "source": [
    "src_input = tensor[:, :-1] \n",
    "tgt_input = tensor[:, 1:]\n",
    "\n",
    "enc_train, enc_val, dec_train, dec_val = train_test_split(src_input, tgt_input, test_size = 0.2, random_state = 2)\n",
    "enc_val_train, enc_val_val, dec_val_train, dec_val_val = train_test_split(enc_train, dec_train, test_size = 0.125 , random_state = 2) \n",
    "\n",
    "print('Shape of Source :', enc_train.shape)\n",
    "print('Shape of Target :', dec_train.shape)"
   ]
  },
  {
   "cell_type": "code",
   "execution_count": 16,
   "id": "effective-wireless",
   "metadata": {},
   "outputs": [
    {
     "name": "stdout",
     "output_type": "stream",
     "text": [
      "[[   2   59  231   27   92  480   18   88  810   93    3    0    0    0]\n",
      " [   2  111    6 4850   10    6 1928    3    0    0    0    0    0    0]\n",
      " [   2   59   15  106  180 2243    3    0    0    0    0    0    0    0]]\n",
      "[[  59  231   27   92  480   18   88  810   93    3    0    0    0    0]\n",
      " [ 111    6 4850   10    6 1928    3    0    0    0    0    0    0    0]\n",
      " [  59   15  106  180 2243    3    0    0    0    0    0    0    0    0]]\n"
     ]
    }
   ],
   "source": [
    "print(src_input[:3])\n",
    "print(tgt_input[:3])"
   ]
  },
  {
   "cell_type": "code",
   "execution_count": 17,
   "id": "oriented-yukon",
   "metadata": {},
   "outputs": [
    {
     "data": {
      "text/plain": [
       "<BatchDataset shapes: ((256, 14), (256, 14)), types: (tf.int32, tf.int32)>"
      ]
     },
     "execution_count": 17,
     "metadata": {},
     "output_type": "execute_result"
    }
   ],
   "source": [
    "BUFFER_SIZE = len(enc_val_train)\n",
    "BATCH_SIZE = 256\n",
    "steps_per_epoch = BATCH_SIZE // BATCH_SIZE\n",
    "\n",
    "VOCAB_SIZE = tokenizer.num_words + 1 # 0:<pad>를 포함하여 dictionary 갯수 + 1\n",
    "\n",
    "\n",
    "dataset = tf.data.Dataset.from_tensor_slices((enc_train,dec_train))\n",
    "dataset = tf.data.Dataset.from_tensor_slices((enc_val_train, dec_val_train))\n",
    "dataset = dataset.shuffle(BUFFER_SIZE)\n",
    "dataset = dataset.batch(BATCH_SIZE, drop_remainder=True)\n",
    "dataset"
   ]
  },
  {
   "cell_type": "markdown",
   "id": "cleared-finder",
   "metadata": {},
   "source": [
    "### 모델 구조 정의"
   ]
  },
  {
   "cell_type": "code",
   "execution_count": 18,
   "id": "endangered-history",
   "metadata": {},
   "outputs": [],
   "source": [
    "# 모델 생성\n",
    "class TextGenerator(tf.keras.Model):\n",
    "    def __init__(self, vocab_size, embedding_size, hidden_size):\n",
    "        super(TextGenerator, self).__init__()\n",
    "        \n",
    "        self.embedding = tf.keras.layers.Embedding(vocab_size, embedding_size) \n",
    "        \n",
    "        self.rnn_1 = tf.keras.layers.LSTM(hidden_size, return_sequences=True)\n",
    "    \n",
    "        self.rnn_2 = tf.keras.layers.LSTM(hidden_size, return_sequences=True)\n",
    "        \n",
    "        self.linear = tf.keras.layers.Dense(vocab_size)\n",
    "\n",
    "    def call(self, x):\n",
    "        out = self.embedding(x)\n",
    "        out = self.rnn_1(out)\n",
    "        out = self.rnn_2(out)\n",
    "        out = self.linear(out)\n",
    "\n",
    "        return out\n",
    "\n",
    "embedding_size = 256 # 단어 하나의 특징 수\n",
    "hidden_size = 1024\n",
    "model = TextGenerator(tokenizer.num_words + 1, embedding_size , hidden_size)"
   ]
  },
  {
   "cell_type": "code",
   "execution_count": 19,
   "id": "pregnant-poetry",
   "metadata": {},
   "outputs": [],
   "source": [
    "for src_sample, tgt_sample in dataset.take(1): break"
   ]
  },
  {
   "cell_type": "code",
   "execution_count": 20,
   "id": "failing-batman",
   "metadata": {},
   "outputs": [
    {
     "data": {
      "text/plain": [
       "<tf.Tensor: shape=(256, 14, 12001), dtype=float32, numpy=\n",
       "array([[[ 3.04724763e-05,  6.42983578e-05, -5.24280113e-05, ...,\n",
       "          1.79902927e-04,  3.15213430e-04,  3.87267588e-04],\n",
       "        [ 7.78415633e-05,  7.93096387e-06, -3.63797844e-05, ...,\n",
       "          3.11943382e-04,  1.70196290e-04,  5.61747758e-04],\n",
       "        [-2.31193641e-04,  1.28585423e-04,  1.07717380e-04, ...,\n",
       "          3.66382184e-04, -1.72122760e-04,  3.27562389e-04],\n",
       "        ...,\n",
       "        [-1.23449694e-03, -1.08415283e-04,  1.06592837e-03, ...,\n",
       "          6.25685323e-04, -7.47497717e-04, -1.20544930e-04],\n",
       "        [-1.07775186e-03, -9.22957327e-07,  1.03589089e-03, ...,\n",
       "          5.65408205e-04, -6.89357636e-04, -3.67800269e-04],\n",
       "        [-8.42045003e-04, -7.25029386e-05,  9.78066819e-04, ...,\n",
       "          5.81545988e-04, -3.70055233e-04, -7.32951914e-04]],\n",
       "\n",
       "       [[ 3.04724763e-05,  6.42983578e-05, -5.24280113e-05, ...,\n",
       "          1.79902927e-04,  3.15213430e-04,  3.87267588e-04],\n",
       "        [ 2.10424783e-04,  2.36041829e-04,  1.74922214e-04, ...,\n",
       "          4.14798647e-04,  5.71076060e-04,  8.56572296e-04],\n",
       "        [ 4.72333486e-04,  4.17352363e-04,  1.10926710e-04, ...,\n",
       "          5.05681033e-04,  6.75843505e-04,  1.04074890e-03],\n",
       "        ...,\n",
       "        [ 3.48624890e-04,  8.38810636e-04,  2.97068891e-05, ...,\n",
       "          6.40770129e-04,  1.92950349e-04, -1.81170809e-03],\n",
       "        [ 5.30578429e-04,  5.89952280e-04,  2.29876227e-04, ...,\n",
       "          8.55800696e-04,  4.68558050e-04, -2.15889001e-03],\n",
       "        [ 7.17443880e-04,  3.76567361e-04,  4.38683841e-04, ...,\n",
       "          1.12233846e-03,  7.16707145e-04, -2.47732550e-03]],\n",
       "\n",
       "       [[ 3.04724763e-05,  6.42983578e-05, -5.24280113e-05, ...,\n",
       "          1.79902927e-04,  3.15213430e-04,  3.87267588e-04],\n",
       "        [ 7.78415633e-05,  7.93096387e-06, -3.63797844e-05, ...,\n",
       "          3.11943382e-04,  1.70196290e-04,  5.61747758e-04],\n",
       "        [-1.09562141e-04,  1.14286115e-04,  1.04224884e-04, ...,\n",
       "          4.98106936e-04,  2.71344674e-04,  5.99355320e-04],\n",
       "        ...,\n",
       "        [ 3.56054981e-04, -8.38424778e-04,  7.35593028e-04, ...,\n",
       "          1.51440490e-03,  1.68601365e-03, -2.26980913e-03],\n",
       "        [ 5.87784685e-04, -7.99491652e-04,  9.10037488e-04, ...,\n",
       "          1.78170751e-03,  1.79498340e-03, -2.61738617e-03],\n",
       "        [ 8.11835343e-04, -7.14631868e-04,  1.07056764e-03, ...,\n",
       "          2.05295184e-03,  1.85459363e-03, -2.92165228e-03]],\n",
       "\n",
       "       ...,\n",
       "\n",
       "       [[ 3.04724763e-05,  6.42983578e-05, -5.24280113e-05, ...,\n",
       "          1.79902927e-04,  3.15213430e-04,  3.87267588e-04],\n",
       "        [ 2.52814316e-05,  2.19992347e-04, -2.49088207e-05, ...,\n",
       "          1.89840241e-04,  3.32281372e-04,  5.94047655e-04],\n",
       "        [ 1.21607634e-04,  4.47961153e-04, -6.68080465e-05, ...,\n",
       "          1.32664893e-04,  5.35636849e-04,  5.89664152e-04],\n",
       "        ...,\n",
       "        [ 1.38303367e-04,  2.30182297e-04, -2.30558027e-04, ...,\n",
       "          1.21165853e-04,  8.17169028e-04, -1.30897388e-03],\n",
       "        [ 3.00211104e-04, -1.51967961e-05, -6.29693341e-06, ...,\n",
       "          3.47713561e-04,  1.00705272e-03, -1.70596945e-03],\n",
       "        [ 4.82725998e-04, -1.98228096e-04,  2.35465777e-04, ...,\n",
       "          6.37990481e-04,  1.17231905e-03, -2.09270860e-03]],\n",
       "\n",
       "       [[ 3.04724763e-05,  6.42983578e-05, -5.24280113e-05, ...,\n",
       "          1.79902927e-04,  3.15213430e-04,  3.87267588e-04],\n",
       "        [ 8.68378447e-06,  6.74966504e-05, -2.78185689e-05, ...,\n",
       "          1.86685895e-04,  5.66642382e-04,  5.91188436e-04],\n",
       "        [-1.25837396e-04,  6.17472469e-05,  8.20324840e-06, ...,\n",
       "          1.51731801e-04,  4.00690857e-04,  6.26296969e-04],\n",
       "        ...,\n",
       "        [ 3.35479912e-04, -5.15623309e-04,  1.00213673e-03, ...,\n",
       "          9.60820238e-04,  1.02459732e-03, -1.24674756e-03],\n",
       "        [ 5.41391841e-04, -5.30856545e-04,  1.15640403e-03, ...,\n",
       "          1.28468382e-03,  1.24653662e-03, -1.71348080e-03],\n",
       "        [ 7.48773862e-04, -5.02425944e-04,  1.30001560e-03, ...,\n",
       "          1.60657021e-03,  1.41185313e-03, -2.12981761e-03]],\n",
       "\n",
       "       [[ 3.04724763e-05,  6.42983578e-05, -5.24280113e-05, ...,\n",
       "          1.79902927e-04,  3.15213430e-04,  3.87267588e-04],\n",
       "        [ 7.78415633e-05,  7.93096387e-06, -3.63797844e-05, ...,\n",
       "          3.11943382e-04,  1.70196290e-04,  5.61747758e-04],\n",
       "        [ 3.77393735e-06,  2.19024369e-04, -7.24275160e-05, ...,\n",
       "          2.76484352e-04, -6.69814981e-05,  5.98340761e-04],\n",
       "        ...,\n",
       "        [-1.40349974e-03, -1.17379322e-03,  4.63534234e-04, ...,\n",
       "         -7.37025868e-04,  4.51254804e-04, -5.76952007e-04],\n",
       "        [-1.29353034e-03, -1.06282765e-03,  3.51171620e-04, ...,\n",
       "         -8.51571560e-04,  5.24401956e-04, -5.77949919e-04],\n",
       "        [-1.12846144e-03, -1.04122027e-03,  2.62149959e-04, ...,\n",
       "         -8.05035932e-04,  7.64995988e-04, -7.73035747e-04]]],\n",
       "      dtype=float32)>"
      ]
     },
     "execution_count": 20,
     "metadata": {},
     "output_type": "execute_result"
    }
   ],
   "source": [
    "model(src_sample)"
   ]
  },
  {
   "cell_type": "code",
   "execution_count": 21,
   "id": "original-guess",
   "metadata": {},
   "outputs": [
    {
     "name": "stdout",
     "output_type": "stream",
     "text": [
      "Model: \"text_generator\"\n",
      "_________________________________________________________________\n",
      "Layer (type)                 Output Shape              Param #   \n",
      "=================================================================\n",
      "embedding (Embedding)        multiple                  3072256   \n",
      "_________________________________________________________________\n",
      "lstm (LSTM)                  multiple                  5246976   \n",
      "_________________________________________________________________\n",
      "lstm_1 (LSTM)                multiple                  8392704   \n",
      "_________________________________________________________________\n",
      "dense (Dense)                multiple                  12301025  \n",
      "=================================================================\n",
      "Total params: 29,012,961\n",
      "Trainable params: 29,012,961\n",
      "Non-trainable params: 0\n",
      "_________________________________________________________________\n"
     ]
    }
   ],
   "source": [
    "model.summary()"
   ]
  },
  {
   "cell_type": "code",
   "execution_count": 22,
   "id": "mounted-columbus",
   "metadata": {},
   "outputs": [],
   "source": [
    "optimizer = tf.keras.optimizers.Adam()\n",
    "# optimizer = tf.keras.optimizers.SGD()\n",
    "loss = tf.keras.losses.SparseCategoricalCrossentropy(\n",
    "    from_logits=True, reduction='none')"
   ]
  },
  {
   "cell_type": "code",
   "execution_count": 23,
   "id": "suited-hungary",
   "metadata": {},
   "outputs": [],
   "source": [
    "model.compile(loss=loss, optimizer=optimizer)"
   ]
  },
  {
   "cell_type": "markdown",
   "id": "pretty-limitation",
   "metadata": {},
   "source": [
    "# 다섯번째"
   ]
  },
  {
   "cell_type": "code",
   "execution_count": 27,
   "id": "historical-copyright",
   "metadata": {},
   "outputs": [
    {
     "name": "stdout",
     "output_type": "stream",
     "text": [
      "Epoch 1/10\n",
      "1260/1260 [==============================] - 142s 113ms/step - loss: 2.9416 - val_loss: 2.8902\n",
      "Epoch 2/10\n",
      "1260/1260 [==============================] - 143s 113ms/step - loss: 2.9127 - val_loss: 2.8365\n",
      "Epoch 3/10\n",
      "1260/1260 [==============================] - 143s 113ms/step - loss: 2.8553 - val_loss: 2.7611\n",
      "Epoch 4/10\n",
      "1260/1260 [==============================] - 143s 113ms/step - loss: 2.7793 - val_loss: 2.6688\n",
      "Epoch 5/10\n",
      "1260/1260 [==============================] - 143s 113ms/step - loss: 2.6933 - val_loss: 2.5753\n",
      "Epoch 6/10\n",
      "1260/1260 [==============================] - 142s 113ms/step - loss: 2.6015 - val_loss: 2.4713\n",
      "Epoch 7/10\n",
      "1260/1260 [==============================] - 142s 113ms/step - loss: 2.5074 - val_loss: 2.3764\n",
      "Epoch 8/10\n",
      "1260/1260 [==============================] - 143s 113ms/step - loss: 2.4138 - val_loss: 2.2787\n",
      "Epoch 9/10\n",
      "1260/1260 [==============================] - 142s 113ms/step - loss: 2.3224 - val_loss: 2.1887\n",
      "Epoch 10/10\n",
      "1260/1260 [==============================] - 142s 113ms/step - loss: 2.2348 - val_loss: 2.0981\n"
     ]
    }
   ],
   "source": [
    "history = model.fit(x = enc_train, y = dec_train, epochs=10, batch_size=64, validation_data = (enc_val_val, dec_val_val))"
   ]
  },
  {
   "cell_type": "code",
   "execution_count": 28,
   "id": "palestinian-advertiser",
   "metadata": {},
   "outputs": [
    {
     "data": {
      "image/png": "[encoded data removed]",
      "text/plain": [
       "<Figure size 576x360 with 1 Axes>"
      ]
     },
     "metadata": {
      "needs_background": "light"
     },
     "output_type": "display_data"
    }
   ],
   "source": [
    "import matplotlib.pyplot as plt\n",
    "\n",
    "plt.figure(figsize=(8, 5))\n",
    "\n",
    "plt.plot(history.history['loss'], marker='.', c='red', label='Train-set Loss')\n",
    "plt.plot(history.history['val_loss'], marker='.', c='blue', label='Validation-set Loss')\n",
    "plt.xlabel('Epoch')\n",
    "plt.legend()\n",
    "plt.show()"
   ]
  },
  {
   "cell_type": "code",
   "execution_count": 29,
   "id": "competent-quebec",
   "metadata": {},
   "outputs": [],
   "source": [
    "def generate_text(model, tokenizer, init_sentence=\"<start>\", max_len=15):\n",
    "    # 테스트를 위해서 입력받은 init_sentence도 텐서로 변환합니다\n",
    "    test_input = tokenizer.texts_to_sequences([init_sentence])\n",
    "    test_tensor = tf.convert_to_tensor(test_input, dtype=tf.int64)\n",
    "    end_token = tokenizer.word_index[\"<end>\"]\n",
    "\n",
    "    # 단어 하나씩 예측해 문장을 만듭니다\n",
    "    #    1. 입력받은 문장의 텐서를 입력합니다\n",
    "    #    2. 예측된 값 중 가장 높은 확률인 word index를 뽑아냅니다\n",
    "    #    3. 2에서 예측된 word index를 문장 뒤에 붙입니다\n",
    "    #    4. 모델이 <end>를 예측했거나, max_len에 도달했다면 문장 생성을 마칩니다\n",
    "    while True:\n",
    "        # 1\n",
    "        predict = model(test_tensor) \n",
    "        # 2\n",
    "        predict_word = tf.argmax(tf.nn.softmax(predict, axis=-1), axis=-1)[:, -1] \n",
    "        # 3 \n",
    "        test_tensor = tf.concat([test_tensor, tf.expand_dims(predict_word, axis=0)], axis=-1)\n",
    "        # 4\n",
    "        if predict_word.numpy()[0] == end_token: break\n",
    "        if test_tensor.shape[1] >= max_len: break\n",
    "\n",
    "    generated = \"\"\n",
    "    # tokenizer를 이용해 word index를 단어로 하나씩 변환합니다 \n",
    "    for word_index in test_tensor[0].numpy():\n",
    "        generated += tokenizer.index_word[word_index] + \" \"\n",
    "\n",
    "    return generated"
   ]
  },
  {
   "cell_type": "code",
   "execution_count": 30,
   "id": "timely-wednesday",
   "metadata": {},
   "outputs": [
    {
     "data": {
      "text/plain": [
       "'<start> life is a <unk> reminder of possibilities <end> '"
      ]
     },
     "execution_count": 30,
     "metadata": {},
     "output_type": "execute_result"
    }
   ],
   "source": [
    "generate_text(model, tokenizer, init_sentence=\"<start> life\")"
   ]
  },
  {
   "cell_type": "code",
   "execution_count": 31,
   "id": "banned-cameroon",
   "metadata": {},
   "outputs": [
    {
     "data": {
      "text/plain": [
       "'<start> kill me and i m not alone <end> '"
      ]
     },
     "execution_count": 31,
     "metadata": {},
     "output_type": "execute_result"
    }
   ],
   "source": [
    "generate_text(model, tokenizer, init_sentence=\"<start> kill\")"
   ]
  },
  {
   "cell_type": "code",
   "execution_count": 32,
   "id": "stock-burton",
   "metadata": {},
   "outputs": [
    {
     "data": {
      "text/plain": [
       "'<start> cut me down <end> '"
      ]
     },
     "execution_count": 32,
     "metadata": {},
     "output_type": "execute_result"
    }
   ],
   "source": [
    "generate_text(model, tokenizer, init_sentence=\"<start> cut\")"
   ]
  },
  {
   "cell_type": "code",
   "execution_count": 33,
   "id": "detailed-moment",
   "metadata": {},
   "outputs": [
    {
     "data": {
      "text/plain": [
       "'<start> time to be a <unk> <end> '"
      ]
     },
     "execution_count": 33,
     "metadata": {},
     "output_type": "execute_result"
    }
   ],
   "source": [
    "generate_text(model, tokenizer, init_sentence=\"<start> time\")"
   ]
  },
  {
   "cell_type": "code",
   "execution_count": 34,
   "id": "crucial-hypothetical",
   "metadata": {},
   "outputs": [
    {
     "data": {
      "text/plain": [
       "'<start> smoke a <unk> , a <unk> <end> '"
      ]
     },
     "execution_count": 34,
     "metadata": {},
     "output_type": "execute_result"
    }
   ],
   "source": [
    "generate_text(model, tokenizer, init_sentence=\"<start> smoke\")"
   ]
  },
  {
   "cell_type": "code",
   "execution_count": 35,
   "id": "hungarian-guidance",
   "metadata": {},
   "outputs": [
    {
     "data": {
      "text/plain": [
       "'<start> god damn , i m a <unk> <end> '"
      ]
     },
     "execution_count": 35,
     "metadata": {},
     "output_type": "execute_result"
    }
   ],
   "source": [
    "generate_text(model, tokenizer, init_sentence=\"<start> god\")"
   ]
  },
  {
   "cell_type": "code",
   "execution_count": 36,
   "id": "incorporated-raleigh",
   "metadata": {},
   "outputs": [
    {
     "data": {
      "text/plain": [
       "'<start> girlfriend , you re amazing <end> '"
      ]
     },
     "execution_count": 36,
     "metadata": {},
     "output_type": "execute_result"
    }
   ],
   "source": [
    "generate_text(model, tokenizer, init_sentence=\"<start> girlfriend\")"
   ]
  },
  {
   "cell_type": "code",
   "execution_count": 37,
   "id": "atlantic-orbit",
   "metadata": {},
   "outputs": [
    {
     "data": {
      "text/plain": [
       "'<start> road block <end> '"
      ]
     },
     "execution_count": 37,
     "metadata": {},
     "output_type": "execute_result"
    }
   ],
   "source": [
    "generate_text(model, tokenizer, init_sentence=\"<start> road\")"
   ]
  },
  {
   "cell_type": "code",
   "execution_count": 38,
   "id": "experimental-three",
   "metadata": {},
   "outputs": [
    {
     "data": {
      "text/plain": [
       "'<start> movie , euphoria <end> '"
      ]
     },
     "execution_count": 38,
     "metadata": {},
     "output_type": "execute_result"
    }
   ],
   "source": [
    "generate_text(model, tokenizer, init_sentence=\"<start> movie\")"
   ]
  },
  {
   "cell_type": "markdown",
   "id": "sticky-authorization",
   "metadata": {},
   "source": [
    "## ??? loss는 낮은데 문장 생성이 어색하다.\n",
    "*************************\n",
    "# 네번째"
   ]
  },
  {
   "cell_type": "code",
   "execution_count": 25,
   "id": "greek-transition",
   "metadata": {},
   "outputs": [
    {
     "name": "stdout",
     "output_type": "stream",
     "text": [
      "Epoch 1/10\n",
      "79/79 [==============================] - 96s 1s/step - loss: 5.5374 - val_loss: 3.6818\n",
      "Epoch 2/10\n",
      "79/79 [==============================] - 93s 1s/step - loss: 3.6050 - val_loss: 3.4783\n",
      "Epoch 3/10\n",
      "79/79 [==============================] - 93s 1s/step - loss: 3.4506 - val_loss: 3.3299\n",
      "Epoch 4/10\n",
      "79/79 [==============================] - 94s 1s/step - loss: 3.3121 - val_loss: 3.2288\n",
      "Epoch 5/10\n",
      "79/79 [==============================] - 94s 1s/step - loss: 3.2137 - val_loss: 3.1625\n",
      "Epoch 6/10\n",
      "79/79 [==============================] - 94s 1s/step - loss: 3.1555 - val_loss: 3.0981\n",
      "Epoch 7/10\n",
      "79/79 [==============================] - 94s 1s/step - loss: 3.0943 - val_loss: 3.0471\n",
      "Epoch 8/10\n",
      "79/79 [==============================] - 94s 1s/step - loss: 3.0484 - val_loss: 3.0024\n",
      "Epoch 9/10\n",
      "79/79 [==============================] - 94s 1s/step - loss: 2.9971 - val_loss: 2.9625\n",
      "Epoch 10/10\n",
      "79/79 [==============================] - 94s 1s/step - loss: 2.9654 - val_loss: 2.9245\n"
     ]
    }
   ],
   "source": [
    "history = model.fit(x = enc_train, y = dec_train, epochs=10, batch_size=1024, validation_data = (enc_val_val, dec_val_val))"
   ]
  },
  {
   "cell_type": "code",
   "execution_count": 26,
   "id": "jewish-injury",
   "metadata": {
    "scrolled": true
   },
   "outputs": [
    {
     "data": {
      "image/png": "[encoded data removed]",
      "text/plain": [
       "<Figure size 576x360 with 1 Axes>"
      ]
     },
     "metadata": {
      "needs_background": "light"
     },
     "output_type": "display_data"
    }
   ],
   "source": [
    "import matplotlib.pyplot as plt\n",
    "\n",
    "plt.figure(figsize=(8, 5))\n",
    "\n",
    "plt.plot(history.history['loss'], marker='.', c='red', label='Train-set Loss')\n",
    "plt.plot(history.history['val_loss'], marker='.', c='blue', label='Validation-set Loss')\n",
    "plt.xlabel('Epoch')\n",
    "plt.legend()\n",
    "plt.show()"
   ]
  },
  {
   "cell_type": "markdown",
   "id": "fancy-relative",
   "metadata": {},
   "source": [
    "# 세번째"
   ]
  },
  {
   "cell_type": "code",
   "execution_count": 75,
   "id": "measured-painting",
   "metadata": {
    "scrolled": true
   },
   "outputs": [
    {
     "name": "stdout",
     "output_type": "stream",
     "text": [
      "Epoch 1/10\n",
      "158/158 [==============================] - 97s 615ms/step - loss: 2.5612 - val_loss: 2.4876\n",
      "Epoch 2/10\n",
      "158/158 [==============================] - 98s 621ms/step - loss: 2.5083 - val_loss: 2.4380\n",
      "Epoch 3/10\n",
      "158/158 [==============================] - 98s 620ms/step - loss: 2.4594 - val_loss: 2.3927\n",
      "Epoch 4/10\n",
      "158/158 [==============================] - 98s 622ms/step - loss: 2.4140 - val_loss: 2.3476\n",
      "Epoch 5/10\n",
      "158/158 [==============================] - 98s 620ms/step - loss: 2.3701 - val_loss: 2.3045\n",
      "Epoch 6/10\n",
      "158/158 [==============================] - 98s 621ms/step - loss: 2.3287 - val_loss: 2.2636\n",
      "Epoch 7/10\n",
      "158/158 [==============================] - 98s 622ms/step - loss: 2.2893 - val_loss: 2.2248\n",
      "Epoch 8/10\n",
      "158/158 [==============================] - 98s 620ms/step - loss: 2.2510 - val_loss: 2.1867\n",
      "Epoch 9/10\n",
      "158/158 [==============================] - 98s 621ms/step - loss: 2.2147 - val_loss: 2.1512\n",
      "Epoch 10/10\n",
      "158/158 [==============================] - 98s 620ms/step - loss: 2.1795 - val_loss: 2.1186\n"
     ]
    }
   ],
   "source": [
    "history = model.fit(x = enc_train, y = dec_train, epochs=10, batch_size=512, validation_data = (enc_val_val, dec_val_val))"
   ]
  },
  {
   "cell_type": "code",
   "execution_count": 76,
   "id": "irish-serum",
   "metadata": {
    "scrolled": true
   },
   "outputs": [
    {
     "data": {
      "image/png": "[encoded data removed]",
      "text/plain": [
       "<Figure size 576x360 with 1 Axes>"
      ]
     },
     "metadata": {
      "needs_background": "light"
     },
     "output_type": "display_data"
    }
   ],
   "source": [
    "import matplotlib.pyplot as plt\n",
    "\n",
    "plt.figure(figsize=(8, 5))\n",
    "\n",
    "plt.plot(history.history['loss'], marker='.', c='red', label='Train-set Loss')\n",
    "plt.plot(history.history['val_loss'], marker='.', c='blue', label='Validation-set Loss')\n",
    "plt.xlabel('Epoch')\n",
    "plt.legend()\n",
    "plt.show()"
   ]
  },
  {
   "cell_type": "markdown",
   "id": "seeing-realtor",
   "metadata": {},
   "source": [
    "# 두번째"
   ]
  },
  {
   "cell_type": "code",
   "execution_count": 74,
   "id": "going-mixer",
   "metadata": {},
   "outputs": [
    {
     "name": "stdout",
     "output_type": "stream",
     "text": [
      "Epoch 1/10\n",
      "315/315 [==============================] - 109s 337ms/step - loss: 4.3719 - val_loss: 3.3361\n",
      "Epoch 2/10\n",
      "315/315 [==============================] - 106s 335ms/step - loss: 3.2890 - val_loss: 3.1342\n",
      "Epoch 3/10\n",
      "315/315 [==============================] - 106s 338ms/step - loss: 3.1216 - val_loss: 3.0146\n",
      "Epoch 4/10\n",
      "315/315 [==============================] - 106s 337ms/step - loss: 3.0158 - val_loss: 2.9223\n",
      "Epoch 5/10\n",
      "315/315 [==============================] - 105s 334ms/step - loss: 2.9189 - val_loss: 2.8461\n",
      "Epoch 6/10\n",
      "315/315 [==============================] - 105s 333ms/step - loss: 2.8426 - val_loss: 2.7744\n",
      "Epoch 7/10\n",
      "315/315 [==============================] - 106s 336ms/step - loss: 2.7817 - val_loss: 2.7122\n",
      "Epoch 8/10\n",
      "315/315 [==============================] - 105s 333ms/step - loss: 2.7201 - val_loss: 2.6531\n",
      "Epoch 9/10\n",
      "315/315 [==============================] - 106s 335ms/step - loss: 2.6678 - val_loss: 2.5972\n",
      "Epoch 10/10\n",
      "315/315 [==============================] - 106s 335ms/step - loss: 2.6037 - val_loss: 2.5430\n"
     ]
    }
   ],
   "source": [
    "history = model.fit(x = enc_train, y = dec_train, epochs=10, batch_size=256, validation_data = (enc_val_val, dec_val_val))"
   ]
  },
  {
   "cell_type": "code",
   "execution_count": 58,
   "id": "accessible-bacon",
   "metadata": {},
   "outputs": [
    {
     "data": {
      "image/png": "[encoded data removed]",
      "text/plain": [
       "<Figure size 576x360 with 1 Axes>"
      ]
     },
     "metadata": {
      "needs_background": "light"
     },
     "output_type": "display_data"
    }
   ],
   "source": [
    "import matplotlib.pyplot as plt\n",
    "\n",
    "plt.figure(figsize=(8, 5))\n",
    "\n",
    "plt.plot(history.history['loss'], marker='.', c='red', label='Train-set Loss')\n",
    "plt.plot(history.history['val_loss'], marker='.', c='blue', label='Validation-set Loss')\n",
    "plt.xlabel('Epoch')\n",
    "plt.legend()\n",
    "plt.show()"
   ]
  },
  {
   "cell_type": "markdown",
   "id": "labeled-delta",
   "metadata": {},
   "source": [
    "# 첫번째 시도\n",
    "## 문장 정제를 어떻게 하느냐에 따라 parameter의 총량이 달라졌다.\n",
    "## 이때의 loss, val_loss 값들은 문장 수를 30개 이하으로 정제 했을때 나온 값들이다."
   ]
  },
  {
   "cell_type": "code",
   "execution_count": 21,
   "id": "worst-chain",
   "metadata": {},
   "outputs": [
    {
     "name": "stdout",
     "output_type": "stream",
     "text": [
      "Epoch 1/10\n",
      "456/456 [==============================] - 84s 185ms/step - loss: 1.2970 - val_loss: 1.2310\n",
      "Epoch 2/10\n",
      "456/456 [==============================] - 85s 186ms/step - loss: 1.2471 - val_loss: 1.1824\n",
      "Epoch 3/10\n",
      "456/456 [==============================] - 85s 187ms/step - loss: 1.2012 - val_loss: 1.1420\n",
      "Epoch 4/10\n",
      "456/456 [==============================] - 85s 187ms/step - loss: 1.1591 - val_loss: 1.1003\n",
      "Epoch 5/10\n",
      "456/456 [==============================] - 85s 187ms/step - loss: 1.1197 - val_loss: 1.0632\n",
      "Epoch 6/10\n",
      "456/456 [==============================] - 85s 187ms/step - loss: 1.0836 - val_loss: 1.0278\n",
      "Epoch 7/10\n",
      "456/456 [==============================] - 85s 187ms/step - loss: 1.0500 - val_loss: 0.9986\n",
      "Epoch 8/10\n",
      "456/456 [==============================] - 85s 187ms/step - loss: 1.0190 - val_loss: 0.9692\n",
      "Epoch 9/10\n",
      "456/456 [==============================] - 85s 187ms/step - loss: 0.9911 - val_loss: 0.9419\n",
      "Epoch 10/10\n",
      "456/456 [==============================] - 85s 187ms/step - loss: 0.9654 - val_loss: 0.9181\n"
     ]
    }
   ],
   "source": [
    "history = model.fit(x = enc_train, y = dec_train, epochs=10, batch_size=128, validation_data = (enc_val_val, dec_val_val))"
   ]
  },
  {
   "cell_type": "code",
   "execution_count": 22,
   "id": "muslim-municipality",
   "metadata": {},
   "outputs": [
    {
     "data": {
      "image/png": "[encoded data removed]",
      "text/plain": [
       "<Figure size 576x360 with 1 Axes>"
      ]
     },
     "metadata": {
      "needs_background": "light"
     },
     "output_type": "display_data"
    }
   ],
   "source": [
    "import matplotlib.pyplot as plt\n",
    "\n",
    "plt.figure(figsize=(8, 5))\n",
    "\n",
    "plt.plot(history.history['loss'], marker='.', c='red', label='Train-set Loss')\n",
    "plt.plot(history.history['val_loss'], marker='.', c='blue', label='Validation-set Loss')\n",
    "plt.xlabel('Epoch')\n",
    "plt.legend()\n",
    "plt.show()"
   ]
  },
  {
   "cell_type": "markdown",
   "id": "stock-permit",
   "metadata": {},
   "source": [
    "## 시각적으로 봤을 때loss와 val_loss의 값은 차이가 거의 일정하게 나고 epochs당 잘 줄어들었다."
   ]
  },
  {
   "cell_type": "code",
   "execution_count": 23,
   "id": "annoying-wagner",
   "metadata": {},
   "outputs": [],
   "source": [
    "def generate_text(model, tokenizer, init_sentence=\"<start>\", max_len=15):\n",
    "    # 테스트를 위해서 입력받은 init_sentence도 텐서로 변환합니다\n",
    "    test_input = tokenizer.texts_to_sequences([init_sentence])\n",
    "    test_tensor = tf.convert_to_tensor(test_input, dtype=tf.int64)\n",
    "    end_token = tokenizer.word_index[\"<end>\"]\n",
    "\n",
    "    # 단어 하나씩 예측해 문장을 만듭니다\n",
    "    #    1. 입력받은 문장의 텐서를 입력합니다\n",
    "    #    2. 예측된 값 중 가장 높은 확률인 word index를 뽑아냅니다\n",
    "    #    3. 2에서 예측된 word index를 문장 뒤에 붙입니다\n",
    "    #    4. 모델이 <end>를 예측했거나, max_len에 도달했다면 문장 생성을 마칩니다\n",
    "    while True:\n",
    "        # 1\n",
    "        predict = model(test_tensor) \n",
    "        # 2\n",
    "        predict_word = tf.argmax(tf.nn.softmax(predict, axis=-1), axis=-1)[:, -1] \n",
    "        # 3 \n",
    "        test_tensor = tf.concat([test_tensor, tf.expand_dims(predict_word, axis=0)], axis=-1)\n",
    "        # 4\n",
    "        if predict_word.numpy()[0] == end_token: break\n",
    "        if test_tensor.shape[1] >= max_len: break\n",
    "\n",
    "    generated = \"\"\n",
    "    # tokenizer를 이용해 word index를 단어로 하나씩 변환합니다 \n",
    "    for word_index in test_tensor[0].numpy():\n",
    "        generated += tokenizer.index_word[word_index] + \" \"\n",
    "\n",
    "    return generated"
   ]
  },
  {
   "cell_type": "code",
   "execution_count": 24,
   "id": "stainless-lemon",
   "metadata": {},
   "outputs": [
    {
     "data": {
      "text/plain": [
       "'<start> life is a marathon <end> '"
      ]
     },
     "execution_count": 24,
     "metadata": {},
     "output_type": "execute_result"
    }
   ],
   "source": [
    "generate_text(model, tokenizer, init_sentence=\"<start> life\")"
   ]
  },
  {
   "cell_type": "code",
   "execution_count": 25,
   "id": "peaceful-showcase",
   "metadata": {},
   "outputs": [
    {
     "data": {
      "text/plain": [
       "'<start> kill the lights ! <end> '"
      ]
     },
     "execution_count": 25,
     "metadata": {},
     "output_type": "execute_result"
    }
   ],
   "source": [
    "generate_text(model, tokenizer, init_sentence=\"<start> kill\")"
   ]
  },
  {
   "cell_type": "code",
   "execution_count": 26,
   "id": "serial-tsunami",
   "metadata": {},
   "outputs": [
    {
     "data": {
      "text/plain": [
       "'<start> cut me , cut u <end> '"
      ]
     },
     "execution_count": 26,
     "metadata": {},
     "output_type": "execute_result"
    }
   ],
   "source": [
    "generate_text(model, tokenizer, init_sentence=\"<start> cut\")"
   ]
  },
  {
   "cell_type": "code",
   "execution_count": 28,
   "id": "solar-dodge",
   "metadata": {},
   "outputs": [
    {
     "data": {
      "text/plain": [
       "'<start> time time for you to die <end> '"
      ]
     },
     "execution_count": 28,
     "metadata": {},
     "output_type": "execute_result"
    }
   ],
   "source": [
    "generate_text(model, tokenizer, init_sentence=\"<start> time\")"
   ]
  },
  {
   "cell_type": "code",
   "execution_count": 29,
   "id": "divided-assist",
   "metadata": {},
   "outputs": [
    {
     "data": {
      "text/plain": [
       "'<start> smoke barney and baby bop <end> '"
      ]
     },
     "execution_count": 29,
     "metadata": {},
     "output_type": "execute_result"
    }
   ],
   "source": [
    "generate_text(model, tokenizer, init_sentence=\"<start> smoke\")"
   ]
  },
  {
   "cell_type": "markdown",
   "id": "effective-spanish",
   "metadata": {},
   "source": [
    "*********\n",
    "# 회고\n",
    "\n",
    "\n",
    "- 문제 1. : 문장 수를 15단어 이하로 제한하지 않았기 때문에 첫 시도에서 하나의 epochs 당 1시간이 걸려, 10시간동안 돌리다가 커널과 연결이 끊겨서 결과 확인 불가\n",
    "#### 이 문제는 문장 수의 제한이 없기 때문에 0 값이 많아져서 오래 걸렸다.\n",
    "\n",
    "\n",
    "- 문제 2. : train, test로 나눠 RNN을 통해 학습을 시키기까지 시간이 너무 오래 걸렸다. (총 4개의 데이터로 나누는 것을 알게 될때까지 많은 블로그와 많은 사람들의 도움을 받았다.)\n",
    "\n",
    "\n",
    "- 문제 3. 글자 수를 30단어로 정제 했을때와 15단어로 정제 했을때 epochs 값이 다르고 loss값도 다르다.(왜 그런지 모르겠다.)\n",
    "\n",
    "- 문제 4. model(src_sample)을 했을때 Trace back의 오류가 많이 생겨 초기화를 하는데, 시간을 많이 사용했다. (학습시키는데도 시간이 오래 걸리기 때문에 이번에는 여러 시도를 해보지 못했다.)\n",
    "\n",
    "### 생긴 오류\n",
    "- 배치 사이즈에 따른 GPU 메모리 부족 오류\n",
    "- 커널이 죽어버리는 오류\n",
    "\n",
    "\n",
    "*******************\n",
    "\n",
    "- 배치 사이즈를 달리 했을때 에포치의 비교하는 숫자가 달라짐 작아질수록 커진다.\n",
    "\n",
    "- **단어 제한**에 따라 생성되는 문장들이 다르고, 단어장에 없는 단어를 넣었을 때는 결과가 나오지 않았다.\n",
    "- 학습 시킬때마다 같은 문장을 입력해도 다른 문장이 출력 된다.\n",
    "\n",
    "- 이상한 것은 연속해서 배치 사이즈를 키우며 학습을 시켰을때 loss 값이 줄어들었고, 초기화 후 가장 loss값이 적은 결과로 다시 봤을때는 오히려 커져 있었다.\n",
    "\n",
    "- 그 결과 정확히 loss를 줄이는 방법은 더 많이 시도해봐야 알 것 같다.\n",
    "- 확실한것은 **배치 사이즈가 커질수록 학습 시간은 줄어든다.**(여러번 학습을 하게 되기 때문에??? 갈수록 높아지는거 같다.) "
   ]
  },
  {
   "cell_type": "code",
   "execution_count": null,
   "id": "worthy-coverage",
   "metadata": {},
   "outputs": [],
   "source": []
  }
 ],
 "metadata": {
  "kernelspec": {
   "display_name": "Python 3",
   "language": "python",
   "name": "python3"
  },
  "language_info": {
   "codemirror_mode": {
    "name": "ipython",
    "version": 3
   },
   "file_extension": ".py",
   "mimetype": "text/x-python",
   "name": "python",
   "nbconvert_exporter": "python",
   "pygments_lexer": "ipython3",
   "version": "3.7.9"
  }
 },
 "nbformat": 4,
 "nbformat_minor": 5
}
