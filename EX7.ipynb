{
 "cells": [
  {
   "cell_type": "markdown",
   "id": "expressed-guitar",
   "metadata": {},
   "source": [
    "# EX7 영화리뷰 텍스트 감성분석하기\n"
   ]
  },
  {
   "cell_type": "markdown",
   "id": "marked-interstate",
   "metadata": {},
   "source": [
    "- 평가문항\n",
    "\n",
    "> **다양한 방법으로 Text Classification 태스크를 성공적으로 구현하였다.**\n",
    " (3가지 이상의 모델이 성공적으로 시도)\n",
    "\n",
    "> **gensim을 활용하여 자체학습된 혹은 사전학습된 임베딩 레이어를 분석하였다.**\n",
    " (gendim의 유사단어 찾기를 활용하여 자체학습한 임베딩과 사전학습 임베딩을 분석)\n",
    "\n",
    "> **한국어 Word2Vec을 활용하여 가시적인 성능향상을 달성했다.**\n",
    " (네이버 영화리뷰 데이터 감성분석 정확도를 85% 이상 달성함)"
   ]
  },
  {
   "cell_type": "markdown",
   "id": "diagnostic-phenomenon",
   "metadata": {},
   "source": [
    "********************\n",
    "- Cloud shell에서 실행\n",
    "\n",
    "ln -s ~/data/*.txt ~/aiffel/sentiment_classification/data\n",
    "**********************\n",
    "\n",
    "### 1) 데이터 준비와 확인"
   ]
  },
  {
   "cell_type": "code",
   "execution_count": 2,
   "id": "controlling-spending",
   "metadata": {},
   "outputs": [
    {
     "data": {
      "text/html": [
       "<div>\n",
       "<style scoped>\n",
       "    .dataframe tbody tr th:only-of-type {\n",
       "        vertical-align: middle;\n",
       "    }\n",
       "\n",
       "    .dataframe tbody tr th {\n",
       "        vertical-align: top;\n",
       "    }\n",
       "\n",
       "    .dataframe thead th {\n",
       "        text-align: right;\n",
       "    }\n",
       "</style>\n",
       "<table border=\"1\" class=\"dataframe\">\n",
       "  <thead>\n",
       "    <tr style=\"text-align: right;\">\n",
       "      <th></th>\n",
       "      <th>id</th>\n",
       "      <th>document</th>\n",
       "      <th>label</th>\n",
       "    </tr>\n",
       "  </thead>\n",
       "  <tbody>\n",
       "    <tr>\n",
       "      <th>0</th>\n",
       "      <td>9976970</td>\n",
       "      <td>아 더빙.. 진짜 짜증나네요 목소리</td>\n",
       "      <td>0</td>\n",
       "    </tr>\n",
       "    <tr>\n",
       "      <th>1</th>\n",
       "      <td>3819312</td>\n",
       "      <td>흠...포스터보고 초딩영화줄....오버연기조차 가볍지 않구나</td>\n",
       "      <td>1</td>\n",
       "    </tr>\n",
       "    <tr>\n",
       "      <th>2</th>\n",
       "      <td>10265843</td>\n",
       "      <td>너무재밓었다그래서보는것을추천한다</td>\n",
       "      <td>0</td>\n",
       "    </tr>\n",
       "    <tr>\n",
       "      <th>3</th>\n",
       "      <td>9045019</td>\n",
       "      <td>교도소 이야기구먼 ..솔직히 재미는 없다..평점 조정</td>\n",
       "      <td>0</td>\n",
       "    </tr>\n",
       "    <tr>\n",
       "      <th>4</th>\n",
       "      <td>6483659</td>\n",
       "      <td>사이몬페그의 익살스런 연기가 돋보였던 영화!스파이더맨에서 늙어보이기만 했던 커스틴 ...</td>\n",
       "      <td>1</td>\n",
       "    </tr>\n",
       "  </tbody>\n",
       "</table>\n",
       "</div>"
      ],
      "text/plain": [
       "         id                                           document  label\n",
       "0   9976970                                아 더빙.. 진짜 짜증나네요 목소리      0\n",
       "1   3819312                  흠...포스터보고 초딩영화줄....오버연기조차 가볍지 않구나      1\n",
       "2  10265843                                  너무재밓었다그래서보는것을추천한다      0\n",
       "3   9045019                      교도소 이야기구먼 ..솔직히 재미는 없다..평점 조정      0\n",
       "4   6483659  사이몬페그의 익살스런 연기가 돋보였던 영화!스파이더맨에서 늙어보이기만 했던 커스틴 ...      1"
      ]
     },
     "execution_count": 2,
     "metadata": {},
     "output_type": "execute_result"
    }
   ],
   "source": [
    "import pandas as pd\n",
    "import urllib.request\n",
    "%matplotlib inline\n",
    "import matplotlib.pyplot as plt\n",
    "import re\n",
    "from konlpy.tag import Okt\n",
    "from tensorflow import keras\n",
    "from tensorflow.keras.preprocessing.text import Tokenizer\n",
    "import numpy as np\n",
    "from tensorflow.keras.preprocessing.sequence import pad_sequences\n",
    "from collections import Counter\n",
    "\n",
    "\n",
    "# 데이터 파일 읽기\n",
    "train_data = pd.read_table('~/aiffel/sentiment_classification/ratings_train.txt')\n",
    "test_data = pd.read_table('~/aiffel/sentiment_classification/ratings_test.txt')\n",
    "\n",
    "train_data.head()"
   ]
  },
  {
   "cell_type": "code",
   "execution_count": 3,
   "id": "relevant-egyptian",
   "metadata": {},
   "outputs": [
    {
     "data": {
      "text/html": [
       "<div>\n",
       "<style scoped>\n",
       "    .dataframe tbody tr th:only-of-type {\n",
       "        vertical-align: middle;\n",
       "    }\n",
       "\n",
       "    .dataframe tbody tr th {\n",
       "        vertical-align: top;\n",
       "    }\n",
       "\n",
       "    .dataframe thead th {\n",
       "        text-align: right;\n",
       "    }\n",
       "</style>\n",
       "<table border=\"1\" class=\"dataframe\">\n",
       "  <thead>\n",
       "    <tr style=\"text-align: right;\">\n",
       "      <th></th>\n",
       "      <th>id</th>\n",
       "      <th>document</th>\n",
       "      <th>label</th>\n",
       "    </tr>\n",
       "  </thead>\n",
       "  <tbody>\n",
       "    <tr>\n",
       "      <th>0</th>\n",
       "      <td>6270596</td>\n",
       "      <td>굳 ㅋ</td>\n",
       "      <td>1</td>\n",
       "    </tr>\n",
       "    <tr>\n",
       "      <th>1</th>\n",
       "      <td>9274899</td>\n",
       "      <td>GDNTOPCLASSINTHECLUB</td>\n",
       "      <td>0</td>\n",
       "    </tr>\n",
       "    <tr>\n",
       "      <th>2</th>\n",
       "      <td>8544678</td>\n",
       "      <td>뭐야 이 평점들은.... 나쁘진 않지만 10점 짜리는 더더욱 아니잖아</td>\n",
       "      <td>0</td>\n",
       "    </tr>\n",
       "    <tr>\n",
       "      <th>3</th>\n",
       "      <td>6825595</td>\n",
       "      <td>지루하지는 않은데 완전 막장임... 돈주고 보기에는....</td>\n",
       "      <td>0</td>\n",
       "    </tr>\n",
       "    <tr>\n",
       "      <th>4</th>\n",
       "      <td>6723715</td>\n",
       "      <td>3D만 아니었어도 별 다섯 개 줬을텐데.. 왜 3D로 나와서 제 심기를 불편하게 하죠??</td>\n",
       "      <td>0</td>\n",
       "    </tr>\n",
       "  </tbody>\n",
       "</table>\n",
       "</div>"
      ],
      "text/plain": [
       "        id                                           document  label\n",
       "0  6270596                                                굳 ㅋ      1\n",
       "1  9274899                               GDNTOPCLASSINTHECLUB      0\n",
       "2  8544678             뭐야 이 평점들은.... 나쁘진 않지만 10점 짜리는 더더욱 아니잖아      0\n",
       "3  6825595                   지루하지는 않은데 완전 막장임... 돈주고 보기에는....      0\n",
       "4  6723715  3D만 아니었어도 별 다섯 개 줬을텐데.. 왜 3D로 나와서 제 심기를 불편하게 하죠??      0"
      ]
     },
     "execution_count": 3,
     "metadata": {},
     "output_type": "execute_result"
    }
   ],
   "source": [
    "test_data.head()"
   ]
  },
  {
   "cell_type": "markdown",
   "id": "suitable-default",
   "metadata": {},
   "source": [
    "### 2) 데이터로더 구성\n",
    "\n",
    "- 데이터의 중복 제거\n",
    "- NaN 결측치 제거\n",
    "- 한국어 토크나이저로 토큰화\n",
    "- 불용어(Stopwords)제거\n",
    "- 사전 word_to_index 구성\n",
    "- 텍스트 스트링을 사전 인덱스 스트링으로 변환\n",
    "- X_train, y_train, X_test, y_test, word_to_index 리턴"
   ]
  },
  {
   "cell_type": "code",
   "execution_count": 5,
   "id": "disciplinary-playlist",
   "metadata": {},
   "outputs": [],
   "source": [
    "from konlpy.tag import Mecab\n",
    "tokenizer = Mecab()\n",
    "\n",
    "#불용어\n",
    "stopwords = ['의','가','이','은','들','는','좀','잘','걍','과','도','를','으로','자','에','와','한','하다']\n",
    "\n",
    "def load_data(train_data, test_data, num_words=10000):\n",
    "    train_data.drop_duplicates(subset=['document'], inplace=True)  # 중복 제거\n",
    "    train_data = train_data.dropna(how = 'any') \n",
    "    test_data.drop_duplicates(subset=['document'], inplace=True)   # 중복 제거\n",
    "    test_data = test_data.dropna(how = 'any') \n",
    "    \n",
    "    X_train = []\n",
    "    for sentence in train_data['document']:\n",
    "        temp_X = tokenizer.morphs(sentence) # 토큰화\n",
    "        temp_X = [word for word in temp_X if not word in stopwords] # 불용어 제거\n",
    "        X_train.append(temp_X)\n",
    "\n",
    "    X_test = []\n",
    "    for sentence in test_data['document']:\n",
    "        temp_X = tokenizer.morphs(sentence) # 토큰화\n",
    "        temp_X = [word for word in temp_X if not word in stopwords] # 불용어 제거\n",
    "        X_test.append(temp_X)\n",
    "    \n",
    "    words = np.concatenate(X_train).tolist()\n",
    "    counter = Counter(words)\n",
    "    counter = counter.most_common(10000-4)\n",
    "    vocab = ['<PAD>', '<BOS>', '<UNK>', '<UNUSED>'] + [key for key, _ in counter]\n",
    "    word_to_index = {word:index for index, word in enumerate(vocab)}    # {단어:숫자} 딕셔너리 생성\n",
    "        \n",
    "    def wordlist_to_indexlist(wordlist):\n",
    "        return [word_to_index[word] if word in word_to_index else word_to_index['<UNK>'] for word in wordlist]\n",
    "        \n",
    "    X_train = list(map(wordlist_to_indexlist, X_train))\n",
    "    X_test = list(map(wordlist_to_indexlist, X_test))\n",
    "        \n",
    "    return X_train, np.array(list(train_data['label'])), X_test, np.array(list(test_data['label'])), word_to_index"
   ]
  },
  {
   "cell_type": "code",
   "execution_count": 6,
   "id": "ideal-sheet",
   "metadata": {},
   "outputs": [
    {
     "name": "stdout",
     "output_type": "stream",
     "text": [
      "train data 개수: 146182, test data 개수: 49157\n"
     ]
    }
   ],
   "source": [
    "X_train, y_train, X_test, y_test, word_to_index = load_data(train_data, test_data) \n",
    "print(f'train data 개수: {len(X_train)}, test data 개수: {len(X_test)}')"
   ]
  },
  {
   "cell_type": "code",
   "execution_count": 7,
   "id": "vietnamese-heath",
   "metadata": {},
   "outputs": [],
   "source": [
    "index_to_word = {index:word for word, index in word_to_index.items()}"
   ]
  },
  {
   "cell_type": "code",
   "execution_count": 8,
   "id": "interesting-portfolio",
   "metadata": {},
   "outputs": [],
   "source": [
    "# 문장 1개를 활용할 딕셔너리와 함께 주면, 단어 인덱스 리스트 벡터로 변환해 주는 함수\n",
    "# 단, 모든 문장은 <BOS>로 시작\n",
    "def get_encoded_sentence(sentence, word_to_index):\n",
    "    return [word_to_index['<BOS>']]+[word_to_index[word] if word in word_to_index else word_to_index['<UNK>'] for word in sentence.split()]\n",
    "\n",
    "# 여러 개의 문장 리스트를 한꺼번에 단어 인덱스 리스트 벡터로 encode해 주는 함수\n",
    "def get_encoded_sentences(sentences, word_to_index):\n",
    "    return [get_encoded_sentence(sentence, word_to_index) for sentence in sentences]\n",
    "\n",
    "# 숫자 벡터로 encode된 문장을 원래대로 decode하는 함수\n",
    "def get_decoded_sentence(encoded_sentence, index_to_word):\n",
    "    return ' '.join(index_to_word[index] if index in index_to_word else '<UNK>' for index in encoded_sentence[1:])  #[1:]를 통해 <BOS>를 제외\n",
    "\n",
    "# 여러 개의 숫자 벡터로 encode된 문장을 한꺼번에 원래대로 decode하는 함수\n",
    "def get_decoded_sentences(encoded_sentences, index_to_word):\n",
    "    return [get_decoded_sentence(encoded_sentence, index_to_word) for encoded_sentence in encoded_sentences]"
   ]
  },
  {
   "cell_type": "code",
   "execution_count": 9,
   "id": "occupied-flavor",
   "metadata": {},
   "outputs": [
    {
     "name": "stdout",
     "output_type": "stream",
     "text": [
      "[32, 74, 919, 4, 4, 39, 228, 20, 33, 748]\n",
      "익살 스런 연기 돋보였 던 영화 ! 스파이더맨 에서 늙 어 보이 기 만 했 던 <UNK> <UNK> 너무나 이뻐 보였 다\n",
      "라벨:  1\n"
     ]
    }
   ],
   "source": [
    "print(X_train[0])\n",
    "print(get_decoded_sentence(X_train[4], index_to_word))\n",
    "print('라벨: ', y_train[4])"
   ]
  },
  {
   "cell_type": "markdown",
   "id": "lined-speaker",
   "metadata": {},
   "source": [
    "### 3) 데이터 분석 및 가공\n",
    "\n",
    "- 적절한 최대 문장 길이를 찾아 지정"
   ]
  },
  {
   "cell_type": "code",
   "execution_count": 10,
   "id": "aging-airplane",
   "metadata": {},
   "outputs": [
    {
     "name": "stdout",
     "output_type": "stream",
     "text": [
      "문장길이 평균 :  15.96940191154864\n",
      "문장길이 최대 :  116\n",
      "문장길이 표준편차 :  12.843571191092\n",
      "pad_sequences maxlen :  41\n",
      "전체 문장의 0.9342988343341575%가 maxlen 설정값 이내에 포함됩니다. \n"
     ]
    }
   ],
   "source": [
    "total_data_text = list(X_train) + list(X_test)\n",
    "# 텍스트데이터 문장길이의 리스트를 생성한 후\n",
    "num_tokens = [len(tokens) for tokens in total_data_text]\n",
    "num_tokens = np.array(num_tokens)\n",
    "# 문장길이의 평균값, 최대값, 표준편차를 계산\n",
    "print('문장길이 평균 : ', np.mean(num_tokens))\n",
    "print('문장길이 최대 : ', np.max(num_tokens))\n",
    "print('문장길이 표준편차 : ', np.std(num_tokens))\n",
    "\n",
    "# 최대 길이를 (평균 + 2*표준편차)로 한다면,  \n",
    "max_tokens = np.mean(num_tokens) + 2 * np.std(num_tokens)\n",
    "maxlen = int(max_tokens)\n",
    "print('pad_sequences maxlen : ', maxlen)\n",
    "print('전체 문장의 {}%가 maxlen 설정값 이내에 포함됩니다. '.format(np.sum(num_tokens < max_tokens) / len(num_tokens)))"
   ]
  },
  {
   "cell_type": "markdown",
   "id": "cooked-telescope",
   "metadata": {},
   "source": [
    "> padding 적용\n",
    "- 모델의 종류에 따라 문장의 0을 채워 넣을 자리를 조정한다.['pre' 앞쪽, 'post' 뒤쪽]\n",
    "- 예를들어, Many to Many와 Many to One의 두 가지 모델이 있고 지금 진행하고 있는 모델은 앞('pre')에 넣어야 성능이 좋아지기 때문에 'pre'를 사용한다."
   ]
  },
  {
   "cell_type": "code",
   "execution_count": 11,
   "id": "integrated-angola",
   "metadata": {},
   "outputs": [
    {
     "name": "stdout",
     "output_type": "stream",
     "text": [
      "(146182, 41)\n"
     ]
    }
   ],
   "source": [
    "X_train_pre = keras.preprocessing.sequence.pad_sequences(X_train,\n",
    "                                                        value=word_to_index[\"<PAD>\"],\n",
    "                                                        padding='pre',\n",
    "                                                        maxlen=maxlen)\n",
    "\n",
    "X_test_pre = keras.preprocessing.sequence.pad_sequences(X_test,\n",
    "                                                       value=word_to_index[\"<PAD>\"],\n",
    "                                                       padding='pre', \n",
    "                                                       maxlen=maxlen)\n",
    "\n",
    "print(X_train_pre.shape)"
   ]
  },
  {
   "cell_type": "code",
   "execution_count": 12,
   "id": "aggregate-object",
   "metadata": {},
   "outputs": [
    {
     "name": "stdout",
     "output_type": "stream",
     "text": [
      "[  0   0   0   0   0   0   0   0   0   0   0   0   0   0   0   0   0   0\n",
      "   0   0   0   0   0   0   0   0   0   0   0   0   0  32  74 919   4   4\n",
      "  39 228  20  33 748]\n",
      "<PAD> <PAD> <PAD> <PAD> <PAD> <PAD> <PAD> <PAD> <PAD> <PAD> <PAD> <PAD> <PAD> <PAD> <PAD> <PAD> <PAD> <PAD> <PAD> <PAD> <PAD> <PAD> <PAD> <PAD> <PAD> <PAD> <PAD> <PAD> <PAD> <PAD> 아 더 빙 . . 진짜 짜증 나 네요 목소리\n",
      "라벨:  0\n"
     ]
    }
   ],
   "source": [
    "print(X_train_pre[0])\n",
    "print(get_decoded_sentence(X_train_pre[0], index_to_word))\n",
    "print('라벨: ', y_train[0])  # 1번째 리뷰데이터의 라벨"
   ]
  },
  {
   "cell_type": "markdown",
   "id": "varying-record",
   "metadata": {},
   "source": [
    "- padding이 'pre' 앞쪽에 배치 되었다."
   ]
  },
  {
   "cell_type": "markdown",
   "id": "previous-frequency",
   "metadata": {},
   "source": [
    "### 4) 모델 구성 및 validation set 구성\n",
    "\n",
    "- 45000개를 validation set으로 사용"
   ]
  },
  {
   "cell_type": "code",
   "execution_count": 13,
   "id": "respiratory-cyprus",
   "metadata": {},
   "outputs": [
    {
     "name": "stdout",
     "output_type": "stream",
     "text": [
      "(45000, 41)\n",
      "(45000,)\n",
      "(101182, 41)\n",
      "(101182,)\n"
     ]
    }
   ],
   "source": [
    "# validation set 10000건 분리\n",
    "X_val_pre = X_train_pre[:45000]    # pre 패딩된 train set 분리\n",
    "y_val = y_train[:45000]\n",
    "\n",
    "# validation set을 제외한 나머지\n",
    "partial_X_train_pre = X_train_pre[45000:]\n",
    "partial_y_train = y_train[45000:]\n",
    "\n",
    "\n",
    "# validation set 갯수\n",
    "print(X_val_pre.shape)\n",
    "print(y_val.shape)\n",
    "\n",
    "# 나머지 train set 갯수\n",
    "print(partial_X_train_pre.shape)\n",
    "print(partial_y_train.shape)"
   ]
  },
  {
   "cell_type": "markdown",
   "id": "compact-possibility",
   "metadata": {},
   "source": [
    "### 첫번째 RNN(Recurrent Neural Network)"
   ]
  },
  {
   "cell_type": "code",
   "execution_count": 14,
   "id": "charged-premium",
   "metadata": {},
   "outputs": [
    {
     "name": "stdout",
     "output_type": "stream",
     "text": [
      "Model: \"sequential\"\n",
      "_________________________________________________________________\n",
      "Layer (type)                 Output Shape              Param #   \n",
      "=================================================================\n",
      "embedding (Embedding)        (None, None, 16)          160000    \n",
      "_________________________________________________________________\n",
      "lstm (LSTM)                  (None, 8)                 800       \n",
      "_________________________________________________________________\n",
      "dense (Dense)                (None, 8)                 72        \n",
      "_________________________________________________________________\n",
      "dense_1 (Dense)              (None, 1)                 9         \n",
      "=================================================================\n",
      "Total params: 160,881\n",
      "Trainable params: 160,881\n",
      "Non-trainable params: 0\n",
      "_________________________________________________________________\n"
     ]
    }
   ],
   "source": [
    "vocab_size = 10000    # 어휘 사전의 크기(10,000개의 단어)\n",
    "word_vector_dim = 16  # 단어 하나를 표현하는 임베딩 벡터의 차원수 (변경가능)\n",
    "\n",
    "# LSTM 레이어로 모델 설계\n",
    "model_rnn_pre = keras.Sequential()\n",
    "model_rnn_pre.add(keras.layers.Embedding(vocab_size, word_vector_dim, input_shape=(None,)))\n",
    "model_rnn_pre.add(keras.layers.LSTM(8))  # LSTM state 벡터의 차원수 (변경가능)\n",
    "model_rnn_pre.add(keras.layers.Dense(8, activation='relu'))\n",
    "model_rnn_pre.add(keras.layers.Dense(1, activation='sigmoid'))  # 최종 출력은 긍정/부정을 나타내는 1dim\n",
    "\n",
    "model_rnn_pre.summary()"
   ]
  },
  {
   "cell_type": "markdown",
   "id": "bottom-absorption",
   "metadata": {},
   "source": [
    "### 두번째 CNN(Convolution Neural Network)"
   ]
  },
  {
   "cell_type": "code",
   "execution_count": 15,
   "id": "fresh-robin",
   "metadata": {},
   "outputs": [
    {
     "name": "stdout",
     "output_type": "stream",
     "text": [
      "Model: \"sequential_1\"\n",
      "_________________________________________________________________\n",
      "Layer (type)                 Output Shape              Param #   \n",
      "=================================================================\n",
      "embedding_1 (Embedding)      (None, None, 16)          160000    \n",
      "_________________________________________________________________\n",
      "conv1d (Conv1D)              (None, None, 16)          784       \n",
      "_________________________________________________________________\n",
      "max_pooling1d (MaxPooling1D) (None, None, 16)          0         \n",
      "_________________________________________________________________\n",
      "conv1d_1 (Conv1D)            (None, None, 16)          784       \n",
      "_________________________________________________________________\n",
      "global_max_pooling1d (Global (None, 16)                0         \n",
      "_________________________________________________________________\n",
      "dense_2 (Dense)              (None, 8)                 136       \n",
      "_________________________________________________________________\n",
      "dense_3 (Dense)              (None, 1)                 9         \n",
      "=================================================================\n",
      "Total params: 161,713\n",
      "Trainable params: 161,713\n",
      "Non-trainable params: 0\n",
      "_________________________________________________________________\n"
     ]
    }
   ],
   "source": [
    "\n",
    "vocab_size = 10000    # 어휘 사전의 크기(10,000개의 단어)\n",
    "word_vector_dim = 16  # 단어 하나를 표현하는 임베딩 벡터의 차원수 (변경가능)\n",
    "\n",
    "# 1-D CNN 모델 설계\n",
    "model_1dcnn_pre = keras.Sequential()\n",
    "model_1dcnn_pre.add(keras.layers.Embedding(vocab_size, word_vector_dim, input_shape=(None,)))\n",
    "model_1dcnn_pre.add(keras.layers.Conv1D(16, 3, activation='relu'))\n",
    "model_1dcnn_pre.add(keras.layers.MaxPooling1D(5))\n",
    "model_1dcnn_pre.add(keras.layers.Conv1D(16, 3, activation='relu'))\n",
    "model_1dcnn_pre.add(keras.layers.GlobalMaxPooling1D())\n",
    "model_1dcnn_pre.add(keras.layers.Dense(8, activation='relu'))\n",
    "model_1dcnn_pre.add(keras.layers.Dense(1, activation='sigmoid'))  # 최종 출력은 긍정/부정을 나타내는 1dim\n",
    "\n",
    "model_1dcnn_pre.summary()"
   ]
  },
  {
   "cell_type": "markdown",
   "id": "personalized-independence",
   "metadata": {},
   "source": [
    "### 세번째 GlobalMaxPooling1D"
   ]
  },
  {
   "cell_type": "code",
   "execution_count": 16,
   "id": "conservative-deviation",
   "metadata": {},
   "outputs": [
    {
     "name": "stdout",
     "output_type": "stream",
     "text": [
      "Model: \"sequential_2\"\n",
      "_________________________________________________________________\n",
      "Layer (type)                 Output Shape              Param #   \n",
      "=================================================================\n",
      "embedding_2 (Embedding)      (None, None, 16)          160000    \n",
      "_________________________________________________________________\n",
      "global_max_pooling1d_1 (Glob (None, 16)                0         \n",
      "_________________________________________________________________\n",
      "dense_4 (Dense)              (None, 8)                 136       \n",
      "_________________________________________________________________\n",
      "dense_5 (Dense)              (None, 1)                 9         \n",
      "=================================================================\n",
      "Total params: 160,145\n",
      "Trainable params: 160,145\n",
      "Non-trainable params: 0\n",
      "_________________________________________________________________\n"
     ]
    }
   ],
   "source": [
    "vocab_size = 10000    # 어휘 사전의 크기(10,000개의 단어)\n",
    "word_vector_dim = 16  # 단어 하나를 표현하는 임베딩 벡터의 차원수 (변경가능)\n",
    "\n",
    "# GlobalMaxPooling1D() 레이어 하나만 사용하여 모델 설계\n",
    "model_gmp_pre = keras.Sequential()\n",
    "model_gmp_pre.add(keras.layers.Embedding(vocab_size, word_vector_dim, input_shape=(None,)))\n",
    "model_gmp_pre.add(keras.layers.GlobalMaxPooling1D())\n",
    "model_gmp_pre.add(keras.layers.Dense(8, activation='relu'))\n",
    "model_gmp_pre.add(keras.layers.Dense(1, activation='sigmoid'))  # 최종 출력은 긍정/부정을 나타내는 1dim\n",
    "\n",
    "model_gmp_pre.summary()"
   ]
  },
  {
   "cell_type": "markdown",
   "id": "encouraging-mustang",
   "metadata": {},
   "source": [
    "### 5-1) 모델 학습 및 시각화['pre로 시도']"
   ]
  },
  {
   "cell_type": "markdown",
   "id": "exclusive-jaguar",
   "metadata": {},
   "source": [
    "- RNN 모델 훈련"
   ]
  },
  {
   "cell_type": "code",
   "execution_count": 17,
   "id": "elder-confusion",
   "metadata": {},
   "outputs": [
    {
     "name": "stdout",
     "output_type": "stream",
     "text": [
      "Epoch 1/10\n",
      "198/198 [==============================] - 6s 14ms/step - loss: 0.6030 - accuracy: 0.7038 - val_loss: 0.3655 - val_accuracy: 0.8435\n",
      "Epoch 2/10\n",
      "198/198 [==============================] - 2s 11ms/step - loss: 0.3468 - accuracy: 0.8556 - val_loss: 0.3501 - val_accuracy: 0.8496\n",
      "Epoch 3/10\n",
      "198/198 [==============================] - 2s 12ms/step - loss: 0.3186 - accuracy: 0.8692 - val_loss: 0.3498 - val_accuracy: 0.8506\n",
      "Epoch 4/10\n",
      "198/198 [==============================] - 2s 11ms/step - loss: 0.3005 - accuracy: 0.8774 - val_loss: 0.3608 - val_accuracy: 0.8435\n",
      "Epoch 5/10\n",
      "198/198 [==============================] - 2s 11ms/step - loss: 0.2986 - accuracy: 0.8790 - val_loss: 0.3574 - val_accuracy: 0.8458\n",
      "Epoch 6/10\n",
      "198/198 [==============================] - 2s 11ms/step - loss: 0.2866 - accuracy: 0.8838 - val_loss: 0.3563 - val_accuracy: 0.8478\n",
      "Epoch 7/10\n",
      "198/198 [==============================] - 2s 11ms/step - loss: 0.2819 - accuracy: 0.8866 - val_loss: 0.3590 - val_accuracy: 0.8472\n",
      "Epoch 8/10\n",
      "198/198 [==============================] - 2s 11ms/step - loss: 0.2746 - accuracy: 0.8905 - val_loss: 0.3578 - val_accuracy: 0.8474\n",
      "Epoch 9/10\n",
      "198/198 [==============================] - 2s 11ms/step - loss: 0.2674 - accuracy: 0.8943 - val_loss: 0.3661 - val_accuracy: 0.8452\n",
      "Epoch 10/10\n",
      "198/198 [==============================] - 2s 11ms/step - loss: 0.2588 - accuracy: 0.8975 - val_loss: 0.3683 - val_accuracy: 0.8461\n"
     ]
    }
   ],
   "source": [
    "model_rnn_pre.compile(optimizer='adam',\n",
    "              loss='binary_crossentropy',\n",
    "              metrics=['accuracy'])\n",
    "              \n",
    "epochs=10\n",
    "\n",
    "history_rnn_pre = model_rnn_pre.fit(partial_X_train_pre,\n",
    "                    partial_y_train,\n",
    "                    epochs=epochs,\n",
    "                    batch_size=512,\n",
    "                    validation_data=(X_val_pre, y_val),\n",
    "                    verbose=1)"
   ]
  },
  {
   "cell_type": "code",
   "execution_count": 18,
   "id": "primary-warrior",
   "metadata": {},
   "outputs": [
    {
     "data": {
      "image/png": "[encoded data removed]",
      "text/plain": [
       "<Figure size 864x576 with 2 Axes>"
      ]
     },
     "metadata": {
      "needs_background": "light"
     },
     "output_type": "display_data"
    }
   ],
   "source": [
    "history_rnn_pre_dict = history_rnn_pre.history\n",
    "\n",
    "acc = history_rnn_pre_dict['accuracy']\n",
    "val_acc = history_rnn_pre_dict['val_accuracy']\n",
    "loss = history_rnn_pre_dict['loss']\n",
    "val_loss = history_rnn_pre_dict['val_loss']\n",
    "\n",
    "epochs = range(1, len(acc) + 1)\n",
    "\n",
    "plt.figure(figsize=(12,8))\n",
    "\n",
    "# loss 그래프\n",
    "plt.subplot(1,2,1)\n",
    "plt.plot(epochs, loss, 'bo', label='Training loss')\n",
    "plt.plot(epochs, val_loss, 'b', label='Validation loss')\n",
    "plt.title('Training and validation loss')\n",
    "plt.xlabel('Epochs')\n",
    "plt.ylabel('Loss')\n",
    "plt.legend()\n",
    "\n",
    "# accuracy 그래프\n",
    "plt.subplot(1,2,2)\n",
    "plt.plot(epochs, acc, 'ro', label='Training acc')\n",
    "plt.plot(epochs, val_acc, 'r', label='Validation acc')\n",
    "plt.title('Training and validation accuracy')\n",
    "plt.xlabel('Epochs')\n",
    "plt.ylabel('Accuracy')\n",
    "plt.legend()\n",
    "\n",
    "plt.show()"
   ]
  },
  {
   "cell_type": "code",
   "execution_count": 19,
   "id": "acute-companion",
   "metadata": {},
   "outputs": [
    {
     "name": "stdout",
     "output_type": "stream",
     "text": [
      "1537/1537 - 5s - loss: 0.3809 - accuracy: 0.8391\n",
      "[0.3809346556663513, 0.8391480445861816]\n"
     ]
    }
   ],
   "source": [
    "results = model_rnn_pre.evaluate(X_test_pre,  y_test, verbose=2)\n",
    "\n",
    "print(results)"
   ]
  },
  {
   "cell_type": "markdown",
   "id": "proud-brother",
   "metadata": {},
   "source": [
    "- CNN 모델 훈련"
   ]
  },
  {
   "cell_type": "code",
   "execution_count": 20,
   "id": "satellite-sweden",
   "metadata": {},
   "outputs": [
    {
     "name": "stdout",
     "output_type": "stream",
     "text": [
      "Epoch 1/10\n",
      "198/198 [==============================] - 8s 26ms/step - loss: 0.6622 - accuracy: 0.5836 - val_loss: 0.4865 - val_accuracy: 0.7517\n",
      "Epoch 2/10\n",
      "198/198 [==============================] - 2s 8ms/step - loss: 0.4541 - accuracy: 0.7777 - val_loss: 0.4635 - val_accuracy: 0.7654\n",
      "Epoch 3/10\n",
      "198/198 [==============================] - 2s 9ms/step - loss: 0.4118 - accuracy: 0.8029 - val_loss: 0.4636 - val_accuracy: 0.7679\n",
      "Epoch 4/10\n",
      "198/198 [==============================] - 2s 8ms/step - loss: 0.3829 - accuracy: 0.8169 - val_loss: 0.4717 - val_accuracy: 0.7669\n",
      "Epoch 5/10\n",
      "198/198 [==============================] - 2s 8ms/step - loss: 0.3556 - accuracy: 0.8333 - val_loss: 0.4812 - val_accuracy: 0.7674\n",
      "Epoch 6/10\n",
      "198/198 [==============================] - 2s 8ms/step - loss: 0.3301 - accuracy: 0.8461 - val_loss: 0.5050 - val_accuracy: 0.7608\n",
      "Epoch 7/10\n",
      "198/198 [==============================] - 2s 8ms/step - loss: 0.3013 - accuracy: 0.8623 - val_loss: 0.5267 - val_accuracy: 0.7619\n",
      "Epoch 8/10\n",
      "198/198 [==============================] - 2s 8ms/step - loss: 0.2705 - accuracy: 0.8754 - val_loss: 0.5612 - val_accuracy: 0.7558\n",
      "Epoch 9/10\n",
      "198/198 [==============================] - 2s 8ms/step - loss: 0.2481 - accuracy: 0.8860 - val_loss: 0.6020 - val_accuracy: 0.7553\n",
      "Epoch 10/10\n",
      "198/198 [==============================] - 2s 8ms/step - loss: 0.2253 - accuracy: 0.8971 - val_loss: 0.6468 - val_accuracy: 0.7494\n"
     ]
    }
   ],
   "source": [
    "\n",
    "model_1dcnn_pre.compile(optimizer='adam',\n",
    "              loss='binary_crossentropy',\n",
    "              metrics=['accuracy'])\n",
    "              \n",
    "epochs=10\n",
    "\n",
    "history_1dcnn_pre = model_1dcnn_pre.fit(partial_X_train_pre,\n",
    "                                       partial_y_train,\n",
    "                                       epochs=epochs,\n",
    "                                       batch_size=512,\n",
    "                                       validation_data=(X_val_pre, y_val),\n",
    "                                       verbose=1)"
   ]
  },
  {
   "cell_type": "code",
   "execution_count": 21,
   "id": "royal-france",
   "metadata": {},
   "outputs": [
    {
     "data": {
      "image/png": "[encoded data removed]",
      "text/plain": [
       "<Figure size 864x576 with 2 Axes>"
      ]
     },
     "metadata": {
      "needs_background": "light"
     },
     "output_type": "display_data"
    }
   ],
   "source": [
    "history_1dcnn_pre_dict = history_1dcnn_pre.history\n",
    "\n",
    "acc = history_1dcnn_pre_dict['accuracy']\n",
    "val_acc = history_1dcnn_pre_dict['val_accuracy']\n",
    "loss = history_1dcnn_pre_dict['loss']\n",
    "val_loss = history_1dcnn_pre_dict['val_loss']\n",
    "\n",
    "epochs = range(1, len(acc) + 1)\n",
    "\n",
    "plt.figure(figsize=(12,8))\n",
    "\n",
    "# loss 그래프\n",
    "plt.subplot(1,2,1)\n",
    "plt.plot(epochs, loss, 'bo', label='Training loss')\n",
    "plt.plot(epochs, val_loss, 'b', label='Validation loss')\n",
    "plt.title('Training and validation loss')\n",
    "plt.xlabel('Epochs')\n",
    "plt.ylabel('Loss')\n",
    "plt.legend()\n",
    "\n",
    "# accuracy 그래프\n",
    "plt.subplot(1,2,2)\n",
    "plt.plot(epochs, acc, 'ro', label='Training acc')\n",
    "plt.plot(epochs, val_acc, 'r', label='Validation acc')\n",
    "plt.title('Training and validation accuracy')\n",
    "plt.xlabel('Epochs')\n",
    "plt.ylabel('Accuracy')\n",
    "plt.legend()\n",
    "\n",
    "plt.show()"
   ]
  },
  {
   "cell_type": "code",
   "execution_count": 22,
   "id": "resident-denver",
   "metadata": {},
   "outputs": [
    {
     "name": "stdout",
     "output_type": "stream",
     "text": [
      "1537/1537 - 4s - loss: 0.6538 - accuracy: 0.7448\n",
      "[0.6537614464759827, 0.7447972893714905]\n"
     ]
    }
   ],
   "source": [
    "results = model_1dcnn_pre.evaluate(X_test_pre,  y_test, verbose=2)\n",
    "\n",
    "print(results)"
   ]
  },
  {
   "cell_type": "markdown",
   "id": "entertaining-wiring",
   "metadata": {},
   "source": [
    "- GlobalMaxPooling 모델 훈련"
   ]
  },
  {
   "cell_type": "code",
   "execution_count": 23,
   "id": "hungry-lindsay",
   "metadata": {},
   "outputs": [
    {
     "name": "stdout",
     "output_type": "stream",
     "text": [
      "Epoch 1/10\n",
      "198/198 [==============================] - 2s 7ms/step - loss: 0.6717 - accuracy: 0.6605 - val_loss: 0.4822 - val_accuracy: 0.8083\n",
      "Epoch 2/10\n",
      "198/198 [==============================] - 1s 6ms/step - loss: 0.4308 - accuracy: 0.8253 - val_loss: 0.3745 - val_accuracy: 0.8350\n",
      "Epoch 3/10\n",
      "198/198 [==============================] - 1s 6ms/step - loss: 0.3424 - accuracy: 0.8550 - val_loss: 0.3588 - val_accuracy: 0.8422\n",
      "Epoch 4/10\n",
      "198/198 [==============================] - 1s 6ms/step - loss: 0.3117 - accuracy: 0.8695 - val_loss: 0.3559 - val_accuracy: 0.8449\n",
      "Epoch 5/10\n",
      "198/198 [==============================] - 1s 6ms/step - loss: 0.2885 - accuracy: 0.8803 - val_loss: 0.3579 - val_accuracy: 0.8457\n",
      "Epoch 6/10\n",
      "198/198 [==============================] - 1s 6ms/step - loss: 0.2681 - accuracy: 0.8910 - val_loss: 0.3629 - val_accuracy: 0.8455\n",
      "Epoch 7/10\n",
      "198/198 [==============================] - 1s 6ms/step - loss: 0.2498 - accuracy: 0.8998 - val_loss: 0.3707 - val_accuracy: 0.8446\n",
      "Epoch 8/10\n",
      "198/198 [==============================] - 1s 6ms/step - loss: 0.2384 - accuracy: 0.9052 - val_loss: 0.3794 - val_accuracy: 0.8427\n",
      "Epoch 9/10\n",
      "198/198 [==============================] - 1s 6ms/step - loss: 0.2263 - accuracy: 0.9108 - val_loss: 0.3900 - val_accuracy: 0.8408\n",
      "Epoch 10/10\n",
      "198/198 [==============================] - 1s 6ms/step - loss: 0.2104 - accuracy: 0.9177 - val_loss: 0.3999 - val_accuracy: 0.8401\n"
     ]
    }
   ],
   "source": [
    "model_gmp_pre.compile(optimizer='adam',\n",
    "              loss='binary_crossentropy',\n",
    "              metrics=['accuracy'])\n",
    "              \n",
    "epochs=10\n",
    "\n",
    "history_gmp_pre = model_gmp_pre.fit(partial_X_train_pre,\n",
    "                                       partial_y_train,\n",
    "                                       epochs=epochs,\n",
    "                                       batch_size=512,\n",
    "                                       validation_data=(X_val_pre, y_val),\n",
    "                                       verbose=1)"
   ]
  },
  {
   "cell_type": "code",
   "execution_count": 24,
   "id": "sought-secretary",
   "metadata": {},
   "outputs": [
    {
     "data": {
      "image/png": "[encoded data removed]",
      "text/plain": [
       "<Figure size 864x576 with 2 Axes>"
      ]
     },
     "metadata": {
      "needs_background": "light"
     },
     "output_type": "display_data"
    }
   ],
   "source": [
    "\n",
    "history_gmp_pre_dict = history_gmp_pre.history\n",
    "\n",
    "acc = history_gmp_pre_dict['accuracy']\n",
    "val_acc = history_gmp_pre_dict['val_accuracy']\n",
    "loss = history_gmp_pre_dict['loss']\n",
    "val_loss = history_gmp_pre_dict['val_loss']\n",
    "\n",
    "epochs = range(1, len(acc) + 1)\n",
    "\n",
    "plt.figure(figsize=(12,8))\n",
    "\n",
    "# loss 그래프\n",
    "plt.subplot(1,2,1)\n",
    "plt.plot(epochs, loss, 'bo', label='Training loss')\n",
    "plt.plot(epochs, val_loss, 'b', label='Validation loss')\n",
    "plt.title('Training and validation loss')\n",
    "plt.xlabel('Epochs')\n",
    "plt.ylabel('Loss')\n",
    "plt.legend()\n",
    "\n",
    "# accuracy 그래프\n",
    "plt.subplot(1,2,2)\n",
    "plt.plot(epochs, acc, 'ro', label='Training acc')\n",
    "plt.plot(epochs, val_acc, 'r', label='Validation acc')\n",
    "plt.title('Training and validation accuracy')\n",
    "plt.xlabel('Epochs')\n",
    "plt.ylabel('Accuracy')\n",
    "plt.legend()\n",
    "\n",
    "plt.show()"
   ]
  },
  {
   "cell_type": "code",
   "execution_count": 25,
   "id": "informal-rouge",
   "metadata": {},
   "outputs": [
    {
     "name": "stdout",
     "output_type": "stream",
     "text": [
      "1537/1537 - 2s - loss: 0.4135 - accuracy: 0.8333\n",
      "[0.4134535491466522, 0.833268940448761]\n"
     ]
    }
   ],
   "source": [
    "results = model_gmp_pre.evaluate(X_test_pre,  y_test, verbose=2)\n",
    "\n",
    "print(results)"
   ]
  },
  {
   "cell_type": "markdown",
   "id": "combined-department",
   "metadata": {},
   "source": [
    "|모델|pre padding 정확도|\n",
    "|------|---|\n",
    "|RNN(LSTM)|0.8403|\n",
    "|CNN|0.7418|\n",
    "|GlobalMaxPooling|0.8431|\n",
    "\n",
    "*********************\n",
    "### 5-2) 모델 학습 및 시각화['post로 시도']"
   ]
  },
  {
   "cell_type": "code",
   "execution_count": 26,
   "id": "radical-suspect",
   "metadata": {},
   "outputs": [
    {
     "name": "stdout",
     "output_type": "stream",
     "text": [
      "(146182, 41)\n"
     ]
    }
   ],
   "source": [
    "\n",
    "X_train_post = keras.preprocessing.sequence.pad_sequences(X_train,\n",
    "                                                        value=word_to_index[\"<PAD>\"],\n",
    "                                                        padding='post',\n",
    "                                                        maxlen=maxlen)\n",
    "\n",
    "X_test_post = keras.preprocessing.sequence.pad_sequences(X_test,\n",
    "                                                       value=word_to_index[\"<PAD>\"],\n",
    "                                                       padding='post', \n",
    "                                                       maxlen=maxlen)\n",
    "\n",
    "print(X_train_post.shape)"
   ]
  },
  {
   "cell_type": "code",
   "execution_count": 27,
   "id": "orange-silly",
   "metadata": {},
   "outputs": [
    {
     "name": "stdout",
     "output_type": "stream",
     "text": [
      "[ 32  74 919   4   4  39 228  20  33 748   0   0   0   0   0   0   0   0\n",
      "   0   0   0   0   0   0   0   0   0   0   0   0   0   0   0   0   0   0\n",
      "   0   0   0   0   0]\n",
      "더 빙 . . 진짜 짜증 나 네요 목소리 <PAD> <PAD> <PAD> <PAD> <PAD> <PAD> <PAD> <PAD> <PAD> <PAD> <PAD> <PAD> <PAD> <PAD> <PAD> <PAD> <PAD> <PAD> <PAD> <PAD> <PAD> <PAD> <PAD> <PAD> <PAD> <PAD> <PAD> <PAD> <PAD> <PAD> <PAD>\n",
      "라벨:  0\n"
     ]
    }
   ],
   "source": [
    "print(X_train_post[0])\n",
    "print(get_decoded_sentence(X_train_post[0], index_to_word))\n",
    "print('라벨: ', y_train[0])  # 1번째 리뷰데이터의 라벨"
   ]
  },
  {
   "cell_type": "code",
   "execution_count": 28,
   "id": "boolean-surveillance",
   "metadata": {},
   "outputs": [
    {
     "name": "stdout",
     "output_type": "stream",
     "text": [
      "(45000, 41)\n",
      "(101182, 41)\n"
     ]
    }
   ],
   "source": [
    "X_val_post = X_train_post[:45000]\n",
    "\n",
    "partial_X_train_post = X_train_post[45000:]\n",
    "\n",
    "print(X_val_post.shape)\n",
    "\n",
    "print(partial_X_train_post.shape)"
   ]
  },
  {
   "cell_type": "markdown",
   "id": "hispanic-american",
   "metadata": {},
   "source": [
    "- RNN 모델 훈련"
   ]
  },
  {
   "cell_type": "code",
   "execution_count": 29,
   "id": "better-dispute",
   "metadata": {},
   "outputs": [
    {
     "name": "stdout",
     "output_type": "stream",
     "text": [
      "Model: \"sequential_3\"\n",
      "_________________________________________________________________\n",
      "Layer (type)                 Output Shape              Param #   \n",
      "=================================================================\n",
      "embedding_3 (Embedding)      (None, None, 16)          160000    \n",
      "_________________________________________________________________\n",
      "lstm_1 (LSTM)                (None, 8)                 800       \n",
      "_________________________________________________________________\n",
      "dense_6 (Dense)              (None, 8)                 72        \n",
      "_________________________________________________________________\n",
      "dense_7 (Dense)              (None, 1)                 9         \n",
      "=================================================================\n",
      "Total params: 160,881\n",
      "Trainable params: 160,881\n",
      "Non-trainable params: 0\n",
      "_________________________________________________________________\n"
     ]
    }
   ],
   "source": [
    "vocab_size = 10000    # 어휘 사전의 크기(10,000개의 단어)\n",
    "word_vector_dim = 16  # 단어 하나를 표현하는 임베딩 벡터의 차원수 (변경가능)\n",
    "\n",
    "# LSTM 레이어로 모델 설계\n",
    "model_rnn_post = keras.Sequential()\n",
    "model_rnn_post.add(keras.layers.Embedding(vocab_size, word_vector_dim, input_shape=(None,)))\n",
    "model_rnn_post.add(keras.layers.LSTM(8))  # LSTM state 벡터의 차원수 (변경가능)\n",
    "model_rnn_post.add(keras.layers.Dense(8, activation='relu'))\n",
    "model_rnn_post.add(keras.layers.Dense(1, activation='sigmoid'))  # 최종 출력은 긍정/부정을 나타내는 1dim\n",
    "\n",
    "model_rnn_post.summary()"
   ]
  },
  {
   "cell_type": "code",
   "execution_count": 30,
   "id": "distinguished-eating",
   "metadata": {},
   "outputs": [
    {
     "name": "stdout",
     "output_type": "stream",
     "text": [
      "Epoch 1/10\n",
      "198/198 [==============================] - 5s 14ms/step - loss: 0.6795 - accuracy: 0.5289 - val_loss: 0.4595 - val_accuracy: 0.8177\n",
      "Epoch 2/10\n",
      "198/198 [==============================] - 2s 11ms/step - loss: 0.4062 - accuracy: 0.8383 - val_loss: 0.3591 - val_accuracy: 0.8428\n",
      "Epoch 3/10\n",
      "198/198 [==============================] - 2s 11ms/step - loss: 0.3263 - accuracy: 0.8664 - val_loss: 0.3482 - val_accuracy: 0.8493\n",
      "Epoch 4/10\n",
      "198/198 [==============================] - 2s 11ms/step - loss: 0.3034 - accuracy: 0.8768 - val_loss: 0.3534 - val_accuracy: 0.8482\n",
      "Epoch 5/10\n",
      "198/198 [==============================] - 2s 11ms/step - loss: 0.2946 - accuracy: 0.8813 - val_loss: 0.3522 - val_accuracy: 0.8471\n",
      "Epoch 6/10\n",
      "198/198 [==============================] - 2s 11ms/step - loss: 0.2873 - accuracy: 0.8844 - val_loss: 0.3599 - val_accuracy: 0.8464\n",
      "Epoch 7/10\n",
      "198/198 [==============================] - 2s 11ms/step - loss: 0.2793 - accuracy: 0.8872 - val_loss: 0.3604 - val_accuracy: 0.8443\n",
      "Epoch 8/10\n",
      "198/198 [==============================] - 2s 11ms/step - loss: 0.2747 - accuracy: 0.8900 - val_loss: 0.3695 - val_accuracy: 0.8470\n",
      "Epoch 9/10\n",
      "198/198 [==============================] - 2s 11ms/step - loss: 0.2730 - accuracy: 0.8914 - val_loss: 0.3659 - val_accuracy: 0.8467\n",
      "Epoch 10/10\n",
      "198/198 [==============================] - 2s 11ms/step - loss: 0.2675 - accuracy: 0.8937 - val_loss: 0.3796 - val_accuracy: 0.8441\n"
     ]
    }
   ],
   "source": [
    "model_rnn_post.compile(optimizer='adam',\n",
    "              loss='binary_crossentropy',\n",
    "              metrics=['accuracy'])\n",
    "              \n",
    "epochs=10\n",
    "\n",
    "history_rnn_post = model_rnn_post.fit(partial_X_train_post,\n",
    "                    partial_y_train,\n",
    "                    epochs=epochs,\n",
    "                    batch_size=512,\n",
    "                    validation_data=(X_val_post, y_val),\n",
    "                    verbose=1)"
   ]
  },
  {
   "cell_type": "code",
   "execution_count": 31,
   "id": "greek-orleans",
   "metadata": {},
   "outputs": [
    {
     "data": {
      "image/png": "[encoded data removed]",
      "text/plain": [
       "<Figure size 864x576 with 2 Axes>"
      ]
     },
     "metadata": {
      "needs_background": "light"
     },
     "output_type": "display_data"
    }
   ],
   "source": [
    "history_rnn_post_dict = history_rnn_post.history\n",
    "\n",
    "acc = history_rnn_post_dict['accuracy']\n",
    "val_acc = history_rnn_post_dict['val_accuracy']\n",
    "loss = history_rnn_post_dict['loss']\n",
    "val_loss = history_rnn_post_dict['val_loss']\n",
    "\n",
    "epochs = range(1, len(acc) + 1)\n",
    "\n",
    "plt.figure(figsize=(12,8))\n",
    "\n",
    "# loss 그래프\n",
    "plt.subplot(1,2,1)\n",
    "plt.plot(epochs, loss, 'bo', label='Training loss')\n",
    "plt.plot(epochs, val_loss, 'b', label='Validation loss')\n",
    "plt.title('Training and validation loss')\n",
    "plt.xlabel('Epochs')\n",
    "plt.ylabel('Loss')\n",
    "plt.legend()\n",
    "\n",
    "# accuracy 그래프\n",
    "plt.subplot(1,2,2)\n",
    "plt.plot(epochs, acc, 'ro', label='Training acc')\n",
    "plt.plot(epochs, val_acc, 'r', label='Validation acc')\n",
    "plt.title('Training and validation accuracy')\n",
    "plt.xlabel('Epochs')\n",
    "plt.ylabel('Accuracy')\n",
    "plt.legend()\n",
    "\n",
    "plt.show()"
   ]
  },
  {
   "cell_type": "code",
   "execution_count": 32,
   "id": "nutritional-consideration",
   "metadata": {},
   "outputs": [
    {
     "name": "stdout",
     "output_type": "stream",
     "text": [
      "1537/1537 - 5s - loss: 0.3891 - accuracy: 0.8373\n",
      "[0.3890856206417084, 0.8373374938964844]\n"
     ]
    }
   ],
   "source": [
    "results = model_rnn_post.evaluate(X_test_post,  y_test, verbose=2)\n",
    "\n",
    "print(results)"
   ]
  },
  {
   "cell_type": "markdown",
   "id": "selected-peeing",
   "metadata": {},
   "source": [
    "- CNN 모델 훈련"
   ]
  },
  {
   "cell_type": "code",
   "execution_count": 33,
   "id": "funky-joyce",
   "metadata": {},
   "outputs": [
    {
     "name": "stdout",
     "output_type": "stream",
     "text": [
      "Model: \"sequential_4\"\n",
      "_________________________________________________________________\n",
      "Layer (type)                 Output Shape              Param #   \n",
      "=================================================================\n",
      "embedding_4 (Embedding)      (None, None, 16)          160000    \n",
      "_________________________________________________________________\n",
      "conv1d_2 (Conv1D)            (None, None, 16)          784       \n",
      "_________________________________________________________________\n",
      "max_pooling1d_1 (MaxPooling1 (None, None, 16)          0         \n",
      "_________________________________________________________________\n",
      "conv1d_3 (Conv1D)            (None, None, 16)          784       \n",
      "_________________________________________________________________\n",
      "global_max_pooling1d_2 (Glob (None, 16)                0         \n",
      "_________________________________________________________________\n",
      "dense_8 (Dense)              (None, 8)                 136       \n",
      "_________________________________________________________________\n",
      "dense_9 (Dense)              (None, 1)                 9         \n",
      "=================================================================\n",
      "Total params: 161,713\n",
      "Trainable params: 161,713\n",
      "Non-trainable params: 0\n",
      "_________________________________________________________________\n"
     ]
    }
   ],
   "source": [
    "vocab_size = 10000    # 어휘 사전의 크기(10,000개의 단어)\n",
    "word_vector_dim = 16  # 단어 하나를 표현하는 임베딩 벡터의 차원수 (변경가능)\n",
    "\n",
    "# 1-D CNN 모델 설계\n",
    "model_1dcnn_post = keras.Sequential()\n",
    "model_1dcnn_post.add(keras.layers.Embedding(vocab_size, word_vector_dim, input_shape=(None,)))\n",
    "model_1dcnn_post.add(keras.layers.Conv1D(16, 3, activation='relu'))\n",
    "model_1dcnn_post.add(keras.layers.MaxPooling1D(5))\n",
    "model_1dcnn_post.add(keras.layers.Conv1D(16, 3, activation='relu'))\n",
    "model_1dcnn_post.add(keras.layers.GlobalMaxPooling1D())\n",
    "model_1dcnn_post.add(keras.layers.Dense(8, activation='relu'))\n",
    "model_1dcnn_post.add(keras.layers.Dense(1, activation='sigmoid'))  # 최종 출력은 긍정/부정을 나타내는 1dim\n",
    "\n",
    "model_1dcnn_post.summary()"
   ]
  },
  {
   "cell_type": "code",
   "execution_count": 34,
   "id": "southern-undergraduate",
   "metadata": {},
   "outputs": [
    {
     "name": "stdout",
     "output_type": "stream",
     "text": [
      "Epoch 1/10\n",
      "198/198 [==============================] - 3s 9ms/step - loss: 0.6482 - accuracy: 0.6105 - val_loss: 0.3735 - val_accuracy: 0.8354\n",
      "Epoch 2/10\n",
      "198/198 [==============================] - 2s 8ms/step - loss: 0.3418 - accuracy: 0.8542 - val_loss: 0.3435 - val_accuracy: 0.8518\n",
      "Epoch 3/10\n",
      "198/198 [==============================] - 2s 8ms/step - loss: 0.2934 - accuracy: 0.8777 - val_loss: 0.3415 - val_accuracy: 0.8536\n",
      "Epoch 4/10\n",
      "198/198 [==============================] - 2s 8ms/step - loss: 0.2709 - accuracy: 0.8896 - val_loss: 0.3494 - val_accuracy: 0.8523\n",
      "Epoch 5/10\n",
      "198/198 [==============================] - 2s 8ms/step - loss: 0.2432 - accuracy: 0.9043 - val_loss: 0.3591 - val_accuracy: 0.8487\n",
      "Epoch 6/10\n",
      "198/198 [==============================] - 2s 8ms/step - loss: 0.2231 - accuracy: 0.9151 - val_loss: 0.3701 - val_accuracy: 0.8474\n",
      "Epoch 7/10\n",
      "198/198 [==============================] - 2s 8ms/step - loss: 0.2006 - accuracy: 0.9257 - val_loss: 0.3928 - val_accuracy: 0.8464\n",
      "Epoch 8/10\n",
      "198/198 [==============================] - 2s 9ms/step - loss: 0.1735 - accuracy: 0.9380 - val_loss: 0.4175 - val_accuracy: 0.8427\n",
      "Epoch 9/10\n",
      "198/198 [==============================] - 2s 8ms/step - loss: 0.1562 - accuracy: 0.9471 - val_loss: 0.4476 - val_accuracy: 0.8398\n",
      "Epoch 10/10\n",
      "198/198 [==============================] - 2s 8ms/step - loss: 0.1328 - accuracy: 0.9565 - val_loss: 0.4823 - val_accuracy: 0.8348\n"
     ]
    }
   ],
   "source": [
    "model_1dcnn_post.compile(optimizer='adam',\n",
    "              loss='binary_crossentropy',\n",
    "              metrics=['accuracy'])\n",
    "              \n",
    "epochs=10\n",
    "\n",
    "history_1dcnn_post = model_1dcnn_post.fit(partial_X_train_post,\n",
    "                                       partial_y_train,\n",
    "                                       epochs=epochs,\n",
    "                                       batch_size=512,\n",
    "                                       validation_data=(X_val_post, y_val),\n",
    "                                       verbose=1)"
   ]
  },
  {
   "cell_type": "code",
   "execution_count": 35,
   "id": "continental-gathering",
   "metadata": {},
   "outputs": [
    {
     "data": {
      "image/png": "[encoded data removed]",
      "text/plain": [
       "<Figure size 864x576 with 2 Axes>"
      ]
     },
     "metadata": {
      "needs_background": "light"
     },
     "output_type": "display_data"
    }
   ],
   "source": [
    "history_1dcnn_post_dict = history_1dcnn_post.history\n",
    "\n",
    "acc = history_1dcnn_post_dict['accuracy']\n",
    "val_acc = history_1dcnn_post_dict['val_accuracy']\n",
    "loss = history_1dcnn_post_dict['loss']\n",
    "val_loss = history_1dcnn_post_dict['val_loss']\n",
    "\n",
    "epochs = range(1, len(acc) + 1)\n",
    "\n",
    "plt.figure(figsize=(12,8))\n",
    "\n",
    "# loss 그래프\n",
    "plt.subplot(1,2,1)\n",
    "plt.plot(epochs, loss, 'bo', label='Training loss')\n",
    "plt.plot(epochs, val_loss, 'b', label='Validation loss')\n",
    "plt.title('Training and validation loss')\n",
    "plt.xlabel('Epochs')\n",
    "plt.ylabel('Loss')\n",
    "plt.legend()\n",
    "\n",
    "# accuracy 그래프\n",
    "plt.subplot(1,2,2)\n",
    "plt.plot(epochs, acc, 'ro', label='Training acc')\n",
    "plt.plot(epochs, val_acc, 'r', label='Validation acc')\n",
    "plt.title('Training and validation accuracy')\n",
    "plt.xlabel('Epochs')\n",
    "plt.ylabel('Accuracy')\n",
    "plt.legend()\n",
    "\n",
    "plt.show()"
   ]
  },
  {
   "cell_type": "code",
   "execution_count": 36,
   "id": "subsequent-bookmark",
   "metadata": {},
   "outputs": [
    {
     "name": "stdout",
     "output_type": "stream",
     "text": [
      "1537/1537 - 3s - loss: 0.4903 - accuracy: 0.8315\n",
      "[0.4903475046157837, 0.8315194249153137]\n"
     ]
    }
   ],
   "source": [
    "results = model_1dcnn_post.evaluate(X_test_post,  y_test, verbose=2)\n",
    "\n",
    "print(results)"
   ]
  },
  {
   "cell_type": "markdown",
   "id": "beautiful-battle",
   "metadata": {},
   "source": [
    "- GlobalMaxpooling 모델 훈련"
   ]
  },
  {
   "cell_type": "code",
   "execution_count": 37,
   "id": "through-frequency",
   "metadata": {},
   "outputs": [
    {
     "name": "stdout",
     "output_type": "stream",
     "text": [
      "Model: \"sequential_5\"\n",
      "_________________________________________________________________\n",
      "Layer (type)                 Output Shape              Param #   \n",
      "=================================================================\n",
      "embedding_5 (Embedding)      (None, None, 16)          160000    \n",
      "_________________________________________________________________\n",
      "global_max_pooling1d_3 (Glob (None, 16)                0         \n",
      "_________________________________________________________________\n",
      "dense_10 (Dense)             (None, 8)                 136       \n",
      "_________________________________________________________________\n",
      "dense_11 (Dense)             (None, 1)                 9         \n",
      "=================================================================\n",
      "Total params: 160,145\n",
      "Trainable params: 160,145\n",
      "Non-trainable params: 0\n",
      "_________________________________________________________________\n"
     ]
    }
   ],
   "source": [
    "vocab_size = 10000    # 어휘 사전의 크기(10,000개의 단어)\n",
    "word_vector_dim = 16  # 단어 하나를 표현하는 임베딩 벡터의 차원수 (변경가능)\n",
    "\n",
    "# GlobalMaxPooling1D() 레이어 하나만 사용하여 모델 설계\n",
    "model_gmp_post = keras.Sequential()\n",
    "model_gmp_post.add(keras.layers.Embedding(vocab_size, word_vector_dim, input_shape=(None,)))\n",
    "model_gmp_post.add(keras.layers.GlobalMaxPooling1D())\n",
    "model_gmp_post.add(keras.layers.Dense(8, activation='relu'))\n",
    "model_gmp_post.add(keras.layers.Dense(1, activation='sigmoid'))  # 최종 출력은 긍정/부정을 나타내는 1dim\n",
    "\n",
    "model_gmp_post.summary()"
   ]
  },
  {
   "cell_type": "code",
   "execution_count": 38,
   "id": "periodic-lingerie",
   "metadata": {},
   "outputs": [
    {
     "name": "stdout",
     "output_type": "stream",
     "text": [
      "Epoch 1/10\n",
      "198/198 [==============================] - 2s 7ms/step - loss: 0.6675 - accuracy: 0.6672 - val_loss: 0.4900 - val_accuracy: 0.8084\n",
      "Epoch 2/10\n",
      "198/198 [==============================] - 1s 6ms/step - loss: 0.4430 - accuracy: 0.8248 - val_loss: 0.3769 - val_accuracy: 0.8348\n",
      "Epoch 3/10\n",
      "198/198 [==============================] - 1s 6ms/step - loss: 0.3465 - accuracy: 0.8556 - val_loss: 0.3574 - val_accuracy: 0.8426\n",
      "Epoch 4/10\n",
      "198/198 [==============================] - 1s 6ms/step - loss: 0.3101 - accuracy: 0.8726 - val_loss: 0.3531 - val_accuracy: 0.8448\n",
      "Epoch 5/10\n",
      "198/198 [==============================] - 1s 6ms/step - loss: 0.2818 - accuracy: 0.8867 - val_loss: 0.3554 - val_accuracy: 0.8454\n",
      "Epoch 6/10\n",
      "198/198 [==============================] - 1s 6ms/step - loss: 0.2633 - accuracy: 0.8947 - val_loss: 0.3618 - val_accuracy: 0.8445\n",
      "Epoch 7/10\n",
      "198/198 [==============================] - 1s 6ms/step - loss: 0.2444 - accuracy: 0.9037 - val_loss: 0.3708 - val_accuracy: 0.8431\n",
      "Epoch 8/10\n",
      "198/198 [==============================] - 1s 6ms/step - loss: 0.2302 - accuracy: 0.9103 - val_loss: 0.3806 - val_accuracy: 0.8421\n",
      "Epoch 9/10\n",
      "198/198 [==============================] - 1s 6ms/step - loss: 0.2137 - accuracy: 0.9179 - val_loss: 0.3915 - val_accuracy: 0.8408\n",
      "Epoch 10/10\n",
      "198/198 [==============================] - 1s 6ms/step - loss: 0.2018 - accuracy: 0.9243 - val_loss: 0.4029 - val_accuracy: 0.8393\n"
     ]
    }
   ],
   "source": [
    "model_gmp_post.compile(optimizer='adam',\n",
    "              loss='binary_crossentropy',\n",
    "              metrics=['accuracy'])\n",
    "              \n",
    "epochs=10\n",
    "\n",
    "history_gmp_post = model_gmp_post.fit(partial_X_train_post,\n",
    "                                       partial_y_train,\n",
    "                                       epochs=epochs,\n",
    "                                       batch_size=512,\n",
    "                                       validation_data=(X_val_post, y_val),\n",
    "                                       verbose=1)"
   ]
  },
  {
   "cell_type": "code",
   "execution_count": 39,
   "id": "colonial-poison",
   "metadata": {},
   "outputs": [
    {
     "data": {
      "image/png": "[encoded data removed]",
      "text/plain": [
       "<Figure size 864x576 with 2 Axes>"
      ]
     },
     "metadata": {
      "needs_background": "light"
     },
     "output_type": "display_data"
    }
   ],
   "source": [
    "history_gmp_post_dict = history_gmp_post.history\n",
    "\n",
    "acc = history_gmp_post_dict['accuracy']\n",
    "val_acc = history_gmp_post_dict['val_accuracy']\n",
    "loss = history_gmp_post_dict['loss']\n",
    "val_loss = history_gmp_post_dict['val_loss']\n",
    "\n",
    "epochs = range(1, len(acc) + 1)\n",
    "\n",
    "plt.figure(figsize=(12,8))\n",
    "\n",
    "# loss 그래프\n",
    "plt.subplot(1,2,1)\n",
    "plt.plot(epochs, loss, 'bo', label='Training loss')\n",
    "plt.plot(epochs, val_loss, 'b', label='Validation loss')\n",
    "plt.title('Training and validation loss')\n",
    "plt.xlabel('Epochs')\n",
    "plt.ylabel('Loss')\n",
    "plt.legend()\n",
    "\n",
    "# accuracy 그래프\n",
    "plt.subplot(1,2,2)\n",
    "plt.plot(epochs, acc, 'ro', label='Training acc')\n",
    "plt.plot(epochs, val_acc, 'r', label='Validation acc')\n",
    "plt.title('Training and validation accuracy')\n",
    "plt.xlabel('Epochs')\n",
    "plt.ylabel('Accuracy')\n",
    "plt.legend()\n",
    "\n",
    "plt.show()"
   ]
  },
  {
   "cell_type": "code",
   "execution_count": 40,
   "id": "outside-grocery",
   "metadata": {},
   "outputs": [
    {
     "name": "stdout",
     "output_type": "stream",
     "text": [
      "1537/1537 - 2s - loss: 0.4113 - accuracy: 0.8358\n",
      "[0.41134580969810486, 0.8357914686203003]\n"
     ]
    }
   ],
   "source": [
    "results = model_gmp_post.evaluate(X_test_post,  y_test, verbose=2)\n",
    "\n",
    "print(results)"
   ]
  },
  {
   "cell_type": "markdown",
   "id": "focal-sphere",
   "metadata": {},
   "source": [
    "|모델|post padding 정확도|\n",
    "|------|---|\n",
    "|RNN(LSTM)|0.8388|\n",
    "|CNN|0.8332|\n",
    "|GlobalMaxPooling|0.8363|\n",
    "\n",
    "*******************************\n",
    "\n",
    "> **CNN은** pre padding 보다 **post padding에 적합**하다.\n"
   ]
  },
  {
   "cell_type": "markdown",
   "id": "trying-updating",
   "metadata": {},
   "source": [
    "### 6) 임베딩 레이어 분석\n",
    "\n",
    "- Embedding 레이어는 우리가 가진 사전의 단어 갯수 X 워드 벡터 사이즈만큼의 크기를 가진 학습 파라미터이고, 학습이 잘 됐다면 워드 벡터들이 의미 공간상에 유의미한 형태로 남아있을 것이다.\n",
    "- pre padding 이용 RNN 모델"
   ]
  },
  {
   "cell_type": "code",
   "execution_count": 41,
   "id": "measured-insulin",
   "metadata": {},
   "outputs": [
    {
     "name": "stdout",
     "output_type": "stream",
     "text": [
      "(10000, 16)\n"
     ]
    }
   ],
   "source": [
    "embedding_layer = model_rnn_pre.layers[0]\n",
    "weights = embedding_layer.get_weights()[0]\n",
    "print(weights.shape)    # shape: (vocab_size, embedding_dim)"
   ]
  },
  {
   "cell_type": "code",
   "execution_count": 42,
   "id": "ready-sterling",
   "metadata": {},
   "outputs": [],
   "source": [
    "import os\n",
    "\n",
    "# 학습한 Embedding 파라미터를 파일에 써서 저장\n",
    "word2vec_file_path = os.getenv('HOME')+'/aiffel/sentiment_classification/word2vec_project.txt'\n",
    "f = open(word2vec_file_path, 'w')\n",
    "f.write('{} {}\\n'.format(vocab_size-4, word_vector_dim))  # 몇개의 벡터를 얼마 사이즈로 기재할지 타이틀을 씁니다.\n",
    "\n",
    "# 단어 개수(특수문자 4개는 제외)만큼의 워드 벡터를 파일에 기록\n",
    "vectors = model_rnn_pre.get_weights()[0]\n",
    "for i in range(4,vocab_size):\n",
    "    f.write('{} {}\\n'.format(index_to_word[i], ' '.join(map(str, list(vectors[i, :])))))\n",
    "f.close()"
   ]
  },
  {
   "cell_type": "code",
   "execution_count": 43,
   "id": "nervous-mandate",
   "metadata": {},
   "outputs": [
    {
     "data": {
      "text/plain": [
       "[('이곳', 0.963407039642334),\n",
       " ('86', 0.9568414688110352),\n",
       " ('찡', 0.9557399153709412),\n",
       " ('메이퀸', 0.9546241760253906),\n",
       " ('엑스', 0.9541471004486084),\n",
       " ('저희', 0.9534773230552673),\n",
       " ('퍼펙트', 0.953449010848999),\n",
       " ('소외', 0.9530998468399048),\n",
       " ('함부로', 0.9523816108703613),\n",
       " ('충분', 0.9510347247123718)]"
      ]
     },
     "execution_count": 43,
     "metadata": {},
     "output_type": "execute_result"
    }
   ],
   "source": [
    "from gensim.models.keyedvectors import Word2VecKeyedVectors\n",
    "\n",
    "word_vectors = Word2VecKeyedVectors.load_word2vec_format(word2vec_file_path, binary=False)\n",
    "\n",
    "word_vectors.similar_by_word(\"환상\")"
   ]
  },
  {
   "cell_type": "code",
   "execution_count": 44,
   "id": "intense-faculty",
   "metadata": {},
   "outputs": [
    {
     "data": {
      "text/plain": [
       "[('님', 0.8737066388130188),\n",
       " ('소림축구', 0.8668602108955383),\n",
       " ('지극히', 0.8518191576004028),\n",
       " ('찍히', 0.8399199843406677),\n",
       " ('바르', 0.8390517830848694),\n",
       " ('윤제문', 0.8379800915718079),\n",
       " ('안목', 0.8339184522628784),\n",
       " ('니매', 0.833432674407959),\n",
       " ('처', 0.8301059007644653),\n",
       " ('투영', 0.82972651720047)]"
      ]
     },
     "execution_count": 44,
     "metadata": {},
     "output_type": "execute_result"
    }
   ],
   "source": [
    "word_vectors.similar_by_word(\"장인\")"
   ]
  },
  {
   "cell_type": "markdown",
   "id": "commercial-scanner",
   "metadata": {},
   "source": [
    "> ???이상하다. 단어를 입력했을때, 가장 유사한 단어와 유사도를 확인했지만, 성능의 개선이 필요하다."
   ]
  },
  {
   "cell_type": "markdown",
   "id": "violent-arlington",
   "metadata": {},
   "source": [
    "### 7) Word2Vec 임베딩을 활용하여 성능 개선"
   ]
  },
  {
   "cell_type": "code",
   "execution_count": 45,
   "id": "saving-humanitarian",
   "metadata": {},
   "outputs": [
    {
     "name": "stderr",
     "output_type": "stream",
     "text": [
      "/opt/conda/lib/python3.7/site-packages/ipykernel_launcher.py:7: DeprecationWarning: Call to deprecated `__getitem__` (Method will be removed in 4.0.0, use self.wv.__getitem__() instead).\n",
      "  import sys\n"
     ]
    },
    {
     "data": {
      "text/plain": [
       "(200,)"
      ]
     },
     "execution_count": 45,
     "metadata": {},
     "output_type": "execute_result"
    }
   ],
   "source": [
    "import gensim\n",
    "from gensim.models import KeyedVectors\n",
    "\n",
    "word2vec_path = os.getenv('HOME')+'/aiffel/sentiment_classification/data/ko.bin'\n",
    "\n",
    "word2vec = gensim.models.Word2Vec.load(word2vec_path)\n",
    "vector = word2vec['행복']\n",
    "vector.shape     # 200dim의 워드 벡터"
   ]
  },
  {
   "cell_type": "code",
   "execution_count": 46,
   "id": "impossible-range",
   "metadata": {},
   "outputs": [
    {
     "name": "stderr",
     "output_type": "stream",
     "text": [
      "/opt/conda/lib/python3.7/site-packages/ipykernel_launcher.py:1: DeprecationWarning: Call to deprecated `similar_by_word` (Method will be removed in 4.0.0, use self.wv.similar_by_word() instead).\n",
      "  \"\"\"Entry point for launching an IPython kernel.\n"
     ]
    },
    {
     "data": {
      "text/plain": [
       "[('육지', 0.7259926795959473),\n",
       " ('호수', 0.6840913891792297),\n",
       " ('바닷속', 0.6585341691970825),\n",
       " ('바닷가', 0.6451719403266907),\n",
       " ('늪', 0.6421072483062744),\n",
       " ('급류', 0.6311373710632324),\n",
       " ('바닷물', 0.6305385231971741),\n",
       " ('절벽', 0.6251566410064697),\n",
       " ('바위', 0.6213432550430298),\n",
       " ('골짜기', 0.6192145347595215)]"
      ]
     },
     "execution_count": 46,
     "metadata": {},
     "output_type": "execute_result"
    }
   ],
   "source": [
    "word2vec.similar_by_word(\"바다\")"
   ]
  },
  {
   "cell_type": "code",
   "execution_count": 47,
   "id": "enhanced-plymouth",
   "metadata": {},
   "outputs": [
    {
     "name": "stderr",
     "output_type": "stream",
     "text": [
      "/opt/conda/lib/python3.7/site-packages/ipykernel_launcher.py:1: DeprecationWarning: Call to deprecated `similar_by_word` (Method will be removed in 4.0.0, use self.wv.similar_by_word() instead).\n",
      "  \"\"\"Entry point for launching an IPython kernel.\n"
     ]
    },
    {
     "data": {
      "text/plain": [
       "[('지구의', 0.7076486349105835),\n",
       " ('태양계', 0.5700592398643494),\n",
       " ('내행성', 0.5400351881980896),\n",
       " ('행성', 0.5400117635726929),\n",
       " ('생물권', 0.5392104387283325),\n",
       " ('태양', 0.5347169041633606),\n",
       " ('외행성', 0.5323898792266846),\n",
       " ('달의', 0.5301944017410278),\n",
       " ('시가지', 0.5279563665390015),\n",
       " ('대기권', 0.5260995626449585)]"
      ]
     },
     "execution_count": 47,
     "metadata": {},
     "output_type": "execute_result"
    }
   ],
   "source": [
    "word2vec.similar_by_word(\"지구\")"
   ]
  },
  {
   "cell_type": "code",
   "execution_count": 48,
   "id": "unexpected-class",
   "metadata": {},
   "outputs": [
    {
     "name": "stderr",
     "output_type": "stream",
     "text": [
      "/opt/conda/lib/python3.7/site-packages/ipykernel_launcher.py:10: DeprecationWarning: Call to deprecated `__contains__` (Method will be removed in 4.0.0, use self.wv.__contains__() instead).\n",
      "  # Remove the CWD from sys.path while we load stuff.\n",
      "/opt/conda/lib/python3.7/site-packages/ipykernel_launcher.py:11: DeprecationWarning: Call to deprecated `__getitem__` (Method will be removed in 4.0.0, use self.wv.__getitem__() instead).\n",
      "  # This is added back by InteractiveShellApp.init_path()\n"
     ]
    }
   ],
   "source": [
    "from tensorflow.keras.initializers import Constant\n",
    "\n",
    "vocab_size = 10000    # 어휘 사전의 크기입니다(10,000개의 단어)\n",
    "word_vector_dim = 200  # 워드 벡터의 차원수 (변경가능한 하이퍼파라미터)\n",
    "\n",
    "embedding_matrix = np.random.rand(vocab_size, word_vector_dim)\n",
    "\n",
    "# embedding_matrix에 Word2Vec 워드 벡터를 단어 하나씩마다 차례차례 카피한다.\n",
    "for i in range(4,vocab_size):\n",
    "    if index_to_word[i] in word2vec:\n",
    "        embedding_matrix[i] = word2vec[index_to_word[i]]"
   ]
  },
  {
   "cell_type": "code",
   "execution_count": 49,
   "id": "fossil-parent",
   "metadata": {},
   "outputs": [
    {
     "name": "stdout",
     "output_type": "stream",
     "text": [
      "Model: \"sequential_6\"\n",
      "_________________________________________________________________\n",
      "Layer (type)                 Output Shape              Param #   \n",
      "=================================================================\n",
      "embedding_6 (Embedding)      (None, 41, 200)           2000000   \n",
      "_________________________________________________________________\n",
      "lstm_2 (LSTM)                (None, 128)               168448    \n",
      "_________________________________________________________________\n",
      "dense_12 (Dense)             (None, 8)                 1032      \n",
      "_________________________________________________________________\n",
      "dense_13 (Dense)             (None, 1)                 9         \n",
      "=================================================================\n",
      "Total params: 2,169,489\n",
      "Trainable params: 2,169,489\n",
      "Non-trainable params: 0\n",
      "_________________________________________________________________\n"
     ]
    }
   ],
   "source": [
    "# LSTM 레이어로 모델 설계\n",
    "model_ko = keras.Sequential()\n",
    "model_ko.add(keras.layers.Embedding(vocab_size, \n",
    "                                 word_vector_dim, \n",
    "                                 embeddings_initializer=Constant(embedding_matrix),  # 카피한 임베딩을 여기서 활용\n",
    "                                 input_length=maxlen, \n",
    "                                 trainable=True))   # trainable을 True로 주면 Fine-tuning\n",
    "model_ko.add(keras.layers.LSTM(128))  # LSTM state 벡터의 차원수 (변경가능)\n",
    "model_ko.add(keras.layers.Dense(8, activation='relu'))\n",
    "model_ko.add(keras.layers.Dense(1, activation='sigmoid'))  # 최종 출력은 긍정/부정을 나타내는 1dim\n",
    "\n",
    "model_ko.summary()"
   ]
  },
  {
   "cell_type": "code",
   "execution_count": 50,
   "id": "instructional-tunnel",
   "metadata": {},
   "outputs": [
    {
     "name": "stdout",
     "output_type": "stream",
     "text": [
      "Epoch 1/10\n",
      "1581/1581 [==============================] - 38s 23ms/step - loss: 0.4735 - accuracy: 0.7650 - val_loss: 0.3348 - val_accuracy: 0.8558\n",
      "Epoch 2/10\n",
      "1581/1581 [==============================] - 36s 22ms/step - loss: 0.2977 - accuracy: 0.8725 - val_loss: 0.3142 - val_accuracy: 0.8658\n",
      "Epoch 3/10\n",
      "1581/1581 [==============================] - 36s 23ms/step - loss: 0.2452 - accuracy: 0.8983 - val_loss: 0.3189 - val_accuracy: 0.8677\n",
      "Epoch 4/10\n",
      "1581/1581 [==============================] - 36s 23ms/step - loss: 0.2009 - accuracy: 0.9194 - val_loss: 0.3340 - val_accuracy: 0.8662\n",
      "Epoch 5/10\n",
      "1581/1581 [==============================] - 36s 23ms/step - loss: 0.1604 - accuracy: 0.9358 - val_loss: 0.3709 - val_accuracy: 0.8595\n",
      "Epoch 6/10\n",
      "1581/1581 [==============================] - 36s 23ms/step - loss: 0.1238 - accuracy: 0.9528 - val_loss: 0.4288 - val_accuracy: 0.8637\n",
      "Epoch 7/10\n",
      "1581/1581 [==============================] - 35s 22ms/step - loss: 0.0892 - accuracy: 0.9661 - val_loss: 0.4947 - val_accuracy: 0.8607\n",
      "Epoch 8/10\n",
      "1581/1581 [==============================] - 36s 23ms/step - loss: 0.0692 - accuracy: 0.9743 - val_loss: 0.5832 - val_accuracy: 0.8588\n",
      "Epoch 9/10\n",
      "1581/1581 [==============================] - 36s 23ms/step - loss: 0.0569 - accuracy: 0.9780 - val_loss: 0.6596 - val_accuracy: 0.8587\n",
      "Epoch 10/10\n",
      "1581/1581 [==============================] - 36s 23ms/step - loss: 0.0430 - accuracy: 0.9840 - val_loss: 0.6696 - val_accuracy: 0.8566\n"
     ]
    }
   ],
   "source": [
    "model_ko.compile(optimizer='adam',\n",
    "              loss='binary_crossentropy',\n",
    "              metrics=['accuracy'])\n",
    "              \n",
    "epochs=10   \n",
    "\n",
    "history_ko = model_ko.fit(partial_X_train_pre,\n",
    "                    partial_y_train,\n",
    "                    epochs=epochs,\n",
    "                    batch_size=64,\n",
    "                    validation_data=(X_val_pre, y_val),\n",
    "                    verbose=1)"
   ]
  },
  {
   "cell_type": "code",
   "execution_count": 51,
   "id": "macro-holder",
   "metadata": {},
   "outputs": [
    {
     "data": {
      "image/png": "[encoded data removed]",
      "text/plain": [
       "<Figure size 864x576 with 2 Axes>"
      ]
     },
     "metadata": {
      "needs_background": "light"
     },
     "output_type": "display_data"
    }
   ],
   "source": [
    "history_ko_dict = history_ko.history\n",
    "\n",
    "acc = history_ko_dict['accuracy']\n",
    "val_acc = history_ko_dict['val_accuracy']\n",
    "loss = history_ko_dict['loss']\n",
    "val_loss = history_ko_dict['val_loss']\n",
    "\n",
    "epochs = range(1, len(acc) + 1)\n",
    "\n",
    "plt.figure(figsize=(12,8))\n",
    "\n",
    "# loss 그래프\n",
    "plt.subplot(1,2,1)\n",
    "plt.plot(epochs, loss, 'bo', label='Training loss')\n",
    "plt.plot(epochs, val_loss, 'b', label='Validation loss')\n",
    "plt.title('Training and validation loss')\n",
    "plt.xlabel('Epochs')\n",
    "plt.ylabel('Loss')\n",
    "plt.legend()\n",
    "\n",
    "# accuracy 그래프\n",
    "plt.subplot(1,2,2)\n",
    "plt.plot(epochs, acc, 'ro', label='Training acc')\n",
    "plt.plot(epochs, val_acc, 'r', label='Validation acc')\n",
    "plt.title('Training and validation accuracy')\n",
    "plt.xlabel('Epochs')\n",
    "plt.ylabel('Accuracy')\n",
    "plt.legend()\n",
    "\n",
    "plt.show()"
   ]
  },
  {
   "cell_type": "code",
   "execution_count": 52,
   "id": "laughing-assembly",
   "metadata": {},
   "outputs": [
    {
     "name": "stdout",
     "output_type": "stream",
     "text": [
      "1537/1537 - 6s - loss: 0.6873 - accuracy: 0.8514\n",
      "[0.6873288154602051, 0.851394534111023]\n"
     ]
    }
   ],
   "source": [
    "results = model_ko.evaluate(X_test_pre,  y_test, verbose=2)\n",
    "\n",
    "print(results)"
   ]
  },
  {
   "cell_type": "markdown",
   "id": "south-conviction",
   "metadata": {},
   "source": [
    "### 8) Dropout 추가\n",
    "\n",
    "- 팀원분들의 추천으로! overfitting 문제를 해결하고, 정규화된 모델을 만들기 위해 network 일부를 생략하는 방법을 쓰면 좋은 결과를 얻을 수 있다기에 사용해 봤다."
   ]
  },
  {
   "cell_type": "code",
   "execution_count": 53,
   "id": "distinguished-royal",
   "metadata": {},
   "outputs": [
    {
     "name": "stdout",
     "output_type": "stream",
     "text": [
      "Model: \"sequential_7\"\n",
      "_________________________________________________________________\n",
      "Layer (type)                 Output Shape              Param #   \n",
      "=================================================================\n",
      "embedding_7 (Embedding)      (None, 41, 200)           2000000   \n",
      "_________________________________________________________________\n",
      "lstm_3 (LSTM)                (None, 128)               168448    \n",
      "_________________________________________________________________\n",
      "dropout (Dropout)            (None, 128)               0         \n",
      "_________________________________________________________________\n",
      "dense_14 (Dense)             (None, 8)                 1032      \n",
      "_________________________________________________________________\n",
      "dropout_1 (Dropout)          (None, 8)                 0         \n",
      "_________________________________________________________________\n",
      "dense_15 (Dense)             (None, 1)                 9         \n",
      "=================================================================\n",
      "Total params: 2,169,489\n",
      "Trainable params: 2,169,489\n",
      "Non-trainable params: 0\n",
      "_________________________________________________________________\n"
     ]
    }
   ],
   "source": [
    "# LSTM 레이어로 모델 설계\n",
    "model_ko_final = keras.Sequential()\n",
    "model_ko_final.add(keras.layers.Embedding(vocab_size, \n",
    "                                 word_vector_dim, \n",
    "                                 embeddings_initializer=Constant(embedding_matrix),  # 카피한 임베딩을 여기서 활용\n",
    "                                 input_length=maxlen, \n",
    "                                 trainable=True))   # trainable을 True로 주면 Fine-tuning\n",
    "model_ko_final.add(keras.layers.LSTM(128))  # LSTM state 벡터의 차원수 (변경가능)\n",
    "model_ko_final.add(keras.layers.Dropout(0.25))                    # Dropout 추가\n",
    "model_ko_final.add(keras.layers.Dense(8, activation='relu'))\n",
    "model_ko_final.add(keras.layers.Dropout(0.3))                     # Dropout 추가\n",
    "model_ko_final.add(keras.layers.Dense(1, activation='sigmoid'))  # 최종 출력은 긍정/부정을 나타내는 1dim\n",
    "model_ko_final.summary()"
   ]
  },
  {
   "cell_type": "code",
   "execution_count": 54,
   "id": "innovative-philosophy",
   "metadata": {},
   "outputs": [
    {
     "name": "stdout",
     "output_type": "stream",
     "text": [
      "Epoch 1/10\n",
      "1581/1581 [==============================] - 38s 23ms/step - loss: 0.5350 - accuracy: 0.7340 - val_loss: 0.3430 - val_accuracy: 0.8528\n",
      "Epoch 2/10\n",
      "1581/1581 [==============================] - 36s 23ms/step - loss: 0.3517 - accuracy: 0.8612 - val_loss: 0.3229 - val_accuracy: 0.8619\n",
      "Epoch 3/10\n",
      "1581/1581 [==============================] - 36s 23ms/step - loss: 0.2969 - accuracy: 0.8859 - val_loss: 0.3173 - val_accuracy: 0.8664\n",
      "Epoch 4/10\n",
      "1581/1581 [==============================] - 36s 23ms/step - loss: 0.2622 - accuracy: 0.8993 - val_loss: 0.3274 - val_accuracy: 0.8647\n",
      "Epoch 5/10\n",
      "1581/1581 [==============================] - 36s 23ms/step - loss: 0.2278 - accuracy: 0.9139 - val_loss: 0.3565 - val_accuracy: 0.8638\n",
      "Epoch 6/10\n",
      "1581/1581 [==============================] - 36s 23ms/step - loss: 0.1928 - accuracy: 0.9297 - val_loss: 0.3712 - val_accuracy: 0.8631\n",
      "Epoch 7/10\n",
      "1581/1581 [==============================] - 36s 23ms/step - loss: 0.1659 - accuracy: 0.9415 - val_loss: 0.4024 - val_accuracy: 0.8615\n",
      "Epoch 8/10\n",
      "1581/1581 [==============================] - 36s 23ms/step - loss: 0.1420 - accuracy: 0.9510 - val_loss: 0.4767 - val_accuracy: 0.8600\n",
      "Epoch 9/10\n",
      "1581/1581 [==============================] - 36s 23ms/step - loss: 0.1259 - accuracy: 0.9575 - val_loss: 0.5188 - val_accuracy: 0.8609\n",
      "Epoch 10/10\n",
      "1581/1581 [==============================] - 36s 23ms/step - loss: 0.1101 - accuracy: 0.9639 - val_loss: 0.5639 - val_accuracy: 0.8570\n"
     ]
    }
   ],
   "source": [
    "model_ko_final.compile(optimizer='adam',\n",
    "              loss='binary_crossentropy',\n",
    "              metrics=['accuracy'])\n",
    "              \n",
    "epochs=10   \n",
    "\n",
    "history_ko_final = model_ko_final.fit(partial_X_train_pre,\n",
    "                    partial_y_train,\n",
    "                    epochs=epochs,\n",
    "                    batch_size=64,\n",
    "                    validation_data=(X_val_pre, y_val),\n",
    "                    verbose=1)"
   ]
  },
  {
   "cell_type": "code",
   "execution_count": 55,
   "id": "adjusted-worry",
   "metadata": {},
   "outputs": [
    {
     "data": {
      "image/png": "[encoded data removed]",
      "text/plain": [
       "<Figure size 864x576 with 2 Axes>"
      ]
     },
     "metadata": {
      "needs_background": "light"
     },
     "output_type": "display_data"
    }
   ],
   "source": [
    "history_ko_final_dict = history_ko_final.history\n",
    "\n",
    "acc = history_ko_final_dict['accuracy']\n",
    "val_acc = history_ko_final_dict['val_accuracy']\n",
    "loss = history_ko_final_dict['loss']\n",
    "val_loss = history_ko_final_dict['val_loss']\n",
    "\n",
    "epochs = range(1, len(acc) + 1)\n",
    "\n",
    "plt.figure(figsize=(12,8))\n",
    "\n",
    "# loss 그래프\n",
    "plt.subplot(1,2,1)\n",
    "plt.plot(epochs, loss, 'bo', label='Training loss')\n",
    "plt.plot(epochs, val_loss, 'b', label='Validation loss')\n",
    "plt.title('Training and validation loss')\n",
    "plt.xlabel('Epochs')\n",
    "plt.ylabel('Loss')\n",
    "plt.legend()\n",
    "\n",
    "# accuracy 그래프\n",
    "plt.subplot(1,2,2)\n",
    "plt.plot(epochs, acc, 'ro', label='Training acc')\n",
    "plt.plot(epochs, val_acc, 'r', label='Validation acc')\n",
    "plt.title('Training and validation accuracy')\n",
    "plt.xlabel('Epochs')\n",
    "plt.ylabel('Accuracy')\n",
    "plt.legend()\n",
    "\n",
    "plt.show()"
   ]
  },
  {
   "cell_type": "code",
   "execution_count": 56,
   "id": "available-accident",
   "metadata": {},
   "outputs": [
    {
     "name": "stdout",
     "output_type": "stream",
     "text": [
      "1537/1537 - 6s - loss: 0.5656 - accuracy: 0.8520\n",
      "[0.5656407475471497, 0.8520048260688782]\n"
     ]
    }
   ],
   "source": [
    "results = model_ko_final.evaluate(X_test_pre,  y_test, verbose=2)\n",
    "\n",
    "print(results)"
   ]
  },
  {
   "cell_type": "markdown",
   "id": "ordered-tribe",
   "metadata": {},
   "source": [
    "- Dropout을 추가하여 모델을 생성했을때, 0.8520으로 아주 소폭 상승했다.\n",
    "- 그래프도 보다 이쁘게 나왔다."
   ]
  },
  {
   "cell_type": "markdown",
   "id": "demographic-cattle",
   "metadata": {},
   "source": [
    "*********************\n",
    "## 회고\n",
    "\n",
    ">Maxlen을 적절하게 잘 지정한것 같다. 정확도가 생각보다 높게 나왔다.\n",
    "\n",
    ">Many to Many, Many to One 의 모델에 따른 padding의 post와 pre 결정\n",
    ">[CNN은 post padding이 적절했고, RNN은 pre padding이 적절했다.]\n",
    "\n",
    ">얼마나 DEEP하게 쌓을 것이냐는 모델마다 잘 지정해야하고, 항상 \"적절하게\"라는 말이 어렵기 때문에, 보다 많은 시도를 통해 감을 넓혀야겠다.\n",
    "\n",
    "\n",
    ">LSTM의 수를 8에서 128로 변경했을때 더 많이 저장할 수 있는 양이 늘어난다고 한다.(어떤 수가 가장 적합한지 찾아보지는 않았다.)\n",
    "\n",
    "> 사실상 정확도가 확실하게 오르지는 않았지만, 변화를 줌으로써 최적화된 결과를 찾아가는 것에 만족한다."
   ]
  }
 ],
 "metadata": {
  "kernelspec": {
   "display_name": "Python 3",
   "language": "python",
   "name": "python3"
  }
 },
 "nbformat": 4,
 "nbformat_minor": 5
}
