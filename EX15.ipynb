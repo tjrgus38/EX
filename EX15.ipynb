{
 "cells": [
  {
   "cell_type": "markdown",
   "id": "monthly-medicaid",
   "metadata": {},
   "source": [
    "# EX15. 트랜스포머로 만드는 대화형 챗봇\n",
    "\n",
    "*******************\n",
    "\n",
    "> 평가문항\n",
    "> - 1. 한국어 전처리를 통해 학습 데이터셋을 구축하였다.\n",
    "> - 2. 트랜스포머 모델을 구현하여 한국어 챗봇 모델 학습을 정상적으로 진행하였다.\n",
    "> - 3. 한국어 입력문장에 대해 한국어로 답변하는 함수를 구현하였다.\n",
    "\n",
    "********************\n",
    "\n",
    "## 1. 데이터 수집하기\n"
   ]
  },
  {
   "cell_type": "code",
   "execution_count": 2,
   "id": "assigned-aurora",
   "metadata": {},
   "outputs": [],
   "source": [
    "import os\n",
    "import re\n",
    "import csv\n",
    "import numpy as np\n",
    "import pandas as pd\n",
    "import tensorflow as tf\n",
    "import matplotlib.pyplot as plt\n",
    "import tensorflow_datasets as tfds"
   ]
  },
  {
   "cell_type": "code",
   "execution_count": 7,
   "id": "intensive-authorization",
   "metadata": {},
   "outputs": [
    {
     "data": {
      "text/plain": [
       "'/aiffel/aiffel/transformer_chatbot/ChatbotData.csv'"
      ]
     },
     "execution_count": 7,
     "metadata": {},
     "output_type": "execute_result"
    }
   ],
   "source": [
    "dataset_file_path = os.getenv('HOME') + '/aiffel/transformer_chatbot/ChatbotData.csv'\n",
    "dataset_file_path"
   ]
  },
  {
   "cell_type": "markdown",
   "id": "eligible-grocery",
   "metadata": {},
   "source": [
    "## 2. 데이터 전처리하기"
   ]
  },
  {
   "cell_type": "code",
   "execution_count": 8,
   "id": "civilian-eclipse",
   "metadata": {},
   "outputs": [],
   "source": [
    "# 전처리 함수\n",
    "def preprocess_sentence(sentence):\n",
    "    # 영어 포함 시 소문자 변환, 양쪽 공백 제거\n",
    "    sentence = sentence.lower().strip()\n",
    "    \n",
    "    # 단어와 구두점 사이 공백 추가\n",
    "    sentence = re.sub(r\"([?.!,])\", r\" \\1 \", sentence)\n",
    "    sentence = re.sub(r'[\" \"]+', \" \", sentence)\n",
    "    \n",
    "    # 한글, 알파벳, .,?!을 제외한 문자 공백으로 대체\n",
    "    sentence = re.sub(r\"[^가-힣a-zA-Z?.!,]+\", \" \", sentence)\n",
    "    sentence = sentence.strip()\n",
    "    \n",
    "    return sentence"
   ]
  },
  {
   "cell_type": "code",
   "execution_count": 9,
   "id": "polar-preview",
   "metadata": {},
   "outputs": [],
   "source": [
    "def load_conversations():\n",
    "    with open(dataset_file_path, errors='ignore') as file:\n",
    "        lines = file.readlines()\n",
    "        \n",
    "    inputs, outputs = [], []\n",
    "    with open(dataset_file_path) as file:\n",
    "        lines = csv.reader(file)\n",
    "        next(lines)\n",
    "        for line in lines:\n",
    "            inputs.append(preprocess_sentence(line[0]))\n",
    "            outputs.append(preprocess_sentence(line[1]))\n",
    "    return inputs, outputs"
   ]
  },
  {
   "cell_type": "code",
   "execution_count": 10,
   "id": "authentic-colon",
   "metadata": {},
   "outputs": [
    {
     "name": "stdout",
     "output_type": "stream",
     "text": [
      "전체 샘플 수 : 11823\n",
      "전체 샘플 수 : 11823\n",
      "\n",
      "전처리 후의 11번째 질문 샘플: 가끔 궁금해\n",
      "전처리 후의 11번째 답변 샘플: 그 사람도 그럴 거예요 .\n"
     ]
    }
   ],
   "source": [
    "questions, answers = load_conversations()\n",
    "\n",
    "print('전체 샘플 수 :', len(questions))\n",
    "print('전체 샘플 수 :', len(answers))\n",
    "print()\n",
    "print('전처리 후의 11번째 질문 샘플: {}'.format(questions[11]))\n",
    "print('전처리 후의 11번째 답변 샘플: {}'.format(answers[11]))"
   ]
  },
  {
   "cell_type": "markdown",
   "id": "canadian-philadelphia",
   "metadata": {},
   "source": [
    "## 3. SubwordTextEncoder 사용하기"
   ]
  },
  {
   "cell_type": "code",
   "execution_count": 11,
   "id": "designing-behavior",
   "metadata": {},
   "outputs": [],
   "source": [
    "tokenizer = tfds.deprecated.text.SubwordTextEncoder.build_from_corpus(questions + answers, target_vocab_size=2**13)"
   ]
  },
  {
   "cell_type": "code",
   "execution_count": 12,
   "id": "whole-sudan",
   "metadata": {},
   "outputs": [
    {
     "name": "stdout",
     "output_type": "stream",
     "text": [
      "START_TOKEN의 번호 : [8133]\n",
      "END_TOKEN의 번호 : [8134]\n"
     ]
    }
   ],
   "source": [
    "# 시작 토큰과 종료 토큰에 고유한 정수 부여\n",
    "START_TOKEN, END_TOKEN = [tokenizer.vocab_size], [tokenizer.vocab_size + 1]\n",
    "\n",
    "print('START_TOKEN의 번호 :' ,[tokenizer.vocab_size])\n",
    "print('END_TOKEN의 번호 :' ,[tokenizer.vocab_size + 1])"
   ]
  },
  {
   "cell_type": "code",
   "execution_count": 13,
   "id": "average-enforcement",
   "metadata": {},
   "outputs": [
    {
     "name": "stdout",
     "output_type": "stream",
     "text": [
      "8135\n"
     ]
    }
   ],
   "source": [
    "# 시작 토큰과 종료 토큰을 고려하여 +2를 하여 단어장의 크기를 산정\n",
    "VOCAB_SIZE = tokenizer.vocab_size + 2\n",
    "print(VOCAB_SIZE)"
   ]
  },
  {
   "cell_type": "code",
   "execution_count": 14,
   "id": "framed-coach",
   "metadata": {},
   "outputs": [
    {
     "name": "stdout",
     "output_type": "stream",
     "text": [
      "questions 최대 길이 : 16\n",
      "questions 평균 길이 : 3.9391017508246637\n",
      "answers 최대 길이 : 24\n",
      "answers 평균 길이 : 4.716146494121627\n"
     ]
    }
   ],
   "source": [
    "questions_len = [len(s.split()) for s in questions]\n",
    "answers_len = [len(s.split()) for s in answers]\n",
    "print(f'questions 최대 길이 : {np.max(questions_len)}')\n",
    "print(f'questions 평균 길이 : {np.mean(questions_len)}')\n",
    "print(f'answers 최대 길이 : {np.max(answers_len)}')\n",
    "print(f'answers 평균 길이 : {np.mean(answers_len)}')"
   ]
  },
  {
   "cell_type": "code",
   "execution_count": 15,
   "id": "orange-function",
   "metadata": {},
   "outputs": [
    {
     "data": {
      "image/png": "[encoded data removed]",
      "text/plain": [
       "<Figure size 432x288 with 1 Axes>"
      ]
     },
     "metadata": {
      "needs_background": "light"
     },
     "output_type": "display_data"
    },
    {
     "data": {
      "image/png": "[encoded data removed]",
      "text/plain": [
       "<Figure size 432x288 with 1 Axes>"
      ]
     },
     "metadata": {
      "needs_background": "light"
     },
     "output_type": "display_data"
    }
   ],
   "source": [
    "plt.title('questions')\n",
    "plt.hist(questions_len, bins = 40)\n",
    "plt.xlabel('length of samples')\n",
    "plt.ylabel('number of samples')\n",
    "plt.show()\n",
    "\n",
    "plt.title('answers')\n",
    "plt.hist(answers_len, bins = 40)\n",
    "plt.xlabel('length of samples')\n",
    "plt.ylabel('number of samples')\n",
    "plt.show()"
   ]
  },
  {
   "cell_type": "code",
   "execution_count": 16,
   "id": "failing-significance",
   "metadata": {},
   "outputs": [],
   "source": [
    "# 최대 허용 길이 지정\n",
    "MAX_LENGTH = 10\n",
    "\n",
    "# 정수인코딩, 최대길이를 초과하는 샘플 제거, 패딩\n",
    "def tokenize_and_filter(inputs, outputs):\n",
    "    tokenized_inputs, tokenized_outputs = [], []\n",
    "    for (sentence1, sentence2) in zip(inputs, outputs):\n",
    "        # 정수 인코딩 과정에서 시작, 종료 토큰 추가\n",
    "        sentence1 = START_TOKEN + tokenizer.encode(sentence1) + END_TOKEN\n",
    "        sentence2 = START_TOKEN + tokenizer.encode(sentence2) + END_TOKEN\n",
    "        \n",
    "        # 최대 길이 10 이하인 경우에만 데이터셋으로 허용\n",
    "        if len(sentence1) <= MAX_LENGTH and len(sentence2) <= MAX_LENGTH:\n",
    "            tokenized_inputs.append(sentence1)\n",
    "            tokenized_outputs.append(sentence2)\n",
    "    \n",
    "    # 최대 길이 10으로 모든 데이터셋 패딩\n",
    "    tokenized_inputs = tf.keras.preprocessing.sequence.pad_sequences(\n",
    "        tokenized_inputs, maxlen=MAX_LENGTH, padding='post'\n",
    "    )\n",
    "    tokenized_outputs = tf.keras.preprocessing.sequence.pad_sequences(\n",
    "        tokenized_outputs, maxlen=MAX_LENGTH, padding='post'\n",
    "    )\n",
    "    return tokenized_inputs, tokenized_outputs"
   ]
  },
  {
   "cell_type": "code",
   "execution_count": 17,
   "id": "humanitarian-healing",
   "metadata": {},
   "outputs": [
    {
     "name": "stdout",
     "output_type": "stream",
     "text": [
      "단어장의 크기 : 8135\n",
      "필터링 후의 질문 샘플 개수: 9128\n",
      "필터링 후의 답변 샘플 개수: 9128\n"
     ]
    }
   ],
   "source": [
    "questions, answers = tokenize_and_filter(questions, answers)\n",
    "print('단어장의 크기 :',(VOCAB_SIZE))\n",
    "print('필터링 후의 질문 샘플 개수: {}'.format(len(questions)))\n",
    "print('필터링 후의 답변 샘플 개수: {}'.format(len(answers)))"
   ]
  },
  {
   "cell_type": "code",
   "execution_count": 18,
   "id": "neutral-broadcast",
   "metadata": {},
   "outputs": [],
   "source": [
    "BATCH_SIZE = 64\n",
    "BUFFER_SIZE = 20000\n",
    "\n",
    "# 디코더는 이전의 target을 다음의 input으로 사용합니다.\n",
    "# 이에 따라 outputs에서는 START_TOKEN을 제거하겠습니다.\n",
    "dataset = tf.data.Dataset.from_tensor_slices((\n",
    "    {\n",
    "        'inputs': questions,\n",
    "        'dec_inputs': answers[:, :-1]\n",
    "    },\n",
    "    {\n",
    "        'outputs': answers[:, 1:]\n",
    "    },\n",
    "))\n",
    "\n",
    "dataset = dataset.cache()\n",
    "dataset = dataset.shuffle(BUFFER_SIZE)\n",
    "dataset = dataset.batch(BATCH_SIZE)\n",
    "dataset = dataset.prefetch(tf.data.experimental.AUTOTUNE)"
   ]
  },
  {
   "cell_type": "code",
   "execution_count": 19,
   "id": "structured-right",
   "metadata": {},
   "outputs": [
    {
     "data": {
      "text/plain": [
       "<PrefetchDataset shapes: ({inputs: (None, 10), dec_inputs: (None, 9)}, {outputs: (None, 9)}), types: ({inputs: tf.int32, dec_inputs: tf.int32}, {outputs: tf.int32})>"
      ]
     },
     "execution_count": 19,
     "metadata": {},
     "output_type": "execute_result"
    }
   ],
   "source": [
    "dataset"
   ]
  },
  {
   "cell_type": "markdown",
   "id": "delayed-resource",
   "metadata": {},
   "source": [
    "## 4. 모델 구성하기"
   ]
  },
  {
   "cell_type": "code",
   "execution_count": 20,
   "id": "forced-accused",
   "metadata": {},
   "outputs": [],
   "source": [
    "# 포지셔널 인코딩 레이어\n",
    "class PositionalEncoding(tf.keras.layers.Layer):\n",
    "    def __init__(self, position, d_model):\n",
    "        super(PositionalEncoding, self).__init__()\n",
    "        self.pos_encoding = self.positional_encoding(position, d_model)\n",
    "\n",
    "    def get_angles(self, position, i, d_model):\n",
    "        angles = 1 / tf.pow(10000, (2 * (i // 2)) / tf.cast(d_model, tf.float32))\n",
    "        return position * angles\n",
    "\n",
    "    def positional_encoding(self, position, d_model):\n",
    "        angle_rads = self.get_angles(\n",
    "            position=tf.range(position, dtype=tf.float32)[:, tf.newaxis],\n",
    "            i=tf.range(d_model, dtype=tf.float32)[tf.newaxis, :],\n",
    "            d_model=d_model\n",
    "        )\n",
    "        # 배열의 짝수 인덱스에는 sin 함수 적용\n",
    "        sines = tf.math.sin(angle_rads[:, 0::2])\n",
    "        # 배열의 홀수 인덱스에는 cosine 함수 적용\n",
    "        cosines = tf.math.cos(angle_rads[:, 1::2])\n",
    "\n",
    "        pos_encoding = tf.concat([sines, cosines], axis=-1)\n",
    "        pos_encoding = pos_encoding[tf.newaxis, ...]\n",
    "        return tf.cast(pos_encoding, tf.float32)\n",
    "\n",
    "    def call(self, inputs):\n",
    "        return inputs + self.pos_encoding[:, :tf.shape(inputs)[1], :]"
   ]
  },
  {
   "cell_type": "markdown",
   "id": "fossil-circulation",
   "metadata": {},
   "source": [
    "- 내적을 통해서 단어 벡터 간의 유사도를 구한 후에, 특정 값을 분모로 나눠주는 방식으로 Q와 K의 유사도를 구함."
   ]
  },
  {
   "cell_type": "code",
   "execution_count": 21,
   "id": "mathematical-router",
   "metadata": {},
   "outputs": [],
   "source": [
    "# 스케일드 닷 프로덕트 어텐션 함수\n",
    "def scaled_dot_product_attention(query, key, value, mask):\n",
    "    \"\"\"어텐션 가중치를 계산. \"\"\"\n",
    "    matmul_qk = tf.matmul(query, key, transpose_b=True)  # # tf.matmul : 두 텐서를 행렬곱한 결과 텐서를 리턴\n",
    "\n",
    "    # scale matmul_qk\n",
    "    depth = tf.cast(tf.shape(key)[-1], tf.float32)\n",
    "    logits = matmul_qk / tf.math.sqrt(depth)\n",
    "\n",
    "    # add the mask to zero out padding tokens\n",
    "    if mask is not None:\n",
    "        logits += (mask * -1e9)\n",
    "\n",
    "    # softmax is normalized on the last axis (seq_len_k)\n",
    "    attention_weights = tf.nn.softmax(logits, axis=-1)\n",
    "\n",
    "    output = tf.matmul(attention_weights, value)\n",
    "\n",
    "    return output"
   ]
  },
  {
   "cell_type": "code",
   "execution_count": 22,
   "id": "younger-fields",
   "metadata": {},
   "outputs": [],
   "source": [
    "class MultiHeadAttention(tf.keras.layers.Layer):\n",
    "    def __init__(self, d_model, num_heads, name=\"multi_head_attention\"):\n",
    "        super(MultiHeadAttention, self).__init__(name=name)\n",
    "        self.num_heads = num_heads\n",
    "        self.d_model = d_model\n",
    "\n",
    "        assert d_model % self.num_heads == 0\n",
    "\n",
    "        self.depth = d_model // self.num_heads\n",
    "\n",
    "        self.query_dense = tf.keras.layers.Dense(units=d_model)\n",
    "        self.key_dense = tf.keras.layers.Dense(units=d_model)\n",
    "        self.value_dense = tf.keras.layers.Dense(units=d_model)\n",
    "\n",
    "        self.dense = tf.keras.layers.Dense(units=d_model)\n",
    "\n",
    "    def split_heads(self, inputs, batch_size):\n",
    "        inputs = tf.reshape(inputs, shape=(batch_size, -1, self.num_heads, self.depth))\n",
    "        return tf.transpose(inputs, perm=[0, 2, 1, 3])\n",
    "\n",
    "    def call(self, inputs):\n",
    "        query, key, value, mask = inputs['query'], inputs['key'], inputs['value'], inputs['mask']\n",
    "        batch_size = tf.shape(query)[0]\n",
    "\n",
    "        # linear layers\n",
    "        query = self.query_dense(query)\n",
    "        key = self.key_dense(key)\n",
    "        value = self.value_dense(value)\n",
    "\n",
    "        # 병렬 연산을 위한 머리를 여러 개 만듭니다.\n",
    "        query = self.split_heads(query, batch_size)\n",
    "        key = self.split_heads(key, batch_size)\n",
    "        value = self.split_heads(value, batch_size)\n",
    "\n",
    "        # 스케일드 닷 프로덕트 어텐션 함수\n",
    "        scaled_attention = scaled_dot_product_attention(query, key, value, mask)\n",
    "        scaled_attention = tf.transpose(scaled_attention, perm=[0, 2, 1, 3])\n",
    "\n",
    "        # 어텐션 연산 후에 각 결과를 다시 연결(concatenate)합니다.\n",
    "        concat_attention = tf.reshape(scaled_attention, (batch_size, -1, self.d_model))\n",
    "\n",
    "        # final linear layer\n",
    "        outputs = self.dense(concat_attention)\n",
    "    \n",
    "        return outputs"
   ]
  },
  {
   "cell_type": "markdown",
   "id": "ruled-landscape",
   "metadata": {},
   "source": [
    "- Masking : 특정 값들을 가려서 실제 연산에 방해가 되지 않도록 하는 기법"
   ]
  },
  {
   "cell_type": "code",
   "execution_count": 23,
   "id": "cloudy-sweet",
   "metadata": {},
   "outputs": [],
   "source": [
    "# 0인 위치에서 숫자 1이 나오고, 숫자0이 아닌 위치는 숫자0이 나오게 하는 함수\n",
    "def create_padding_mask(x):\n",
    "    mask = tf.cast(tf.math.equal(x, 0), tf.float32)\n",
    "    # (batch_size, 1, 1, sequence length)\n",
    "    return mask[:, tf.newaxis, tf.newaxis, :]"
   ]
  },
  {
   "cell_type": "code",
   "execution_count": 24,
   "id": "peaceful-indianapolis",
   "metadata": {},
   "outputs": [],
   "source": [
    "def create_look_ahead_mask(x):\n",
    "    seq_len = tf.shape(x)[1]\n",
    "    look_ahead_mask = 1 - tf.linalg.band_part(tf.ones((seq_len, seq_len)), -1, 0)\n",
    "    padding_mask = create_padding_mask(x)\n",
    "    return tf.maximum(look_ahead_mask, padding_mask)"
   ]
  },
  {
   "cell_type": "markdown",
   "id": "conventional-skill",
   "metadata": {},
   "source": [
    "> - 인코더 층은 2개의 서브층으로 나뉜다.\n",
    "> 1. 셀프어텐션\n",
    "> 2. 피드 포워드 신경망"
   ]
  },
  {
   "cell_type": "code",
   "execution_count": 25,
   "id": "innovative-reservoir",
   "metadata": {},
   "outputs": [],
   "source": [
    "# 인코더 하나의 레이어를 함수로 구현.\n",
    "# 이 하나의 레이어 안에는 두 개의 서브 레이어가 존재합니다.\n",
    "def encoder_layer(units, d_model, num_heads, dropout, name=\"encoder_layer\"):\n",
    "    inputs = tf.keras.Input(shape=(None, d_model), name=\"inputs\")\n",
    "\n",
    "    # 패딩 마스크 사용\n",
    "    padding_mask = tf.keras.Input(shape=(1, 1, None), name=\"padding_mask\")\n",
    "\n",
    "    # 첫 번째 서브 레이어 : 멀티 헤드 어텐션 수행 (셀프 어텐션)\n",
    "    attention = MultiHeadAttention(d_model, num_heads, name=\"attention\")({\n",
    "          'query': inputs,\n",
    "          'key': inputs,\n",
    "          'value': inputs,\n",
    "          'mask': padding_mask\n",
    "    })\n",
    "\n",
    "    # 어텐션의 결과는 Dropout과 Layer Normalization이라는 훈련을 돕는 테크닉을 수행\n",
    "    attention = tf.keras.layers.Dropout(rate=dropout)(attention)\n",
    "    attention = tf.keras.layers.LayerNormalization(epsilon=1e-6)(inputs + attention)\n",
    "\n",
    "    # 두 번째 서브 레이어 : 2개의 완전연결층\n",
    "    outputs = tf.keras.layers.Dense(units=units, activation='relu')(attention)\n",
    "    outputs = tf.keras.layers.Dense(units=d_model)(outputs)\n",
    "\n",
    "    # 완전연결층의 결과는 Dropout과 LayerNormalization이라는 훈련을 돕는 테크닉을 수행\n",
    "    outputs = tf.keras.layers.Dropout(rate=dropout)(outputs)\n",
    "    outputs = tf.keras.layers.LayerNormalization(epsilon=1e-6)(attention + outputs)\n",
    "\n",
    "    return tf.keras.Model(inputs=[inputs, padding_mask], outputs=outputs, name=name)"
   ]
  },
  {
   "cell_type": "code",
   "execution_count": 26,
   "id": "copyrighted-variation",
   "metadata": {},
   "outputs": [],
   "source": [
    "def encoder(vocab_size, num_layers, units, d_model, num_heads, dropout, name=\"encoder\"):\n",
    "    inputs = tf.keras.Input(shape=(None,), name=\"inputs\")\n",
    "\n",
    "    # 패딩 마스크 사용\n",
    "    padding_mask = tf.keras.Input(shape=(1, 1, None), name=\"padding_mask\")\n",
    "\n",
    "    # 임베딩 레이어\n",
    "    embeddings = tf.keras.layers.Embedding(vocab_size, d_model)(inputs)\n",
    "    embeddings *= tf.math.sqrt(tf.cast(d_model, tf.float32))\n",
    "\n",
    "    # 포지셔널 인코딩\n",
    "    embeddings = PositionalEncoding(vocab_size, d_model)(embeddings)\n",
    "\n",
    "    outputs = tf.keras.layers.Dropout(rate=dropout)(embeddings)\n",
    "\n",
    "    # num_layers만큼 쌓아올린 인코더의 층.\n",
    "    for i in range(num_layers):\n",
    "        outputs = encoder_layer(\n",
    "            units=units,\n",
    "            d_model=d_model,\n",
    "            num_heads=num_heads,\n",
    "            dropout=dropout,\n",
    "            name=\"encoder_layer_{}\".format(i),\n",
    "        )([outputs, padding_mask])\n",
    "\n",
    "    return tf.keras.Model(inputs=[inputs, padding_mask], outputs=outputs, name=name)"
   ]
  },
  {
   "cell_type": "markdown",
   "id": "composed-benjamin",
   "metadata": {},
   "source": [
    "> - 디코더 층은 3개의 서브층으로 나뉜다.\n",
    "> 1. 셀프어텐션\n",
    "> 2. 인코더-디코더 어텐션\n",
    "> 3. 피드 포워드 신경망"
   ]
  },
  {
   "cell_type": "code",
   "execution_count": 27,
   "id": "vertical-institute",
   "metadata": {},
   "outputs": [],
   "source": [
    "# 디코더 하나의 레이어를 함수로 구현.\n",
    "# 이 하나의 레이어 안에는 세 개의 서브 레이어가 존재합니다.\n",
    "def decoder_layer(units, d_model, num_heads, dropout, name=\"decoder_layer\"):\n",
    "    inputs = tf.keras.Input(shape=(None, d_model), name=\"inputs\")\n",
    "    enc_outputs = tf.keras.Input(shape=(None, d_model), name=\"encoder_outputs\")\n",
    "    look_ahead_mask = tf.keras.Input(shape=(1, None, None), name=\"look_ahead_mask\")\n",
    "    padding_mask = tf.keras.Input(shape=(1, 1, None), name='padding_mask')\n",
    "\n",
    "    # 첫 번째 서브 레이어 : 멀티 헤드 어텐션 수행 (셀프 어텐션)\n",
    "    attention1 = MultiHeadAttention(d_model, num_heads, name=\"attention_1\")(inputs={\n",
    "        'query': inputs,\n",
    "        'key': inputs,\n",
    "        'value': inputs,\n",
    "        'mask': look_ahead_mask\n",
    "    })\n",
    "\n",
    "    # 멀티 헤드 어텐션의 결과는 LayerNormalization이라는 훈련을 돕는 테크닉을 수행\n",
    "    attention1 = tf.keras.layers.LayerNormalization(epsilon=1e-6)(attention1 + inputs)\n",
    "\n",
    "    # 두 번째 서브 레이어 : 마스크드 멀티 헤드 어텐션 수행 (인코더-디코더 어텐션)\n",
    "    attention2 = MultiHeadAttention(d_model, num_heads, name=\"attention_2\")(inputs={\n",
    "        'query': attention1,\n",
    "        'key': enc_outputs,\n",
    "        'value': enc_outputs,\n",
    "        'mask': padding_mask\n",
    "    })\n",
    "\n",
    "    # 마스크드 멀티 헤드 어텐션의 결과는\n",
    "    # Dropout과 LayerNormalization이라는 훈련을 돕는 테크닉을 수행\n",
    "    attention2 = tf.keras.layers.Dropout(rate=dropout)(attention2)\n",
    "    attention2 = tf.keras.layers.LayerNormalization(epsilon=1e-6)(attention2 + attention1)\n",
    "\n",
    "    # 세 번째 서브 레이어 : 2개의 완전연결층\n",
    "    outputs = tf.keras.layers.Dense(units=units, activation='relu')(attention2)\n",
    "    outputs = tf.keras.layers.Dense(units=d_model)(outputs)\n",
    "\n",
    "    # 완전연결층의 결과는 Dropout과 LayerNormalization 수행\n",
    "    outputs = tf.keras.layers.Dropout(rate=dropout)(outputs)\n",
    "    outputs = tf.keras.layers.LayerNormalization(epsilon=1e-6)(outputs + attention2)\n",
    "    \n",
    "    return tf.keras.Model(\n",
    "        inputs=[inputs, enc_outputs, look_ahead_mask, padding_mask],\n",
    "        outputs=outputs,\n",
    "        name=name\n",
    "    )"
   ]
  },
  {
   "cell_type": "code",
   "execution_count": 28,
   "id": "interpreted-country",
   "metadata": {},
   "outputs": [],
   "source": [
    "# 디코더 층을 쌓아 디코더 만들기\n",
    "def decoder(vocab_size, num_layers, units, d_model, num_heads, dropout, name='decoder'):\n",
    "    inputs = tf.keras.Input(shape=(None,), name='inputs')\n",
    "    enc_outputs = tf.keras.Input(shape=(None, d_model), name='encoder_outputs')\n",
    "    look_ahead_mask = tf.keras.Input(shape=(1, None, None), name='look_ahead_mask')\n",
    "\n",
    "    # 패딩 마스크\n",
    "    padding_mask = tf.keras.Input(shape=(1, 1, None), name='padding_mask')\n",
    "\n",
    "    # 임베딩 레이어\n",
    "    embeddings = tf.keras.layers.Embedding(vocab_size, d_model)(inputs)\n",
    "    embeddings *= tf.math.sqrt(tf.cast(d_model, tf.float32))\n",
    "\n",
    "    # 포지셔널 인코딩\n",
    "    embeddings = PositionalEncoding(vocab_size, d_model)(embeddings)\n",
    "\n",
    "    # Dropout이라는 훈련을 돕는 테크닉을 수행\n",
    "    outputs = tf.keras.layers.Dropout(rate=dropout)(embeddings)\n",
    "\n",
    "    for i in range(num_layers):\n",
    "        outputs = decoder_layer(\n",
    "            units=units,\n",
    "            d_model=d_model,\n",
    "            num_heads=num_heads,\n",
    "            dropout=dropout,\n",
    "            name='decoder_layer_{}'.format(i),\n",
    "        )(inputs=[outputs, enc_outputs, look_ahead_mask, padding_mask])\n",
    "\n",
    "    return tf.keras.Model(\n",
    "        inputs=[inputs, enc_outputs, look_ahead_mask, padding_mask],\n",
    "        outputs=outputs,\n",
    "        name=name\n",
    "    )"
   ]
  },
  {
   "cell_type": "code",
   "execution_count": 29,
   "id": "spatial-sterling",
   "metadata": {},
   "outputs": [],
   "source": [
    "def transformer(vocab_size, num_layers, units, d_model, num_heads, dropout, name=\"transformer\"):\n",
    "    inputs = tf.keras.Input(shape=(None,), name=\"inputs\")\n",
    "    dec_inputs = tf.keras.Input(shape=(None,), name=\"dec_inputs\")\n",
    "\n",
    "    # 인코더에서 패딩을 위한 마스크\n",
    "    enc_padding_mask = tf.keras.layers.Lambda(\n",
    "        create_padding_mask,\n",
    "        output_shape=(1, 1, None),\n",
    "        name='enc_padding_mask'\n",
    "    )(inputs)\n",
    "\n",
    "    # 디코더에서 미래의 토큰을 마스크 하기 위해서 사용합니다.\n",
    "    # 내부적으로 패딩 마스크도 포함되어져 있습니다.\n",
    "    look_ahead_mask = tf.keras.layers.Lambda(\n",
    "        create_look_ahead_mask,\n",
    "        output_shape=(1, None, None),\n",
    "        name='look_ahead_mask'\n",
    "    )(dec_inputs)\n",
    "\n",
    "    # 두 번째 어텐션 블록에서 인코더의 벡터들을 마스킹\n",
    "    # 디코더에서 패딩을 위한 마스크\n",
    "    dec_padding_mask = tf.keras.layers.Lambda(\n",
    "        create_padding_mask,\n",
    "        output_shape=(1, 1, None),\n",
    "        name='dec_padding_mask'\n",
    "    )(inputs)\n",
    "\n",
    "    # 인코더\n",
    "    enc_outputs = encoder(\n",
    "        vocab_size=vocab_size,\n",
    "        num_layers=num_layers,\n",
    "        units=units,\n",
    "        d_model=d_model,\n",
    "        num_heads=num_heads,\n",
    "        dropout=dropout,\n",
    "    )(inputs=[inputs, enc_padding_mask])\n",
    "\n",
    "    # 디코더\n",
    "    dec_outputs = decoder(\n",
    "                vocab_size=vocab_size,\n",
    "        num_layers=num_layers,\n",
    "        units=units,\n",
    "        d_model=d_model,\n",
    "        num_heads=num_heads,\n",
    "        dropout=dropout,\n",
    "    )(inputs=[dec_inputs, enc_outputs, look_ahead_mask, dec_padding_mask])\n",
    "\n",
    "    # 완전연결층\n",
    "    outputs = tf.keras.layers.Dense(units=vocab_size, name=\"outputs\")(dec_outputs)\n",
    "\n",
    "    return tf.keras.Model(inputs=[inputs, dec_inputs], outputs=outputs, name=name)"
   ]
  },
  {
   "cell_type": "markdown",
   "id": "resistant-session",
   "metadata": {},
   "source": [
    "- 모델 생성"
   ]
  },
  {
   "cell_type": "code",
   "execution_count": 30,
   "id": "treated-night",
   "metadata": {},
   "outputs": [
    {
     "name": "stdout",
     "output_type": "stream",
     "text": [
      "Model: \"transformer\"\n",
      "__________________________________________________________________________________________________\n",
      "Layer (type)                    Output Shape         Param #     Connected to                     \n",
      "==================================================================================================\n",
      "inputs (InputLayer)             [(None, None)]       0                                            \n",
      "__________________________________________________________________________________________________\n",
      "dec_inputs (InputLayer)         [(None, None)]       0                                            \n",
      "__________________________________________________________________________________________________\n",
      "enc_padding_mask (Lambda)       (None, 1, 1, None)   0           inputs[0][0]                     \n",
      "__________________________________________________________________________________________________\n",
      "encoder (Functional)            (None, None, 256)    3136768     inputs[0][0]                     \n",
      "                                                                 enc_padding_mask[0][0]           \n",
      "__________________________________________________________________________________________________\n",
      "look_ahead_mask (Lambda)        (None, 1, None, None 0           dec_inputs[0][0]                 \n",
      "__________________________________________________________________________________________________\n",
      "dec_padding_mask (Lambda)       (None, 1, 1, None)   0           inputs[0][0]                     \n",
      "__________________________________________________________________________________________________\n",
      "decoder (Functional)            (None, None, 256)    3664128     dec_inputs[0][0]                 \n",
      "                                                                 encoder[0][0]                    \n",
      "                                                                 look_ahead_mask[0][0]            \n",
      "                                                                 dec_padding_mask[0][0]           \n",
      "__________________________________________________________________________________________________\n",
      "outputs (Dense)                 (None, None, 8135)   2090695     decoder[0][0]                    \n",
      "==================================================================================================\n",
      "Total params: 8,891,591\n",
      "Trainable params: 8,891,591\n",
      "Non-trainable params: 0\n",
      "__________________________________________________________________________________________________\n"
     ]
    }
   ],
   "source": [
    "tf.keras.backend.clear_session()\n",
    "\n",
    "# 하이퍼파라미터\n",
    "NUM_LAYERS = 2 # 인코더와 디코더의 층의 개수\n",
    "D_MODEL = 256  # 인코더와 디코더 내부의 입, 출력의 고정 차원\n",
    "NUM_HEADS = 8  # 멀티 헤드 어텐션에서의 헤드 수 \n",
    "UNITS = 512    # 피드 포워드 신경망의 은닉층의 크기\n",
    "DROPOUT = 0.1  # 드롭아웃 비율\n",
    "\n",
    "\n",
    "model = transformer(\n",
    "    vocab_size=VOCAB_SIZE,\n",
    "    num_layers=NUM_LAYERS,\n",
    "    units=UNITS,\n",
    "    d_model=D_MODEL,\n",
    "    num_heads=NUM_HEADS,\n",
    "    dropout=DROPOUT)\n",
    "\n",
    "model.summary()"
   ]
  },
  {
   "cell_type": "code",
   "execution_count": 31,
   "id": "disciplinary-tennessee",
   "metadata": {},
   "outputs": [],
   "source": [
    "def loss_function(y_true, y_pred):\n",
    "    y_true = tf.reshape(y_true, shape=(-1, MAX_LENGTH - 1))\n",
    "\n",
    "    loss = tf.keras.losses.SparseCategoricalCrossentropy(\n",
    "        from_logits=True, reduction='none')(y_true, y_pred)\n",
    "\n",
    "    mask = tf.cast(tf.not_equal(y_true, 0), tf.float32)\n",
    "    loss = tf.multiply(loss, mask)\n",
    "\n",
    "    return tf.reduce_mean(loss)"
   ]
  },
  {
   "cell_type": "code",
   "execution_count": 32,
   "id": "economic-injury",
   "metadata": {},
   "outputs": [],
   "source": [
    "class CustomSchedule(tf.keras.optimizers.schedules.LearningRateSchedule):\n",
    "    def __init__(self, d_model, warmup_steps=4000):\n",
    "        super(CustomSchedule, self).__init__()\n",
    "\n",
    "        self.d_model = d_model\n",
    "        self.d_model = tf.cast(self.d_model, tf.float32)\n",
    "\n",
    "        self.warmup_steps = warmup_steps\n",
    "\n",
    "    def __call__(self, step):\n",
    "        arg1 = tf.math.rsqrt(step)\n",
    "        arg2 = step * (self.warmup_steps**-1.5)\n",
    "\n",
    "        return tf.math.rsqrt(self.d_model) * tf.math.minimum(arg1, arg2)"
   ]
  },
  {
   "cell_type": "code",
   "execution_count": 33,
   "id": "abstract-spring",
   "metadata": {},
   "outputs": [
    {
     "data": {
      "text/plain": [
       "Text(0.5, 0, 'Train Step')"
      ]
     },
     "execution_count": 33,
     "metadata": {},
     "output_type": "execute_result"
    },
    {
     "data": {
      "image/png": "[encoded data removed]",
      "text/plain": [
       "<Figure size 432x288 with 1 Axes>"
      ]
     },
     "metadata": {
      "needs_background": "light"
     },
     "output_type": "display_data"
    }
   ],
   "source": [
    "# 시각화\n",
    "sample_learning_rate = CustomSchedule(d_model=128)\n",
    "\n",
    "plt.plot(sample_learning_rate(tf.range(200000, dtype=tf.float32)))\n",
    "plt.ylabel(\"Learning Rate\")\n",
    "plt.xlabel(\"Train Step\")"
   ]
  },
  {
   "cell_type": "code",
   "execution_count": 34,
   "id": "narrow-debut",
   "metadata": {},
   "outputs": [],
   "source": [
    "learning_rate = CustomSchedule(D_MODEL)\n",
    "\n",
    "optimizer = tf.keras.optimizers.Adam(learning_rate, beta_1=0.9, beta_2=0.98, epsilon=1e-9)\n",
    "\n",
    "def accuracy(y_true, y_pred):\n",
    "    y_true = tf.reshape(y_true, shape=(-1, MAX_LENGTH - 1))\n",
    "    return tf.keras.metrics.sparse_categorical_accuracy(y_true, y_pred)\n",
    "\n",
    "model.compile(optimizer=optimizer, loss=loss_function, metrics=[accuracy])"
   ]
  },
  {
   "cell_type": "code",
   "execution_count": 35,
   "id": "informal-leisure",
   "metadata": {},
   "outputs": [
    {
     "name": "stdout",
     "output_type": "stream",
     "text": [
      "Epoch 1/50\n",
      "143/143 [==============================] - 16s 62ms/step - loss: 5.8043 - accuracy: 0.0464\n",
      "Epoch 2/50\n",
      "143/143 [==============================] - 9s 62ms/step - loss: 4.8987 - accuracy: 0.1799\n",
      "Epoch 3/50\n",
      "143/143 [==============================] - 9s 62ms/step - loss: 4.0423 - accuracy: 0.2153\n",
      "Epoch 4/50\n",
      "143/143 [==============================] - 9s 62ms/step - loss: 3.5475 - accuracy: 0.2174\n",
      "Epoch 5/50\n",
      "143/143 [==============================] - 9s 61ms/step - loss: 3.2998 - accuracy: 0.2275\n",
      "Epoch 6/50\n",
      "143/143 [==============================] - 9s 62ms/step - loss: 3.1488 - accuracy: 0.2384\n",
      "Epoch 7/50\n",
      "143/143 [==============================] - 9s 62ms/step - loss: 2.9160 - accuracy: 0.2542\n",
      "Epoch 8/50\n",
      "143/143 [==============================] - 9s 62ms/step - loss: 2.7275 - accuracy: 0.2760\n",
      "Epoch 9/50\n",
      "143/143 [==============================] - 9s 62ms/step - loss: 2.4562 - accuracy: 0.3035\n",
      "Epoch 10/50\n",
      "143/143 [==============================] - 9s 62ms/step - loss: 2.1808 - accuracy: 0.3376\n",
      "Epoch 11/50\n",
      "143/143 [==============================] - 9s 62ms/step - loss: 1.9114 - accuracy: 0.3701\n",
      "Epoch 12/50\n",
      "143/143 [==============================] - 9s 62ms/step - loss: 1.6497 - accuracy: 0.4058\n",
      "Epoch 13/50\n",
      "143/143 [==============================] - 9s 62ms/step - loss: 1.3523 - accuracy: 0.4487\n",
      "Epoch 14/50\n",
      "143/143 [==============================] - 9s 62ms/step - loss: 1.0866 - accuracy: 0.4846\n",
      "Epoch 15/50\n",
      "143/143 [==============================] - 9s 61ms/step - loss: 0.8339 - accuracy: 0.5259\n",
      "Epoch 16/50\n",
      "143/143 [==============================] - 9s 62ms/step - loss: 0.6150 - accuracy: 0.5624\n",
      "Epoch 17/50\n",
      "143/143 [==============================] - 9s 62ms/step - loss: 0.4500 - accuracy: 0.5909\n",
      "Epoch 18/50\n",
      "143/143 [==============================] - 9s 62ms/step - loss: 0.3134 - accuracy: 0.6156\n",
      "Epoch 19/50\n",
      "143/143 [==============================] - 9s 62ms/step - loss: 0.2116 - accuracy: 0.6301\n",
      "Epoch 20/50\n",
      "143/143 [==============================] - 9s 62ms/step - loss: 0.1503 - accuracy: 0.6410\n",
      "Epoch 21/50\n",
      "143/143 [==============================] - 9s 62ms/step - loss: 0.1194 - accuracy: 0.6466\n",
      "Epoch 22/50\n",
      "143/143 [==============================] - 9s 62ms/step - loss: 0.1007 - accuracy: 0.6486\n",
      "Epoch 23/50\n",
      "143/143 [==============================] - 9s 62ms/step - loss: 0.0885 - accuracy: 0.6455\n",
      "Epoch 24/50\n",
      "143/143 [==============================] - 9s 62ms/step - loss: 0.0844 - accuracy: 0.6507\n",
      "Epoch 25/50\n",
      "143/143 [==============================] - 9s 62ms/step - loss: 0.0837 - accuracy: 0.6484\n",
      "Epoch 26/50\n",
      "143/143 [==============================] - 9s 62ms/step - loss: 0.0816 - accuracy: 0.6430\n",
      "Epoch 27/50\n",
      "143/143 [==============================] - 9s 62ms/step - loss: 0.0770 - accuracy: 0.6486\n",
      "Epoch 28/50\n",
      "143/143 [==============================] - 9s 62ms/step - loss: 0.0794 - accuracy: 0.6486\n",
      "Epoch 29/50\n",
      "143/143 [==============================] - 9s 62ms/step - loss: 0.0753 - accuracy: 0.6444\n",
      "Epoch 30/50\n",
      "143/143 [==============================] - 9s 62ms/step - loss: 0.0699 - accuracy: 0.6517\n",
      "Epoch 31/50\n",
      "143/143 [==============================] - 9s 62ms/step - loss: 0.0606 - accuracy: 0.6500\n",
      "Epoch 32/50\n",
      "143/143 [==============================] - 9s 61ms/step - loss: 0.0575 - accuracy: 0.6533\n",
      "Epoch 33/50\n",
      "143/143 [==============================] - 9s 62ms/step - loss: 0.0555 - accuracy: 0.6518\n",
      "Epoch 34/50\n",
      "143/143 [==============================] - 9s 61ms/step - loss: 0.0471 - accuracy: 0.6564\n",
      "Epoch 35/50\n",
      "143/143 [==============================] - 9s 62ms/step - loss: 0.0430 - accuracy: 0.6550\n",
      "Epoch 36/50\n",
      "143/143 [==============================] - 9s 62ms/step - loss: 0.0446 - accuracy: 0.6572\n",
      "Epoch 37/50\n",
      "143/143 [==============================] - 9s 62ms/step - loss: 0.0403 - accuracy: 0.6554\n",
      "Epoch 38/50\n",
      "143/143 [==============================] - 9s 62ms/step - loss: 0.0346 - accuracy: 0.6600\n",
      "Epoch 39/50\n",
      "143/143 [==============================] - 9s 62ms/step - loss: 0.0344 - accuracy: 0.6571\n",
      "Epoch 40/50\n",
      "143/143 [==============================] - 9s 62ms/step - loss: 0.0318 - accuracy: 0.6611\n",
      "Epoch 41/50\n",
      "143/143 [==============================] - 9s 62ms/step - loss: 0.0334 - accuracy: 0.6563\n",
      "Epoch 42/50\n",
      "143/143 [==============================] - 9s 62ms/step - loss: 0.0236 - accuracy: 0.6631\n",
      "Epoch 43/50\n",
      "143/143 [==============================] - 9s 62ms/step - loss: 0.0271 - accuracy: 0.6590\n",
      "Epoch 44/50\n",
      "143/143 [==============================] - 9s 62ms/step - loss: 0.0265 - accuracy: 0.6602\n",
      "Epoch 45/50\n",
      "143/143 [==============================] - 9s 62ms/step - loss: 0.0223 - accuracy: 0.6643\n",
      "Epoch 46/50\n",
      "143/143 [==============================] - 9s 62ms/step - loss: 0.0220 - accuracy: 0.6599\n",
      "Epoch 47/50\n",
      "143/143 [==============================] - 9s 62ms/step - loss: 0.0225 - accuracy: 0.6606\n",
      "Epoch 48/50\n",
      "143/143 [==============================] - 9s 62ms/step - loss: 0.0193 - accuracy: 0.6653\n",
      "Epoch 49/50\n",
      "143/143 [==============================] - 9s 62ms/step - loss: 0.0191 - accuracy: 0.6632\n",
      "Epoch 50/50\n",
      "143/143 [==============================] - 9s 62ms/step - loss: 0.0193 - accuracy: 0.6623\n"
     ]
    },
    {
     "data": {
      "text/plain": [
       "<tensorflow.python.keras.callbacks.History at 0x7fc6285f6b50>"
      ]
     },
     "execution_count": 35,
     "metadata": {},
     "output_type": "execute_result"
    }
   ],
   "source": [
    "EPOCHS = 50\n",
    "model.fit(dataset, epochs=EPOCHS, verbose=1)"
   ]
  },
  {
   "cell_type": "markdown",
   "id": "silver-reconstruction",
   "metadata": {},
   "source": [
    "## 5. 모델 평가하기"
   ]
  },
  {
   "cell_type": "code",
   "execution_count": 36,
   "id": "lasting-pacific",
   "metadata": {},
   "outputs": [],
   "source": [
    "def decoder_inference(sentence):\n",
    "    sentence = preprocess_sentence(sentence)\n",
    "\n",
    "    # 입력된 문장을 정수 인코딩 후, 시작 토큰과 종료 토큰을 앞뒤로 추가.\n",
    "    # ex) Where have you been? → [[8331  86  30  5  1059  7  8332]]\n",
    "    sentence = tf.expand_dims(START_TOKEN + tokenizer.encode(sentence) + END_TOKEN, axis=0)\n",
    "\n",
    "    # 디코더의 현재까지의 예측한 출력 시퀀스가 지속적으로 저장되는 변수.\n",
    "    # 처음에는 예측한 내용이 없음으로 시작 토큰만 별도 저장. ex) 8331\n",
    "    output_sequence = tf.expand_dims(START_TOKEN, 0)\n",
    "\n",
    "    # 디코더의 인퍼런스 단계\n",
    "    for i in range(MAX_LENGTH):\n",
    "        # 디코더는 최대 MAX_LENGTH의 길이만큼 다음 단어 예측을 반복합니다.\n",
    "        predictions = model(inputs=[sentence, output_sequence], training=False)\n",
    "        predictions = predictions[:, -1:, :]\n",
    "\n",
    "        # 현재 예측한 단어의 정수\n",
    "        predicted_id = tf.cast(tf.argmax(predictions, axis=-1), tf.int32)\n",
    "\n",
    "        # 만약 현재 예측한 단어가 종료 토큰이라면 for문을 종료\n",
    "        if tf.equal(predicted_id, END_TOKEN[0]):\n",
    "            break\n",
    "\n",
    "        # 예측한 단어들은 지속적으로 output_sequence에 추가됩니다.\n",
    "        # 이 output_sequence는 다시 디코더의 입력이 됩니다.\n",
    "        output_sequence = tf.concat([output_sequence, predicted_id], axis=-1)\n",
    "\n",
    "    return tf.squeeze(output_sequence, axis=0)"
   ]
  },
  {
   "cell_type": "code",
   "execution_count": 37,
   "id": "furnished-remove",
   "metadata": {},
   "outputs": [],
   "source": [
    "# 임의의 입력 문장에 대해서 decoder_inference() 함수를 호출하여 챗봇의 대답을 얻는 함수\n",
    "def sentence_generation(sentence):\n",
    "    # 입력 문장에 대해서 디코더를 동작 시켜 예측된 정수 시퀀스를 리턴받습니다.\n",
    "    prediction = decoder_inference(sentence)\n",
    "\n",
    "    # 정수 시퀀스를 다시 텍스트 시퀀스로 변환합니다.\n",
    "    predicted_sentence = tokenizer.decode(\n",
    "      [i for i in prediction if i < tokenizer.vocab_size])\n",
    "\n",
    "    print('입력 : {}'.format(sentence))\n",
    "    print('출력 : {}'.format(predicted_sentence))\n",
    "\n",
    "    return predicted_sentence"
   ]
  },
  {
   "cell_type": "code",
   "execution_count": 38,
   "id": "substantial-worse",
   "metadata": {},
   "outputs": [
    {
     "name": "stdout",
     "output_type": "stream",
     "text": [
      "입력 : 피곤해\n",
      "출력 : 눈 체조를 해보세요 .\n"
     ]
    },
    {
     "data": {
      "text/plain": [
       "'눈 체조를 해보세요 .'"
      ]
     },
     "execution_count": 38,
     "metadata": {},
     "output_type": "execute_result"
    }
   ],
   "source": [
    "sentence_generation('피곤해')"
   ]
  },
  {
   "cell_type": "code",
   "execution_count": 40,
   "id": "engaged-victoria",
   "metadata": {},
   "outputs": [
    {
     "name": "stdout",
     "output_type": "stream",
     "text": [
      "입력 : 파이썬이 뭐지\n",
      "출력 : 그럴때는 초기화하는게 속시원해요 .\n"
     ]
    },
    {
     "data": {
      "text/plain": [
       "'그럴때는 초기화하는게 속시원해요 .'"
      ]
     },
     "execution_count": 40,
     "metadata": {},
     "output_type": "execute_result"
    }
   ],
   "source": [
    "sentence_generation('파이썬이 뭐지')"
   ]
  },
  {
   "cell_type": "code",
   "execution_count": 43,
   "id": "proper-adult",
   "metadata": {},
   "outputs": [
    {
     "name": "stdout",
     "output_type": "stream",
     "text": [
      "입력 : 내일이 시험이네\n",
      "출력 : 좋은 일이 생길 거예요 .\n"
     ]
    },
    {
     "data": {
      "text/plain": [
       "'좋은 일이 생길 거예요 .'"
      ]
     },
     "execution_count": 43,
     "metadata": {},
     "output_type": "execute_result"
    }
   ],
   "source": [
    "sentence_generation('내일이 시험이네')"
   ]
  },
  {
   "cell_type": "code",
   "execution_count": 44,
   "id": "inside-caribbean",
   "metadata": {},
   "outputs": [
    {
     "name": "stdout",
     "output_type": "stream",
     "text": [
      "입력 : 공부하자\n",
      "출력 : 공부하면 더 많은 선택을 할 수 있죠 .\n"
     ]
    },
    {
     "data": {
      "text/plain": [
       "'공부하면 더 많은 선택을 할 수 있죠 .'"
      ]
     },
     "execution_count": 44,
     "metadata": {},
     "output_type": "execute_result"
    }
   ],
   "source": [
    "sentence_generation('공부하자')"
   ]
  },
  {
   "cell_type": "markdown",
   "id": "plastic-nothing",
   "metadata": {},
   "source": [
    "- 논문에서 Enum_layers = 6, d-Model = 512"
   ]
  },
  {
   "cell_type": "code",
   "execution_count": 45,
   "id": "entire-popularity",
   "metadata": {},
   "outputs": [
    {
     "name": "stdout",
     "output_type": "stream",
     "text": [
      "Model: \"transformer\"\n",
      "__________________________________________________________________________________________________\n",
      "Layer (type)                    Output Shape         Param #     Connected to                     \n",
      "==================================================================================================\n",
      "inputs (InputLayer)             [(None, None)]       0                                            \n",
      "__________________________________________________________________________________________________\n",
      "dec_inputs (InputLayer)         [(None, None)]       0                                            \n",
      "__________________________________________________________________________________________________\n",
      "enc_padding_mask (Lambda)       (None, 1, 1, None)   0           inputs[0][0]                     \n",
      "__________________________________________________________________________________________________\n",
      "encoder (Functional)            (None, None, 512)    13633024    inputs[0][0]                     \n",
      "                                                                 enc_padding_mask[0][0]           \n",
      "__________________________________________________________________________________________________\n",
      "look_ahead_mask (Lambda)        (None, 1, None, None 0           dec_inputs[0][0]                 \n",
      "__________________________________________________________________________________________________\n",
      "dec_padding_mask (Lambda)       (None, 1, 1, None)   0           inputs[0][0]                     \n",
      "__________________________________________________________________________________________________\n",
      "decoder (Functional)            (None, None, 512)    19942912    dec_inputs[0][0]                 \n",
      "                                                                 encoder[0][0]                    \n",
      "                                                                 look_ahead_mask[0][0]            \n",
      "                                                                 dec_padding_mask[0][0]           \n",
      "__________________________________________________________________________________________________\n",
      "outputs (Dense)                 (None, None, 8135)   4173255     decoder[0][0]                    \n",
      "==================================================================================================\n",
      "Total params: 37,749,191\n",
      "Trainable params: 37,749,191\n",
      "Non-trainable params: 0\n",
      "__________________________________________________________________________________________________\n"
     ]
    }
   ],
   "source": [
    "tf.keras.backend.clear_session()\n",
    "\n",
    "# 하이퍼파라미터\n",
    "NUM_LAYERS = 6 # 인코더와 디코더의 층의 개수\n",
    "D_MODEL = 512  # 인코더와 디코더 내부의 입, 출력의 고정 차원\n",
    "NUM_HEADS = 8  # 멀티 헤드 어텐션에서의 헤드 수 \n",
    "UNITS = 512    # 피드 포워드 신경망의 은닉층의 크기\n",
    "DROPOUT = 0.1  # 드롭아웃 비율\n",
    "\n",
    "\n",
    "model = transformer(\n",
    "    vocab_size=VOCAB_SIZE,\n",
    "    num_layers=NUM_LAYERS,\n",
    "    units=UNITS,\n",
    "    d_model=D_MODEL,\n",
    "    num_heads=NUM_HEADS,\n",
    "    dropout=DROPOUT)\n",
    "\n",
    "model.summary()"
   ]
  },
  {
   "cell_type": "code",
   "execution_count": 46,
   "id": "intended-purchase",
   "metadata": {},
   "outputs": [],
   "source": [
    "learning_rate = CustomSchedule(D_MODEL)\n",
    "\n",
    "optimizer = tf.keras.optimizers.Adam(learning_rate, beta_1=0.9, beta_2=0.98, epsilon=1e-9)\n",
    "\n",
    "def accuracy(y_true, y_pred):\n",
    "    y_true = tf.reshape(y_true, shape=(-1, MAX_LENGTH - 1))\n",
    "    return tf.keras.metrics.sparse_categorical_accuracy(y_true, y_pred)\n",
    "\n",
    "model.compile(optimizer=optimizer, loss=loss_function, metrics=[accuracy])"
   ]
  },
  {
   "cell_type": "code",
   "execution_count": 47,
   "id": "subsequent-physiology",
   "metadata": {},
   "outputs": [
    {
     "name": "stdout",
     "output_type": "stream",
     "text": [
      "Epoch 1/50\n",
      "143/143 [==============================] - 49s 203ms/step - loss: 5.5827 - accuracy: 0.0659\n",
      "Epoch 2/50\n",
      "143/143 [==============================] - 29s 201ms/step - loss: 4.3274 - accuracy: 0.1651\n",
      "Epoch 3/50\n",
      "143/143 [==============================] - 29s 202ms/step - loss: 3.6897 - accuracy: 0.2161\n",
      "Epoch 4/50\n",
      "143/143 [==============================] - 29s 202ms/step - loss: 3.4545 - accuracy: 0.2197\n",
      "Epoch 5/50\n",
      "143/143 [==============================] - 29s 201ms/step - loss: 3.3184 - accuracy: 0.2257\n",
      "Epoch 6/50\n",
      "143/143 [==============================] - 29s 202ms/step - loss: 3.2229 - accuracy: 0.2319\n",
      "Epoch 7/50\n",
      "143/143 [==============================] - 29s 201ms/step - loss: 3.1251 - accuracy: 0.2398\n",
      "Epoch 8/50\n",
      "143/143 [==============================] - 29s 201ms/step - loss: 2.9467 - accuracy: 0.2494\n",
      "Epoch 9/50\n",
      "143/143 [==============================] - 29s 202ms/step - loss: 2.7803 - accuracy: 0.2644\n",
      "Epoch 10/50\n",
      "143/143 [==============================] - 29s 202ms/step - loss: 2.5433 - accuracy: 0.2826\n",
      "Epoch 11/50\n",
      "143/143 [==============================] - 29s 202ms/step - loss: 2.3051 - accuracy: 0.3084\n",
      "Epoch 12/50\n",
      "143/143 [==============================] - 29s 202ms/step - loss: 2.0535 - accuracy: 0.3357\n",
      "Epoch 13/50\n",
      "143/143 [==============================] - 29s 201ms/step - loss: 1.7889 - accuracy: 0.3692\n",
      "Epoch 14/50\n",
      "143/143 [==============================] - 29s 202ms/step - loss: 1.5063 - accuracy: 0.4046\n",
      "Epoch 15/50\n",
      "143/143 [==============================] - 29s 201ms/step - loss: 1.2655 - accuracy: 0.4441\n",
      "Epoch 16/50\n",
      "143/143 [==============================] - 29s 201ms/step - loss: 1.0563 - accuracy: 0.4756\n",
      "Epoch 17/50\n",
      "143/143 [==============================] - 29s 202ms/step - loss: 0.8615 - accuracy: 0.5056\n",
      "Epoch 18/50\n",
      "143/143 [==============================] - 29s 202ms/step - loss: 0.6964 - accuracy: 0.5279\n",
      "Epoch 19/50\n",
      "143/143 [==============================] - 29s 201ms/step - loss: 0.5704 - accuracy: 0.5544\n",
      "Epoch 20/50\n",
      "143/143 [==============================] - 29s 201ms/step - loss: 0.4760 - accuracy: 0.5730\n",
      "Epoch 21/50\n",
      "143/143 [==============================] - 29s 201ms/step - loss: 0.4069 - accuracy: 0.5791\n",
      "Epoch 22/50\n",
      "143/143 [==============================] - 29s 203ms/step - loss: 0.3541 - accuracy: 0.5880\n",
      "Epoch 23/50\n",
      "143/143 [==============================] - 29s 202ms/step - loss: 0.3152 - accuracy: 0.5982\n",
      "Epoch 24/50\n",
      "143/143 [==============================] - 29s 201ms/step - loss: 0.2815 - accuracy: 0.6008\n",
      "Epoch 25/50\n",
      "143/143 [==============================] - 29s 201ms/step - loss: 0.2874 - accuracy: 0.5983\n",
      "Epoch 26/50\n",
      "143/143 [==============================] - 29s 201ms/step - loss: 0.2633 - accuracy: 0.6003\n",
      "Epoch 27/50\n",
      "143/143 [==============================] - 29s 201ms/step - loss: 0.2602 - accuracy: 0.6022\n",
      "Epoch 28/50\n",
      "143/143 [==============================] - 29s 202ms/step - loss: 0.2462 - accuracy: 0.6060\n",
      "Epoch 29/50\n",
      "143/143 [==============================] - 29s 202ms/step - loss: 0.2473 - accuracy: 0.6050\n",
      "Epoch 30/50\n",
      "143/143 [==============================] - 29s 201ms/step - loss: 0.2205 - accuracy: 0.6097\n",
      "Epoch 31/50\n",
      "143/143 [==============================] - 29s 202ms/step - loss: 0.1911 - accuracy: 0.6178\n",
      "Epoch 32/50\n",
      "143/143 [==============================] - 29s 201ms/step - loss: 0.1822 - accuracy: 0.6213\n",
      "Epoch 33/50\n",
      "143/143 [==============================] - 29s 202ms/step - loss: 0.1701 - accuracy: 0.6250\n",
      "Epoch 34/50\n",
      "143/143 [==============================] - 29s 202ms/step - loss: 0.1530 - accuracy: 0.6260\n",
      "Epoch 35/50\n",
      "143/143 [==============================] - 29s 202ms/step - loss: 0.1397 - accuracy: 0.6283\n",
      "Epoch 36/50\n",
      "143/143 [==============================] - 29s 202ms/step - loss: 0.1295 - accuracy: 0.6323\n",
      "Epoch 37/50\n",
      "143/143 [==============================] - 29s 203ms/step - loss: 0.1136 - accuracy: 0.6373\n",
      "Epoch 38/50\n",
      "143/143 [==============================] - 29s 202ms/step - loss: 0.1102 - accuracy: 0.6406\n",
      "Epoch 39/50\n",
      "143/143 [==============================] - 29s 202ms/step - loss: 0.1084 - accuracy: 0.6361\n",
      "Epoch 40/50\n",
      "143/143 [==============================] - 29s 201ms/step - loss: 0.1073 - accuracy: 0.6376\n",
      "Epoch 41/50\n",
      "143/143 [==============================] - 29s 202ms/step - loss: 0.0854 - accuracy: 0.6422\n",
      "Epoch 42/50\n",
      "143/143 [==============================] - 29s 202ms/step - loss: 0.0840 - accuracy: 0.6453\n",
      "Epoch 43/50\n",
      "143/143 [==============================] - 29s 202ms/step - loss: 0.0819 - accuracy: 0.6479\n",
      "Epoch 44/50\n",
      "143/143 [==============================] - 29s 202ms/step - loss: 0.0864 - accuracy: 0.6415\n",
      "Epoch 45/50\n",
      "143/143 [==============================] - 29s 201ms/step - loss: 0.0817 - accuracy: 0.6455\n",
      "Epoch 46/50\n",
      "143/143 [==============================] - 29s 201ms/step - loss: 0.0629 - accuracy: 0.6477\n",
      "Epoch 47/50\n",
      "143/143 [==============================] - 29s 202ms/step - loss: 0.0676 - accuracy: 0.6489\n",
      "Epoch 48/50\n",
      "143/143 [==============================] - 29s 202ms/step - loss: 0.0616 - accuracy: 0.6509\n",
      "Epoch 49/50\n",
      "143/143 [==============================] - 29s 202ms/step - loss: 0.0649 - accuracy: 0.6518\n",
      "Epoch 50/50\n",
      "143/143 [==============================] - 29s 201ms/step - loss: 0.0587 - accuracy: 0.6542\n"
     ]
    },
    {
     "data": {
      "text/plain": [
       "<tensorflow.python.keras.callbacks.History at 0x7fc56a5d6850>"
      ]
     },
     "execution_count": 47,
     "metadata": {},
     "output_type": "execute_result"
    }
   ],
   "source": [
    "EPOCHS = 50\n",
    "model.fit(dataset, epochs=EPOCHS, verbose=1)"
   ]
  },
  {
   "cell_type": "code",
   "execution_count": 48,
   "id": "comparable-intermediate",
   "metadata": {},
   "outputs": [
    {
     "name": "stdout",
     "output_type": "stream",
     "text": [
      "입력 : 피곤해\n",
      "출력 : 푹 쉬세요 .\n"
     ]
    },
    {
     "data": {
      "text/plain": [
       "'푹 쉬세요 .'"
      ]
     },
     "execution_count": 48,
     "metadata": {},
     "output_type": "execute_result"
    }
   ],
   "source": [
    "sentence_generation('피곤해')"
   ]
  },
  {
   "cell_type": "code",
   "execution_count": 49,
   "id": "occasional-relationship",
   "metadata": {},
   "outputs": [
    {
     "name": "stdout",
     "output_type": "stream",
     "text": [
      "입력 : 파이썬이 뭐지\n",
      "출력 : 생각을 해보세요 .\n"
     ]
    },
    {
     "data": {
      "text/plain": [
       "'생각을 해보세요 .'"
      ]
     },
     "execution_count": 49,
     "metadata": {},
     "output_type": "execute_result"
    }
   ],
   "source": [
    "sentence_generation('파이썬이 뭐지')"
   ]
  },
  {
   "cell_type": "code",
   "execution_count": 50,
   "id": "disabled-province",
   "metadata": {},
   "outputs": [
    {
     "name": "stdout",
     "output_type": "stream",
     "text": [
      "입력 : 내일이 시험이네\n",
      "출력 : 컨디션 조절 하세요 .\n"
     ]
    },
    {
     "data": {
      "text/plain": [
       "'컨디션 조절 하세요 .'"
      ]
     },
     "execution_count": 50,
     "metadata": {},
     "output_type": "execute_result"
    }
   ],
   "source": [
    "sentence_generation('내일이 시험이네')"
   ]
  },
  {
   "cell_type": "code",
   "execution_count": 51,
   "id": "altered-evans",
   "metadata": {},
   "outputs": [
    {
     "name": "stdout",
     "output_type": "stream",
     "text": [
      "입력 : 공부하자\n",
      "출력 : 공부하면 더 많은 선택을 할 수 있죠 .\n"
     ]
    },
    {
     "data": {
      "text/plain": [
       "'공부하면 더 많은 선택을 할 수 있죠 .'"
      ]
     },
     "execution_count": 51,
     "metadata": {},
     "output_type": "execute_result"
    }
   ],
   "source": [
    "sentence_generation('공부하자')"
   ]
  },
  {
   "cell_type": "code",
   "execution_count": 52,
   "id": "fitted-popularity",
   "metadata": {},
   "outputs": [
    {
     "name": "stdout",
     "output_type": "stream",
     "text": [
      "입력 : 안녕\n",
      "출력 : 안녕하세요 .\n"
     ]
    },
    {
     "data": {
      "text/plain": [
       "'안녕하세요 .'"
      ]
     },
     "execution_count": 52,
     "metadata": {},
     "output_type": "execute_result"
    }
   ],
   "source": [
    "sentence_generation('안녕')"
   ]
  },
  {
   "cell_type": "code",
   "execution_count": 54,
   "id": "above-former",
   "metadata": {},
   "outputs": [
    {
     "name": "stdout",
     "output_type": "stream",
     "text": [
      "입력 : 핸드크림 좀 줘\n",
      "출력 : 정말 어려운 일이에요 .\n"
     ]
    },
    {
     "data": {
      "text/plain": [
       "'정말 어려운 일이에요 .'"
      ]
     },
     "execution_count": 54,
     "metadata": {},
     "output_type": "execute_result"
    }
   ],
   "source": [
    "sentence_generation('핸드크림 좀 줘')"
   ]
  },
  {
   "cell_type": "code",
   "execution_count": 55,
   "id": "increasing-auditor",
   "metadata": {},
   "outputs": [
    {
     "name": "stdout",
     "output_type": "stream",
     "text": [
      "입력 : 핸드폰 좀 빌려줄래\n",
      "출력 : 저는 위로해드리는 로봇이에요 .\n"
     ]
    },
    {
     "data": {
      "text/plain": [
       "'저는 위로해드리는 로봇이에요 .'"
      ]
     },
     "execution_count": 55,
     "metadata": {},
     "output_type": "execute_result"
    }
   ],
   "source": [
    "sentence_generation('핸드폰 좀 빌려줄래')"
   ]
  },
  {
   "cell_type": "code",
   "execution_count": 57,
   "id": "turned-letters",
   "metadata": {},
   "outputs": [
    {
     "name": "stdout",
     "output_type": "stream",
     "text": [
      "입력 : 이름 좀 확인해줘\n",
      "출력 : 위로봇이요 .\n"
     ]
    },
    {
     "data": {
      "text/plain": [
       "'위로봇이요 .'"
      ]
     },
     "execution_count": 57,
     "metadata": {},
     "output_type": "execute_result"
    }
   ],
   "source": [
    "sentence_generation('이름 좀 확인해줘')"
   ]
  },
  {
   "cell_type": "code",
   "execution_count": 58,
   "id": "personalized-frank",
   "metadata": {},
   "outputs": [
    {
     "name": "stdout",
     "output_type": "stream",
     "text": [
      "입력 : 노래 추천해줘\n",
      "출력 : 좀 더 밝 .\n"
     ]
    },
    {
     "data": {
      "text/plain": [
       "'좀 더 밝 .'"
      ]
     },
     "execution_count": 58,
     "metadata": {},
     "output_type": "execute_result"
    }
   ],
   "source": [
    "sentence_generation('노래 추천해줘')"
   ]
  },
  {
   "cell_type": "markdown",
   "id": "handmade-message",
   "metadata": {},
   "source": [
    "# 회고\n",
    "\n",
    "> - 트랜스포머의 주요 용어\n",
    ">    + 1)인코더\n",
    ">    + 2)디코더\n",
    ">    - 3)어텐션('쿼리'에 대해서 모든 '키'와의 유사도를 구한다 => '키'와 맵핑되어있는 각각의 '값'에 반영 후 모두 더해 최종 결과 어텐션 값을 얻음)\n",
    ">    - 4) 셀프 어텐션\n",
    ">    - 5) 스케일드 닷 프로덕>    \n",
    ">    - 6) 멀티-헤드 어텐션\n",
    ">    - 7) Masking(패딩 마스킹, 룩 어헤드 마스킹)\n",
    ">    - 8) 교사 강요\n",
    "\n",
    "\n",
    "- 처음 데이터를 불러올때 오류가 나서 한참을 애먹었지만, github에 올려져 있는 파일을 새로 다운로드해서 해결했다.(클라우드의 문제???)\n",
    "\n",
    "- 논문에서 Enum_layers = 6, d-Model = 512로 했다고 해서 비교해보기 위해 처음에는 Enum_layers = 2, d-Model = 256으로 시험해보았다.\n",
    "\n",
    "- 파라미터의 수가 적어서 학습하는데 짧은 시간이 걸려 결과를 기대하지 않았지만, 비교적 안정적인 출력을 보였다. \n",
    "- \"파이썬이 뭐지\"라는 문장을 물었을때는 이상한 답변이 나왔다.\n",
    "    - => 같은 Epochs에 Enum_layers = 6, d-Model = 512로 학습 했을때 \"생각을 해보세요\" 라는 정상적인 답변이 출력 되었다.\n",
    "\n",
    "- 데이터의 규모가 작기 때문에 스마트한 챗봇을 만들기는 어려웠지만, 어떻게 만들어지는지 기본 구조를 알아볼 수 있었다.\n",
    "\n"
   ]
  }
 ],
 "metadata": {
  "kernelspec": {
   "display_name": "Python 3",
   "language": "python",
   "name": "python3"
  }
 },
 "nbformat": 4,
 "nbformat_minor": 5
}
