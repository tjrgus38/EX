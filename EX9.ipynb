{
 "cells": [
  {
   "cell_type": "markdown",
   "id": "united-scanner",
   "metadata": {},
   "source": [
    "# EX9_아이유팬이 좋아할 만한 다른 아티스트 찾기\n",
    "\n",
    "********************\n",
    "> + 평가문항\n",
    "> 1. CSR matrix가 정상적으로 만들어졌다.\n",
    "> 2. MF 모델이 정상적으로 훈련되어 그럴듯한 추천이 이루어졌다.\n",
    "> 3. 비슷한 영화 찾기와 유저에게 추천하기의 과정이 정상적으로 진행되었다.\n",
    "**************************"
   ]
  },
  {
   "cell_type": "markdown",
   "id": "mexican-oliver",
   "metadata": {},
   "source": [
    "- mkdir -p ~/aiffel/recommendata_iu/data/ml-1m\n",
    "- ln -s ~/data/ml-1m/* ~/aiffel/recommendata_iu/data/ml-1m"
   ]
  },
  {
   "cell_type": "markdown",
   "id": "declared-nurse",
   "metadata": {},
   "source": [
    "## 1. 데이터 준비 및 전처리"
   ]
  },
  {
   "cell_type": "code",
   "execution_count": 44,
   "id": "global-franchise",
   "metadata": {},
   "outputs": [
    {
     "data": {
      "text/html": [
       "<div>\n",
       "<style scoped>\n",
       "    .dataframe tbody tr th:only-of-type {\n",
       "        vertical-align: middle;\n",
       "    }\n",
       "\n",
       "    .dataframe tbody tr th {\n",
       "        vertical-align: top;\n",
       "    }\n",
       "\n",
       "    .dataframe thead th {\n",
       "        text-align: right;\n",
       "    }\n",
       "</style>\n",
       "<table border=\"1\" class=\"dataframe\">\n",
       "  <thead>\n",
       "    <tr style=\"text-align: right;\">\n",
       "      <th></th>\n",
       "      <th>user_id</th>\n",
       "      <th>movie_id</th>\n",
       "      <th>rating</th>\n",
       "      <th>timestamp</th>\n",
       "    </tr>\n",
       "  </thead>\n",
       "  <tbody>\n",
       "    <tr>\n",
       "      <th>0</th>\n",
       "      <td>1</td>\n",
       "      <td>1193</td>\n",
       "      <td>5</td>\n",
       "      <td>978300760</td>\n",
       "    </tr>\n",
       "    <tr>\n",
       "      <th>1</th>\n",
       "      <td>1</td>\n",
       "      <td>661</td>\n",
       "      <td>3</td>\n",
       "      <td>978302109</td>\n",
       "    </tr>\n",
       "    <tr>\n",
       "      <th>2</th>\n",
       "      <td>1</td>\n",
       "      <td>914</td>\n",
       "      <td>3</td>\n",
       "      <td>978301968</td>\n",
       "    </tr>\n",
       "    <tr>\n",
       "      <th>3</th>\n",
       "      <td>1</td>\n",
       "      <td>3408</td>\n",
       "      <td>4</td>\n",
       "      <td>978300275</td>\n",
       "    </tr>\n",
       "    <tr>\n",
       "      <th>4</th>\n",
       "      <td>1</td>\n",
       "      <td>2355</td>\n",
       "      <td>5</td>\n",
       "      <td>978824291</td>\n",
       "    </tr>\n",
       "  </tbody>\n",
       "</table>\n",
       "</div>"
      ],
      "text/plain": [
       "   user_id  movie_id  rating  timestamp\n",
       "0        1      1193       5  978300760\n",
       "1        1       661       3  978302109\n",
       "2        1       914       3  978301968\n",
       "3        1      3408       4  978300275\n",
       "4        1      2355       5  978824291"
      ]
     },
     "execution_count": 44,
     "metadata": {},
     "output_type": "execute_result"
    }
   ],
   "source": [
    "import pandas as pd\n",
    "import os\n",
    "\n",
    "rating_file_path=os.getenv('HOME') + '/aiffel/recommendata_iu/data/ml-1m/ratings.dat'\n",
    "ratings_cols = ['user_id', 'movie_id', 'rating', 'timestamp']\n",
    "ratings = pd.read_csv(rating_file_path, sep='::', names=ratings_cols, engine='python', encoding = \"ISO-8859-1\")\n",
    "orginal_data_size = len(ratings)\n",
    "ratings.head()"
   ]
  },
  {
   "cell_type": "code",
   "execution_count": 45,
   "id": "downtown-holly",
   "metadata": {},
   "outputs": [
    {
     "name": "stdout",
     "output_type": "stream",
     "text": [
      "orginal_data_size: 1000209, filtered_data_size: 836478\n",
      "Ratio of Remaining Data is 83.63%\n"
     ]
    }
   ],
   "source": [
    "ratings = ratings[ratings['rating']>=3]\n",
    "filtered_data_size = len(ratings)\n",
    "\n",
    "print(f'orginal_data_size: {orginal_data_size}, filtered_data_size: {filtered_data_size}')\n",
    "print(f'Ratio of Remaining Data is {filtered_data_size / orginal_data_size:.2%}')"
   ]
  },
  {
   "cell_type": "markdown",
   "id": "impressive-sheet",
   "metadata": {},
   "source": [
    "- 평점이 3점 이상인 데이터만 남긴다. (83.63%의 데이터만 남음)"
   ]
  },
  {
   "cell_type": "code",
   "execution_count": 46,
   "id": "bridal-tuner",
   "metadata": {},
   "outputs": [
    {
     "data": {
      "text/plain": [
       "0          5\n",
       "1          3\n",
       "2          3\n",
       "3          4\n",
       "4          5\n",
       "          ..\n",
       "1000203    3\n",
       "1000205    5\n",
       "1000206    5\n",
       "1000207    4\n",
       "1000208    4\n",
       "Name: count, Length: 836478, dtype: int64"
      ]
     },
     "execution_count": 46,
     "metadata": {},
     "output_type": "execute_result"
    }
   ],
   "source": [
    "ratings.rename(columns={'rating':'count'}, inplace=True)\n",
    "ratings['count']"
   ]
  },
  {
   "cell_type": "markdown",
   "id": "responsible-refrigerator",
   "metadata": {},
   "source": [
    "- rating의 이름을 count로 변경"
   ]
  },
  {
   "cell_type": "code",
   "execution_count": 47,
   "id": "quick-expense",
   "metadata": {},
   "outputs": [
    {
     "data": {
      "text/html": [
       "<div>\n",
       "<style scoped>\n",
       "    .dataframe tbody tr th:only-of-type {\n",
       "        vertical-align: middle;\n",
       "    }\n",
       "\n",
       "    .dataframe tbody tr th {\n",
       "        vertical-align: top;\n",
       "    }\n",
       "\n",
       "    .dataframe thead th {\n",
       "        text-align: right;\n",
       "    }\n",
       "</style>\n",
       "<table border=\"1\" class=\"dataframe\">\n",
       "  <thead>\n",
       "    <tr style=\"text-align: right;\">\n",
       "      <th></th>\n",
       "      <th>movie_id</th>\n",
       "      <th>title</th>\n",
       "      <th>genre</th>\n",
       "    </tr>\n",
       "  </thead>\n",
       "  <tbody>\n",
       "    <tr>\n",
       "      <th>0</th>\n",
       "      <td>1</td>\n",
       "      <td>Toy Story (1995)</td>\n",
       "      <td>Animation|Children's|Comedy</td>\n",
       "    </tr>\n",
       "    <tr>\n",
       "      <th>1</th>\n",
       "      <td>2</td>\n",
       "      <td>Jumanji (1995)</td>\n",
       "      <td>Adventure|Children's|Fantasy</td>\n",
       "    </tr>\n",
       "    <tr>\n",
       "      <th>2</th>\n",
       "      <td>3</td>\n",
       "      <td>Grumpier Old Men (1995)</td>\n",
       "      <td>Comedy|Romance</td>\n",
       "    </tr>\n",
       "    <tr>\n",
       "      <th>3</th>\n",
       "      <td>4</td>\n",
       "      <td>Waiting to Exhale (1995)</td>\n",
       "      <td>Comedy|Drama</td>\n",
       "    </tr>\n",
       "    <tr>\n",
       "      <th>4</th>\n",
       "      <td>5</td>\n",
       "      <td>Father of the Bride Part II (1995)</td>\n",
       "      <td>Comedy</td>\n",
       "    </tr>\n",
       "  </tbody>\n",
       "</table>\n",
       "</div>"
      ],
      "text/plain": [
       "   movie_id                               title                         genre\n",
       "0         1                    Toy Story (1995)   Animation|Children's|Comedy\n",
       "1         2                      Jumanji (1995)  Adventure|Children's|Fantasy\n",
       "2         3             Grumpier Old Men (1995)                Comedy|Romance\n",
       "3         4            Waiting to Exhale (1995)                  Comedy|Drama\n",
       "4         5  Father of the Bride Part II (1995)                        Comedy"
      ]
     },
     "execution_count": 47,
     "metadata": {},
     "output_type": "execute_result"
    }
   ],
   "source": [
    "movie_file_path=os.getenv('HOME') + '/aiffel/recommendata_iu/data/ml-1m/movies.dat'\n",
    "cols = ['movie_id', 'title', 'genre'] \n",
    "movies = pd.read_csv(movie_file_path, sep='::', names=cols, engine='python', encoding='ISO-8859-1')\n",
    "movies.head()"
   ]
  },
  {
   "cell_type": "code",
   "execution_count": 48,
   "id": "plain-woman",
   "metadata": {},
   "outputs": [
    {
     "data": {
      "text/html": [
       "<div>\n",
       "<style scoped>\n",
       "    .dataframe tbody tr th:only-of-type {\n",
       "        vertical-align: middle;\n",
       "    }\n",
       "\n",
       "    .dataframe tbody tr th {\n",
       "        vertical-align: top;\n",
       "    }\n",
       "\n",
       "    .dataframe thead th {\n",
       "        text-align: right;\n",
       "    }\n",
       "</style>\n",
       "<table border=\"1\" class=\"dataframe\">\n",
       "  <thead>\n",
       "    <tr style=\"text-align: right;\">\n",
       "      <th></th>\n",
       "      <th>user_id</th>\n",
       "      <th>movie_id</th>\n",
       "      <th>count</th>\n",
       "      <th>timestamp</th>\n",
       "      <th>title</th>\n",
       "      <th>genre</th>\n",
       "    </tr>\n",
       "  </thead>\n",
       "  <tbody>\n",
       "    <tr>\n",
       "      <th>0</th>\n",
       "      <td>1</td>\n",
       "      <td>1193</td>\n",
       "      <td>5</td>\n",
       "      <td>978300760</td>\n",
       "      <td>One Flew Over the Cuckoo's Nest (1975)</td>\n",
       "      <td>Drama</td>\n",
       "    </tr>\n",
       "    <tr>\n",
       "      <th>1</th>\n",
       "      <td>1</td>\n",
       "      <td>661</td>\n",
       "      <td>3</td>\n",
       "      <td>978302109</td>\n",
       "      <td>James and the Giant Peach (1996)</td>\n",
       "      <td>Animation|Children's|Musical</td>\n",
       "    </tr>\n",
       "    <tr>\n",
       "      <th>2</th>\n",
       "      <td>1</td>\n",
       "      <td>914</td>\n",
       "      <td>3</td>\n",
       "      <td>978301968</td>\n",
       "      <td>My Fair Lady (1964)</td>\n",
       "      <td>Musical|Romance</td>\n",
       "    </tr>\n",
       "    <tr>\n",
       "      <th>3</th>\n",
       "      <td>1</td>\n",
       "      <td>3408</td>\n",
       "      <td>4</td>\n",
       "      <td>978300275</td>\n",
       "      <td>Erin Brockovich (2000)</td>\n",
       "      <td>Drama</td>\n",
       "    </tr>\n",
       "    <tr>\n",
       "      <th>4</th>\n",
       "      <td>1</td>\n",
       "      <td>2355</td>\n",
       "      <td>5</td>\n",
       "      <td>978824291</td>\n",
       "      <td>Bug's Life, A (1998)</td>\n",
       "      <td>Animation|Children's|Comedy</td>\n",
       "    </tr>\n",
       "  </tbody>\n",
       "</table>\n",
       "</div>"
      ],
      "text/plain": [
       "   user_id  movie_id  count  timestamp  \\\n",
       "0        1      1193      5  978300760   \n",
       "1        1       661      3  978302109   \n",
       "2        1       914      3  978301968   \n",
       "3        1      3408      4  978300275   \n",
       "4        1      2355      5  978824291   \n",
       "\n",
       "                                    title                         genre  \n",
       "0  One Flew Over the Cuckoo's Nest (1975)                         Drama  \n",
       "1        James and the Giant Peach (1996)  Animation|Children's|Musical  \n",
       "2                     My Fair Lady (1964)               Musical|Romance  \n",
       "3                  Erin Brockovich (2000)                         Drama  \n",
       "4                    Bug's Life, A (1998)   Animation|Children's|Comedy  "
      ]
     },
     "execution_count": 48,
     "metadata": {},
     "output_type": "execute_result"
    }
   ],
   "source": [
    "ratings = ratings.join(movies.set_index('movie_id'), on='movie_id')\n",
    "ratings.head()"
   ]
  },
  {
   "cell_type": "markdown",
   "id": "alike-spirituality",
   "metadata": {},
   "source": [
    "- ratings dataframe과 movies dataframe을 합친다."
   ]
  },
  {
   "cell_type": "code",
   "execution_count": 49,
   "id": "micro-driving",
   "metadata": {},
   "outputs": [
    {
     "data": {
      "text/html": [
       "<div>\n",
       "<style scoped>\n",
       "    .dataframe tbody tr th:only-of-type {\n",
       "        vertical-align: middle;\n",
       "    }\n",
       "\n",
       "    .dataframe tbody tr th {\n",
       "        vertical-align: top;\n",
       "    }\n",
       "\n",
       "    .dataframe thead th {\n",
       "        text-align: right;\n",
       "    }\n",
       "</style>\n",
       "<table border=\"1\" class=\"dataframe\">\n",
       "  <thead>\n",
       "    <tr style=\"text-align: right;\">\n",
       "      <th></th>\n",
       "      <th>user_id</th>\n",
       "      <th>movie_id</th>\n",
       "      <th>count</th>\n",
       "      <th>title</th>\n",
       "    </tr>\n",
       "  </thead>\n",
       "  <tbody>\n",
       "    <tr>\n",
       "      <th>0</th>\n",
       "      <td>1</td>\n",
       "      <td>1193</td>\n",
       "      <td>5</td>\n",
       "      <td>One Flew Over the Cuckoo's Nest (1975)</td>\n",
       "    </tr>\n",
       "    <tr>\n",
       "      <th>1</th>\n",
       "      <td>1</td>\n",
       "      <td>661</td>\n",
       "      <td>3</td>\n",
       "      <td>James and the Giant Peach (1996)</td>\n",
       "    </tr>\n",
       "    <tr>\n",
       "      <th>2</th>\n",
       "      <td>1</td>\n",
       "      <td>914</td>\n",
       "      <td>3</td>\n",
       "      <td>My Fair Lady (1964)</td>\n",
       "    </tr>\n",
       "    <tr>\n",
       "      <th>3</th>\n",
       "      <td>1</td>\n",
       "      <td>3408</td>\n",
       "      <td>4</td>\n",
       "      <td>Erin Brockovich (2000)</td>\n",
       "    </tr>\n",
       "    <tr>\n",
       "      <th>4</th>\n",
       "      <td>1</td>\n",
       "      <td>2355</td>\n",
       "      <td>5</td>\n",
       "      <td>Bug's Life, A (1998)</td>\n",
       "    </tr>\n",
       "  </tbody>\n",
       "</table>\n",
       "</div>"
      ],
      "text/plain": [
       "   user_id  movie_id  count                                   title\n",
       "0        1      1193      5  One Flew Over the Cuckoo's Nest (1975)\n",
       "1        1       661      3        James and the Giant Peach (1996)\n",
       "2        1       914      3                     My Fair Lady (1964)\n",
       "3        1      3408      4                  Erin Brockovich (2000)\n",
       "4        1      2355      5                    Bug's Life, A (1998)"
      ]
     },
     "execution_count": 49,
     "metadata": {},
     "output_type": "execute_result"
    }
   ],
   "source": [
    "ratings = ratings.drop(columns=['timestamp', 'genre'])\n",
    "# timestamp, gerne를 표에서 제외\n",
    "ratings.head()"
   ]
  },
  {
   "cell_type": "markdown",
   "id": "further-error",
   "metadata": {},
   "source": [
    "## 2. 데이터 분석"
   ]
  },
  {
   "cell_type": "code",
   "execution_count": 50,
   "id": "verbal-broadcasting",
   "metadata": {},
   "outputs": [
    {
     "name": "stdout",
     "output_type": "stream",
     "text": [
      "# of movie_id:  3628\n",
      "# of title   :  3628\n",
      "# of user_id :  6039\n"
     ]
    }
   ],
   "source": [
    "print('# of movie_id: ', ratings['movie_id'].nunique())\n",
    "print('# of title   : ', ratings['title'].nunique())\n",
    "print('# of user_id : ', ratings['user_id'].nunique())"
   ]
  },
  {
   "cell_type": "code",
   "execution_count": 51,
   "id": "interstate-threat",
   "metadata": {},
   "outputs": [
    {
     "data": {
      "text/plain": [
       "title\n",
       "American Beauty (1999)                                   3211\n",
       "Star Wars: Episode IV - A New Hope (1977)                2910\n",
       "Star Wars: Episode V - The Empire Strikes Back (1980)    2885\n",
       "Star Wars: Episode VI - Return of the Jedi (1983)        2716\n",
       "Saving Private Ryan (1998)                               2561\n",
       "Terminator 2: Judgment Day (1991)                        2509\n",
       "Silence of the Lambs, The (1991)                         2498\n",
       "Raiders of the Lost Ark (1981)                           2473\n",
       "Back to the Future (1985)                                2460\n",
       "Matrix, The (1999)                                       2434\n",
       "Name: user_id, dtype: int64"
      ]
     },
     "execution_count": 51,
     "metadata": {},
     "output_type": "execute_result"
    }
   ],
   "source": [
    "movie_count = ratings.groupby('title')['user_id'].count()\n",
    "movie_count.sort_values(ascending=False).head(10)"
   ]
  },
  {
   "cell_type": "code",
   "execution_count": 52,
   "id": "foster-station",
   "metadata": {},
   "outputs": [
    {
     "data": {
      "text/plain": [
       "count    6039.000000\n",
       "mean      138.512668\n",
       "std       156.241599\n",
       "min         1.000000\n",
       "25%        38.000000\n",
       "50%        81.000000\n",
       "75%       177.000000\n",
       "max      1968.000000\n",
       "Name: movie_id, dtype: float64"
      ]
     },
     "execution_count": 52,
     "metadata": {},
     "output_type": "execute_result"
    }
   ],
   "source": [
    "user_count = ratings.groupby('user_id')['movie_id'].count()\n",
    "user_count.describe()"
   ]
  },
  {
   "cell_type": "markdown",
   "id": "breeding-constitution",
   "metadata": {},
   "source": [
    "- 유저 별 시청한 영화의 수"
   ]
  },
  {
   "cell_type": "markdown",
   "id": "binary-automation",
   "metadata": {},
   "source": [
    "## 3. 선호하는 영화 추가"
   ]
  },
  {
   "cell_type": "code",
   "execution_count": 53,
   "id": "labeled-waterproof",
   "metadata": {},
   "outputs": [
    {
     "data": {
      "text/html": [
       "<div>\n",
       "<style scoped>\n",
       "    .dataframe tbody tr th:only-of-type {\n",
       "        vertical-align: middle;\n",
       "    }\n",
       "\n",
       "    .dataframe tbody tr th {\n",
       "        vertical-align: top;\n",
       "    }\n",
       "\n",
       "    .dataframe thead th {\n",
       "        text-align: right;\n",
       "    }\n",
       "</style>\n",
       "<table border=\"1\" class=\"dataframe\">\n",
       "  <thead>\n",
       "    <tr style=\"text-align: right;\">\n",
       "      <th></th>\n",
       "      <th>movie_id</th>\n",
       "      <th>title</th>\n",
       "      <th>genre</th>\n",
       "    </tr>\n",
       "  </thead>\n",
       "  <tbody>\n",
       "    <tr>\n",
       "      <th>390</th>\n",
       "      <td>394</td>\n",
       "      <td>Coldblooded (1995)</td>\n",
       "      <td>Action</td>\n",
       "    </tr>\n",
       "    <tr>\n",
       "      <th>607</th>\n",
       "      <td>611</td>\n",
       "      <td>Hellraiser: Bloodline (1996)</td>\n",
       "      <td>Action|Horror|Sci-Fi</td>\n",
       "    </tr>\n",
       "    <tr>\n",
       "      <th>661</th>\n",
       "      <td>667</td>\n",
       "      <td>Bloodsport 2 (1995)</td>\n",
       "      <td>Action</td>\n",
       "    </tr>\n",
       "    <tr>\n",
       "      <th>831</th>\n",
       "      <td>842</td>\n",
       "      <td>Tales from the Crypt Presents: Bordello of Blo...</td>\n",
       "      <td>Horror</td>\n",
       "    </tr>\n",
       "    <tr>\n",
       "      <th>1149</th>\n",
       "      <td>1165</td>\n",
       "      <td>Bloody Child, The (1996)</td>\n",
       "      <td>Drama|Thriller</td>\n",
       "    </tr>\n",
       "    <tr>\n",
       "      <th>1309</th>\n",
       "      <td>1329</td>\n",
       "      <td>Blood For Dracula (Andy Warhol's Dracula) (1974)</td>\n",
       "      <td>Horror</td>\n",
       "    </tr>\n",
       "    <tr>\n",
       "      <th>1315</th>\n",
       "      <td>1335</td>\n",
       "      <td>Blood Beach (1981)</td>\n",
       "      <td>Action|Horror</td>\n",
       "    </tr>\n",
       "    <tr>\n",
       "      <th>1330</th>\n",
       "      <td>1351</td>\n",
       "      <td>Blood &amp; Wine (1997)</td>\n",
       "      <td>Drama</td>\n",
       "    </tr>\n",
       "    <tr>\n",
       "      <th>1911</th>\n",
       "      <td>1980</td>\n",
       "      <td>Friday the 13th Part VII: The New Blood (1988)</td>\n",
       "      <td>Horror</td>\n",
       "    </tr>\n",
       "    <tr>\n",
       "      <th>2333</th>\n",
       "      <td>2402</td>\n",
       "      <td>Rambo: First Blood Part II (1985)</td>\n",
       "      <td>Action|War</td>\n",
       "    </tr>\n",
       "    <tr>\n",
       "      <th>2334</th>\n",
       "      <td>2403</td>\n",
       "      <td>First Blood (1982)</td>\n",
       "      <td>Action</td>\n",
       "    </tr>\n",
       "    <tr>\n",
       "      <th>2418</th>\n",
       "      <td>2487</td>\n",
       "      <td>Blood, Guts, Bullets and Octane (1998)</td>\n",
       "      <td>Action|Comedy</td>\n",
       "    </tr>\n",
       "    <tr>\n",
       "      <th>3050</th>\n",
       "      <td>3119</td>\n",
       "      <td>Bay of Blood (Reazione a catena) (1971)</td>\n",
       "      <td>Horror</td>\n",
       "    </tr>\n",
       "    <tr>\n",
       "      <th>3085</th>\n",
       "      <td>3154</td>\n",
       "      <td>Blood on the Sun (1945)</td>\n",
       "      <td>Drama|War</td>\n",
       "    </tr>\n",
       "    <tr>\n",
       "      <th>3275</th>\n",
       "      <td>3344</td>\n",
       "      <td>Blood Feast (1963)</td>\n",
       "      <td>Horror</td>\n",
       "    </tr>\n",
       "    <tr>\n",
       "      <th>3277</th>\n",
       "      <td>3346</td>\n",
       "      <td>Color Me Blood Red (1965)</td>\n",
       "      <td>Horror</td>\n",
       "    </tr>\n",
       "    <tr>\n",
       "      <th>3375</th>\n",
       "      <td>3444</td>\n",
       "      <td>Bloodsport (1988)</td>\n",
       "      <td>Action</td>\n",
       "    </tr>\n",
       "    <tr>\n",
       "      <th>3389</th>\n",
       "      <td>3458</td>\n",
       "      <td>Blood and Sand (Sangre y Arena) (1989)</td>\n",
       "      <td>Drama|Romance</td>\n",
       "    </tr>\n",
       "    <tr>\n",
       "      <th>3582</th>\n",
       "      <td>3651</td>\n",
       "      <td>Blood Spattered Bride, The (La Novia Ensangren...</td>\n",
       "      <td>Horror</td>\n",
       "    </tr>\n",
       "    <tr>\n",
       "      <th>3614</th>\n",
       "      <td>3683</td>\n",
       "      <td>Blood Simple (1984)</td>\n",
       "      <td>Drama|Film-Noir</td>\n",
       "    </tr>\n",
       "    <tr>\n",
       "      <th>3692</th>\n",
       "      <td>3761</td>\n",
       "      <td>Blood In, Blood Out (a.k.a. Bound by Honor) (1...</td>\n",
       "      <td>Crime|Drama</td>\n",
       "    </tr>\n",
       "  </tbody>\n",
       "</table>\n",
       "</div>"
      ],
      "text/plain": [
       "      movie_id                                              title  \\\n",
       "390        394                                 Coldblooded (1995)   \n",
       "607        611                       Hellraiser: Bloodline (1996)   \n",
       "661        667                                Bloodsport 2 (1995)   \n",
       "831        842  Tales from the Crypt Presents: Bordello of Blo...   \n",
       "1149      1165                           Bloody Child, The (1996)   \n",
       "1309      1329   Blood For Dracula (Andy Warhol's Dracula) (1974)   \n",
       "1315      1335                                 Blood Beach (1981)   \n",
       "1330      1351                                Blood & Wine (1997)   \n",
       "1911      1980     Friday the 13th Part VII: The New Blood (1988)   \n",
       "2333      2402                  Rambo: First Blood Part II (1985)   \n",
       "2334      2403                                 First Blood (1982)   \n",
       "2418      2487             Blood, Guts, Bullets and Octane (1998)   \n",
       "3050      3119            Bay of Blood (Reazione a catena) (1971)   \n",
       "3085      3154                            Blood on the Sun (1945)   \n",
       "3275      3344                                 Blood Feast (1963)   \n",
       "3277      3346                          Color Me Blood Red (1965)   \n",
       "3375      3444                                  Bloodsport (1988)   \n",
       "3389      3458             Blood and Sand (Sangre y Arena) (1989)   \n",
       "3582      3651  Blood Spattered Bride, The (La Novia Ensangren...   \n",
       "3614      3683                                Blood Simple (1984)   \n",
       "3692      3761  Blood In, Blood Out (a.k.a. Bound by Honor) (1...   \n",
       "\n",
       "                     genre  \n",
       "390                 Action  \n",
       "607   Action|Horror|Sci-Fi  \n",
       "661                 Action  \n",
       "831                 Horror  \n",
       "1149        Drama|Thriller  \n",
       "1309                Horror  \n",
       "1315         Action|Horror  \n",
       "1330                 Drama  \n",
       "1911                Horror  \n",
       "2333            Action|War  \n",
       "2334                Action  \n",
       "2418         Action|Comedy  \n",
       "3050                Horror  \n",
       "3085             Drama|War  \n",
       "3275                Horror  \n",
       "3277                Horror  \n",
       "3375                Action  \n",
       "3389         Drama|Romance  \n",
       "3582                Horror  \n",
       "3614       Drama|Film-Noir  \n",
       "3692           Crime|Drama  "
      ]
     },
     "execution_count": 53,
     "metadata": {},
     "output_type": "execute_result"
    }
   ],
   "source": [
    "\n",
    "movies[movies['title'].str.lower().str.contains('blood', regex=False)]"
   ]
  },
  {
   "cell_type": "code",
   "execution_count": 54,
   "id": "excessive-participation",
   "metadata": {},
   "outputs": [
    {
     "data": {
      "text/html": [
       "<div>\n",
       "<style scoped>\n",
       "    .dataframe tbody tr th:only-of-type {\n",
       "        vertical-align: middle;\n",
       "    }\n",
       "\n",
       "    .dataframe tbody tr th {\n",
       "        vertical-align: top;\n",
       "    }\n",
       "\n",
       "    .dataframe thead th {\n",
       "        text-align: right;\n",
       "    }\n",
       "</style>\n",
       "<table border=\"1\" class=\"dataframe\">\n",
       "  <thead>\n",
       "    <tr style=\"text-align: right;\">\n",
       "      <th></th>\n",
       "      <th>user_id</th>\n",
       "      <th>movie_id</th>\n",
       "      <th>count</th>\n",
       "      <th>title</th>\n",
       "    </tr>\n",
       "  </thead>\n",
       "  <tbody>\n",
       "    <tr>\n",
       "      <th>0</th>\n",
       "      <td>seok</td>\n",
       "      <td>2000</td>\n",
       "      <td>5</td>\n",
       "      <td>Lethal Weapon (1987)</td>\n",
       "    </tr>\n",
       "    <tr>\n",
       "      <th>1</th>\n",
       "      <td>seok</td>\n",
       "      <td>2402</td>\n",
       "      <td>5</td>\n",
       "      <td>Rambo: First Blood Part II (1985)</td>\n",
       "    </tr>\n",
       "    <tr>\n",
       "      <th>2</th>\n",
       "      <td>seok</td>\n",
       "      <td>2102</td>\n",
       "      <td>5</td>\n",
       "      <td>Steamboat Willie (1940)</td>\n",
       "    </tr>\n",
       "    <tr>\n",
       "      <th>3</th>\n",
       "      <td>seok</td>\n",
       "      <td>648</td>\n",
       "      <td>5</td>\n",
       "      <td>Mission: Impossible (1996)</td>\n",
       "    </tr>\n",
       "    <tr>\n",
       "      <th>4</th>\n",
       "      <td>seok</td>\n",
       "      <td>3623</td>\n",
       "      <td>5</td>\n",
       "      <td>Mission: Impossible 2 (2000)</td>\n",
       "    </tr>\n",
       "  </tbody>\n",
       "</table>\n",
       "</div>"
      ],
      "text/plain": [
       "  user_id  movie_id  count                              title\n",
       "0    seok      2000      5               Lethal Weapon (1987)\n",
       "1    seok      2402      5  Rambo: First Blood Part II (1985)\n",
       "2    seok      2102      5            Steamboat Willie (1940)\n",
       "3    seok       648      5         Mission: Impossible (1996)\n",
       "4    seok      3623      5       Mission: Impossible 2 (2000)"
      ]
     },
     "execution_count": 54,
     "metadata": {},
     "output_type": "execute_result"
    }
   ],
   "source": [
    "my_favorite_id = [2000, 2402, 2102 , 648, 3623]\n",
    "\n",
    "my_favorite_title = []\n",
    "for i in my_favorite_id:\n",
    "    my_favorite_title.extend(list(movies[movies['movie_id'] == i]['title']))\n",
    "\n",
    "my_movielist = pd.DataFrame({'user_id': ['seok']*5, 'movie_id': my_favorite_id, 'count': [5]*5, 'title': my_favorite_title})\n",
    "my_movielist"
   ]
  },
  {
   "cell_type": "markdown",
   "id": "duplicate-landscape",
   "metadata": {},
   "source": [
    "- 5편 선정 후 각각의 영화를 5번 시청 했다는 표 추가"
   ]
  },
  {
   "cell_type": "code",
   "execution_count": 55,
   "id": "ongoing-orlando",
   "metadata": {},
   "outputs": [
    {
     "data": {
      "text/html": [
       "<div>\n",
       "<style scoped>\n",
       "    .dataframe tbody tr th:only-of-type {\n",
       "        vertical-align: middle;\n",
       "    }\n",
       "\n",
       "    .dataframe tbody tr th {\n",
       "        vertical-align: top;\n",
       "    }\n",
       "\n",
       "    .dataframe thead th {\n",
       "        text-align: right;\n",
       "    }\n",
       "</style>\n",
       "<table border=\"1\" class=\"dataframe\">\n",
       "  <thead>\n",
       "    <tr style=\"text-align: right;\">\n",
       "      <th></th>\n",
       "      <th>user_id</th>\n",
       "      <th>movie_id</th>\n",
       "      <th>count</th>\n",
       "      <th>title</th>\n",
       "    </tr>\n",
       "  </thead>\n",
       "  <tbody>\n",
       "    <tr>\n",
       "      <th>836473</th>\n",
       "      <td>6040</td>\n",
       "      <td>1090</td>\n",
       "      <td>3</td>\n",
       "      <td>Platoon (1986)</td>\n",
       "    </tr>\n",
       "    <tr>\n",
       "      <th>836474</th>\n",
       "      <td>6040</td>\n",
       "      <td>1094</td>\n",
       "      <td>5</td>\n",
       "      <td>Crying Game, The (1992)</td>\n",
       "    </tr>\n",
       "    <tr>\n",
       "      <th>836475</th>\n",
       "      <td>6040</td>\n",
       "      <td>562</td>\n",
       "      <td>5</td>\n",
       "      <td>Welcome to the Dollhouse (1995)</td>\n",
       "    </tr>\n",
       "    <tr>\n",
       "      <th>836476</th>\n",
       "      <td>6040</td>\n",
       "      <td>1096</td>\n",
       "      <td>4</td>\n",
       "      <td>Sophie's Choice (1982)</td>\n",
       "    </tr>\n",
       "    <tr>\n",
       "      <th>836477</th>\n",
       "      <td>6040</td>\n",
       "      <td>1097</td>\n",
       "      <td>4</td>\n",
       "      <td>E.T. the Extra-Terrestrial (1982)</td>\n",
       "    </tr>\n",
       "    <tr>\n",
       "      <th>836478</th>\n",
       "      <td>seok</td>\n",
       "      <td>2000</td>\n",
       "      <td>5</td>\n",
       "      <td>Lethal Weapon (1987)</td>\n",
       "    </tr>\n",
       "    <tr>\n",
       "      <th>836479</th>\n",
       "      <td>seok</td>\n",
       "      <td>2402</td>\n",
       "      <td>5</td>\n",
       "      <td>Rambo: First Blood Part II (1985)</td>\n",
       "    </tr>\n",
       "    <tr>\n",
       "      <th>836480</th>\n",
       "      <td>seok</td>\n",
       "      <td>2102</td>\n",
       "      <td>5</td>\n",
       "      <td>Steamboat Willie (1940)</td>\n",
       "    </tr>\n",
       "    <tr>\n",
       "      <th>836481</th>\n",
       "      <td>seok</td>\n",
       "      <td>648</td>\n",
       "      <td>5</td>\n",
       "      <td>Mission: Impossible (1996)</td>\n",
       "    </tr>\n",
       "    <tr>\n",
       "      <th>836482</th>\n",
       "      <td>seok</td>\n",
       "      <td>3623</td>\n",
       "      <td>5</td>\n",
       "      <td>Mission: Impossible 2 (2000)</td>\n",
       "    </tr>\n",
       "  </tbody>\n",
       "</table>\n",
       "</div>"
      ],
      "text/plain": [
       "       user_id  movie_id  count                              title\n",
       "836473    6040      1090      3                     Platoon (1986)\n",
       "836474    6040      1094      5            Crying Game, The (1992)\n",
       "836475    6040       562      5    Welcome to the Dollhouse (1995)\n",
       "836476    6040      1096      4             Sophie's Choice (1982)\n",
       "836477    6040      1097      4  E.T. the Extra-Terrestrial (1982)\n",
       "836478    seok      2000      5               Lethal Weapon (1987)\n",
       "836479    seok      2402      5  Rambo: First Blood Part II (1985)\n",
       "836480    seok      2102      5            Steamboat Willie (1940)\n",
       "836481    seok       648      5         Mission: Impossible (1996)\n",
       "836482    seok      3623      5       Mission: Impossible 2 (2000)"
      ]
     },
     "execution_count": 55,
     "metadata": {},
     "output_type": "execute_result"
    }
   ],
   "source": [
    "if not ratings.isin({'user_id':['seok']})['user_id'].any():\n",
    "    ratings = ratings.append(my_movielist, ignore_index=True)\n",
    "\n",
    "ratings.tail(10) "
   ]
  },
  {
   "cell_type": "markdown",
   "id": "fitted-wesley",
   "metadata": {},
   "source": [
    "- 표에 5개 데이터 추가."
   ]
  },
  {
   "cell_type": "markdown",
   "id": "lesser-pottery",
   "metadata": {},
   "source": [
    "## 4. CSR matrix 생성"
   ]
  },
  {
   "cell_type": "code",
   "execution_count": 56,
   "id": "fewer-hopkins",
   "metadata": {},
   "outputs": [],
   "source": [
    "user_unique = ratings['user_id'].unique()\n",
    "movie_unique = ratings['title'].unique()\n",
    "\n",
    "user_to_idx = {v:k for k,v in enumerate(user_unique)}\n",
    "movie_to_idx = {v:k for k,v in enumerate(movie_unique)}"
   ]
  },
  {
   "cell_type": "code",
   "execution_count": 57,
   "id": "restricted-inquiry",
   "metadata": {},
   "outputs": [
    {
     "name": "stdout",
     "output_type": "stream",
     "text": [
      "user_id column indexing OK!!\n",
      "title column indexing OK!!\n"
     ]
    },
    {
     "data": {
      "text/html": [
       "<div>\n",
       "<style scoped>\n",
       "    .dataframe tbody tr th:only-of-type {\n",
       "        vertical-align: middle;\n",
       "    }\n",
       "\n",
       "    .dataframe tbody tr th {\n",
       "        vertical-align: top;\n",
       "    }\n",
       "\n",
       "    .dataframe thead th {\n",
       "        text-align: right;\n",
       "    }\n",
       "</style>\n",
       "<table border=\"1\" class=\"dataframe\">\n",
       "  <thead>\n",
       "    <tr style=\"text-align: right;\">\n",
       "      <th></th>\n",
       "      <th>user_id</th>\n",
       "      <th>movie_id</th>\n",
       "      <th>count</th>\n",
       "      <th>title</th>\n",
       "    </tr>\n",
       "  </thead>\n",
       "  <tbody>\n",
       "    <tr>\n",
       "      <th>0</th>\n",
       "      <td>0</td>\n",
       "      <td>1193</td>\n",
       "      <td>5</td>\n",
       "      <td>0</td>\n",
       "    </tr>\n",
       "    <tr>\n",
       "      <th>1</th>\n",
       "      <td>0</td>\n",
       "      <td>661</td>\n",
       "      <td>3</td>\n",
       "      <td>1</td>\n",
       "    </tr>\n",
       "    <tr>\n",
       "      <th>2</th>\n",
       "      <td>0</td>\n",
       "      <td>914</td>\n",
       "      <td>3</td>\n",
       "      <td>2</td>\n",
       "    </tr>\n",
       "    <tr>\n",
       "      <th>3</th>\n",
       "      <td>0</td>\n",
       "      <td>3408</td>\n",
       "      <td>4</td>\n",
       "      <td>3</td>\n",
       "    </tr>\n",
       "    <tr>\n",
       "      <th>4</th>\n",
       "      <td>0</td>\n",
       "      <td>2355</td>\n",
       "      <td>5</td>\n",
       "      <td>4</td>\n",
       "    </tr>\n",
       "    <tr>\n",
       "      <th>...</th>\n",
       "      <td>...</td>\n",
       "      <td>...</td>\n",
       "      <td>...</td>\n",
       "      <td>...</td>\n",
       "    </tr>\n",
       "    <tr>\n",
       "      <th>836478</th>\n",
       "      <td>6039</td>\n",
       "      <td>2000</td>\n",
       "      <td>5</td>\n",
       "      <td>648</td>\n",
       "    </tr>\n",
       "    <tr>\n",
       "      <th>836479</th>\n",
       "      <td>6039</td>\n",
       "      <td>2402</td>\n",
       "      <td>5</td>\n",
       "      <td>1698</td>\n",
       "    </tr>\n",
       "    <tr>\n",
       "      <th>836480</th>\n",
       "      <td>6039</td>\n",
       "      <td>2102</td>\n",
       "      <td>5</td>\n",
       "      <td>2077</td>\n",
       "    </tr>\n",
       "    <tr>\n",
       "      <th>836481</th>\n",
       "      <td>6039</td>\n",
       "      <td>648</td>\n",
       "      <td>5</td>\n",
       "      <td>58</td>\n",
       "    </tr>\n",
       "    <tr>\n",
       "      <th>836482</th>\n",
       "      <td>6039</td>\n",
       "      <td>3623</td>\n",
       "      <td>5</td>\n",
       "      <td>482</td>\n",
       "    </tr>\n",
       "  </tbody>\n",
       "</table>\n",
       "<p>836483 rows × 4 columns</p>\n",
       "</div>"
      ],
      "text/plain": [
       "        user_id  movie_id  count  title\n",
       "0             0      1193      5      0\n",
       "1             0       661      3      1\n",
       "2             0       914      3      2\n",
       "3             0      3408      4      3\n",
       "4             0      2355      5      4\n",
       "...         ...       ...    ...    ...\n",
       "836478     6039      2000      5    648\n",
       "836479     6039      2402      5   1698\n",
       "836480     6039      2102      5   2077\n",
       "836481     6039       648      5     58\n",
       "836482     6039      3623      5    482\n",
       "\n",
       "[836483 rows x 4 columns]"
      ]
     },
     "execution_count": 57,
     "metadata": {},
     "output_type": "execute_result"
    }
   ],
   "source": [
    "temp_user_data = ratings['user_id'].map(user_to_idx.get).dropna()\n",
    "if len(temp_user_data) == len(ratings):\n",
    "    print('user_id column indexing OK!!')\n",
    "    ratings['user_id'] = temp_user_data\n",
    "else:\n",
    "    print('user_id column indexing Fail!!')\n",
    "\n",
    "temp_movie_data = ratings['title'].map(movie_to_idx.get).dropna()\n",
    "if len(temp_movie_data) == len(ratings):\n",
    "    print('title column indexing OK!!')\n",
    "    ratings['title'] = temp_movie_data\n",
    "else:\n",
    "    print('title column indexing Fail!!')\n",
    "\n",
    "ratings"
   ]
  },
  {
   "cell_type": "code",
   "execution_count": 58,
   "id": "choice-token",
   "metadata": {},
   "outputs": [
    {
     "data": {
      "text/plain": [
       "<6040x3628 sparse matrix of type '<class 'numpy.longlong'>'\n",
       "\twith 836483 stored elements in Compressed Sparse Row format>"
      ]
     },
     "execution_count": 58,
     "metadata": {},
     "output_type": "execute_result"
    }
   ],
   "source": [
    "from scipy.sparse import csr_matrix\n",
    "\n",
    "num_user = ratings['user_id'].nunique()\n",
    "num_movie = ratings['title'].nunique()\n",
    "\n",
    "csr_data = csr_matrix((ratings['count'], (ratings.user_id, ratings.title)), shape= (num_user, num_movie))\n",
    "csr_data"
   ]
  },
  {
   "cell_type": "markdown",
   "id": "unauthorized-failing",
   "metadata": {},
   "source": [
    "- CSR matrix 생성 완료"
   ]
  },
  {
   "cell_type": "markdown",
   "id": "hungry-subject",
   "metadata": {},
   "source": [
    "## 5. 모델 설계 및 훈련"
   ]
  },
  {
   "cell_type": "code",
   "execution_count": 59,
   "id": "severe-bouquet",
   "metadata": {},
   "outputs": [],
   "source": [
    "from implicit.als import AlternatingLeastSquares\n",
    "import os\n",
    "import numpy as np\n",
    "\n",
    "os.environ['OPENBLAS_NUM_THREADS']='1'\n",
    "os.environ['KMP_DUPLICATE_LIB_OK']='True'\n",
    "os.environ['MKL_NUM_THREADS']='1'"
   ]
  },
  {
   "cell_type": "code",
   "execution_count": 60,
   "id": "subtle-biotechnology",
   "metadata": {},
   "outputs": [],
   "source": [
    "als_model = AlternatingLeastSquares(factors=100, regularization=0.01, use_gpu=False, iterations=15, dtype=np.float32)"
   ]
  },
  {
   "cell_type": "markdown",
   "id": "informational-opposition",
   "metadata": {},
   "source": [
    "- 각각의 값을 적절하게 지정해야한다.\n",
    "#### 1. factors : 유저와 아이템의 벡터를 몇 차원으로 할 것인지\n",
    "#### 2. regularization : 과적합을 방지, 정규화 값을 얼마나 사용할 것인지 \n",
    "#### 3. use_gpu : GPU를 사용 유무\n",
    "#### 4. iterations : epochs"
   ]
  },
  {
   "cell_type": "code",
   "execution_count": 61,
   "id": "external-villa",
   "metadata": {},
   "outputs": [
    {
     "data": {
      "text/plain": [
       "<3628x6040 sparse matrix of type '<class 'numpy.longlong'>'\n",
       "\twith 836483 stored elements in Compressed Sparse Column format>"
      ]
     },
     "execution_count": 61,
     "metadata": {},
     "output_type": "execute_result"
    }
   ],
   "source": [
    "csr_data_transpose = csr_data.T\n",
    "csr_data_transpose"
   ]
  },
  {
   "cell_type": "code",
   "execution_count": 62,
   "id": "desperate-target",
   "metadata": {},
   "outputs": [
    {
     "data": {
      "application/vnd.jupyter.widget-view+json": {
       "model_id": "10f2a6b297f541ad8ace2591f87ec6c3",
       "version_major": 2,
       "version_minor": 0
      },
      "text/plain": [
       "  0%|          | 0/15 [00:00<?, ?it/s]"
      ]
     },
     "metadata": {},
     "output_type": "display_data"
    }
   ],
   "source": [
    "als_model.fit(csr_data_transpose)"
   ]
  },
  {
   "cell_type": "markdown",
   "id": "continued-scheme",
   "metadata": {},
   "source": [
    "## 6. 훈련된 모델이 예측한 나의 선호도"
   ]
  },
  {
   "cell_type": "code",
   "execution_count": 67,
   "id": "direct-fairy",
   "metadata": {},
   "outputs": [],
   "source": [
    "seok, matrix = user_to_idx['seok'], movie_to_idx['Rambo: First Blood Part II (1985)']\n",
    "seok_vector, Rambo_vector = als_model.user_factors[seok], als_model.item_factors[matrix]"
   ]
  },
  {
   "cell_type": "code",
   "execution_count": 68,
   "id": "european-black",
   "metadata": {},
   "outputs": [
    {
     "data": {
      "text/plain": [
       "array([ 0.13193284, -0.5888757 ,  0.158662  ,  0.9240484 ,  0.24758372,\n",
       "        0.2791524 ,  1.0787675 ,  0.1569194 , -0.19162619,  0.3722742 ,\n",
       "        0.7734157 , -0.23280995,  0.02562603, -0.5031779 ,  0.31240547,\n",
       "        0.06270296, -0.41679004,  1.1277169 ,  0.38418922,  0.25445375,\n",
       "       -0.3209979 ,  0.5032384 , -0.01956886, -0.11581302, -0.40351924,\n",
       "       -0.06918902,  0.12807006, -0.6695047 , -0.16659263,  0.3552883 ,\n",
       "       -0.5177544 , -0.7855804 , -0.3658844 , -0.7728072 ,  0.17727076,\n",
       "        0.17681034,  0.06426458, -0.1625024 , -0.9899818 , -0.3516992 ,\n",
       "        0.05199567, -0.06217567,  0.6443931 , -0.3299193 , -0.1351512 ,\n",
       "        0.13639453,  0.0643336 , -0.16289799, -0.6386679 ,  0.0991568 ,\n",
       "       -0.5469778 , -0.1184614 , -0.3584156 , -0.48060656, -0.43233588,\n",
       "       -0.2721437 ,  0.35081244, -0.6820643 ,  1.3470799 , -0.35761192,\n",
       "       -0.02492777,  0.03689518,  0.6450365 ,  0.2300903 ,  0.19605851,\n",
       "        0.20580053,  0.8421535 , -0.39512032,  0.21990344,  1.1498562 ,\n",
       "       -0.42862895,  0.16188283,  0.18427126, -0.2543184 ,  0.44441426,\n",
       "        0.34661815, -0.21598749, -0.13619906, -0.16419743,  0.4725942 ,\n",
       "        0.43975765, -0.450265  , -0.2812553 ,  0.02294942,  0.45339605,\n",
       "       -0.15452304,  0.6108176 ,  0.4384416 , -0.21823627, -0.01360871,\n",
       "        0.1966161 , -0.5279017 , -0.19377728,  0.20584553,  0.3568501 ,\n",
       "        0.06659257, -0.16523935, -0.7364366 ,  0.5821259 , -0.4034572 ],\n",
       "      dtype=float32)"
      ]
     },
     "execution_count": 68,
     "metadata": {},
     "output_type": "execute_result"
    }
   ],
   "source": [
    "seok_vector"
   ]
  },
  {
   "cell_type": "code",
   "execution_count": 69,
   "id": "twenty-biology",
   "metadata": {},
   "outputs": [
    {
     "data": {
      "text/plain": [
       "array([ 0.01924716,  0.01507034,  0.01953393,  0.0181462 , -0.0100741 ,\n",
       "        0.01181537,  0.02372582,  0.00935162,  0.01137033,  0.00567765,\n",
       "        0.01945027,  0.00167606, -0.0007691 ,  0.00062314,  0.0053487 ,\n",
       "       -0.00575753,  0.00195505, -0.00672377, -0.00530492,  0.01241426,\n",
       "       -0.01271914,  0.01464199,  0.00632108,  0.00553919,  0.01608408,\n",
       "        0.00701643, -0.00339277, -0.00527109,  0.01266987,  0.00304394,\n",
       "       -0.00467921,  0.00549687, -0.01191202,  0.01279883,  0.0049272 ,\n",
       "        0.00373198, -0.02429988,  0.01573489,  0.00564727,  0.00040444,\n",
       "        0.00476252,  0.02106658, -0.00201255, -0.0088154 ,  0.01205875,\n",
       "        0.01190386, -0.01121511, -0.00426914, -0.01266003,  0.01206743,\n",
       "       -0.00819125, -0.00164507,  0.0151177 , -0.00237229, -0.00768232,\n",
       "        0.0124587 ,  0.00623317,  0.00035874,  0.01292649,  0.00888687,\n",
       "       -0.00984593,  0.006693  , -0.01431796,  0.01035476,  0.01241185,\n",
       "        0.00809824,  0.01303216,  0.0025699 ,  0.01909317,  0.00383852,\n",
       "       -0.00414845,  0.01893709,  0.00857476,  0.00247713,  0.00997037,\n",
       "        0.01646145,  0.00419057, -0.00338189,  0.01104775,  0.01348536,\n",
       "        0.01429997, -0.01419463, -0.00259006,  0.00169416,  0.01639962,\n",
       "        0.0159495 ,  0.01995176, -0.00047841, -0.00988742,  0.00921583,\n",
       "        0.02014003,  0.00709734,  0.02151977,  0.01811662, -0.00699927,\n",
       "        0.01480784,  0.00616418,  0.00147919,  0.02535917, -0.00260337],\n",
       "      dtype=float32)"
      ]
     },
     "execution_count": 69,
     "metadata": {},
     "output_type": "execute_result"
    }
   ],
   "source": [
    "Rambo_vector"
   ]
  },
  {
   "cell_type": "code",
   "execution_count": 70,
   "id": "wound-motion",
   "metadata": {
    "scrolled": true
   },
   "outputs": [
    {
     "data": {
      "text/plain": [
       "0.14676905"
      ]
     },
     "execution_count": 70,
     "metadata": {},
     "output_type": "execute_result"
    }
   ],
   "source": [
    "np.dot(seok_vector, Rambo_vector)"
   ]
  },
  {
   "cell_type": "markdown",
   "id": "verbal-coach",
   "metadata": {},
   "source": [
    "- 각각의 벡터를 내적\n",
    "- 내적 값이 큰 것을 확인"
   ]
  },
  {
   "cell_type": "code",
   "execution_count": 76,
   "id": "baking-donor",
   "metadata": {},
   "outputs": [
    {
     "data": {
      "text/plain": [
       "0.00027240533"
      ]
     },
     "execution_count": 76,
     "metadata": {},
     "output_type": "execute_result"
    }
   ],
   "source": [
    "Toy = movie_to_idx['Toy Story (1995)']\n",
    "Toy_vector = als_model.item_factors[Toy]\n",
    "np.dot(seok_vector, Toy_vector)"
   ]
  },
  {
   "cell_type": "markdown",
   "id": "maritime-dancing",
   "metadata": {},
   "source": [
    "- 선호 리스트에 없는 Toy Story와 나의 벡터를 내적 했을때는 값이 작다."
   ]
  },
  {
   "cell_type": "markdown",
   "id": "indian-genesis",
   "metadata": {},
   "source": [
    "## 7. 내가 좋아하는 영화와 비슷한 영화 추천"
   ]
  },
  {
   "cell_type": "code",
   "execution_count": 77,
   "id": "spectacular-database",
   "metadata": {},
   "outputs": [
    {
     "data": {
      "text/plain": [
       "[(1698, 1.0),\n",
       " (1221, 0.88058317),\n",
       " (1749, 0.802472),\n",
       " (1182, 0.7886733),\n",
       " (1126, 0.78118014),\n",
       " (2081, 0.7669827),\n",
       " (1229, 0.7585215),\n",
       " (1219, 0.75802284),\n",
       " (2348, 0.7069544),\n",
       " (1704, 0.6968944),\n",
       " (1962, 0.68815297),\n",
       " (1120, 0.6845095),\n",
       " (2224, 0.67797744),\n",
       " (1967, 0.6588712),\n",
       " (1973, 0.65019596)]"
      ]
     },
     "execution_count": 77,
     "metadata": {},
     "output_type": "execute_result"
    }
   ],
   "source": [
    "favorite_movie = 'Rambo: First Blood Part II (1985)'\n",
    "movie_id = movie_to_idx[favorite_movie]\n",
    "similar_movie = als_model.similar_items(movie_id, N=15)\n",
    "similar_movie"
   ]
  },
  {
   "cell_type": "code",
   "execution_count": 78,
   "id": "indoor-budapest",
   "metadata": {},
   "outputs": [
    {
     "data": {
      "text/plain": [
       "['Rambo: First Blood Part II (1985)',\n",
       " 'Rambo III (1988)',\n",
       " 'Iron Eagle (1986)',\n",
       " 'Red Dawn (1984)',\n",
       " 'Rocky III (1982)',\n",
       " 'Heartbreak Ridge (1986)',\n",
       " 'Rocky IV (1985)',\n",
       " 'First Blood (1982)',\n",
       " 'Death Wish II (1982)',\n",
       " 'Karate Kid, Part II, The (1986)',\n",
       " 'Rocky V (1990)',\n",
       " 'Jaws 2 (1978)',\n",
       " 'Missing in Action (1984)',\n",
       " 'Bloodsport (1988)',\n",
       " 'Missing in Action 2: The Beginning (1985)']"
      ]
     },
     "execution_count": 78,
     "metadata": {},
     "output_type": "execute_result"
    }
   ],
   "source": [
    "idx_to_movie = {v:k for k,v in movie_to_idx.items()}\n",
    "[idx_to_movie[i[0]] for i in similar_movie]"
   ]
  },
  {
   "cell_type": "code",
   "execution_count": 79,
   "id": "casual-addition",
   "metadata": {},
   "outputs": [],
   "source": [
    "def get_similar_movie(movie_title: str):\n",
    "    movie_id = movie_to_idx[movie_title]\n",
    "    similar_movie = als_model.similar_items(movie_id, N=15)\n",
    "    similar_movie = [idx_to_movie[i[0]] for i in similar_movie]\n",
    "    return similar_movie"
   ]
  },
  {
   "cell_type": "code",
   "execution_count": 80,
   "id": "radical-formation",
   "metadata": {},
   "outputs": [
    {
     "data": {
      "text/plain": [
       "['Toy Story (1995)',\n",
       " 'Toy Story 2 (1999)',\n",
       " \"Bug's Life, A (1998)\",\n",
       " 'Aladdin (1992)',\n",
       " 'Babe (1995)',\n",
       " 'Groundhog Day (1993)',\n",
       " 'Lion King, The (1994)',\n",
       " 'Beauty and the Beast (1991)',\n",
       " 'Pleasantville (1998)',\n",
       " \"There's Something About Mary (1998)\",\n",
       " 'Mulan (1998)',\n",
       " 'Shakespeare in Love (1998)',\n",
       " 'Hercules (1997)',\n",
       " 'Forrest Gump (1994)',\n",
       " 'Tarzan (1999)']"
      ]
     },
     "execution_count": 80,
     "metadata": {},
     "output_type": "execute_result"
    }
   ],
   "source": [
    "get_similar_movie('Toy Story (1995)')"
   ]
  },
  {
   "cell_type": "markdown",
   "id": "pretty-engagement",
   "metadata": {},
   "source": [
    "## 8. 좋아할 만한 영화 추천"
   ]
  },
  {
   "cell_type": "code",
   "execution_count": 81,
   "id": "fleet-copper",
   "metadata": {},
   "outputs": [
    {
     "data": {
      "text/plain": [
       "[(67, 0.44160095),\n",
       " (650, 0.35664895),\n",
       " (372, 0.31884336),\n",
       " (346, 0.2991693),\n",
       " (746, 0.26992375),\n",
       " (153, 0.22726667),\n",
       " (326, 0.19927481),\n",
       " (1537, 0.18801063),\n",
       " (1502, 0.17869067),\n",
       " (1123, 0.17624354)]"
      ]
     },
     "execution_count": 81,
     "metadata": {},
     "output_type": "execute_result"
    }
   ],
   "source": [
    "user = user_to_idx['seok']\n",
    "\n",
    "movie_recommended = als_model.recommend(user, csr_data, N=10, filter_already_liked_items=True)\n",
    "movie_recommended"
   ]
  },
  {
   "cell_type": "code",
   "execution_count": 82,
   "id": "removable-municipality",
   "metadata": {},
   "outputs": [
    {
     "data": {
      "text/plain": [
       "['Gladiator (2000)',\n",
       " 'Lethal Weapon 2 (1989)',\n",
       " 'X-Men (2000)',\n",
       " 'Patriot, The (2000)',\n",
       " 'Perfect Storm, The (2000)',\n",
       " 'Lethal Weapon 3 (1992)',\n",
       " 'Top Gun (1986)',\n",
       " 'U-571 (2000)',\n",
       " 'F/X (1986)',\n",
       " 'Rocky II (1979)']"
      ]
     },
     "execution_count": 82,
     "metadata": {},
     "output_type": "execute_result"
    }
   ],
   "source": [
    "[idx_to_movie[i[0]] for i in movie_recommended]"
   ]
  },
  {
   "cell_type": "code",
   "execution_count": 83,
   "id": "equal-surgeon",
   "metadata": {},
   "outputs": [
    {
     "data": {
      "text/plain": [
       "[('Mission: Impossible 2 (2000)', 0.21560275020147274),\n",
       " ('Mission: Impossible (1996)', 0.06445791736961595),\n",
       " ('Rambo: First Blood Part II (1985)', 0.029391716255160162),\n",
       " ('Lethal Weapon (1987)', 0.008467809654899518),\n",
       " ('Steamboat Willie (1940)', -0.0031510094022107805)]"
      ]
     },
     "execution_count": 83,
     "metadata": {},
     "output_type": "execute_result"
    }
   ],
   "source": [
    "recommended = movie_to_idx['X-Men (2000)']\n",
    "explain = als_model.explain(user, csr_data, itemid=recommended)\n",
    "\n",
    "[(idx_to_movie[i[0]], i[1]) for i in explain[1]]"
   ]
  },
  {
   "cell_type": "markdown",
   "id": "peaceful-honolulu",
   "metadata": {},
   "source": [
    "- Mission: Impossible 2가 영화 X-Men을 추천하는데 기여도가 높아서 나에게 추천을 해줬다."
   ]
  },
  {
   "cell_type": "markdown",
   "id": "first-miracle",
   "metadata": {},
   "source": [
    "***************\n",
    "# 회고\n"
   ]
  },
  {
   "cell_type": "markdown",
   "id": "personalized-spank",
   "metadata": {},
   "source": [
    "### 직접적(Explicit) 선호\n",
    "\n",
    "> 직접적 선호 : 유저가 자신의 선호도를 직접 표현한 Data. EX) 평점 기록, 영화 리뷰, 구독, 차단 데이터\n",
    ">- ***데이터를 얻기 힘들다. 참여도가 낮다***\n",
    "\n",
    "\n",
    "###  간접적(Implicit) 선호\n",
    "\n",
    ">EX) 검색 기록, 방문 페이지, 구매내역\n",
    "\n",
    "**1) 부정적인 피드백이 없다.**\n",
    "\n",
    "**2) 애초에 잡음이 많다.**\n",
    "\n",
    "**3) 수치는 신뢰도를 의미한다. : Explicit Data의 경우 높은 수치는 높은 선호도를 의미.**\n",
    "\n",
    "**4) Implicit-feedback Recommender System의 평가는 적절한 방법을 고민해봐야 한다.**\n",
    "\n",
    ">평점 데이터를 이용시 예측값과 실제값이 얼마나 다른지를 평가하는 Mean Squared Error 방법 사용. \n",
    "\n",
    ">시청시간, 클릭수, 조회 기록을 이용하는 경우 정답값을 주기 어렵다. ==> 반복되는 feedback 고려\n",
    "\n",
    "\n",
    "### 암묵적 데이터의 해석 (애매한 암묵적 데이터 ==> 도메인 지식과 직관이 활용 되어야함) \n",
    "\n",
    "**1) 한번이라도 들었으면 선호한다고 판단.**\n",
    "\n",
    "**2) 많이 재생한 아티스트에 대해 가중치를 주어서 더 확실히 좋아한다고 판단.**"
   ]
  },
  {
   "cell_type": "markdown",
   "id": "casual-buddy",
   "metadata": {},
   "source": [
    "*****************************\n",
    "**데이터가 우선적으로 신뢰가 가능해야하지만, 필요한 데이터를 뽑아내기 위해서 기준을 명확히 해야하고, 분류를 잘해야한다.\n",
    "데이터 확보를 위해 참여도를 높이는 방법을 찾아 봐야할 것 같다.**\n",
    "\n",
    "**간접적 선호 방법에서 높은 수치가 과연 높은 선호도를 의미하는지에 대한 것을 다시 생각해봤다. 분명히 연관성은 깊겠지만, 평상시 높은 선호도를 보이는 것이 아닌, 새로운 분야를 추천했을때는 어떤 결과가 나올지 궁금하다.(광고의 경우 뜬금없는 광고도 존재한다.)**\n",
    "\n",
    "**신기하게도 람보 영화를 선택했을때 정말 비슷한 장르의 영화가 추천이 되었다. => 수치적인 연관성이 복잡한 사람의 심리를 파악하는데 쉽고 간단하지만, 다른 의미가 있을지 더 찾아보고 싶다.**\n",
    "\n",
    "***벡터의 내적을 통한 성능 개선이 굉장히 흥미롭다. 확실한 것은 공부 방향을 간단한 계산이 아닌 수학적 의미를 공부하는 쪽으로 해야겠다.***"
   ]
  }
 ],
 "metadata": {
  "kernelspec": {
   "display_name": "Python 3",
   "language": "python",
   "name": "python3"
  },
  "language_info": {
   "codemirror_mode": {
    "name": "ipython",
    "version": 3
   },
   "file_extension": ".py",
   "mimetype": "text/x-python",
   "name": "python",
   "nbconvert_exporter": "python",
   "pygments_lexer": "ipython3",
   "version": "3.7.9"
  }
 },
 "nbformat": 4,
 "nbformat_minor": 5
}
