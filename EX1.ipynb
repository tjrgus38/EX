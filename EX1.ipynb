{
 "cells": [
  {
   "cell_type": "markdown",
   "id": "concerned-electron",
   "metadata": {},
   "source": [
    "# 디렉토리 만들기"
   ]
  },
  {
   "cell_type": "markdown",
   "id": "least-junior",
   "metadata": {},
   "source": [
    "mkdir -p ~/aiffel/rock_scissor_paper/scissor\n",
    "mkdir -p ~/aiffel/rock_scissor_paper/rock\n",
    "mkdir -p ~/aiffel/rock_scissor_paper/paper\n",
    "\n",
    "ls -l ~/aiffel/rock_scissor_paper"
   ]
  },
  {
   "cell_type": "code",
   "execution_count": null,
   "id": "owned-miami",
   "metadata": {},
   "outputs": [],
   "source": [
    "# 클라우드에 가위,바위,보 라는 하위 폴더를 -p를 사용하여 생성"
   ]
  },
  {
   "cell_type": "markdown",
   "id": "broke-thanksgiving",
   "metadata": {},
   "source": [
    "unzip rock.zip\n",
    "unzip scissor.zip\n",
    "unzip paper.zip"
   ]
  },
  {
   "cell_type": "code",
   "execution_count": null,
   "id": "supreme-tongue",
   "metadata": {},
   "outputs": [],
   "source": [
    "# 각각의 하위 폴더에 사진이 들어가 있는 알집 파일을 업로드 후 압축풀기"
   ]
  },
  {
   "cell_type": "code",
   "execution_count": 3,
   "id": "indonesian-xerox",
   "metadata": {},
   "outputs": [
    {
     "name": "stdout",
     "output_type": "stream",
     "text": [
      "PIL 라이브러리 import완료!\n"
     ]
    }
   ],
   "source": [
    "from PIL import Image\n",
    "import os, glob\n",
    "\n",
    "print(\"PIL 라이브러리 import완료!\")"
   ]
  },
  {
   "cell_type": "markdown",
   "id": "pressing-elimination",
   "metadata": {},
   "source": [
    "# 사진 사이즈 변경"
   ]
  },
  {
   "cell_type": "code",
   "execution_count": 4,
   "id": "superb-latter",
   "metadata": {},
   "outputs": [
    {
     "name": "stdout",
     "output_type": "stream",
     "text": [
      "2320  images to be resized.\n",
      "2320  images resized.\n",
      "가위 이미지 resize 완료!\n"
     ]
    }
   ],
   "source": [
    "import os\n",
    "\n",
    "def resize_images(img_path):\n",
    "\timages=glob.glob(img_path + \"/*.jpg\")  \n",
    "    \n",
    "\tprint(len(images), \" images to be resized.\")\n",
    "\n",
    "    # 파일마다 모두 28x28 사이즈로 바꾸어 저장합니다.\n",
    "\ttarget_size=(28,28)\n",
    "\tfor img in images:\n",
    "\t\told_img=Image.open(img)\n",
    "\t\tnew_img=old_img.resize(target_size,Image.ANTIALIAS)\n",
    "\t\tnew_img.save(img, \"JPEG\")\n",
    "    \n",
    "\tprint(len(images), \" images resized.\")\n",
    "\t\n",
    "# 가위 이미지가 저장된 디렉토리 아래의 모든 jpg 파일을 읽어들여서\n",
    "image_dir_path = os.getenv(\"HOME\") + \"/aiffel/rock_scissor_paper/scissor\"\n",
    "resize_images(image_dir_path)\n",
    "\n",
    "print(\"가위 이미지 resize 완료!\")"
   ]
  },
  {
   "cell_type": "code",
   "execution_count": 5,
   "id": "visible-trademark",
   "metadata": {},
   "outputs": [
    {
     "name": "stdout",
     "output_type": "stream",
     "text": [
      "2202  images to be resized.\n",
      "2202  images resized.\n",
      "바위 이미지 resize 완료!\n"
     ]
    }
   ],
   "source": [
    "import os\n",
    "\n",
    "def resize_images(img_path):\n",
    "\timages=glob.glob(img_path + \"/*.jpg\")  \n",
    "    \n",
    "\tprint(len(images), \" images to be resized.\")\n",
    "\n",
    "    # 파일마다 모두 28x28 사이즈로 바꾸어 저장합니다.\n",
    "\ttarget_size=(28,28)\n",
    "\tfor img in images:\n",
    "\t\told_img=Image.open(img)\n",
    "\t\tnew_img=old_img.resize(target_size,Image.ANTIALIAS)\n",
    "\t\tnew_img.save(img, \"JPEG\")\n",
    "    \n",
    "\tprint(len(images), \" images resized.\")\n",
    "\t\n",
    "# 가위 이미지가 저장된 디렉토리 아래의 모든 jpg 파일을 읽어들여서\n",
    "image_dir_path = os.getenv(\"HOME\") + \"/aiffel/rock_scissor_paper/rock\"\n",
    "resize_images(image_dir_path)\n",
    "\n",
    "print(\"바위 이미지 resize 완료!\")"
   ]
  },
  {
   "cell_type": "code",
   "execution_count": 6,
   "id": "united-kennedy",
   "metadata": {},
   "outputs": [
    {
     "name": "stdout",
     "output_type": "stream",
     "text": [
      "2270  images to be resized.\n",
      "2270  images resized.\n",
      "보 이미지 resize 완료!\n"
     ]
    }
   ],
   "source": [
    "import os\n",
    "\n",
    "def resize_images(img_path):\n",
    "\timages=glob.glob(img_path + \"/*.jpg\")  \n",
    "    \n",
    "\tprint(len(images), \" images to be resized.\")\n",
    "\n",
    "    # 파일마다 모두 28x28 사이즈로 바꾸어 저장합니다.\n",
    "\ttarget_size=(28,28)\n",
    "\tfor img in images:\n",
    "\t\told_img=Image.open(img)\n",
    "\t\tnew_img=old_img.resize(target_size,Image.ANTIALIAS)\n",
    "\t\tnew_img.save(img, \"JPEG\")\n",
    "    \n",
    "\tprint(len(images), \" images resized.\")\n",
    "\t\n",
    "# 가위 이미지가 저장된 디렉토리 아래의 모든 jpg 파일을 읽어들여서\n",
    "image_dir_path = os.getenv(\"HOME\") + \"/aiffel/rock_scissor_paper/paper\"\n",
    "resize_images(image_dir_path)\n",
    "\n",
    "print(\"보 이미지 resize 완료!\")"
   ]
  },
  {
   "cell_type": "markdown",
   "id": "hundred-maximum",
   "metadata": {},
   "source": [
    "# 라벨링"
   ]
  },
  {
   "cell_type": "code",
   "execution_count": 7,
   "id": "military-button",
   "metadata": {},
   "outputs": [
    {
     "name": "stdout",
     "output_type": "stream",
     "text": [
      "학습데이터(x_train)의 이미지 개수는 6792 입니다.\n",
      "x_train shape: (6792, 28, 28, 3)\n",
      "y_train shape: (6792,)\n"
     ]
    }
   ],
   "source": [
    "import numpy as np\n",
    "\n",
    "def load_data(img_path, number_of_data=6792):  # 가위바위보 이미지 개수 총합에 주의하세요.\n",
    "    # 가위 : 0, 바위 : 1, 보 : 2\n",
    "    img_size=28\n",
    "    color=3\n",
    "    #이미지 데이터와 라벨(가위 : 0, 바위 : 1, 보 : 2) 데이터를 담을 행렬(matrix) 영역을 생성합니다.\n",
    "    imgs=np.zeros(number_of_data*img_size*img_size*color,dtype=np.int32).reshape(number_of_data,img_size,img_size,color)\n",
    "    labels=np.zeros(number_of_data,dtype=np.int32)\n",
    "\n",
    "    idx=0\n",
    "    for file in glob.iglob(img_path+'/scissor/*.jpg'):\n",
    "        img = np.array(Image.open(file),dtype=np.int32)\n",
    "        imgs[idx,:,:,:]=img    # 데이터 영역에 이미지 행렬을 복사\n",
    "        labels[idx]=0   # 가위 : 0\n",
    "        idx=idx+1\n",
    "\n",
    "    for file in glob.iglob(img_path+'/rock/*.jpg'):\n",
    "        img = np.array(Image.open(file),dtype=np.int32)\n",
    "        imgs[idx,:,:,:]=img    # 데이터 영역에 이미지 행렬을 복사\n",
    "        labels[idx]=1   # 바위 : 1\n",
    "        idx=idx+1  \n",
    "    \n",
    "    for file in glob.iglob(img_path+'/paper/*.jpg'):\n",
    "        img = np.array(Image.open(file),dtype=np.int32)\n",
    "        imgs[idx,:,:,:]=img    # 데이터 영역에 이미지 행렬을 복사\n",
    "        labels[idx]=2   # 보 : 2\n",
    "        idx=idx+1\n",
    "        \n",
    "    print(\"학습데이터(x_train)의 이미지 개수는\", idx,\"입니다.\")\n",
    "    return imgs, labels\n",
    "\n",
    "image_dir_path = os.getenv(\"HOME\") + \"/aiffel/rock_scissor_paper/\"\n",
    "(x_train, y_train)=load_data(image_dir_path)\n",
    "x_train_norm = x_train/255.0   # 입력은 0~1 사이의 값으로 정규화\n",
    "\n",
    "print(\"x_train shape: {}\".format(x_train.shape))\n",
    "print(\"y_train shape: {}\".format(y_train.shape))"
   ]
  },
  {
   "cell_type": "code",
   "execution_count": 8,
   "id": "objective-structure",
   "metadata": {},
   "outputs": [],
   "source": [
    "# 가위, 바위, 보는 3개의 클래스로 이루어져 있고 순서대로 0,1,2\n",
    "# 세가지의 이미지 총 합을 입력 (6792장, 28x28 사이즈의 컬러 3의 값)\n",
    "# 정규화 MAX-MIN = 255이기 때문에 255.0을 나눠서 0~1의 값을 갖게 한다."
   ]
  },
  {
   "cell_type": "markdown",
   "id": "expressed-witness",
   "metadata": {},
   "source": [
    "# 이미지 확인"
   ]
  },
  {
   "cell_type": "code",
   "execution_count": 9,
   "id": "returning-banner",
   "metadata": {},
   "outputs": [
    {
     "name": "stdout",
     "output_type": "stream",
     "text": [
      "라벨:  0\n"
     ]
    },
    {
     "data": {
      "image/png": "[encoded data removed]",
      "text/plain": [
       "<Figure size 432x288 with 1 Axes>"
      ]
     },
     "metadata": {
      "needs_background": "light"
     },
     "output_type": "display_data"
    }
   ],
   "source": [
    "import matplotlib.pyplot as plt\n",
    "plt.imshow(x_train[50])\n",
    "print('라벨: ', y_train[20])"
   ]
  },
  {
   "cell_type": "markdown",
   "id": "cleared-charter",
   "metadata": {},
   "source": [
    "# 딥러닝 네트워크 설계"
   ]
  },
  {
   "cell_type": "code",
   "execution_count": 10,
   "id": "surgical-alias",
   "metadata": {},
   "outputs": [
    {
     "name": "stdout",
     "output_type": "stream",
     "text": [
      "Model: \"sequential\"\n",
      "_________________________________________________________________\n",
      "Layer (type)                 Output Shape              Param #   \n",
      "=================================================================\n",
      "conv2d (Conv2D)              (None, 26, 26, 32)        896       \n",
      "_________________________________________________________________\n",
      "max_pooling2d (MaxPooling2D) (None, 13, 13, 32)        0         \n",
      "_________________________________________________________________\n",
      "conv2d_1 (Conv2D)            (None, 11, 11, 64)        18496     \n",
      "_________________________________________________________________\n",
      "max_pooling2d_1 (MaxPooling2 (None, 5, 5, 64)          0         \n",
      "_________________________________________________________________\n",
      "flatten (Flatten)            (None, 1600)              0         \n",
      "_________________________________________________________________\n",
      "dense (Dense)                (None, 64)                102464    \n",
      "_________________________________________________________________\n",
      "dense_1 (Dense)              (None, 3)                 195       \n",
      "=================================================================\n",
      "Total params: 122,051\n",
      "Trainable params: 122,051\n",
      "Non-trainable params: 0\n",
      "_________________________________________________________________\n"
     ]
    }
   ],
   "source": [
    "import tensorflow as tf\n",
    "from tensorflow import keras\n",
    "import numpy as np\n",
    "\n",
    "n_channel_1=32\n",
    "n_channel_2=64\n",
    "n_dense=64\n",
    "n_train_epoch=8\n",
    "\n",
    "model=keras.models.Sequential()\n",
    "model.add(keras.layers.Conv2D(n_channel_1, (3,3), activation='relu', input_shape=(28,28,3)))\n",
    "model.add(keras.layers.MaxPool2D(2,2))\n",
    "model.add(keras.layers.Conv2D(n_channel_2, (3,3), activation='relu'))\n",
    "model.add(keras.layers.MaxPooling2D((2,2)))\n",
    "model.add(keras.layers.Flatten())\n",
    "model.add(keras.layers.Dense(n_dense, activation='relu'))\n",
    "model.add(keras.layers.Dense(3, activation='softmax'))\n",
    "\n",
    "model.summary()"
   ]
  },
  {
   "cell_type": "markdown",
   "id": "usual-milton",
   "metadata": {},
   "source": [
    "# 학습 시키기"
   ]
  },
  {
   "cell_type": "code",
   "execution_count": 11,
   "id": "confident-continent",
   "metadata": {
    "scrolled": true
   },
   "outputs": [
    {
     "name": "stdout",
     "output_type": "stream",
     "text": [
      "Epoch 1/10\n",
      "213/213 [==============================] - 6s 11ms/step - loss: 4.0068 - accuracy: 0.4530\n",
      "Epoch 2/10\n",
      "213/213 [==============================] - 1s 3ms/step - loss: 0.5658 - accuracy: 0.7703\n",
      "Epoch 3/10\n",
      "213/213 [==============================] - 1s 3ms/step - loss: 0.3295 - accuracy: 0.8709\n",
      "Epoch 4/10\n",
      "213/213 [==============================] - 1s 3ms/step - loss: 0.2258 - accuracy: 0.9151\n",
      "Epoch 5/10\n",
      "213/213 [==============================] - 1s 3ms/step - loss: 0.1257 - accuracy: 0.9608\n",
      "Epoch 6/10\n",
      "213/213 [==============================] - 1s 3ms/step - loss: 0.0908 - accuracy: 0.9704\n",
      "Epoch 7/10\n",
      "213/213 [==============================] - 1s 4ms/step - loss: 0.1228 - accuracy: 0.9608\n",
      "Epoch 8/10\n",
      "213/213 [==============================] - 1s 3ms/step - loss: 0.0642 - accuracy: 0.9796\n",
      "Epoch 9/10\n",
      "213/213 [==============================] - 1s 3ms/step - loss: 0.0594 - accuracy: 0.9870\n",
      "Epoch 10/10\n",
      "213/213 [==============================] - 1s 3ms/step - loss: 0.0529 - accuracy: 0.9787\n"
     ]
    },
    {
     "data": {
      "text/plain": [
       "<tensorflow.python.keras.callbacks.History at 0x7f1c8c8092d0>"
      ]
     },
     "execution_count": 11,
     "metadata": {},
     "output_type": "execute_result"
    }
   ],
   "source": [
    "model.compile(optimizer='adam',\n",
    "             loss='sparse_categorical_crossentropy',\n",
    "             metrics=['accuracy'])\n",
    "\n",
    "model.fit(x_train, y_train, epochs=10)"
   ]
  },
  {
   "cell_type": "code",
   "execution_count": 12,
   "id": "disciplinary-thousand",
   "metadata": {},
   "outputs": [],
   "source": [
    "# complie을 통해 모델을 준비\n",
    "# fit을 통해 학습 진행"
   ]
  },
  {
   "cell_type": "markdown",
   "id": "ordered-lesson",
   "metadata": {},
   "source": [
    "# 테스트"
   ]
  },
  {
   "cell_type": "markdown",
   "id": "modern-integration",
   "metadata": {},
   "source": [
    "mkdir -p ~/aiffel/rock_scissor_paper/test\n",
    "#test폴더 생성 -> 3개의 하위 폴더 생성 -> 각각의 폴더에  테스트 파일 업로드 -> 알집 풀기"
   ]
  },
  {
   "cell_type": "code",
   "execution_count": 14,
   "id": "guilty-resource",
   "metadata": {},
   "outputs": [
    {
     "name": "stdout",
     "output_type": "stream",
     "text": [
      "학습데이터(x_train)의 이미지 개수는 300 입니다.\n",
      "x_train shape: (300, 28, 28, 3)\n",
      "y_train shape: (300,)\n"
     ]
    }
   ],
   "source": [
    "image_dir_path = os.getenv(\"HOME\") + \"/aiffel/rock_scissor_paper/test\"\n",
    "(x_test1, y_test1)=load_data(image_dir_path, 300)\n",
    "x_test1_norm = x_test1/255.0   # 입력은 0~1 사이의 값으로 정규화\n",
    "\n",
    "print(\"x_train shape: {}\".format(x_test1.shape))\n",
    "print(\"y_train shape: {}\".format(y_test1.shape))"
   ]
  },
  {
   "cell_type": "code",
   "execution_count": 15,
   "id": "featured-alert",
   "metadata": {},
   "outputs": [],
   "source": [
    "# 300장의 테스트 이미지 준비"
   ]
  },
  {
   "cell_type": "markdown",
   "id": "russian-curve",
   "metadata": {},
   "source": [
    "# 학습"
   ]
  },
  {
   "cell_type": "code",
   "execution_count": 16,
   "id": "handy-pressing",
   "metadata": {},
   "outputs": [
    {
     "name": "stdout",
     "output_type": "stream",
     "text": [
      "Epoch 1/5\n",
      "10/10 [==============================] - 3s 238ms/step - loss: 0.2387 - accuracy: 0.8987\n",
      "Epoch 2/5\n",
      "10/10 [==============================] - 0s 3ms/step - loss: 0.0621 - accuracy: 0.9851\n",
      "Epoch 3/5\n",
      "10/10 [==============================] - 0s 3ms/step - loss: 0.0189 - accuracy: 1.0000\n",
      "Epoch 4/5\n",
      "10/10 [==============================] - 0s 3ms/step - loss: 0.0064 - accuracy: 1.0000\n",
      "Epoch 5/5\n",
      "10/10 [==============================] - 0s 3ms/step - loss: 0.0032 - accuracy: 1.0000\n"
     ]
    },
    {
     "data": {
      "text/plain": [
       "<tensorflow.python.keras.callbacks.History at 0x7f1cab9fc7d0>"
      ]
     },
     "execution_count": 16,
     "metadata": {},
     "output_type": "execute_result"
    }
   ],
   "source": [
    "model.compile(optimizer='adam',\n",
    "             loss='sparse_categorical_crossentropy',\n",
    "             metrics=['accuracy'])\n",
    "\n",
    "model.fit(x_test1, y_test1, epochs=5)"
   ]
  },
  {
   "cell_type": "code",
   "execution_count": 17,
   "id": "boolean-whale",
   "metadata": {},
   "outputs": [],
   "source": [
    "# compile로 모델 준비\n",
    "# fit을 통해 학습 epochs -> 5번"
   ]
  },
  {
   "cell_type": "markdown",
   "id": "surrounded-battle",
   "metadata": {},
   "source": [
    "# 고찰\n",
    "\n",
    "지금은 깊게 하나하나 이해를 할 수는 없었지만, 간단한 이미지 딥러닝의 프로세스 흐름을 알게 되었다.\n",
    "학습할 수 있는 이미지와 테스트를 해야하는 파일을 정확히 구분하고 나눌 수 있어야하며, 조금씩 값을 변경하면서 수치가 변하는 것을 확인할 때마다 작지만 성취감을 느낄 수 있게 해주었다.\n",
    "\n",
    "loss값은 왜 저렇게 나오고, 정확도는 왜 저렇게 높게 나오는지에 대한 의문은 아직 풀고 있고, 좀 더 연구를 해봐야할 것 같다.\n",
    "가장 흥미로웠던 부분은 Maxpooling과 channel, Dense, Epoch 와 같은 가장 중요했던 부분이다.\n",
    "이미지를 특징적으로 내적하여 새로 만들어내고, 몇 개의 특징을 잡아낼 것이며, 일정 시도 이상에서 역치가 발생하는 등의 문제들은 계속해서 공부를 해보고 정리가 필요하다."
   ]
  }
 ],
 "metadata": {
  "kernelspec": {
   "display_name": "Python 3",
   "language": "python",
   "name": "python3"
  },
  "language_info": {
   "codemirror_mode": {
    "name": "ipython",
    "version": 3
   },
   "file_extension": ".py",
   "mimetype": "text/x-python",
   "name": "python",
   "nbconvert_exporter": "python",
   "pygments_lexer": "ipython3",
   "version": "3.7.9"
  }
 },
 "nbformat": 4,
 "nbformat_minor": 5
}
